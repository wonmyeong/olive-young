{
  "nbformat": 4,
  "nbformat_minor": 0,
  "metadata": {
    "colab": {
      "provenance": [],
      "gpuType": "V28",
      "mount_file_id": "1znMG1rsOt3fsmmNtdpS8KPzZuuylpKF9",
      "authorship_tag": "ABX9TyNPvrVFzhLqY4vN972XqwH8",
      "include_colab_link": true
    },
    "kernelspec": {
      "name": "python3",
      "display_name": "Python 3"
    },
    "language_info": {
      "name": "python"
    },
    "accelerator": "TPU"
  },
  "cells": [
    {
      "cell_type": "markdown",
      "metadata": {
        "id": "view-in-github",
        "colab_type": "text"
      },
      "source": [
        "<a href=\"https://colab.research.google.com/github/wonmyeong/olive-young/blob/master/BernoulliNB.ipynb\" target=\"_parent\"><img src=\"https://colab.research.google.com/assets/colab-badge.svg\" alt=\"Open In Colab\"/></a>"
      ]
    },
    {
      "cell_type": "code",
      "source": [
        "!pip install -q tweepy==3.10"
      ],
      "metadata": {
        "id": "M-X3hjANEOOo"
      },
      "execution_count": null,
      "outputs": []
    },
    {
      "cell_type": "code",
      "source": [
        "try:\n",
        "    import konlpy\n",
        "except:\n",
        "    !pip install -q konlpy\n",
        "    import konlpy\n",
        "\n",
        "import pandas as pd\n",
        "import numpy as np\n",
        "\n",
        "konlpy.__version__"
      ],
      "metadata": {
        "colab": {
          "base_uri": "https://localhost:8080/",
          "height": 35
        },
        "id": "ZnCRtPxxFFOQ",
        "outputId": "0514d85f-b1b7-4627-cb64-206d7a898461"
      },
      "execution_count": null,
      "outputs": [
        {
          "output_type": "execute_result",
          "data": {
            "text/plain": [
              "'0.6.0'"
            ],
            "application/vnd.google.colaboratory.intrinsic+json": {
              "type": "string"
            }
          },
          "metadata": {},
          "execution_count": 2
        }
      ]
    },
    {
      "cell_type": "code",
      "source": [
        "import pandas as pd\n",
        "import numpy as np\n",
        "import matplotlib.pyplot as plt\n"
      ],
      "metadata": {
        "id": "1eoEp0IYFFQf"
      },
      "execution_count": null,
      "outputs": []
    },
    {
      "cell_type": "code",
      "source": [
        "data_df = pd.read_csv(\"//content//drive//MyDrive//oliveyoung_paper//concat_review_df\")"
      ],
      "metadata": {
        "id": "4d-DtJwZFFSg"
      },
      "execution_count": null,
      "outputs": []
    },
    {
      "cell_type": "code",
      "source": [
        "data_df.drop(columns=[\"Unnamed: 0\"],inplace=True)"
      ],
      "metadata": {
        "id": "jNqJgLKYGUNq"
      },
      "execution_count": null,
      "outputs": []
    },
    {
      "cell_type": "code",
      "source": [
        "data_df"
      ],
      "metadata": {
        "colab": {
          "base_uri": "https://localhost:8080/",
          "height": 423
        },
        "id": "NVJK-0qMGc9J",
        "outputId": "d3b69a06-819a-4d7d-a11c-a0bd84644295"
      },
      "execution_count": null,
      "outputs": [
        {
          "output_type": "execute_result",
          "data": {
            "text/plain": [
              "                      review  label\n",
              "0                 유통기한도 넉넉하고      1\n",
              "1         구성도 많아서 선물 하기 좋네요.      1\n",
              "2                     구성도알차고      1\n",
              "3                  촉촉하고너무좋아용      1\n",
              "4        대용량으로 넉넉하게 사용할 수 있고      1\n",
              "...                      ...    ...\n",
              "2995                구성도 아쉽지만      0\n",
              "2996          오랫동안 촉촉하지 않아요.      0\n",
              "2997               촉촉하지 않아요.      0\n",
              "2998  목 주름 개선 효과도 없는 것 같습니다.      0\n",
              "2999                    비싸도       0\n",
              "\n",
              "[3000 rows x 2 columns]"
            ],
            "text/html": [
              "\n",
              "  <div id=\"df-5953f89d-a3b1-4f56-9c49-454a71acb81f\" class=\"colab-df-container\">\n",
              "    <div>\n",
              "<style scoped>\n",
              "    .dataframe tbody tr th:only-of-type {\n",
              "        vertical-align: middle;\n",
              "    }\n",
              "\n",
              "    .dataframe tbody tr th {\n",
              "        vertical-align: top;\n",
              "    }\n",
              "\n",
              "    .dataframe thead th {\n",
              "        text-align: right;\n",
              "    }\n",
              "</style>\n",
              "<table border=\"1\" class=\"dataframe\">\n",
              "  <thead>\n",
              "    <tr style=\"text-align: right;\">\n",
              "      <th></th>\n",
              "      <th>review</th>\n",
              "      <th>label</th>\n",
              "    </tr>\n",
              "  </thead>\n",
              "  <tbody>\n",
              "    <tr>\n",
              "      <th>0</th>\n",
              "      <td>유통기한도 넉넉하고</td>\n",
              "      <td>1</td>\n",
              "    </tr>\n",
              "    <tr>\n",
              "      <th>1</th>\n",
              "      <td>구성도 많아서 선물 하기 좋네요.</td>\n",
              "      <td>1</td>\n",
              "    </tr>\n",
              "    <tr>\n",
              "      <th>2</th>\n",
              "      <td>구성도알차고</td>\n",
              "      <td>1</td>\n",
              "    </tr>\n",
              "    <tr>\n",
              "      <th>3</th>\n",
              "      <td>촉촉하고너무좋아용</td>\n",
              "      <td>1</td>\n",
              "    </tr>\n",
              "    <tr>\n",
              "      <th>4</th>\n",
              "      <td>대용량으로 넉넉하게 사용할 수 있고</td>\n",
              "      <td>1</td>\n",
              "    </tr>\n",
              "    <tr>\n",
              "      <th>...</th>\n",
              "      <td>...</td>\n",
              "      <td>...</td>\n",
              "    </tr>\n",
              "    <tr>\n",
              "      <th>2995</th>\n",
              "      <td>구성도 아쉽지만</td>\n",
              "      <td>0</td>\n",
              "    </tr>\n",
              "    <tr>\n",
              "      <th>2996</th>\n",
              "      <td>오랫동안 촉촉하지 않아요.</td>\n",
              "      <td>0</td>\n",
              "    </tr>\n",
              "    <tr>\n",
              "      <th>2997</th>\n",
              "      <td>촉촉하지 않아요.</td>\n",
              "      <td>0</td>\n",
              "    </tr>\n",
              "    <tr>\n",
              "      <th>2998</th>\n",
              "      <td>목 주름 개선 효과도 없는 것 같습니다.</td>\n",
              "      <td>0</td>\n",
              "    </tr>\n",
              "    <tr>\n",
              "      <th>2999</th>\n",
              "      <td>비싸도</td>\n",
              "      <td>0</td>\n",
              "    </tr>\n",
              "  </tbody>\n",
              "</table>\n",
              "<p>3000 rows × 2 columns</p>\n",
              "</div>\n",
              "    <div class=\"colab-df-buttons\">\n",
              "\n",
              "  <div class=\"colab-df-container\">\n",
              "    <button class=\"colab-df-convert\" onclick=\"convertToInteractive('df-5953f89d-a3b1-4f56-9c49-454a71acb81f')\"\n",
              "            title=\"Convert this dataframe to an interactive table.\"\n",
              "            style=\"display:none;\">\n",
              "\n",
              "  <svg xmlns=\"http://www.w3.org/2000/svg\" height=\"24px\" viewBox=\"0 -960 960 960\">\n",
              "    <path d=\"M120-120v-720h720v720H120Zm60-500h600v-160H180v160Zm220 220h160v-160H400v160Zm0 220h160v-160H400v160ZM180-400h160v-160H180v160Zm440 0h160v-160H620v160ZM180-180h160v-160H180v160Zm440 0h160v-160H620v160Z\"/>\n",
              "  </svg>\n",
              "    </button>\n",
              "\n",
              "  <style>\n",
              "    .colab-df-container {\n",
              "      display:flex;\n",
              "      gap: 12px;\n",
              "    }\n",
              "\n",
              "    .colab-df-convert {\n",
              "      background-color: #E8F0FE;\n",
              "      border: none;\n",
              "      border-radius: 50%;\n",
              "      cursor: pointer;\n",
              "      display: none;\n",
              "      fill: #1967D2;\n",
              "      height: 32px;\n",
              "      padding: 0 0 0 0;\n",
              "      width: 32px;\n",
              "    }\n",
              "\n",
              "    .colab-df-convert:hover {\n",
              "      background-color: #E2EBFA;\n",
              "      box-shadow: 0px 1px 2px rgba(60, 64, 67, 0.3), 0px 1px 3px 1px rgba(60, 64, 67, 0.15);\n",
              "      fill: #174EA6;\n",
              "    }\n",
              "\n",
              "    .colab-df-buttons div {\n",
              "      margin-bottom: 4px;\n",
              "    }\n",
              "\n",
              "    [theme=dark] .colab-df-convert {\n",
              "      background-color: #3B4455;\n",
              "      fill: #D2E3FC;\n",
              "    }\n",
              "\n",
              "    [theme=dark] .colab-df-convert:hover {\n",
              "      background-color: #434B5C;\n",
              "      box-shadow: 0px 1px 3px 1px rgba(0, 0, 0, 0.15);\n",
              "      filter: drop-shadow(0px 1px 2px rgba(0, 0, 0, 0.3));\n",
              "      fill: #FFFFFF;\n",
              "    }\n",
              "  </style>\n",
              "\n",
              "    <script>\n",
              "      const buttonEl =\n",
              "        document.querySelector('#df-5953f89d-a3b1-4f56-9c49-454a71acb81f button.colab-df-convert');\n",
              "      buttonEl.style.display =\n",
              "        google.colab.kernel.accessAllowed ? 'block' : 'none';\n",
              "\n",
              "      async function convertToInteractive(key) {\n",
              "        const element = document.querySelector('#df-5953f89d-a3b1-4f56-9c49-454a71acb81f');\n",
              "        const dataTable =\n",
              "          await google.colab.kernel.invokeFunction('convertToInteractive',\n",
              "                                                    [key], {});\n",
              "        if (!dataTable) return;\n",
              "\n",
              "        const docLinkHtml = 'Like what you see? Visit the ' +\n",
              "          '<a target=\"_blank\" href=https://colab.research.google.com/notebooks/data_table.ipynb>data table notebook</a>'\n",
              "          + ' to learn more about interactive tables.';\n",
              "        element.innerHTML = '';\n",
              "        dataTable['output_type'] = 'display_data';\n",
              "        await google.colab.output.renderOutput(dataTable, element);\n",
              "        const docLink = document.createElement('div');\n",
              "        docLink.innerHTML = docLinkHtml;\n",
              "        element.appendChild(docLink);\n",
              "      }\n",
              "    </script>\n",
              "  </div>\n",
              "\n",
              "\n",
              "<div id=\"df-86c8a2db-1e77-47bf-a959-73dff2d9c30d\">\n",
              "  <button class=\"colab-df-quickchart\" onclick=\"quickchart('df-86c8a2db-1e77-47bf-a959-73dff2d9c30d')\"\n",
              "            title=\"Suggest charts\"\n",
              "            style=\"display:none;\">\n",
              "\n",
              "<svg xmlns=\"http://www.w3.org/2000/svg\" height=\"24px\"viewBox=\"0 0 24 24\"\n",
              "     width=\"24px\">\n",
              "    <g>\n",
              "        <path d=\"M19 3H5c-1.1 0-2 .9-2 2v14c0 1.1.9 2 2 2h14c1.1 0 2-.9 2-2V5c0-1.1-.9-2-2-2zM9 17H7v-7h2v7zm4 0h-2V7h2v10zm4 0h-2v-4h2v4z\"/>\n",
              "    </g>\n",
              "</svg>\n",
              "  </button>\n",
              "\n",
              "<style>\n",
              "  .colab-df-quickchart {\n",
              "      --bg-color: #E8F0FE;\n",
              "      --fill-color: #1967D2;\n",
              "      --hover-bg-color: #E2EBFA;\n",
              "      --hover-fill-color: #174EA6;\n",
              "      --disabled-fill-color: #AAA;\n",
              "      --disabled-bg-color: #DDD;\n",
              "  }\n",
              "\n",
              "  [theme=dark] .colab-df-quickchart {\n",
              "      --bg-color: #3B4455;\n",
              "      --fill-color: #D2E3FC;\n",
              "      --hover-bg-color: #434B5C;\n",
              "      --hover-fill-color: #FFFFFF;\n",
              "      --disabled-bg-color: #3B4455;\n",
              "      --disabled-fill-color: #666;\n",
              "  }\n",
              "\n",
              "  .colab-df-quickchart {\n",
              "    background-color: var(--bg-color);\n",
              "    border: none;\n",
              "    border-radius: 50%;\n",
              "    cursor: pointer;\n",
              "    display: none;\n",
              "    fill: var(--fill-color);\n",
              "    height: 32px;\n",
              "    padding: 0;\n",
              "    width: 32px;\n",
              "  }\n",
              "\n",
              "  .colab-df-quickchart:hover {\n",
              "    background-color: var(--hover-bg-color);\n",
              "    box-shadow: 0 1px 2px rgba(60, 64, 67, 0.3), 0 1px 3px 1px rgba(60, 64, 67, 0.15);\n",
              "    fill: var(--button-hover-fill-color);\n",
              "  }\n",
              "\n",
              "  .colab-df-quickchart-complete:disabled,\n",
              "  .colab-df-quickchart-complete:disabled:hover {\n",
              "    background-color: var(--disabled-bg-color);\n",
              "    fill: var(--disabled-fill-color);\n",
              "    box-shadow: none;\n",
              "  }\n",
              "\n",
              "  .colab-df-spinner {\n",
              "    border: 2px solid var(--fill-color);\n",
              "    border-color: transparent;\n",
              "    border-bottom-color: var(--fill-color);\n",
              "    animation:\n",
              "      spin 1s steps(1) infinite;\n",
              "  }\n",
              "\n",
              "  @keyframes spin {\n",
              "    0% {\n",
              "      border-color: transparent;\n",
              "      border-bottom-color: var(--fill-color);\n",
              "      border-left-color: var(--fill-color);\n",
              "    }\n",
              "    20% {\n",
              "      border-color: transparent;\n",
              "      border-left-color: var(--fill-color);\n",
              "      border-top-color: var(--fill-color);\n",
              "    }\n",
              "    30% {\n",
              "      border-color: transparent;\n",
              "      border-left-color: var(--fill-color);\n",
              "      border-top-color: var(--fill-color);\n",
              "      border-right-color: var(--fill-color);\n",
              "    }\n",
              "    40% {\n",
              "      border-color: transparent;\n",
              "      border-right-color: var(--fill-color);\n",
              "      border-top-color: var(--fill-color);\n",
              "    }\n",
              "    60% {\n",
              "      border-color: transparent;\n",
              "      border-right-color: var(--fill-color);\n",
              "    }\n",
              "    80% {\n",
              "      border-color: transparent;\n",
              "      border-right-color: var(--fill-color);\n",
              "      border-bottom-color: var(--fill-color);\n",
              "    }\n",
              "    90% {\n",
              "      border-color: transparent;\n",
              "      border-bottom-color: var(--fill-color);\n",
              "    }\n",
              "  }\n",
              "</style>\n",
              "\n",
              "  <script>\n",
              "    async function quickchart(key) {\n",
              "      const quickchartButtonEl =\n",
              "        document.querySelector('#' + key + ' button');\n",
              "      quickchartButtonEl.disabled = true;  // To prevent multiple clicks.\n",
              "      quickchartButtonEl.classList.add('colab-df-spinner');\n",
              "      try {\n",
              "        const charts = await google.colab.kernel.invokeFunction(\n",
              "            'suggestCharts', [key], {});\n",
              "      } catch (error) {\n",
              "        console.error('Error during call to suggestCharts:', error);\n",
              "      }\n",
              "      quickchartButtonEl.classList.remove('colab-df-spinner');\n",
              "      quickchartButtonEl.classList.add('colab-df-quickchart-complete');\n",
              "    }\n",
              "    (() => {\n",
              "      let quickchartButtonEl =\n",
              "        document.querySelector('#df-86c8a2db-1e77-47bf-a959-73dff2d9c30d button');\n",
              "      quickchartButtonEl.style.display =\n",
              "        google.colab.kernel.accessAllowed ? 'block' : 'none';\n",
              "    })();\n",
              "  </script>\n",
              "</div>\n",
              "\n",
              "  <div id=\"id_781bf205-e4b0-45ca-8557-e8a1fedd0591\">\n",
              "    <style>\n",
              "      .colab-df-generate {\n",
              "        background-color: #E8F0FE;\n",
              "        border: none;\n",
              "        border-radius: 50%;\n",
              "        cursor: pointer;\n",
              "        display: none;\n",
              "        fill: #1967D2;\n",
              "        height: 32px;\n",
              "        padding: 0 0 0 0;\n",
              "        width: 32px;\n",
              "      }\n",
              "\n",
              "      .colab-df-generate:hover {\n",
              "        background-color: #E2EBFA;\n",
              "        box-shadow: 0px 1px 2px rgba(60, 64, 67, 0.3), 0px 1px 3px 1px rgba(60, 64, 67, 0.15);\n",
              "        fill: #174EA6;\n",
              "      }\n",
              "\n",
              "      [theme=dark] .colab-df-generate {\n",
              "        background-color: #3B4455;\n",
              "        fill: #D2E3FC;\n",
              "      }\n",
              "\n",
              "      [theme=dark] .colab-df-generate:hover {\n",
              "        background-color: #434B5C;\n",
              "        box-shadow: 0px 1px 3px 1px rgba(0, 0, 0, 0.15);\n",
              "        filter: drop-shadow(0px 1px 2px rgba(0, 0, 0, 0.3));\n",
              "        fill: #FFFFFF;\n",
              "      }\n",
              "    </style>\n",
              "    <button class=\"colab-df-generate\" onclick=\"generateWithVariable('data_df')\"\n",
              "            title=\"Generate code using this dataframe.\"\n",
              "            style=\"display:none;\">\n",
              "\n",
              "  <svg xmlns=\"http://www.w3.org/2000/svg\" height=\"24px\"viewBox=\"0 0 24 24\"\n",
              "       width=\"24px\">\n",
              "    <path d=\"M7,19H8.4L18.45,9,17,7.55,7,17.6ZM5,21V16.75L18.45,3.32a2,2,0,0,1,2.83,0l1.4,1.43a1.91,1.91,0,0,1,.58,1.4,1.91,1.91,0,0,1-.58,1.4L9.25,21ZM18.45,9,17,7.55Zm-12,3A5.31,5.31,0,0,0,4.9,8.1,5.31,5.31,0,0,0,1,6.5,5.31,5.31,0,0,0,4.9,4.9,5.31,5.31,0,0,0,6.5,1,5.31,5.31,0,0,0,8.1,4.9,5.31,5.31,0,0,0,12,6.5,5.46,5.46,0,0,0,6.5,12Z\"/>\n",
              "  </svg>\n",
              "    </button>\n",
              "    <script>\n",
              "      (() => {\n",
              "      const buttonEl =\n",
              "        document.querySelector('#id_781bf205-e4b0-45ca-8557-e8a1fedd0591 button.colab-df-generate');\n",
              "      buttonEl.style.display =\n",
              "        google.colab.kernel.accessAllowed ? 'block' : 'none';\n",
              "\n",
              "      buttonEl.onclick = () => {\n",
              "        google.colab.notebook.generateWithVariable('data_df');\n",
              "      }\n",
              "      })();\n",
              "    </script>\n",
              "  </div>\n",
              "\n",
              "    </div>\n",
              "  </div>\n"
            ],
            "application/vnd.google.colaboratory.intrinsic+json": {
              "type": "dataframe",
              "variable_name": "data_df",
              "summary": "{\n  \"name\": \"data_df\",\n  \"rows\": 3000,\n  \"fields\": [\n    {\n      \"column\": \"review\",\n      \"properties\": {\n        \"dtype\": \"string\",\n        \"num_unique_values\": 2787,\n        \"samples\": [\n          \"\\ube44\\uc2fc \\uac83 \\uac19\\uae34 \\ud558\\uace0 \",\n          \"\\uc624\\ub798 \\uc9c0\\uc18d\\ub418\\uc9c0\\ub294 \\uc54a\\ub124\\uc694. \",\n          \"\\uc6a9\\uae30\\ub3c4 \\ud38c\\ud504\\ud615\\uc774 \\uc544\\ub2c8\\ub77c\\uc11c\"\n        ],\n        \"semantic_type\": \"\",\n        \"description\": \"\"\n      }\n    },\n    {\n      \"column\": \"label\",\n      \"properties\": {\n        \"dtype\": \"number\",\n        \"std\": 0,\n        \"min\": 0,\n        \"max\": 1,\n        \"num_unique_values\": 2,\n        \"samples\": [\n          0,\n          1\n        ],\n        \"semantic_type\": \"\",\n        \"description\": \"\"\n      }\n    }\n  ]\n}"
            }
          },
          "metadata": {},
          "execution_count": 6
        }
      ]
    },
    {
      "cell_type": "code",
      "source": [
        "## okt 형태소 분석기를 활용한 불용어 제거\n",
        "from konlpy.tag import Okt\n",
        "okt = Okt()\n",
        "def clean_text(text):\n",
        "      tokens = okt.pos(text)\n",
        "      # 조사, 구두점, 알파벳을 제외\n",
        "      tokens = [(word, pos) for word, pos in tokens if pos not in ['Josa', 'Punctuation', 'Alpha']]\n",
        "      # Extract only the words from the first element of each tuple\n",
        "      words = [word for word, _ in tokens]\n",
        "\n",
        "      # Join the words together to form a sentence\n",
        "      cleaned_text = ' '.join(words)  # 공백 없이 한글 단어들을 연결합니다.\n",
        "\n",
        "      return cleaned_text\n",
        "\n",
        "\n",
        "data_df['review'] = data_df['review'].apply(lambda x: clean_text(x))\n",
        "\n",
        "text_test = data_df['review'].values\n",
        "y_test = data_df['label'].values"
      ],
      "metadata": {
        "id": "09E5nsGMDyaT"
      },
      "execution_count": null,
      "outputs": []
    },
    {
      "cell_type": "code",
      "source": [
        "from konlpy.tag import Okt\n",
        "\n",
        "class PicklableOkt(Okt):\n",
        "    def __init__(self, *args):\n",
        "        self.args = args\n",
        "        Okt.__init__(self, *args)\n",
        "\n",
        "    def __getstate__(self):\n",
        "        return {'args': self.args}\n",
        "\n",
        "    def __setstate__(self, state):\n",
        "        self.__init__(*state['args'])\n"
      ],
      "metadata": {
        "id": "e01k5ePiDycg"
      },
      "execution_count": null,
      "outputs": []
    },
    {
      "cell_type": "code",
      "source": [],
      "metadata": {
        "id": "AF3Kax8vHEyo"
      },
      "execution_count": null,
      "outputs": []
    },
    {
      "cell_type": "code",
      "source": [
        "#### 나이브 베이즈 분류 시작"
      ],
      "metadata": {
        "id": "UCgNxNrRDygq"
      },
      "execution_count": null,
      "outputs": []
    },
    {
      "cell_type": "code",
      "source": [
        "from sklearn.naive_bayes import BernoulliNB"
      ],
      "metadata": {
        "id": "-BzUM6TpDyi4"
      },
      "execution_count": null,
      "outputs": []
    },
    {
      "cell_type": "code",
      "source": [
        "model = BernoulliNB()"
      ],
      "metadata": {
        "id": "pP-johd6DylG"
      },
      "execution_count": null,
      "outputs": []
    },
    {
      "cell_type": "code",
      "source": [
        "from sklearn.feature_extraction.text import TfidfVectorizer\n",
        "from sklearn.linear_model import LogisticRegression\n",
        "from sklearn.pipeline import make_pipeline\n",
        "from sklearn.model_selection import GridSearchCV #최적의 파라미터 값을 찾는 라이브러리\n",
        "\n",
        "# 직렬화 가능한 PickableOkt 사용하여 파이프라인 생성\n",
        "param_grid = {\n",
        "    'tfidfvectorizer__min_df': [3],\n",
        "    'tfidfvectorizer__ngram_range': [(1, 1), (1, 2), (1, 3)],\n",
        "    'bernoullinb__alpha': [0.1, 1, 10]\n",
        "}\n",
        "\n",
        "pipe = make_pipeline(TfidfVectorizer(tokenizer=PicklableOkt().morphs), BernoulliNB())\n",
        "grid = GridSearchCV(pipe, param_grid, n_jobs=-1)\n",
        "grid.fit(text_test, y_test)"
      ],
      "metadata": {
        "colab": {
          "base_uri": "https://localhost:8080/",
          "height": 207
        },
        "id": "qKqy2Kv4DynL",
        "outputId": "d97921b9-9d9f-4627-8a4f-17c77607e5c1"
      },
      "execution_count": null,
      "outputs": [
        {
          "output_type": "stream",
          "name": "stderr",
          "text": [
            "/usr/local/lib/python3.10/dist-packages/sklearn/feature_extraction/text.py:528: UserWarning: The parameter 'token_pattern' will not be used since 'tokenizer' is not None'\n",
            "  warnings.warn(\n"
          ]
        },
        {
          "output_type": "execute_result",
          "data": {
            "text/plain": [
              "GridSearchCV(estimator=Pipeline(steps=[('tfidfvectorizer',\n",
              "                                        TfidfVectorizer(tokenizer=<bound method Okt.morphs of <__main__.PicklableOkt object at 0x7caffc099090>>)),\n",
              "                                       ('bernoullinb', BernoulliNB())]),\n",
              "             n_jobs=-1,\n",
              "             param_grid={'bernoullinb__alpha': [0.1, 1, 10],\n",
              "                         'tfidfvectorizer__min_df': [3],\n",
              "                         'tfidfvectorizer__ngram_range': [(1, 1), (1, 2),\n",
              "                                                          (1, 3)]})"
            ],
            "text/html": [
              "<style>#sk-container-id-1 {color: black;background-color: white;}#sk-container-id-1 pre{padding: 0;}#sk-container-id-1 div.sk-toggleable {background-color: white;}#sk-container-id-1 label.sk-toggleable__label {cursor: pointer;display: block;width: 100%;margin-bottom: 0;padding: 0.3em;box-sizing: border-box;text-align: center;}#sk-container-id-1 label.sk-toggleable__label-arrow:before {content: \"▸\";float: left;margin-right: 0.25em;color: #696969;}#sk-container-id-1 label.sk-toggleable__label-arrow:hover:before {color: black;}#sk-container-id-1 div.sk-estimator:hover label.sk-toggleable__label-arrow:before {color: black;}#sk-container-id-1 div.sk-toggleable__content {max-height: 0;max-width: 0;overflow: hidden;text-align: left;background-color: #f0f8ff;}#sk-container-id-1 div.sk-toggleable__content pre {margin: 0.2em;color: black;border-radius: 0.25em;background-color: #f0f8ff;}#sk-container-id-1 input.sk-toggleable__control:checked~div.sk-toggleable__content {max-height: 200px;max-width: 100%;overflow: auto;}#sk-container-id-1 input.sk-toggleable__control:checked~label.sk-toggleable__label-arrow:before {content: \"▾\";}#sk-container-id-1 div.sk-estimator input.sk-toggleable__control:checked~label.sk-toggleable__label {background-color: #d4ebff;}#sk-container-id-1 div.sk-label input.sk-toggleable__control:checked~label.sk-toggleable__label {background-color: #d4ebff;}#sk-container-id-1 input.sk-hidden--visually {border: 0;clip: rect(1px 1px 1px 1px);clip: rect(1px, 1px, 1px, 1px);height: 1px;margin: -1px;overflow: hidden;padding: 0;position: absolute;width: 1px;}#sk-container-id-1 div.sk-estimator {font-family: monospace;background-color: #f0f8ff;border: 1px dotted black;border-radius: 0.25em;box-sizing: border-box;margin-bottom: 0.5em;}#sk-container-id-1 div.sk-estimator:hover {background-color: #d4ebff;}#sk-container-id-1 div.sk-parallel-item::after {content: \"\";width: 100%;border-bottom: 1px solid gray;flex-grow: 1;}#sk-container-id-1 div.sk-label:hover label.sk-toggleable__label {background-color: #d4ebff;}#sk-container-id-1 div.sk-serial::before {content: \"\";position: absolute;border-left: 1px solid gray;box-sizing: border-box;top: 0;bottom: 0;left: 50%;z-index: 0;}#sk-container-id-1 div.sk-serial {display: flex;flex-direction: column;align-items: center;background-color: white;padding-right: 0.2em;padding-left: 0.2em;position: relative;}#sk-container-id-1 div.sk-item {position: relative;z-index: 1;}#sk-container-id-1 div.sk-parallel {display: flex;align-items: stretch;justify-content: center;background-color: white;position: relative;}#sk-container-id-1 div.sk-item::before, #sk-container-id-1 div.sk-parallel-item::before {content: \"\";position: absolute;border-left: 1px solid gray;box-sizing: border-box;top: 0;bottom: 0;left: 50%;z-index: -1;}#sk-container-id-1 div.sk-parallel-item {display: flex;flex-direction: column;z-index: 1;position: relative;background-color: white;}#sk-container-id-1 div.sk-parallel-item:first-child::after {align-self: flex-end;width: 50%;}#sk-container-id-1 div.sk-parallel-item:last-child::after {align-self: flex-start;width: 50%;}#sk-container-id-1 div.sk-parallel-item:only-child::after {width: 0;}#sk-container-id-1 div.sk-dashed-wrapped {border: 1px dashed gray;margin: 0 0.4em 0.5em 0.4em;box-sizing: border-box;padding-bottom: 0.4em;background-color: white;}#sk-container-id-1 div.sk-label label {font-family: monospace;font-weight: bold;display: inline-block;line-height: 1.2em;}#sk-container-id-1 div.sk-label-container {text-align: center;}#sk-container-id-1 div.sk-container {/* jupyter's `normalize.less` sets `[hidden] { display: none; }` but bootstrap.min.css set `[hidden] { display: none !important; }` so we also need the `!important` here to be able to override the default hidden behavior on the sphinx rendered scikit-learn.org. See: https://github.com/scikit-learn/scikit-learn/issues/21755 */display: inline-block !important;position: relative;}#sk-container-id-1 div.sk-text-repr-fallback {display: none;}</style><div id=\"sk-container-id-1\" class=\"sk-top-container\"><div class=\"sk-text-repr-fallback\"><pre>GridSearchCV(estimator=Pipeline(steps=[(&#x27;tfidfvectorizer&#x27;,\n",
              "                                        TfidfVectorizer(tokenizer=&lt;bound method Okt.morphs of &lt;__main__.PicklableOkt object at 0x7caffc099090&gt;&gt;)),\n",
              "                                       (&#x27;bernoullinb&#x27;, BernoulliNB())]),\n",
              "             n_jobs=-1,\n",
              "             param_grid={&#x27;bernoullinb__alpha&#x27;: [0.1, 1, 10],\n",
              "                         &#x27;tfidfvectorizer__min_df&#x27;: [3],\n",
              "                         &#x27;tfidfvectorizer__ngram_range&#x27;: [(1, 1), (1, 2),\n",
              "                                                          (1, 3)]})</pre><b>In a Jupyter environment, please rerun this cell to show the HTML representation or trust the notebook. <br />On GitHub, the HTML representation is unable to render, please try loading this page with nbviewer.org.</b></div><div class=\"sk-container\" hidden><div class=\"sk-item sk-dashed-wrapped\"><div class=\"sk-label-container\"><div class=\"sk-label sk-toggleable\"><input class=\"sk-toggleable__control sk-hidden--visually\" id=\"sk-estimator-id-1\" type=\"checkbox\" ><label for=\"sk-estimator-id-1\" class=\"sk-toggleable__label sk-toggleable__label-arrow\">GridSearchCV</label><div class=\"sk-toggleable__content\"><pre>GridSearchCV(estimator=Pipeline(steps=[(&#x27;tfidfvectorizer&#x27;,\n",
              "                                        TfidfVectorizer(tokenizer=&lt;bound method Okt.morphs of &lt;__main__.PicklableOkt object at 0x7caffc099090&gt;&gt;)),\n",
              "                                       (&#x27;bernoullinb&#x27;, BernoulliNB())]),\n",
              "             n_jobs=-1,\n",
              "             param_grid={&#x27;bernoullinb__alpha&#x27;: [0.1, 1, 10],\n",
              "                         &#x27;tfidfvectorizer__min_df&#x27;: [3],\n",
              "                         &#x27;tfidfvectorizer__ngram_range&#x27;: [(1, 1), (1, 2),\n",
              "                                                          (1, 3)]})</pre></div></div></div><div class=\"sk-parallel\"><div class=\"sk-parallel-item\"><div class=\"sk-item\"><div class=\"sk-label-container\"><div class=\"sk-label sk-toggleable\"><input class=\"sk-toggleable__control sk-hidden--visually\" id=\"sk-estimator-id-2\" type=\"checkbox\" ><label for=\"sk-estimator-id-2\" class=\"sk-toggleable__label sk-toggleable__label-arrow\">estimator: Pipeline</label><div class=\"sk-toggleable__content\"><pre>Pipeline(steps=[(&#x27;tfidfvectorizer&#x27;,\n",
              "                 TfidfVectorizer(tokenizer=&lt;bound method Okt.morphs of &lt;__main__.PicklableOkt object at 0x7caffc099090&gt;&gt;)),\n",
              "                (&#x27;bernoullinb&#x27;, BernoulliNB())])</pre></div></div></div><div class=\"sk-serial\"><div class=\"sk-item\"><div class=\"sk-serial\"><div class=\"sk-item\"><div class=\"sk-estimator sk-toggleable\"><input class=\"sk-toggleable__control sk-hidden--visually\" id=\"sk-estimator-id-3\" type=\"checkbox\" ><label for=\"sk-estimator-id-3\" class=\"sk-toggleable__label sk-toggleable__label-arrow\">TfidfVectorizer</label><div class=\"sk-toggleable__content\"><pre>TfidfVectorizer(tokenizer=&lt;bound method Okt.morphs of &lt;__main__.PicklableOkt object at 0x7caffc099090&gt;&gt;)</pre></div></div></div><div class=\"sk-item\"><div class=\"sk-estimator sk-toggleable\"><input class=\"sk-toggleable__control sk-hidden--visually\" id=\"sk-estimator-id-4\" type=\"checkbox\" ><label for=\"sk-estimator-id-4\" class=\"sk-toggleable__label sk-toggleable__label-arrow\">BernoulliNB</label><div class=\"sk-toggleable__content\"><pre>BernoulliNB()</pre></div></div></div></div></div></div></div></div></div></div></div></div>"
            ]
          },
          "metadata": {},
          "execution_count": 12
        }
      ]
    },
    {
      "cell_type": "markdown",
      "source": [],
      "metadata": {
        "id": "LgWH4farUHW6"
      }
    },
    {
      "cell_type": "code",
      "source": [
        "print(\"최적의 교차 검증 점수 : {:.2f}\".format(grid.best_score_))\n",
        "print(\"최적의 매개변수 : \\n\",grid.best_params_)"
      ],
      "metadata": {
        "colab": {
          "base_uri": "https://localhost:8080/"
        },
        "id": "9CBkT9N_DypC",
        "outputId": "fbd85ff7-e84c-4989-9210-5218379a4852"
      },
      "execution_count": null,
      "outputs": [
        {
          "output_type": "stream",
          "name": "stdout",
          "text": [
            "최적의 교차 검증 점수 : 0.83\n",
            "최적의 매개변수 : \n",
            " {'bernoullinb__alpha': 0.1, 'tfidfvectorizer__min_df': 3, 'tfidfvectorizer__ngram_range': (1, 2)}\n"
          ]
        }
      ]
    },
    {
      "cell_type": "markdown",
      "source": [
        "#BernoulliNB 모델 점수 시각화"
      ],
      "metadata": {
        "id": "NFvHVTiD5QZL"
      }
    },
    {
      "cell_type": "code",
      "source": [
        "!pip install mglearn"
      ],
      "metadata": {
        "colab": {
          "base_uri": "https://localhost:8080/"
        },
        "id": "MD634w2F5QhD",
        "outputId": "108c9835-6f52-4da5-90de-9f79f48787e4"
      },
      "execution_count": null,
      "outputs": [
        {
          "output_type": "stream",
          "name": "stdout",
          "text": [
            "Requirement already satisfied: mglearn in /usr/local/lib/python3.10/dist-packages (0.2.0)\n",
            "Requirement already satisfied: numpy in /usr/local/lib/python3.10/dist-packages (from mglearn) (1.25.2)\n",
            "Requirement already satisfied: matplotlib in /usr/local/lib/python3.10/dist-packages (from mglearn) (3.7.1)\n",
            "Requirement already satisfied: scikit-learn in /usr/local/lib/python3.10/dist-packages (from mglearn) (1.2.2)\n",
            "Requirement already satisfied: pandas in /usr/local/lib/python3.10/dist-packages (from mglearn) (2.0.3)\n",
            "Requirement already satisfied: pillow in /usr/local/lib/python3.10/dist-packages (from mglearn) (10.3.0)\n",
            "Requirement already satisfied: cycler in /usr/local/lib/python3.10/dist-packages (from mglearn) (0.12.1)\n",
            "Requirement already satisfied: imageio in /usr/local/lib/python3.10/dist-packages (from mglearn) (2.34.1)\n",
            "Requirement already satisfied: joblib in /usr/local/lib/python3.10/dist-packages (from mglearn) (1.4.2)\n",
            "Requirement already satisfied: contourpy>=1.0.1 in /usr/local/lib/python3.10/dist-packages (from matplotlib->mglearn) (1.2.1)\n",
            "Requirement already satisfied: fonttools>=4.22.0 in /usr/local/lib/python3.10/dist-packages (from matplotlib->mglearn) (4.51.0)\n",
            "Requirement already satisfied: kiwisolver>=1.0.1 in /usr/local/lib/python3.10/dist-packages (from matplotlib->mglearn) (1.4.5)\n",
            "Requirement already satisfied: packaging>=20.0 in /usr/local/lib/python3.10/dist-packages (from matplotlib->mglearn) (24.0)\n",
            "Requirement already satisfied: pyparsing>=2.3.1 in /usr/local/lib/python3.10/dist-packages (from matplotlib->mglearn) (3.1.2)\n",
            "Requirement already satisfied: python-dateutil>=2.7 in /usr/local/lib/python3.10/dist-packages (from matplotlib->mglearn) (2.9.0.post0)\n",
            "Requirement already satisfied: pytz>=2020.1 in /usr/local/lib/python3.10/dist-packages (from pandas->mglearn) (2024.1)\n",
            "Requirement already satisfied: tzdata>=2022.1 in /usr/local/lib/python3.10/dist-packages (from pandas->mglearn) (2024.1)\n",
            "Requirement already satisfied: scipy>=1.3.2 in /usr/local/lib/python3.10/dist-packages (from scikit-learn->mglearn) (1.11.4)\n",
            "Requirement already satisfied: threadpoolctl>=2.0.0 in /usr/local/lib/python3.10/dist-packages (from scikit-learn->mglearn) (3.5.0)\n",
            "Requirement already satisfied: six>=1.5 in /usr/local/lib/python3.10/dist-packages (from python-dateutil>=2.7->matplotlib->mglearn) (1.16.0)\n"
          ]
        }
      ]
    },
    {
      "cell_type": "code",
      "source": [
        "!sudo apt-get install -y fonts-nanum\n",
        "!sudo fc-cache -fv\n",
        "!rm ~/.cache/matplotlib -rf\n"
      ],
      "metadata": {
        "colab": {
          "base_uri": "https://localhost:8080/"
        },
        "id": "fGLvdiYH9Cv5",
        "outputId": "353c3f3f-8d33-4d53-da1c-71697d807742"
      },
      "execution_count": null,
      "outputs": [
        {
          "output_type": "stream",
          "name": "stdout",
          "text": [
            "Reading package lists... Done\n",
            "Building dependency tree... Done\n",
            "Reading state information... Done\n",
            "fonts-nanum is already the newest version (20200506-1).\n",
            "0 upgraded, 0 newly installed, 0 to remove and 0 not upgraded.\n",
            "/usr/share/fonts: caching, new cache contents: 0 fonts, 1 dirs\n",
            "/usr/share/fonts/truetype: caching, new cache contents: 0 fonts, 3 dirs\n",
            "/usr/share/fonts/truetype/humor-sans: caching, new cache contents: 1 fonts, 0 dirs\n",
            "/usr/share/fonts/truetype/liberation: caching, new cache contents: 16 fonts, 0 dirs\n",
            "/usr/share/fonts/truetype/nanum: caching, new cache contents: 12 fonts, 0 dirs\n",
            "/usr/local/share/fonts: caching, new cache contents: 0 fonts, 0 dirs\n",
            "/root/.local/share/fonts: skipping, no such directory\n",
            "/root/.fonts: skipping, no such directory\n",
            "/usr/share/fonts/truetype: skipping, looped directory detected\n",
            "/usr/share/fonts/truetype/humor-sans: skipping, looped directory detected\n",
            "/usr/share/fonts/truetype/liberation: skipping, looped directory detected\n",
            "/usr/share/fonts/truetype/nanum: skipping, looped directory detected\n",
            "/var/cache/fontconfig: cleaning cache directory\n",
            "/root/.cache/fontconfig: not cleaning non-existent cache directory\n",
            "/root/.fontconfig: not cleaning non-existent cache directory\n",
            "fc-cache: succeeded\n"
          ]
        }
      ]
    },
    {
      "cell_type": "code",
      "source": [
        "import matplotlib.pyplot as plt\n",
        "plt.rc('font', family='NanumBarunGothic')\n",
        "plt.rcParams['axes.unicode_minus'] =False"
      ],
      "metadata": {
        "id": "H8QAZxlX9FCY"
      },
      "execution_count": null,
      "outputs": []
    },
    {
      "cell_type": "code",
      "source": [
        "#매개변수 히트맵\n",
        "import mglearn\n",
        "\n",
        "scores = grid.cv_results_[\"mean_test_score\"].reshape(-1,3).T\n",
        "heatmap = mglearn.tools.heatmap(\n",
        "    scores,xlabel=\"alpha\",ylabel=\"ngram_range\", cmap=\"viridis\",fmt=\"%.3f\",\n",
        "    xticklabels = param_grid[\"bernoullinb__alpha\"],\n",
        "    yticklabels = param_grid[\"tfidfvectorizer__ngram_range\"]\n",
        "\n",
        ")\n",
        "\n",
        "plt.title(\"BernoulliNB(min_df=3)\")\n",
        "plt.show()"
      ],
      "metadata": {
        "colab": {
          "base_uri": "https://localhost:8080/",
          "height": 471
        },
        "id": "Il4ZgWok5QjI",
        "outputId": "1f77fbc3-bf21-4563-a213-2204c92f912a"
      },
      "execution_count": null,
      "outputs": [
        {
          "output_type": "display_data",
          "data": {
            "text/plain": [
              "<Figure size 640x480 with 1 Axes>"
            ],
            "image/png": "[encoded data removed]"
          },
          "metadata": {}
        }
      ]
    },
    {
      "cell_type": "code",
      "source": [
        "# BernoulliNB 모델 사용 시\n",
        "vect = grid.best_estimator_.named_steps['tfidfvectorizer']\n",
        "feature_names = np.array(vect.get_feature_names_out())\n",
        "coef = grid.best_estimator_.named_steps['bernoullinb'].feature_log_prob_\n",
        "mglearn.tools.visualize_coefficients(coef[1], feature_names, n_top_features=40)\n"
      ],
      "metadata": {
        "colab": {
          "base_uri": "https://localhost:8080/",
          "height": 466
        },
        "id": "7J7Uj3kE7yD2",
        "outputId": "c9aa9460-5a8f-445b-8608-df2b69012f1b"
      },
      "execution_count": null,
      "outputs": [
        {
          "output_type": "display_data",
          "data": {
            "text/plain": [
              "<Figure size 1500x500 with 1 Axes>"
            ],
            "image/png": "[encoded data removed]"
          },
          "metadata": {}
        }
      ]
    },
    {
      "cell_type": "code",
      "source": [
        "# BernoulliNB 모델 사용 시\n",
        "vect = grid.best_estimator_.named_steps['tfidfvectorizer']\n",
        "feature_names = np.array(vect.get_feature_names_out())\n",
        "coef = grid.best_estimator_.named_steps['bernoullinb'].feature_log_prob_\n",
        "mglearn.tools.visualize_coefficients(coef[0], feature_names, n_top_features=40)"
      ],
      "metadata": {
        "colab": {
          "base_uri": "https://localhost:8080/",
          "height": 411
        },
        "id": "Qip_3UZGDdS_",
        "outputId": "97afc95f-0a58-4246-8540-37c7641a9444"
      },
      "execution_count": null,
      "outputs": [
        {
          "output_type": "display_data",
          "data": {
            "text/plain": [
              "<Figure size 1500x500 with 1 Axes>"
            ],
            "image/png": "[encoded data removed]"
          },
          "metadata": {}
        }
      ]
    },
    {
      "cell_type": "code",
      "source": [],
      "metadata": {
        "id": "AXafxqW0CuGu"
      },
      "execution_count": null,
      "outputs": []
    },
    {
      "cell_type": "markdown",
      "source": [],
      "metadata": {
        "id": "mPgsPLz4AwV7"
      }
    },
    {
      "cell_type": "code",
      "source": [
        "final_olive_review = pd.read_csv(\"//content//drive//MyDrive//oliveyoung_paper//final_olive_review_data_df\")\n",
        "final_olive_review.drop(columns={\"Unnamed: 0\"},inplace=True)"
      ],
      "metadata": {
        "id": "bppqiU6nDyrR"
      },
      "execution_count": null,
      "outputs": []
    },
    {
      "cell_type": "code",
      "source": [
        "## 테스트 데이터 결측치 제\n",
        "missing_values = final_olive_review['reviews'].isna().sum()\n",
        "\n",
        "# If there are missing values, drop the corresponding rows\n",
        "if missing_values > 0:\n",
        "    final_olive_review.dropna(subset=['reviews'], inplace=True)"
      ],
      "metadata": {
        "id": "Dd-pbxvSDytK"
      },
      "execution_count": null,
      "outputs": []
    },
    {
      "cell_type": "code",
      "source": [
        "x_test = final_olive_review['reviews']\n",
        "y_test = final_olive_review['rating']"
      ],
      "metadata": {
        "id": "mx47VyRqDyv7"
      },
      "execution_count": null,
      "outputs": []
    },
    {
      "cell_type": "code",
      "source": [
        "# Create an empty list to store predicted classes\n",
        "predicted_classes = []\n",
        "\n",
        "# Iterate over each review in the DataFrame column\n",
        "for review in final_olive_review['reviews']:\n",
        "    # Make prediction using the best estimator found by GridSearchCV\n",
        "    predicted_class = grid.predict([review])\n",
        "\n",
        "    # Append the predicted class to the list\n",
        "    predicted_classes.append(predicted_class[0])  # Access the predicted class (it's a numpy array) and append\n",
        "\n",
        "# Add the predicted classes as a new column named 'prediction' to the DataFrame\n",
        "final_olive_review['prediction'] = predicted_classes\n",
        "\n"
      ],
      "metadata": {
        "id": "JHhVyCL5KObL"
      },
      "execution_count": null,
      "outputs": []
    },
    {
      "cell_type": "code",
      "source": [
        "final_olive_review"
      ],
      "metadata": {
        "colab": {
          "base_uri": "https://localhost:8080/",
          "height": 423
        },
        "id": "MRCc_7KhK2sV",
        "outputId": "b0891889-755d-409b-9922-788373eb95ea"
      },
      "execution_count": null,
      "outputs": [
        {
          "output_type": "execute_result",
          "data": {
            "text/plain": [
              "            userId  rating                                            reviews  \\\n",
              "0              와바밤       1  사실 마스크 팩 한 달동 안 사용 것 아니라 한 달 리뷰 하기 얘 매하 긴한데 어쩃...   \n",
              "1              와바밤       1              배송비 가격 맞출 때 유용하게 매번 구매 있습니다 자극 없이 순해여   \n",
              "2            보부상출신       1  나이 먹으니까 피부 고민 점차 주름 미백 쪽 빠지는데데 일리 피부 결 톤 케어 하기...   \n",
              "3             파이지니       1  🌼 1일 1 팩 하기 좋은 가성 비 마스크 팩 🌼 메디 힐 마스크 팩 너무 유명하죠...   \n",
              "4            보부상출신       1  요즘 제 피부 상태 탄력 지금 저 세상 가있는데 복구 위해 콜라겐 마스크 팩 이용 ...   \n",
              "..             ...     ...                                                ...   \n",
              "595       nam****        0  에센스 피부 오히랴 건조하게 하는 느낌 이였어용 ㅠㅠ 일시 적 보습 력 있고 그 이...   \n",
              "596     dltnw****        0  항상 즐겨 쓰는 팩 입니다아 얼굴 크기 적당하게 잘 맞고 많이 예민해서 아무 거나 ...   \n",
              "597       puk****        0  문 앞 놔 달라 했는데 경비실 놓고가서 없어진줄 알 당황 했어 욪 택배 기사 님 이...   \n",
              "598   sojung2****        0  10 개 이상 구매 하면 박스 오는줄 알았는데 낱개 와서 아쉬워요 팩 원래 이렇게 ...   \n",
              "599       pga****        0                   딱히 진정 효과 있는지 모르겠고 보습 효과 잘 모르겠습니다   \n",
              "\n",
              "     prediction  \n",
              "0             1  \n",
              "1             1  \n",
              "2             1  \n",
              "3             1  \n",
              "4             1  \n",
              "..          ...  \n",
              "595           0  \n",
              "596           1  \n",
              "597           1  \n",
              "598           0  \n",
              "599           1  \n",
              "\n",
              "[599 rows x 4 columns]"
            ],
            "text/html": [
              "\n",
              "  <div id=\"df-b3415d29-41e8-4505-a632-57a402efe23c\" class=\"colab-df-container\">\n",
              "    <div>\n",
              "<style scoped>\n",
              "    .dataframe tbody tr th:only-of-type {\n",
              "        vertical-align: middle;\n",
              "    }\n",
              "\n",
              "    .dataframe tbody tr th {\n",
              "        vertical-align: top;\n",
              "    }\n",
              "\n",
              "    .dataframe thead th {\n",
              "        text-align: right;\n",
              "    }\n",
              "</style>\n",
              "<table border=\"1\" class=\"dataframe\">\n",
              "  <thead>\n",
              "    <tr style=\"text-align: right;\">\n",
              "      <th></th>\n",
              "      <th>userId</th>\n",
              "      <th>rating</th>\n",
              "      <th>reviews</th>\n",
              "      <th>prediction</th>\n",
              "    </tr>\n",
              "  </thead>\n",
              "  <tbody>\n",
              "    <tr>\n",
              "      <th>0</th>\n",
              "      <td>와바밤</td>\n",
              "      <td>1</td>\n",
              "      <td>사실 마스크 팩 한 달동 안 사용 것 아니라 한 달 리뷰 하기 얘 매하 긴한데 어쩃...</td>\n",
              "      <td>1</td>\n",
              "    </tr>\n",
              "    <tr>\n",
              "      <th>1</th>\n",
              "      <td>와바밤</td>\n",
              "      <td>1</td>\n",
              "      <td>배송비 가격 맞출 때 유용하게 매번 구매 있습니다 자극 없이 순해여</td>\n",
              "      <td>1</td>\n",
              "    </tr>\n",
              "    <tr>\n",
              "      <th>2</th>\n",
              "      <td>보부상출신</td>\n",
              "      <td>1</td>\n",
              "      <td>나이 먹으니까 피부 고민 점차 주름 미백 쪽 빠지는데데 일리 피부 결 톤 케어 하기...</td>\n",
              "      <td>1</td>\n",
              "    </tr>\n",
              "    <tr>\n",
              "      <th>3</th>\n",
              "      <td>파이지니</td>\n",
              "      <td>1</td>\n",
              "      <td>🌼 1일 1 팩 하기 좋은 가성 비 마스크 팩 🌼 메디 힐 마스크 팩 너무 유명하죠...</td>\n",
              "      <td>1</td>\n",
              "    </tr>\n",
              "    <tr>\n",
              "      <th>4</th>\n",
              "      <td>보부상출신</td>\n",
              "      <td>1</td>\n",
              "      <td>요즘 제 피부 상태 탄력 지금 저 세상 가있는데 복구 위해 콜라겐 마스크 팩 이용 ...</td>\n",
              "      <td>1</td>\n",
              "    </tr>\n",
              "    <tr>\n",
              "      <th>...</th>\n",
              "      <td>...</td>\n",
              "      <td>...</td>\n",
              "      <td>...</td>\n",
              "      <td>...</td>\n",
              "    </tr>\n",
              "    <tr>\n",
              "      <th>595</th>\n",
              "      <td>nam****</td>\n",
              "      <td>0</td>\n",
              "      <td>에센스 피부 오히랴 건조하게 하는 느낌 이였어용 ㅠㅠ 일시 적 보습 력 있고 그 이...</td>\n",
              "      <td>0</td>\n",
              "    </tr>\n",
              "    <tr>\n",
              "      <th>596</th>\n",
              "      <td>dltnw****</td>\n",
              "      <td>0</td>\n",
              "      <td>항상 즐겨 쓰는 팩 입니다아 얼굴 크기 적당하게 잘 맞고 많이 예민해서 아무 거나 ...</td>\n",
              "      <td>1</td>\n",
              "    </tr>\n",
              "    <tr>\n",
              "      <th>597</th>\n",
              "      <td>puk****</td>\n",
              "      <td>0</td>\n",
              "      <td>문 앞 놔 달라 했는데 경비실 놓고가서 없어진줄 알 당황 했어 욪 택배 기사 님 이...</td>\n",
              "      <td>1</td>\n",
              "    </tr>\n",
              "    <tr>\n",
              "      <th>598</th>\n",
              "      <td>sojung2****</td>\n",
              "      <td>0</td>\n",
              "      <td>10 개 이상 구매 하면 박스 오는줄 알았는데 낱개 와서 아쉬워요 팩 원래 이렇게 ...</td>\n",
              "      <td>0</td>\n",
              "    </tr>\n",
              "    <tr>\n",
              "      <th>599</th>\n",
              "      <td>pga****</td>\n",
              "      <td>0</td>\n",
              "      <td>딱히 진정 효과 있는지 모르겠고 보습 효과 잘 모르겠습니다</td>\n",
              "      <td>1</td>\n",
              "    </tr>\n",
              "  </tbody>\n",
              "</table>\n",
              "<p>599 rows × 4 columns</p>\n",
              "</div>\n",
              "    <div class=\"colab-df-buttons\">\n",
              "\n",
              "  <div class=\"colab-df-container\">\n",
              "    <button class=\"colab-df-convert\" onclick=\"convertToInteractive('df-b3415d29-41e8-4505-a632-57a402efe23c')\"\n",
              "            title=\"Convert this dataframe to an interactive table.\"\n",
              "            style=\"display:none;\">\n",
              "\n",
              "  <svg xmlns=\"http://www.w3.org/2000/svg\" height=\"24px\" viewBox=\"0 -960 960 960\">\n",
              "    <path d=\"M120-120v-720h720v720H120Zm60-500h600v-160H180v160Zm220 220h160v-160H400v160Zm0 220h160v-160H400v160ZM180-400h160v-160H180v160Zm440 0h160v-160H620v160ZM180-180h160v-160H180v160Zm440 0h160v-160H620v160Z\"/>\n",
              "  </svg>\n",
              "    </button>\n",
              "\n",
              "  <style>\n",
              "    .colab-df-container {\n",
              "      display:flex;\n",
              "      gap: 12px;\n",
              "    }\n",
              "\n",
              "    .colab-df-convert {\n",
              "      background-color: #E8F0FE;\n",
              "      border: none;\n",
              "      border-radius: 50%;\n",
              "      cursor: pointer;\n",
              "      display: none;\n",
              "      fill: #1967D2;\n",
              "      height: 32px;\n",
              "      padding: 0 0 0 0;\n",
              "      width: 32px;\n",
              "    }\n",
              "\n",
              "    .colab-df-convert:hover {\n",
              "      background-color: #E2EBFA;\n",
              "      box-shadow: 0px 1px 2px rgba(60, 64, 67, 0.3), 0px 1px 3px 1px rgba(60, 64, 67, 0.15);\n",
              "      fill: #174EA6;\n",
              "    }\n",
              "\n",
              "    .colab-df-buttons div {\n",
              "      margin-bottom: 4px;\n",
              "    }\n",
              "\n",
              "    [theme=dark] .colab-df-convert {\n",
              "      background-color: #3B4455;\n",
              "      fill: #D2E3FC;\n",
              "    }\n",
              "\n",
              "    [theme=dark] .colab-df-convert:hover {\n",
              "      background-color: #434B5C;\n",
              "      box-shadow: 0px 1px 3px 1px rgba(0, 0, 0, 0.15);\n",
              "      filter: drop-shadow(0px 1px 2px rgba(0, 0, 0, 0.3));\n",
              "      fill: #FFFFFF;\n",
              "    }\n",
              "  </style>\n",
              "\n",
              "    <script>\n",
              "      const buttonEl =\n",
              "        document.querySelector('#df-b3415d29-41e8-4505-a632-57a402efe23c button.colab-df-convert');\n",
              "      buttonEl.style.display =\n",
              "        google.colab.kernel.accessAllowed ? 'block' : 'none';\n",
              "\n",
              "      async function convertToInteractive(key) {\n",
              "        const element = document.querySelector('#df-b3415d29-41e8-4505-a632-57a402efe23c');\n",
              "        const dataTable =\n",
              "          await google.colab.kernel.invokeFunction('convertToInteractive',\n",
              "                                                    [key], {});\n",
              "        if (!dataTable) return;\n",
              "\n",
              "        const docLinkHtml = 'Like what you see? Visit the ' +\n",
              "          '<a target=\"_blank\" href=https://colab.research.google.com/notebooks/data_table.ipynb>data table notebook</a>'\n",
              "          + ' to learn more about interactive tables.';\n",
              "        element.innerHTML = '';\n",
              "        dataTable['output_type'] = 'display_data';\n",
              "        await google.colab.output.renderOutput(dataTable, element);\n",
              "        const docLink = document.createElement('div');\n",
              "        docLink.innerHTML = docLinkHtml;\n",
              "        element.appendChild(docLink);\n",
              "      }\n",
              "    </script>\n",
              "  </div>\n",
              "\n",
              "\n",
              "<div id=\"df-91783ecc-44e5-47fe-b5b9-4d29ce903630\">\n",
              "  <button class=\"colab-df-quickchart\" onclick=\"quickchart('df-91783ecc-44e5-47fe-b5b9-4d29ce903630')\"\n",
              "            title=\"Suggest charts\"\n",
              "            style=\"display:none;\">\n",
              "\n",
              "<svg xmlns=\"http://www.w3.org/2000/svg\" height=\"24px\"viewBox=\"0 0 24 24\"\n",
              "     width=\"24px\">\n",
              "    <g>\n",
              "        <path d=\"M19 3H5c-1.1 0-2 .9-2 2v14c0 1.1.9 2 2 2h14c1.1 0 2-.9 2-2V5c0-1.1-.9-2-2-2zM9 17H7v-7h2v7zm4 0h-2V7h2v10zm4 0h-2v-4h2v4z\"/>\n",
              "    </g>\n",
              "</svg>\n",
              "  </button>\n",
              "\n",
              "<style>\n",
              "  .colab-df-quickchart {\n",
              "      --bg-color: #E8F0FE;\n",
              "      --fill-color: #1967D2;\n",
              "      --hover-bg-color: #E2EBFA;\n",
              "      --hover-fill-color: #174EA6;\n",
              "      --disabled-fill-color: #AAA;\n",
              "      --disabled-bg-color: #DDD;\n",
              "  }\n",
              "\n",
              "  [theme=dark] .colab-df-quickchart {\n",
              "      --bg-color: #3B4455;\n",
              "      --fill-color: #D2E3FC;\n",
              "      --hover-bg-color: #434B5C;\n",
              "      --hover-fill-color: #FFFFFF;\n",
              "      --disabled-bg-color: #3B4455;\n",
              "      --disabled-fill-color: #666;\n",
              "  }\n",
              "\n",
              "  .colab-df-quickchart {\n",
              "    background-color: var(--bg-color);\n",
              "    border: none;\n",
              "    border-radius: 50%;\n",
              "    cursor: pointer;\n",
              "    display: none;\n",
              "    fill: var(--fill-color);\n",
              "    height: 32px;\n",
              "    padding: 0;\n",
              "    width: 32px;\n",
              "  }\n",
              "\n",
              "  .colab-df-quickchart:hover {\n",
              "    background-color: var(--hover-bg-color);\n",
              "    box-shadow: 0 1px 2px rgba(60, 64, 67, 0.3), 0 1px 3px 1px rgba(60, 64, 67, 0.15);\n",
              "    fill: var(--button-hover-fill-color);\n",
              "  }\n",
              "\n",
              "  .colab-df-quickchart-complete:disabled,\n",
              "  .colab-df-quickchart-complete:disabled:hover {\n",
              "    background-color: var(--disabled-bg-color);\n",
              "    fill: var(--disabled-fill-color);\n",
              "    box-shadow: none;\n",
              "  }\n",
              "\n",
              "  .colab-df-spinner {\n",
              "    border: 2px solid var(--fill-color);\n",
              "    border-color: transparent;\n",
              "    border-bottom-color: var(--fill-color);\n",
              "    animation:\n",
              "      spin 1s steps(1) infinite;\n",
              "  }\n",
              "\n",
              "  @keyframes spin {\n",
              "    0% {\n",
              "      border-color: transparent;\n",
              "      border-bottom-color: var(--fill-color);\n",
              "      border-left-color: var(--fill-color);\n",
              "    }\n",
              "    20% {\n",
              "      border-color: transparent;\n",
              "      border-left-color: var(--fill-color);\n",
              "      border-top-color: var(--fill-color);\n",
              "    }\n",
              "    30% {\n",
              "      border-color: transparent;\n",
              "      border-left-color: var(--fill-color);\n",
              "      border-top-color: var(--fill-color);\n",
              "      border-right-color: var(--fill-color);\n",
              "    }\n",
              "    40% {\n",
              "      border-color: transparent;\n",
              "      border-right-color: var(--fill-color);\n",
              "      border-top-color: var(--fill-color);\n",
              "    }\n",
              "    60% {\n",
              "      border-color: transparent;\n",
              "      border-right-color: var(--fill-color);\n",
              "    }\n",
              "    80% {\n",
              "      border-color: transparent;\n",
              "      border-right-color: var(--fill-color);\n",
              "      border-bottom-color: var(--fill-color);\n",
              "    }\n",
              "    90% {\n",
              "      border-color: transparent;\n",
              "      border-bottom-color: var(--fill-color);\n",
              "    }\n",
              "  }\n",
              "</style>\n",
              "\n",
              "  <script>\n",
              "    async function quickchart(key) {\n",
              "      const quickchartButtonEl =\n",
              "        document.querySelector('#' + key + ' button');\n",
              "      quickchartButtonEl.disabled = true;  // To prevent multiple clicks.\n",
              "      quickchartButtonEl.classList.add('colab-df-spinner');\n",
              "      try {\n",
              "        const charts = await google.colab.kernel.invokeFunction(\n",
              "            'suggestCharts', [key], {});\n",
              "      } catch (error) {\n",
              "        console.error('Error during call to suggestCharts:', error);\n",
              "      }\n",
              "      quickchartButtonEl.classList.remove('colab-df-spinner');\n",
              "      quickchartButtonEl.classList.add('colab-df-quickchart-complete');\n",
              "    }\n",
              "    (() => {\n",
              "      let quickchartButtonEl =\n",
              "        document.querySelector('#df-91783ecc-44e5-47fe-b5b9-4d29ce903630 button');\n",
              "      quickchartButtonEl.style.display =\n",
              "        google.colab.kernel.accessAllowed ? 'block' : 'none';\n",
              "    })();\n",
              "  </script>\n",
              "</div>\n",
              "\n",
              "  <div id=\"id_666b54f4-7628-4583-b9ee-c8eb755e888e\">\n",
              "    <style>\n",
              "      .colab-df-generate {\n",
              "        background-color: #E8F0FE;\n",
              "        border: none;\n",
              "        border-radius: 50%;\n",
              "        cursor: pointer;\n",
              "        display: none;\n",
              "        fill: #1967D2;\n",
              "        height: 32px;\n",
              "        padding: 0 0 0 0;\n",
              "        width: 32px;\n",
              "      }\n",
              "\n",
              "      .colab-df-generate:hover {\n",
              "        background-color: #E2EBFA;\n",
              "        box-shadow: 0px 1px 2px rgba(60, 64, 67, 0.3), 0px 1px 3px 1px rgba(60, 64, 67, 0.15);\n",
              "        fill: #174EA6;\n",
              "      }\n",
              "\n",
              "      [theme=dark] .colab-df-generate {\n",
              "        background-color: #3B4455;\n",
              "        fill: #D2E3FC;\n",
              "      }\n",
              "\n",
              "      [theme=dark] .colab-df-generate:hover {\n",
              "        background-color: #434B5C;\n",
              "        box-shadow: 0px 1px 3px 1px rgba(0, 0, 0, 0.15);\n",
              "        filter: drop-shadow(0px 1px 2px rgba(0, 0, 0, 0.3));\n",
              "        fill: #FFFFFF;\n",
              "      }\n",
              "    </style>\n",
              "    <button class=\"colab-df-generate\" onclick=\"generateWithVariable('final_olive_review')\"\n",
              "            title=\"Generate code using this dataframe.\"\n",
              "            style=\"display:none;\">\n",
              "\n",
              "  <svg xmlns=\"http://www.w3.org/2000/svg\" height=\"24px\"viewBox=\"0 0 24 24\"\n",
              "       width=\"24px\">\n",
              "    <path d=\"M7,19H8.4L18.45,9,17,7.55,7,17.6ZM5,21V16.75L18.45,3.32a2,2,0,0,1,2.83,0l1.4,1.43a1.91,1.91,0,0,1,.58,1.4,1.91,1.91,0,0,1-.58,1.4L9.25,21ZM18.45,9,17,7.55Zm-12,3A5.31,5.31,0,0,0,4.9,8.1,5.31,5.31,0,0,0,1,6.5,5.31,5.31,0,0,0,4.9,4.9,5.31,5.31,0,0,0,6.5,1,5.31,5.31,0,0,0,8.1,4.9,5.31,5.31,0,0,0,12,6.5,5.46,5.46,0,0,0,6.5,12Z\"/>\n",
              "  </svg>\n",
              "    </button>\n",
              "    <script>\n",
              "      (() => {\n",
              "      const buttonEl =\n",
              "        document.querySelector('#id_666b54f4-7628-4583-b9ee-c8eb755e888e button.colab-df-generate');\n",
              "      buttonEl.style.display =\n",
              "        google.colab.kernel.accessAllowed ? 'block' : 'none';\n",
              "\n",
              "      buttonEl.onclick = () => {\n",
              "        google.colab.notebook.generateWithVariable('final_olive_review');\n",
              "      }\n",
              "      })();\n",
              "    </script>\n",
              "  </div>\n",
              "\n",
              "    </div>\n",
              "  </div>\n"
            ],
            "application/vnd.google.colaboratory.intrinsic+json": {
              "type": "dataframe",
              "variable_name": "final_olive_review",
              "summary": "{\n  \"name\": \"final_olive_review\",\n  \"rows\": 599,\n  \"fields\": [\n    {\n      \"column\": \"userId\",\n      \"properties\": {\n        \"dtype\": \"string\",\n        \"num_unique_values\": 401,\n        \"samples\": [\n          \" \\ud478\\ubc14\\uc624\\ub6a0\\ube75\\ub6a0\\ube75 \",\n          \" \\u3149\\u3147\\u3147 \",\n          \" \\ubcf4\\ub9ac\\ucbb8\"\n        ],\n        \"semantic_type\": \"\",\n        \"description\": \"\"\n      }\n    },\n    {\n      \"column\": \"rating\",\n      \"properties\": {\n        \"dtype\": \"number\",\n        \"std\": 0,\n        \"min\": 0,\n        \"max\": 1,\n        \"num_unique_values\": 2,\n        \"samples\": [\n          0,\n          1\n        ],\n        \"semantic_type\": \"\",\n        \"description\": \"\"\n      }\n    },\n    {\n      \"column\": \"reviews\",\n      \"properties\": {\n        \"dtype\": \"string\",\n        \"num_unique_values\": 542,\n        \"samples\": [\n          \"\\uc6d0\\ub798 \\uc774\\ub7ac\\ub294\\uc9c0\\ub294 \\ubaa8\\ub974\\uaca0\\ub294\\ub370 \\ub9ac\\ub274\\uc5bc \\ub418\\uace0 \\uc57d\\uac04 \\ub048 \\uc801 \\uac70\\ub9ac \\uc7ac\\ud615 \\uc5d0\\uc13c\\uc2a4 \\ubc14\\ub00c\\uc5c8\\ub098\\uc694 \\uc870\\uae08 \\ub9ce\\uc774 \\ubd88\\ud3b8\\ud558\\ub354\\ub77c\\uace0 \\uc5ec \\uc0ac\\uc6a9 \\ud6c4 \\uc0c1\\ucf8c\\ud558\\uc9c0\\ub3c4 \\uc54a\\uace0 \\ub108\\ubb34 \\ucac0\\ub4dd \\ud574\\uc11c \\ucc1d\\ucc1d\\ud574\\uc11c \\uc53b\\uc5b4 \\ub0c8\\uc5b4\\uc694 \\ud53c\\ubd80 \\ud0c0\\uc785 \\uc9c0\\uc131 \\ubd84 \\ub4e4 \\uc0ac\\uc6a9 \\ud558\\uc2dc\\uae30\\uc5d0 \\uc880 \\ubd88\\ud3b8\\ud558\\uc2e4\\uc218\\ub3c4 \\uc788\\uc744\\uac83 \\uac19\\uc544\\uc694 \\uc7ac\\uad6c\\ub9e4 \\uc758\\uc0ac \\uc815\\ud600 \\uc5c6\\uace0 \\ub108\\ubb34 \\ub108\\ubb34 \\ubd88\\ud3b8\\ud574\\uc694 \\uad1c\\ud788 10 \\ub9e4\\uc785 \\uc9dc \\ub9ac \\uc0ac\\uc11c \\ud6c4\\ud68c\\ub418\\ub124\\uc694 \\ub9e4\\uc77c \\ud558\\uae30 \\ub108\\ubb34 \\ucc1d\\ucc1d\\ud558\\uace0 \\ubd88\\ud3b8\\ud574\\uc11c \\ub6f0\\uc5c4\\ub6f0\\uc5c4 2~3\\uc77c \\uc8fc\\uae30 \\uc0ac\\uc6a9 \\ud588\\ub294\\ub370\\ub3c4 \\uc601 \\ubcc4\\ub85c \\ub124 \\uc815\\uc774 \\uc548 \\uac00\\ub294 \\uba54\\ub514 \\ud790 \\ub9ac\\ub274\\uc5bc \\ud6c4 \\ud2f0 \\ud2b8\\ub9ac \\ub9c8\\uc2a4 \\ud086 \\u314d \\ud33b \\ubcc4 \\ub871 \\uc591 \\uc5b4 \\u3141\\u314a \\ub9d0 \\ub3c4\\uc548 \\ub3fc \\uc988 \\u3161 \\uac15 \\ub290\\ub9c8 \\uc794 \\uc0dd\\uae40 \\ub178\\uadf8 \\uc2f6\\ub098 \\uc9c4\\uc9dc \\ub108 \\u315c \\ubb34 \\ud56d\\uc720 \\ub178 \\ubab0\\uac00 \\ud22c \\uc778 \\uc9dc \\uc774\\ub0b4 \\uc624 \\uc1a1\\uc54c\\uc560 \\ud578 \\uc8fd\\uc558\\ub2c8 \\ud558 \\ud560 \\u3147 \\uc720 \\uac00\\ub7ec \\ub204\\uac85\\ud2f0 \\ub178\\uace0 \\ud2f8\\uc73c \\ub098\\uc774 \\ub77c\\uc778 \\uc6cc\\ud2f0 \\uc774 \\uc774 \\u3163 \\ub274\\ub8e8 \\u3161\\u3134 \\uc774\\ub2c8 \\uc774 \\u3163 \\ub9ac \\ub108\\ub9ac \\uc774\\ub2c8 \\uba54 \\uc81c \\ubc2d \\uc544 \\uc990 \\ub0b4\\uac00\\ub294 \\ub098 \\u3161 \\ub8e8\\ucc60 \\ub974\\uc218\\ub2c8\\ub7f0\",\n          \"\\ud788\\uc54c\\ub8e8\\ub860\\uc0b0 \\uaca8\\uc6b8 \\ud658\\uc808\\uae30 \\uc0ac\\uc6a9 \\ud574\\uc8fc\\uba74 \\uc88b\\ub354\\ub77c\\uad6c\\uc694 \\uc694\\uc998 \\uac74\\uc870\\ud560 \\ub54c \\ubd99\\uc5ec\\uc8fc\\uba74 \\ud53c\\ubd80 \\uc18d \\uc218\\ubd84 \\ucc44\\uc6cc\\uc9c0\\ub294\\uac70 \\uac19\\uc544\\uc694 \\uc5d0\\uc13c\\uc2a4 \\uc5bc\\ub9c8\\ub098 \\ub9ce\\uc774 \\ub4e4\\uc5b4 \\uc788\\ub294\\uc9c0 \\uc2dc\\ud2b8 \\ucd09\\ucd09\\ud55c \\uac78 \\ub118\\uc5b4 \\uc5d0\\uc13c\\uc2a4 \\ub69d\\ub69d \\ub5a8\\uc5b4\\uc838\\uc694 \\uc790\\uae30\\uc804\\uc5d0 10\\ubd84 \\uc815\\ub3c4 \\ubd99\\uc5ec \\ub450\\uace0 \\uc790\\uba74 \\ub2e4\\uc74c \\ub0a0 \\ud53c\\ubd80 \\ucd09\\ucd09\\ud558\\uace0 \\ub9e4\\ub048\\ud574\\uc838\\uc11c \\ud654\\uc7a5 \\uc798 \\uba39\\uc5b4\\uc694 \\uac00\\uaca9 \\uc88b\\uc544\\uc11c \\ub9e4 \\uc77c \\ub9e4\\uc77c \\uc0ac\\uc6a9 \\ud574\\ub3c4 \\ubd80\\ub2f4 \\uc5c6\\uc5b4\\uc694\"\n        ],\n        \"semantic_type\": \"\",\n        \"description\": \"\"\n      }\n    },\n    {\n      \"column\": \"prediction\",\n      \"properties\": {\n        \"dtype\": \"number\",\n        \"std\": 0,\n        \"min\": 0,\n        \"max\": 1,\n        \"num_unique_values\": 2,\n        \"samples\": [\n          0,\n          1\n        ],\n        \"semantic_type\": \"\",\n        \"description\": \"\"\n      }\n    }\n  ]\n}"
            }
          },
          "metadata": {},
          "execution_count": 74
        }
      ]
    },
    {
      "cell_type": "code",
      "source": [
        "from sklearn.metrics import accuracy_score\n",
        "accuracy = accuracy_score(y_test,final_olive_review['prediction'])"
      ],
      "metadata": {
        "id": "lHemPLvOKPqx"
      },
      "execution_count": null,
      "outputs": []
    },
    {
      "cell_type": "code",
      "source": [
        "print(\"모델 분류 정확도 : {:.2f}\".format(accuracy))"
      ],
      "metadata": {
        "colab": {
          "base_uri": "https://localhost:8080/"
        },
        "id": "9Y6BzmkjKTxH",
        "outputId": "00357a76-cdb8-4e1d-8e1a-f181200e1033"
      },
      "execution_count": null,
      "outputs": [
        {
          "output_type": "stream",
          "name": "stdout",
          "text": [
            "모델 분류 정확도 : 0.71\n"
          ]
        }
      ]
    },
    {
      "cell_type": "markdown",
      "source": [
        "### 평점 3점 소비자 의견 데이터 긍/부정 분류"
      ],
      "metadata": {
        "id": "sX2CCCT0LBvu"
      }
    },
    {
      "cell_type": "code",
      "source": [
        "olive_med_df = pd.read_csv(\"//content//drive//MyDrive//oliveyoung_paper//olive_young_med_df\")"
      ],
      "metadata": {
        "id": "iXMu2Q2cF37k"
      },
      "execution_count": null,
      "outputs": []
    },
    {
      "cell_type": "code",
      "source": [
        "import re\n",
        "olive_med_df['reviews'] = olive_med_df.reviews.apply(lambda x: re.sub(r'[^ㄱ-ㅎㅏ-ㅣ가-힣a-zA-Z0-9\\s]', '', x))"
      ],
      "metadata": {
        "id": "u3eDU9-8LZ14"
      },
      "execution_count": null,
      "outputs": []
    },
    {
      "cell_type": "code",
      "source": [
        "\n",
        "# Create an empty list to store predicted classes\n",
        "predicted_classes = []\n",
        "\n",
        "# Iterate over each review in the DataFrame column\n",
        "for review in olive_med_df['reviews']:\n",
        "    # Make prediction using the best estimator found by GridSearchCV\n",
        "    predicted_class = grid.predict([review])\n",
        "\n",
        "    # Append the predicted class to the list\n",
        "    predicted_classes.append(predicted_class[0])  # Access the predicted class (it's a numpy array) and append\n",
        "\n",
        "# Add the predicted classes as a new column named 'prediction' to the DataFrame\n",
        "olive_med_df['prediction'] = predicted_classes"
      ],
      "metadata": {
        "id": "BL0c1m8JX6hX"
      },
      "execution_count": null,
      "outputs": []
    },
    {
      "cell_type": "code",
      "source": [],
      "metadata": {
        "id": "dsNTQZ_KZKXJ"
      },
      "execution_count": null,
      "outputs": []
    },
    {
      "cell_type": "markdown",
      "source": [
        "###3점 평점 데이터 긍/부정 나눠서 각각의 데이터 프레임에 추가하기"
      ],
      "metadata": {
        "id": "FtK2zgjVZLRF"
      }
    },
    {
      "cell_type": "code",
      "source": [
        "olive_med_df.drop(columns=[\"userId\",\"rating\",\"Unnamed: 0\"],inplace=True)\n",
        "olive_med_df.rename(columns={\"prediction\":\"rating\"},inplace=True)"
      ],
      "metadata": {
        "id": "X-7fX6ebLaAJ"
      },
      "execution_count": null,
      "outputs": []
    },
    {
      "cell_type": "code",
      "source": [
        "olive_med_df.head()"
      ],
      "metadata": {
        "colab": {
          "base_uri": "https://localhost:8080/",
          "height": 206
        },
        "id": "n3Io6SuhYzrh",
        "outputId": "ceb42fda-48f6-4926-98bb-0775adaf5ef4"
      },
      "execution_count": null,
      "outputs": [
        {
          "output_type": "execute_result",
          "data": {
            "text/plain": [
              "                                             reviews  rating\n",
              "0  메디힐 마스크 팩 티트리콜라겐시카등등 종류별대로 사용 해 보다가피부톤이 얼룩덜룩하고...       1\n",
              "1                 데일리로 그냥 쓰기 좋은 제품데일리로 그냥 쓰기 좋은 제품 n       1\n",
              "2  머 저렴이로 매일 붙히기  부담없는 정도머 저렴이로 매일 붙히기  부담없는 정도머 ...       1\n",
              "3  마스크팩했을 때 확실히 얼굴이 환해지기는 하는데 원래 피부가 수분 먹으면 환해지는 ...       1\n",
              "4  트러블이 들어간다는 건 잘 모르겠는데 붉은 기는 잘 없애주는 듯 근데 내 피부 기준...       0"
            ],
            "text/html": [
              "\n",
              "  <div id=\"df-09891cee-1592-46e8-ad9b-3cca307abfa1\" class=\"colab-df-container\">\n",
              "    <div>\n",
              "<style scoped>\n",
              "    .dataframe tbody tr th:only-of-type {\n",
              "        vertical-align: middle;\n",
              "    }\n",
              "\n",
              "    .dataframe tbody tr th {\n",
              "        vertical-align: top;\n",
              "    }\n",
              "\n",
              "    .dataframe thead th {\n",
              "        text-align: right;\n",
              "    }\n",
              "</style>\n",
              "<table border=\"1\" class=\"dataframe\">\n",
              "  <thead>\n",
              "    <tr style=\"text-align: right;\">\n",
              "      <th></th>\n",
              "      <th>reviews</th>\n",
              "      <th>rating</th>\n",
              "    </tr>\n",
              "  </thead>\n",
              "  <tbody>\n",
              "    <tr>\n",
              "      <th>0</th>\n",
              "      <td>메디힐 마스크 팩 티트리콜라겐시카등등 종류별대로 사용 해 보다가피부톤이 얼룩덜룩하고...</td>\n",
              "      <td>1</td>\n",
              "    </tr>\n",
              "    <tr>\n",
              "      <th>1</th>\n",
              "      <td>데일리로 그냥 쓰기 좋은 제품데일리로 그냥 쓰기 좋은 제품 n</td>\n",
              "      <td>1</td>\n",
              "    </tr>\n",
              "    <tr>\n",
              "      <th>2</th>\n",
              "      <td>머 저렴이로 매일 붙히기  부담없는 정도머 저렴이로 매일 붙히기  부담없는 정도머 ...</td>\n",
              "      <td>1</td>\n",
              "    </tr>\n",
              "    <tr>\n",
              "      <th>3</th>\n",
              "      <td>마스크팩했을 때 확실히 얼굴이 환해지기는 하는데 원래 피부가 수분 먹으면 환해지는 ...</td>\n",
              "      <td>1</td>\n",
              "    </tr>\n",
              "    <tr>\n",
              "      <th>4</th>\n",
              "      <td>트러블이 들어간다는 건 잘 모르겠는데 붉은 기는 잘 없애주는 듯 근데 내 피부 기준...</td>\n",
              "      <td>0</td>\n",
              "    </tr>\n",
              "  </tbody>\n",
              "</table>\n",
              "</div>\n",
              "    <div class=\"colab-df-buttons\">\n",
              "\n",
              "  <div class=\"colab-df-container\">\n",
              "    <button class=\"colab-df-convert\" onclick=\"convertToInteractive('df-09891cee-1592-46e8-ad9b-3cca307abfa1')\"\n",
              "            title=\"Convert this dataframe to an interactive table.\"\n",
              "            style=\"display:none;\">\n",
              "\n",
              "  <svg xmlns=\"http://www.w3.org/2000/svg\" height=\"24px\" viewBox=\"0 -960 960 960\">\n",
              "    <path d=\"M120-120v-720h720v720H120Zm60-500h600v-160H180v160Zm220 220h160v-160H400v160Zm0 220h160v-160H400v160ZM180-400h160v-160H180v160Zm440 0h160v-160H620v160ZM180-180h160v-160H180v160Zm440 0h160v-160H620v160Z\"/>\n",
              "  </svg>\n",
              "    </button>\n",
              "\n",
              "  <style>\n",
              "    .colab-df-container {\n",
              "      display:flex;\n",
              "      gap: 12px;\n",
              "    }\n",
              "\n",
              "    .colab-df-convert {\n",
              "      background-color: #E8F0FE;\n",
              "      border: none;\n",
              "      border-radius: 50%;\n",
              "      cursor: pointer;\n",
              "      display: none;\n",
              "      fill: #1967D2;\n",
              "      height: 32px;\n",
              "      padding: 0 0 0 0;\n",
              "      width: 32px;\n",
              "    }\n",
              "\n",
              "    .colab-df-convert:hover {\n",
              "      background-color: #E2EBFA;\n",
              "      box-shadow: 0px 1px 2px rgba(60, 64, 67, 0.3), 0px 1px 3px 1px rgba(60, 64, 67, 0.15);\n",
              "      fill: #174EA6;\n",
              "    }\n",
              "\n",
              "    .colab-df-buttons div {\n",
              "      margin-bottom: 4px;\n",
              "    }\n",
              "\n",
              "    [theme=dark] .colab-df-convert {\n",
              "      background-color: #3B4455;\n",
              "      fill: #D2E3FC;\n",
              "    }\n",
              "\n",
              "    [theme=dark] .colab-df-convert:hover {\n",
              "      background-color: #434B5C;\n",
              "      box-shadow: 0px 1px 3px 1px rgba(0, 0, 0, 0.15);\n",
              "      filter: drop-shadow(0px 1px 2px rgba(0, 0, 0, 0.3));\n",
              "      fill: #FFFFFF;\n",
              "    }\n",
              "  </style>\n",
              "\n",
              "    <script>\n",
              "      const buttonEl =\n",
              "        document.querySelector('#df-09891cee-1592-46e8-ad9b-3cca307abfa1 button.colab-df-convert');\n",
              "      buttonEl.style.display =\n",
              "        google.colab.kernel.accessAllowed ? 'block' : 'none';\n",
              "\n",
              "      async function convertToInteractive(key) {\n",
              "        const element = document.querySelector('#df-09891cee-1592-46e8-ad9b-3cca307abfa1');\n",
              "        const dataTable =\n",
              "          await google.colab.kernel.invokeFunction('convertToInteractive',\n",
              "                                                    [key], {});\n",
              "        if (!dataTable) return;\n",
              "\n",
              "        const docLinkHtml = 'Like what you see? Visit the ' +\n",
              "          '<a target=\"_blank\" href=https://colab.research.google.com/notebooks/data_table.ipynb>data table notebook</a>'\n",
              "          + ' to learn more about interactive tables.';\n",
              "        element.innerHTML = '';\n",
              "        dataTable['output_type'] = 'display_data';\n",
              "        await google.colab.output.renderOutput(dataTable, element);\n",
              "        const docLink = document.createElement('div');\n",
              "        docLink.innerHTML = docLinkHtml;\n",
              "        element.appendChild(docLink);\n",
              "      }\n",
              "    </script>\n",
              "  </div>\n",
              "\n",
              "\n",
              "<div id=\"df-66256389-a2fa-4158-aff5-ba4f817ba172\">\n",
              "  <button class=\"colab-df-quickchart\" onclick=\"quickchart('df-66256389-a2fa-4158-aff5-ba4f817ba172')\"\n",
              "            title=\"Suggest charts\"\n",
              "            style=\"display:none;\">\n",
              "\n",
              "<svg xmlns=\"http://www.w3.org/2000/svg\" height=\"24px\"viewBox=\"0 0 24 24\"\n",
              "     width=\"24px\">\n",
              "    <g>\n",
              "        <path d=\"M19 3H5c-1.1 0-2 .9-2 2v14c0 1.1.9 2 2 2h14c1.1 0 2-.9 2-2V5c0-1.1-.9-2-2-2zM9 17H7v-7h2v7zm4 0h-2V7h2v10zm4 0h-2v-4h2v4z\"/>\n",
              "    </g>\n",
              "</svg>\n",
              "  </button>\n",
              "\n",
              "<style>\n",
              "  .colab-df-quickchart {\n",
              "      --bg-color: #E8F0FE;\n",
              "      --fill-color: #1967D2;\n",
              "      --hover-bg-color: #E2EBFA;\n",
              "      --hover-fill-color: #174EA6;\n",
              "      --disabled-fill-color: #AAA;\n",
              "      --disabled-bg-color: #DDD;\n",
              "  }\n",
              "\n",
              "  [theme=dark] .colab-df-quickchart {\n",
              "      --bg-color: #3B4455;\n",
              "      --fill-color: #D2E3FC;\n",
              "      --hover-bg-color: #434B5C;\n",
              "      --hover-fill-color: #FFFFFF;\n",
              "      --disabled-bg-color: #3B4455;\n",
              "      --disabled-fill-color: #666;\n",
              "  }\n",
              "\n",
              "  .colab-df-quickchart {\n",
              "    background-color: var(--bg-color);\n",
              "    border: none;\n",
              "    border-radius: 50%;\n",
              "    cursor: pointer;\n",
              "    display: none;\n",
              "    fill: var(--fill-color);\n",
              "    height: 32px;\n",
              "    padding: 0;\n",
              "    width: 32px;\n",
              "  }\n",
              "\n",
              "  .colab-df-quickchart:hover {\n",
              "    background-color: var(--hover-bg-color);\n",
              "    box-shadow: 0 1px 2px rgba(60, 64, 67, 0.3), 0 1px 3px 1px rgba(60, 64, 67, 0.15);\n",
              "    fill: var(--button-hover-fill-color);\n",
              "  }\n",
              "\n",
              "  .colab-df-quickchart-complete:disabled,\n",
              "  .colab-df-quickchart-complete:disabled:hover {\n",
              "    background-color: var(--disabled-bg-color);\n",
              "    fill: var(--disabled-fill-color);\n",
              "    box-shadow: none;\n",
              "  }\n",
              "\n",
              "  .colab-df-spinner {\n",
              "    border: 2px solid var(--fill-color);\n",
              "    border-color: transparent;\n",
              "    border-bottom-color: var(--fill-color);\n",
              "    animation:\n",
              "      spin 1s steps(1) infinite;\n",
              "  }\n",
              "\n",
              "  @keyframes spin {\n",
              "    0% {\n",
              "      border-color: transparent;\n",
              "      border-bottom-color: var(--fill-color);\n",
              "      border-left-color: var(--fill-color);\n",
              "    }\n",
              "    20% {\n",
              "      border-color: transparent;\n",
              "      border-left-color: var(--fill-color);\n",
              "      border-top-color: var(--fill-color);\n",
              "    }\n",
              "    30% {\n",
              "      border-color: transparent;\n",
              "      border-left-color: var(--fill-color);\n",
              "      border-top-color: var(--fill-color);\n",
              "      border-right-color: var(--fill-color);\n",
              "    }\n",
              "    40% {\n",
              "      border-color: transparent;\n",
              "      border-right-color: var(--fill-color);\n",
              "      border-top-color: var(--fill-color);\n",
              "    }\n",
              "    60% {\n",
              "      border-color: transparent;\n",
              "      border-right-color: var(--fill-color);\n",
              "    }\n",
              "    80% {\n",
              "      border-color: transparent;\n",
              "      border-right-color: var(--fill-color);\n",
              "      border-bottom-color: var(--fill-color);\n",
              "    }\n",
              "    90% {\n",
              "      border-color: transparent;\n",
              "      border-bottom-color: var(--fill-color);\n",
              "    }\n",
              "  }\n",
              "</style>\n",
              "\n",
              "  <script>\n",
              "    async function quickchart(key) {\n",
              "      const quickchartButtonEl =\n",
              "        document.querySelector('#' + key + ' button');\n",
              "      quickchartButtonEl.disabled = true;  // To prevent multiple clicks.\n",
              "      quickchartButtonEl.classList.add('colab-df-spinner');\n",
              "      try {\n",
              "        const charts = await google.colab.kernel.invokeFunction(\n",
              "            'suggestCharts', [key], {});\n",
              "      } catch (error) {\n",
              "        console.error('Error during call to suggestCharts:', error);\n",
              "      }\n",
              "      quickchartButtonEl.classList.remove('colab-df-spinner');\n",
              "      quickchartButtonEl.classList.add('colab-df-quickchart-complete');\n",
              "    }\n",
              "    (() => {\n",
              "      let quickchartButtonEl =\n",
              "        document.querySelector('#df-66256389-a2fa-4158-aff5-ba4f817ba172 button');\n",
              "      quickchartButtonEl.style.display =\n",
              "        google.colab.kernel.accessAllowed ? 'block' : 'none';\n",
              "    })();\n",
              "  </script>\n",
              "</div>\n",
              "\n",
              "    </div>\n",
              "  </div>\n"
            ],
            "application/vnd.google.colaboratory.intrinsic+json": {
              "type": "dataframe",
              "variable_name": "olive_med_df",
              "summary": "{\n  \"name\": \"olive_med_df\",\n  \"rows\": 300,\n  \"fields\": [\n    {\n      \"column\": \"reviews\",\n      \"properties\": {\n        \"dtype\": \"string\",\n        \"num_unique_values\": 287,\n        \"samples\": [\n          \"\\uc9c4\\uc815 \\ubc0f \\uc7ac\\uc0dd \\ud5c8\\ube0c\\ub97c \\uc88b\\uc544\\ud558\\ub294 \\ud130\\ub77c \\uc0ac \\ubd24\\uc2b5\\ub2c8\\ub2e4 \\uafb8\\uc900\\ud788 \\uad00\\ub9ac\\ud558\\uba74 \\ud6a8\\uacfc \\ubcfc \\uc218 \\uc788\\uaca0\\uc9c0\\uc694 n\",\n          \"\\ub108\\ubb34\\ub048\\uc801\\uac70\\ub824\\uc5ec \\uc5d0\\uc13c\\uc2a4 \\uc591 \\ub108\\ubb34 \\ub9ce\\uc558\\uace0 \\ubc00\\ucc29\\uc798\\ub410\\uc5b4\\uc694 \\uadfc\\ub370 \\ub048\\uc801\\uac70\\ub824\\uc11c \\uc870\\uae08 \\uadf8\\ub7ac\\uc5b4\\uc694\\u3160\\u315c n\",\n          \"\\uba3c\\uc800 \\ub450\\uaed8\\ub294 \\ud0c0\\uc0ac \\ud329\\ub4e4\\ubcf4\\ub2e4\\ub294 \\uc587\\uc740 \\ud3b8\\uc774\\uace0\\uc694 \\uc2dc\\ud2b8\\uac00 \\ub418\\uac8c \\ubd80\\ub4dc\\ub7ec\\uc6cc\\uc694 \\uadf8\\ub9ac\\uace0 \\uc5d0\\uc13c\\uc2a4\\uac00 \\ub9ce\\uc544\\uc11c \\ubc00\\ucc29\\uc774 \\uc815\\ub9d0 \\uc798\\ub429\\ub2c8\\ub2e4 \\uae5c\\ube61\\ud558\\uace0 \\ud329\\ud560 \\ub54c \\uc0ac\\uc9c4\\uc744 \\ubabb \\ucc0d\\uc5b4\\uc11c \\uc544\\uc27d\\ub124\\uc694\\u3160\\u3160 \\uc800\\ub294 18\\uc0b4 \\ud559\\uc0dd\\uc774\\uace0\\uc694 \\uc5ec\\ub4dc\\ub984\\uc131\\uc5d0 \\ubcf5\\ud569\\uc131 \\ud53c\\ubd80\\uc785\\ub2c8\\ub2e4 \\uace7 \\uc5ec\\ub984\\uc774 \\ub2e4\\uac00\\uc640\\uc11c \\ud53c\\ubd80\\uac00 \\uc2ec\\ud558\\uac8c \\ub4a4\\uc9d1\\uc5b4\\uc9c8\\uae4c \\uac71\\uc815\\ud558\\uace0 \\uc788\\uc5c8\\ub294\\ub370 \\uc9c4\\uc815\\uc5d0 \\uc88b\\ub2e4\\uace0 \\ud574\\uc11c \\uad6c\\ub9e4\\ud558\\uac8c \\ub410\\uc2b5\\ub2c8\\ub2e4 3\\ubc88 \\uc368\\ubd24\\ub294\\ub370 \\uc194\\uc9c1\\ud788 \\uc544\\uc9c1\\uae4c\\uc9c4 \\uc9c4\\uc815 \\ud6a8\\uacfc\\ub294 \\uc798 \\ubaa8\\ub974\\uaca0\\uc5b4\\uc694\\u3160\\u3160\\u3160 \\uafb8\\uc900\\ud788 \\uc4f0\\ub2e4 \\ubcf4\\uba74 \\ud6a8\\uacfc\\uac00 \\ub098\\ud0c0\\ub098\\uaca0\\uc8e0 \\uadf8\\ub798\\ub3c4 \\ud655\\uc2e4\\ud788 \\ud53c\\ubd80 \\uc5f4\\uac10\\uc774 \\ub0b4\\ub824\\uac00\\uace0 \\ud53c\\ubd80 \\uacb0\\uc774 \\ub2ec\\ub77c\\uc9c4 \\uac8c \\ub290\\uaef4\\uc838\\uc694  \\ub3c4\\uc6c0\\uc774 \\ub418\\uc168\\uae38 \\ubc14\\ub784\\uac8c\\uc694 n\"\n        ],\n        \"semantic_type\": \"\",\n        \"description\": \"\"\n      }\n    },\n    {\n      \"column\": \"rating\",\n      \"properties\": {\n        \"dtype\": \"number\",\n        \"std\": 0,\n        \"min\": 0,\n        \"max\": 1,\n        \"num_unique_values\": 2,\n        \"samples\": [\n          0,\n          1\n        ],\n        \"semantic_type\": \"\",\n        \"description\": \"\"\n      }\n    }\n  ]\n}"
            }
          },
          "metadata": {},
          "execution_count": 174
        }
      ]
    },
    {
      "cell_type": "markdown",
      "source": [
        "### 라벨링한 데이터를 원래 올리브영 데이터와 합치기"
      ],
      "metadata": {
        "id": "pz3yKPKRZQhG"
      }
    },
    {
      "cell_type": "code",
      "source": [
        "olive_med_labeled_pos_df = olive_med_df[olive_med_df['rating'] == 1]"
      ],
      "metadata": {
        "id": "hfv3tuQLLaIv"
      },
      "execution_count": null,
      "outputs": []
    },
    {
      "cell_type": "code",
      "source": [
        "olive_med_labeled_pos_df.shape"
      ],
      "metadata": {
        "colab": {
          "base_uri": "https://localhost:8080/"
        },
        "id": "j313TmStVaCP",
        "outputId": "0d8f5c66-c332-42a9-b642-c574fd5af913"
      },
      "execution_count": null,
      "outputs": [
        {
          "output_type": "execute_result",
          "data": {
            "text/plain": [
              "(211, 2)"
            ]
          },
          "metadata": {},
          "execution_count": 248
        }
      ]
    },
    {
      "cell_type": "code",
      "source": [
        "olive_pos_df = final_olive_review[final_olive_review[\"rating\"] == 1]"
      ],
      "metadata": {
        "id": "D8J8645ZZ49g"
      },
      "execution_count": null,
      "outputs": []
    },
    {
      "cell_type": "code",
      "source": [
        "olive_pos_df.drop(columns=[\"userId\",\"prediction\"],inplace=True)"
      ],
      "metadata": {
        "colab": {
          "base_uri": "https://localhost:8080/"
        },
        "id": "uNdWeXFDVaNn",
        "outputId": "b2a575e9-51a7-42e9-fb32-46af3b72b754"
      },
      "execution_count": null,
      "outputs": [
        {
          "output_type": "stream",
          "name": "stderr",
          "text": [
            "<ipython-input-182-574b2ac96cef>:1: SettingWithCopyWarning: \n",
            "A value is trying to be set on a copy of a slice from a DataFrame\n",
            "\n",
            "See the caveats in the documentation: https://pandas.pydata.org/pandas-docs/stable/user_guide/indexing.html#returning-a-view-versus-a-copy\n",
            "  olive_pos_df.drop(columns=[\"userId\",\"prediction\"],inplace=True)\n"
          ]
        }
      ]
    },
    {
      "cell_type": "code",
      "source": [
        "olive_pos_df.rating.unique()"
      ],
      "metadata": {
        "colab": {
          "base_uri": "https://localhost:8080/"
        },
        "id": "UfToE0YYam7G",
        "outputId": "a4d180cd-9797-4098-d968-c737b30d6335"
      },
      "execution_count": null,
      "outputs": [
        {
          "output_type": "execute_result",
          "data": {
            "text/plain": [
              "array([1])"
            ]
          },
          "metadata": {},
          "execution_count": 185
        }
      ]
    },
    {
      "cell_type": "code",
      "source": [
        "#olive_med_labeled_pos_df 와 olive_pos_df 합치기\n",
        "final_pos_df = pd.concat([olive_med_labeled_pos_df,olive_pos_df],ignore_index=True)"
      ],
      "metadata": {
        "id": "vhdj93W8aw2f"
      },
      "execution_count": null,
      "outputs": []
    },
    {
      "cell_type": "code",
      "source": [
        "final_pos_df.shape"
      ],
      "metadata": {
        "colab": {
          "base_uri": "https://localhost:8080/"
        },
        "id": "GCQ2bpKnbF6n",
        "outputId": "d8b85937-bc1f-4b00-c6b4-d285252526ba"
      },
      "execution_count": null,
      "outputs": [
        {
          "output_type": "execute_result",
          "data": {
            "text/plain": [
              "(510, 2)"
            ]
          },
          "metadata": {},
          "execution_count": 189
        }
      ]
    },
    {
      "cell_type": "markdown",
      "source": [
        "###워드 클라우드 만들기\n"
      ],
      "metadata": {
        "id": "Y7MGcccONU9u"
      }
    },
    {
      "cell_type": "code",
      "source": [],
      "metadata": {
        "id": "2yGUY0rVal8S"
      },
      "execution_count": null,
      "outputs": []
    },
    {
      "cell_type": "code",
      "source": [],
      "metadata": {
        "id": "mdMD9CGsLaLC"
      },
      "execution_count": null,
      "outputs": []
    },
    {
      "cell_type": "code",
      "source": [
        "##형태소 분석\n",
        "import numpy as np\n",
        "import pandas as pd\n"
      ],
      "metadata": {
        "id": "7AQcQZxxOPyQ"
      },
      "execution_count": null,
      "outputs": []
    },
    {
      "cell_type": "code",
      "source": [
        "tokenizer = Okt()\n",
        "final_pos_df['tokenized'] = final_pos_df['reviews'].apply(tokenizer.nouns)"
      ],
      "metadata": {
        "id": "bdy_y6W8PFu-"
      },
      "execution_count": null,
      "outputs": []
    },
    {
      "cell_type": "code",
      "source": [
        "final_pos_df.head()"
      ],
      "metadata": {
        "colab": {
          "base_uri": "https://localhost:8080/",
          "height": 241
        },
        "id": "STavTQ6IPFxq",
        "outputId": "00348461-a8b8-4b0d-ed31-941158694d82"
      },
      "execution_count": null,
      "outputs": [
        {
          "output_type": "execute_result",
          "data": {
            "text/plain": [
              "                                             reviews  rating  \\\n",
              "0  메디힐 마스크 팩 티트리콜라겐시카등등 종류별대로 사용 해 보다가피부톤이 얼룩덜룩하고...       1   \n",
              "1                 데일리로 그냥 쓰기 좋은 제품데일리로 그냥 쓰기 좋은 제품 n       1   \n",
              "2  머 저렴이로 매일 붙히기  부담없는 정도머 저렴이로 매일 붙히기  부담없는 정도머 ...       1   \n",
              "3  마스크팩했을 때 확실히 얼굴이 환해지기는 하는데 원래 피부가 수분 먹으면 환해지는 ...       1   \n",
              "4  콜라겐 궁금해서 구매해 봄 한 번으로는 효과 없는 게 뻔하니까 몇 개 더 구매했었는...       1   \n",
              "\n",
              "                                           tokenized  \n",
              "0  [힐, 마스크, 팩, 티, 트리, 콜라겐, 카, 등등, 종류, 별대, 해, 톤, 뾰...  \n",
              "1                             [데, 일리, 쓰기, 데, 일리, 쓰기]  \n",
              "2  [머, 저렴, 매일, 부담, 정도, 머, 저렴, 매일, 부담, 정도, 머, 저렴, ...  \n",
              "3          [마스크, 팩, 때, 지기, 원래, 수분, 거, 거, 잡티, 케어, 도움]  \n",
              "4            [콜라겐, 봄, 번, 효과, 게, 몇, 개, 더, 탄력, 도움, 이건]  "
            ],
            "text/html": [
              "\n",
              "  <div id=\"df-44f3b876-06ec-44e6-bb05-5395619474f0\" class=\"colab-df-container\">\n",
              "    <div>\n",
              "<style scoped>\n",
              "    .dataframe tbody tr th:only-of-type {\n",
              "        vertical-align: middle;\n",
              "    }\n",
              "\n",
              "    .dataframe tbody tr th {\n",
              "        vertical-align: top;\n",
              "    }\n",
              "\n",
              "    .dataframe thead th {\n",
              "        text-align: right;\n",
              "    }\n",
              "</style>\n",
              "<table border=\"1\" class=\"dataframe\">\n",
              "  <thead>\n",
              "    <tr style=\"text-align: right;\">\n",
              "      <th></th>\n",
              "      <th>reviews</th>\n",
              "      <th>rating</th>\n",
              "      <th>tokenized</th>\n",
              "    </tr>\n",
              "  </thead>\n",
              "  <tbody>\n",
              "    <tr>\n",
              "      <th>0</th>\n",
              "      <td>메디힐 마스크 팩 티트리콜라겐시카등등 종류별대로 사용 해 보다가피부톤이 얼룩덜룩하고...</td>\n",
              "      <td>1</td>\n",
              "      <td>[힐, 마스크, 팩, 티, 트리, 콜라겐, 카, 등등, 종류, 별대, 해, 톤, 뾰...</td>\n",
              "    </tr>\n",
              "    <tr>\n",
              "      <th>1</th>\n",
              "      <td>데일리로 그냥 쓰기 좋은 제품데일리로 그냥 쓰기 좋은 제품 n</td>\n",
              "      <td>1</td>\n",
              "      <td>[데, 일리, 쓰기, 데, 일리, 쓰기]</td>\n",
              "    </tr>\n",
              "    <tr>\n",
              "      <th>2</th>\n",
              "      <td>머 저렴이로 매일 붙히기  부담없는 정도머 저렴이로 매일 붙히기  부담없는 정도머 ...</td>\n",
              "      <td>1</td>\n",
              "      <td>[머, 저렴, 매일, 부담, 정도, 머, 저렴, 매일, 부담, 정도, 머, 저렴, ...</td>\n",
              "    </tr>\n",
              "    <tr>\n",
              "      <th>3</th>\n",
              "      <td>마스크팩했을 때 확실히 얼굴이 환해지기는 하는데 원래 피부가 수분 먹으면 환해지는 ...</td>\n",
              "      <td>1</td>\n",
              "      <td>[마스크, 팩, 때, 지기, 원래, 수분, 거, 거, 잡티, 케어, 도움]</td>\n",
              "    </tr>\n",
              "    <tr>\n",
              "      <th>4</th>\n",
              "      <td>콜라겐 궁금해서 구매해 봄 한 번으로는 효과 없는 게 뻔하니까 몇 개 더 구매했었는...</td>\n",
              "      <td>1</td>\n",
              "      <td>[콜라겐, 봄, 번, 효과, 게, 몇, 개, 더, 탄력, 도움, 이건]</td>\n",
              "    </tr>\n",
              "  </tbody>\n",
              "</table>\n",
              "</div>\n",
              "    <div class=\"colab-df-buttons\">\n",
              "\n",
              "  <div class=\"colab-df-container\">\n",
              "    <button class=\"colab-df-convert\" onclick=\"convertToInteractive('df-44f3b876-06ec-44e6-bb05-5395619474f0')\"\n",
              "            title=\"Convert this dataframe to an interactive table.\"\n",
              "            style=\"display:none;\">\n",
              "\n",
              "  <svg xmlns=\"http://www.w3.org/2000/svg\" height=\"24px\" viewBox=\"0 -960 960 960\">\n",
              "    <path d=\"M120-120v-720h720v720H120Zm60-500h600v-160H180v160Zm220 220h160v-160H400v160Zm0 220h160v-160H400v160ZM180-400h160v-160H180v160Zm440 0h160v-160H620v160ZM180-180h160v-160H180v160Zm440 0h160v-160H620v160Z\"/>\n",
              "  </svg>\n",
              "    </button>\n",
              "\n",
              "  <style>\n",
              "    .colab-df-container {\n",
              "      display:flex;\n",
              "      gap: 12px;\n",
              "    }\n",
              "\n",
              "    .colab-df-convert {\n",
              "      background-color: #E8F0FE;\n",
              "      border: none;\n",
              "      border-radius: 50%;\n",
              "      cursor: pointer;\n",
              "      display: none;\n",
              "      fill: #1967D2;\n",
              "      height: 32px;\n",
              "      padding: 0 0 0 0;\n",
              "      width: 32px;\n",
              "    }\n",
              "\n",
              "    .colab-df-convert:hover {\n",
              "      background-color: #E2EBFA;\n",
              "      box-shadow: 0px 1px 2px rgba(60, 64, 67, 0.3), 0px 1px 3px 1px rgba(60, 64, 67, 0.15);\n",
              "      fill: #174EA6;\n",
              "    }\n",
              "\n",
              "    .colab-df-buttons div {\n",
              "      margin-bottom: 4px;\n",
              "    }\n",
              "\n",
              "    [theme=dark] .colab-df-convert {\n",
              "      background-color: #3B4455;\n",
              "      fill: #D2E3FC;\n",
              "    }\n",
              "\n",
              "    [theme=dark] .colab-df-convert:hover {\n",
              "      background-color: #434B5C;\n",
              "      box-shadow: 0px 1px 3px 1px rgba(0, 0, 0, 0.15);\n",
              "      filter: drop-shadow(0px 1px 2px rgba(0, 0, 0, 0.3));\n",
              "      fill: #FFFFFF;\n",
              "    }\n",
              "  </style>\n",
              "\n",
              "    <script>\n",
              "      const buttonEl =\n",
              "        document.querySelector('#df-44f3b876-06ec-44e6-bb05-5395619474f0 button.colab-df-convert');\n",
              "      buttonEl.style.display =\n",
              "        google.colab.kernel.accessAllowed ? 'block' : 'none';\n",
              "\n",
              "      async function convertToInteractive(key) {\n",
              "        const element = document.querySelector('#df-44f3b876-06ec-44e6-bb05-5395619474f0');\n",
              "        const dataTable =\n",
              "          await google.colab.kernel.invokeFunction('convertToInteractive',\n",
              "                                                    [key], {});\n",
              "        if (!dataTable) return;\n",
              "\n",
              "        const docLinkHtml = 'Like what you see? Visit the ' +\n",
              "          '<a target=\"_blank\" href=https://colab.research.google.com/notebooks/data_table.ipynb>data table notebook</a>'\n",
              "          + ' to learn more about interactive tables.';\n",
              "        element.innerHTML = '';\n",
              "        dataTable['output_type'] = 'display_data';\n",
              "        await google.colab.output.renderOutput(dataTable, element);\n",
              "        const docLink = document.createElement('div');\n",
              "        docLink.innerHTML = docLinkHtml;\n",
              "        element.appendChild(docLink);\n",
              "      }\n",
              "    </script>\n",
              "  </div>\n",
              "\n",
              "\n",
              "<div id=\"df-fbe8a2a0-83f7-488b-930b-27b4bfa43f95\">\n",
              "  <button class=\"colab-df-quickchart\" onclick=\"quickchart('df-fbe8a2a0-83f7-488b-930b-27b4bfa43f95')\"\n",
              "            title=\"Suggest charts\"\n",
              "            style=\"display:none;\">\n",
              "\n",
              "<svg xmlns=\"http://www.w3.org/2000/svg\" height=\"24px\"viewBox=\"0 0 24 24\"\n",
              "     width=\"24px\">\n",
              "    <g>\n",
              "        <path d=\"M19 3H5c-1.1 0-2 .9-2 2v14c0 1.1.9 2 2 2h14c1.1 0 2-.9 2-2V5c0-1.1-.9-2-2-2zM9 17H7v-7h2v7zm4 0h-2V7h2v10zm4 0h-2v-4h2v4z\"/>\n",
              "    </g>\n",
              "</svg>\n",
              "  </button>\n",
              "\n",
              "<style>\n",
              "  .colab-df-quickchart {\n",
              "      --bg-color: #E8F0FE;\n",
              "      --fill-color: #1967D2;\n",
              "      --hover-bg-color: #E2EBFA;\n",
              "      --hover-fill-color: #174EA6;\n",
              "      --disabled-fill-color: #AAA;\n",
              "      --disabled-bg-color: #DDD;\n",
              "  }\n",
              "\n",
              "  [theme=dark] .colab-df-quickchart {\n",
              "      --bg-color: #3B4455;\n",
              "      --fill-color: #D2E3FC;\n",
              "      --hover-bg-color: #434B5C;\n",
              "      --hover-fill-color: #FFFFFF;\n",
              "      --disabled-bg-color: #3B4455;\n",
              "      --disabled-fill-color: #666;\n",
              "  }\n",
              "\n",
              "  .colab-df-quickchart {\n",
              "    background-color: var(--bg-color);\n",
              "    border: none;\n",
              "    border-radius: 50%;\n",
              "    cursor: pointer;\n",
              "    display: none;\n",
              "    fill: var(--fill-color);\n",
              "    height: 32px;\n",
              "    padding: 0;\n",
              "    width: 32px;\n",
              "  }\n",
              "\n",
              "  .colab-df-quickchart:hover {\n",
              "    background-color: var(--hover-bg-color);\n",
              "    box-shadow: 0 1px 2px rgba(60, 64, 67, 0.3), 0 1px 3px 1px rgba(60, 64, 67, 0.15);\n",
              "    fill: var(--button-hover-fill-color);\n",
              "  }\n",
              "\n",
              "  .colab-df-quickchart-complete:disabled,\n",
              "  .colab-df-quickchart-complete:disabled:hover {\n",
              "    background-color: var(--disabled-bg-color);\n",
              "    fill: var(--disabled-fill-color);\n",
              "    box-shadow: none;\n",
              "  }\n",
              "\n",
              "  .colab-df-spinner {\n",
              "    border: 2px solid var(--fill-color);\n",
              "    border-color: transparent;\n",
              "    border-bottom-color: var(--fill-color);\n",
              "    animation:\n",
              "      spin 1s steps(1) infinite;\n",
              "  }\n",
              "\n",
              "  @keyframes spin {\n",
              "    0% {\n",
              "      border-color: transparent;\n",
              "      border-bottom-color: var(--fill-color);\n",
              "      border-left-color: var(--fill-color);\n",
              "    }\n",
              "    20% {\n",
              "      border-color: transparent;\n",
              "      border-left-color: var(--fill-color);\n",
              "      border-top-color: var(--fill-color);\n",
              "    }\n",
              "    30% {\n",
              "      border-color: transparent;\n",
              "      border-left-color: var(--fill-color);\n",
              "      border-top-color: var(--fill-color);\n",
              "      border-right-color: var(--fill-color);\n",
              "    }\n",
              "    40% {\n",
              "      border-color: transparent;\n",
              "      border-right-color: var(--fill-color);\n",
              "      border-top-color: var(--fill-color);\n",
              "    }\n",
              "    60% {\n",
              "      border-color: transparent;\n",
              "      border-right-color: var(--fill-color);\n",
              "    }\n",
              "    80% {\n",
              "      border-color: transparent;\n",
              "      border-right-color: var(--fill-color);\n",
              "      border-bottom-color: var(--fill-color);\n",
              "    }\n",
              "    90% {\n",
              "      border-color: transparent;\n",
              "      border-bottom-color: var(--fill-color);\n",
              "    }\n",
              "  }\n",
              "</style>\n",
              "\n",
              "  <script>\n",
              "    async function quickchart(key) {\n",
              "      const quickchartButtonEl =\n",
              "        document.querySelector('#' + key + ' button');\n",
              "      quickchartButtonEl.disabled = true;  // To prevent multiple clicks.\n",
              "      quickchartButtonEl.classList.add('colab-df-spinner');\n",
              "      try {\n",
              "        const charts = await google.colab.kernel.invokeFunction(\n",
              "            'suggestCharts', [key], {});\n",
              "      } catch (error) {\n",
              "        console.error('Error during call to suggestCharts:', error);\n",
              "      }\n",
              "      quickchartButtonEl.classList.remove('colab-df-spinner');\n",
              "      quickchartButtonEl.classList.add('colab-df-quickchart-complete');\n",
              "    }\n",
              "    (() => {\n",
              "      let quickchartButtonEl =\n",
              "        document.querySelector('#df-fbe8a2a0-83f7-488b-930b-27b4bfa43f95 button');\n",
              "      quickchartButtonEl.style.display =\n",
              "        google.colab.kernel.accessAllowed ? 'block' : 'none';\n",
              "    })();\n",
              "  </script>\n",
              "</div>\n",
              "\n",
              "    </div>\n",
              "  </div>\n"
            ],
            "application/vnd.google.colaboratory.intrinsic+json": {
              "type": "dataframe",
              "variable_name": "final_pos_df",
              "summary": "{\n  \"name\": \"final_pos_df\",\n  \"rows\": 510,\n  \"fields\": [\n    {\n      \"column\": \"reviews\",\n      \"properties\": {\n        \"dtype\": \"string\",\n        \"num_unique_values\": 453,\n        \"samples\": [\n          \"\\uc800 \\uc5f4 \\uac10 \\ub54c\\ubb38 \\uc694\\uc998 \\ud53c\\ubd80 \\ud2b8\\ub7ec\\ube14 \\ub108\\ubb34 \\uc2ec\\ud558\\uace0 \\ud574\\uc11c \\ud2f0 \\ud2b8\\ub9ac \\ub77c\\uc778 \\uc0ac\\uc6a9 \\ud588\\ub294\\ub370 \\ub2e4\\ub978 \\ub77c\\uc778 \\ub2e4 \\uc0ac\\uc6a9 \\ud574 \\ubcf4\\uace0 \\uc2f6\\ub354\\ub77c\\uad6c\\uc694 \\uac19\\uc774 \\ub4e4\\uc5b4\\uac04 \\uc570\\ud50c \\uc81c \\ud53c\\ubd80 \\uc798 \\ub9de\\uc740 \\uac74\\uc9c0 \\ubb54\\uac00 \\uc9c4\\uc815 \\ub418\\uba74\\uc11c \\ud53c\\ubd80 \\ud1a4 \\uad11 \\uc62c\\ub77c\\uc624\\ub294 \\ub290\\ub08c \\uadf8\\ub798\\uc11c \\ub354\\ub354 \\ub9cc\\uc871\\ub3c4 \\uc5c5\",\n          \"\\uac1c\\uc778\\uc801\\ucc28\\uc774\\uc9c0\\ub9cc\\uc800\\ub791\\uc740 \\uc548\\ub9de\\ub0b4\\uc694\\uc21c\\ud558\\uae34\\ud55c\\ub31c\\uc608\\ubbfc\\ud55c\\ud53c\\ubd80\\uc5d0\\ub294 \\uadf8\\ub2e5\\uc785\\ub2c8\\ub2e4 n\",\n          \"\\uc624\\ub298 \\ub9e4\\uc7a5 \\uc5bc\\ub978 \\ubc14\\ub85c \\uad6c\\ub9e4 \\ud574 \\ubc84\\ub838\\uc5b4\\uc694 \\u314e\\u314e\\u314e\"\n        ],\n        \"semantic_type\": \"\",\n        \"description\": \"\"\n      }\n    },\n    {\n      \"column\": \"rating\",\n      \"properties\": {\n        \"dtype\": \"number\",\n        \"std\": 0,\n        \"min\": 1,\n        \"max\": 1,\n        \"num_unique_values\": 1,\n        \"samples\": [\n          1\n        ],\n        \"semantic_type\": \"\",\n        \"description\": \"\"\n      }\n    },\n    {\n      \"column\": \"tokenized\",\n      \"properties\": {\n        \"dtype\": \"object\",\n        \"semantic_type\": \"\",\n        \"description\": \"\"\n      }\n    }\n  ]\n}"
            }
          },
          "metadata": {},
          "execution_count": 242
        }
      ]
    },
    {
      "cell_type": "code",
      "source": [
        "positive_reviews = np.hstack(final_pos_df['tokenized'].values)"
      ],
      "metadata": {
        "id": "abCN2TwpPuTw"
      },
      "execution_count": null,
      "outputs": []
    },
    {
      "cell_type": "code",
      "source": [
        "#상품 불용어 제거\n",
        "product_stop_words = [\"피부\",\"얼굴\",\"구매\",\"제품\",\"정말\",\"그냥\",\"사용\"]\n",
        "positive_reviews = [word for word in positive_reviews if len(word) > 1 and word not in product_stop_words]\n"
      ],
      "metadata": {
        "colab": {
          "base_uri": "https://localhost:8080/"
        },
        "id": "h_phX8DqR6Yg",
        "outputId": "0e23ec01-9ff3-4ac1-aa86-f1b363750627"
      },
      "execution_count": null,
      "outputs": [
        {
          "output_type": "stream",
          "name": "stdout",
          "text": [
            "['마스크', '트리', '콜라겐', '등등', '종류', '별대', '뾰루지', '자리', '색소', '침착', '거뭇', '부분', '위해', '비타', '비타', '라서', '약간', '자극', '다른', '종류', '효과', '미미', '오히려', '다음', '스름', '토너', '정리', '불편', '비타', '가성', '제외', '일리', '쓰기', '일리', '쓰기', '저렴', '매일', '부담', '정도', '저렴', '매일', '부담', '정도', '저렴', '매일', '부담', '정도', '마스크', '지기', '원래', '수분', '잡티', '케어', '도움', '콜라겐', '효과', '탄력', '도움', '이건', '좁쌀', '뾰루', '트러블', '진정', '오히려', '상치', '자극', '마스크', '주변', '은기', '시트', '진정', '대박', '흡수', '보습', '진정', '재생', '허브', '관리', '효과', '진정', '한번', '한번', '효과', '진정', '한번', '한번', '효과', '관리', '관리', '마스크', '공장', '비위생적', '면서', '믿음', '에센스', '무난', '밀착', '몇개', '모낭', '트리', '효과', '유튜브', '지성', '마스크', '하나', '소개', '자극', '여행', '연속', '진정', '다음', '화장', '마스크', '진정', '병풀', '추출', '물이', '함유', '여름', '야외', '활동', '진정', '도움', '인지도', '용감', '트러블', '자극', '무엇', '진정', '쟁여두', '일리', '가격', '자주', '거의', '다음', '조금', '좁쌀', '다음', '트리', '금액', '기용', '의사', '종류', '선택', '무난', '쓰기', '마스크', '항상', '무난', '결혼식', '아버지', '사드', '매일', '수분', '보충', '마스크', '종류', '매번', '올리브영', '무난', '가족', '마스크', '항상', '이번', '히알루', '론산', '나름', '시트', '수분', '마스크', '느낌', '할인', '무난', '무난', '마스크', '자체', '트러블', '리기', '효과', '이외', '뭔가', '자주', '이용', '트러블', '촉촉', '자주', '마스크', '워낙', '기간', '가격', '무난', '무난', '추가', '스킨', '케어', '보습', '에센스', '뚝뚝', '지경', '차로', '한번', '흡수', '무난', '쓰기', '보습', '무난', '쓰기', '매번', '힐팩', '가성', '데카', '사이드', '트리', '이번', '종류', '무난', '이건', '불호', '자주', '기적', '세일', '자극', '다음', '효과', '여드름', '진정', '효과', '오히려', '데카', '사이드', '진정', '보습', '약간', '신분', '살짝', '기초', '해도', '좁쌀', '지성', '진정', '정이', '거울', '홍조', '염증', '여드름', '식겁', '이건', '자고', '좁쌀', '웃겻음볼쪽', '티존', '수분', '진정', '날씨', '진정', '쓰기', '개인', '차이', '사실', '했어욤', '가격', '정도', '자극', '크게', '한번', '효과', '크게', '몇개', '가격', '무난', '자주', '시트', '때문', '리뷰', '맨손', '포장', '위생', '이슈', '만석', '닭강정', '수준', '환골탈태', '진짜', '민심', '코덕', '마스크', '네임드', '어쩌자', '다른', '업체', '역시', '대기업', '리뷰', '그대로', '효과', '뾰루', '진정', '효과', '쿨링', '효과', '굿굿임', '모델링', '한번', '용법', '귀차니스트', '포기', '트리', '진정', '효과', '냉장고', '보관', '쿨링', '앰플양', '온몸', '발라', '정도', '앰플', '농도', '이유', '일주일', '정도', '마스크', '편이', '트리', '마스크', '예전', '뉴얼', '시트', '단점', '요즘', '마스크', '전체', '용감', '성분', '상향', '평준화', '변화', '힐티', '트리', '국민', '시트', '용감', '약간', '다른', '조건', '비건', '미백', '진정', '쿨링', '시트', '용감', '이유', '생각', '시트', '자체', '에센스', '함유량', '밀착', '살짝', '마스크', '보습', '추가', '효과', '트리', '마스크', '진정', '효과', '완화', '트러블', '부분', '거리', '느낌', '전혀', '자극', '진정', '저렴', '추천', '패키지', '리뉴얼', '내용물', '인지', '리뉴얼', '가성', '사서', '쓰기', '다른', '브랜드', '생각', '무난', '시트', '스킨', '내용물', '효과', '가격', '자주', '하나', '세안', '좁쌀', '화농', '민감', '여드름', '워낙', '이전', '메리트', '기간', '다시', '울긋불긋', '은기', '가렵거', '기초', '다시', '매하', '밀착', '흡수', '편이', '자주', '워터', '이드', '트리', '비타민', '종류', '별로', '컨디션', '다른', '브랜드', '민감', '성도', '여드름', '생각', '효과', '진정', '효과', '는걸', '답답', '사람', '하나', '진정', '일리', '생각', '진짜', '효과', '무난', '때문', '진정', '보습', '위해', '때문', '진정', '복습', '위해', '때문', '진정', '보습', '위해', '자주', '항상', '쟁여놓', '한편', '크게', '문제', '무난', '효과', '무난', '무난', '온도', '리기', '진짜', '트러블', '데카', '크게', '진정', '못느꼇구요가끙', '도해', '가격', '성분', '기대', '원래', '올브영', '기본', '자극', '여행', '평소', '가끔', '무난', '가격', '차이', '쟁이', '성비', '워낙', '설명', '한장', '크림', '기적', '금방', '진정', '냉장고', '효과', '리뷰', '타입', '부지', '좁쌀', '모낭', '여드름', '흔적', '장점', '트러블', '진정', '무난', '다가', '성비', '트리', '추천', '단점', '단점', '트러블', '무조건', '이유', '건성', '트러블', '요즘', '다른', '브랜드', '진정', '가격', '효과', '지성', '약간', '하나', '자극', '최고', '진정', '속도', '고무', '추천', '사계절', '마스크', '예민', '수분', '시트', '종종', '편입', '다수', '수분', '진정', '효과', '은기', '금세', '다만', '요즘', '완전', '한여름', '자체', '일주일', '해도', '부담', '타입', '누구', '진정', '수분', '가성', '한여름', '얼른', '진정', '완전', '추천', '흡수', '금방', '흡수', '타입', '기름', '마왕', '여드름', '모공', '론데', '요즘', '붙이', '그레', '물기', '낭낭', '트리', '대부분', '상임', '저번', '사실', '사고', '오늘', '드림', '오후', '결제', '하니', '어쩄', '시트', '팩저', '개인', '하루', '한번', '무리', '한번', '생각', '맛집', '붙이', '부작용', '성품', '가성', '담번', '일해', '마스크', '워낙', '브랜드', '이기', '이전', '트리', '라인', '자주', '이번', '리뉴얼', '주로', '트리', '임팩트', '밸런싱', '마스크', '가장', '마음', '부분', '시트', '재질', '촉감', '밀착', '두께', '완전', '시트', '끼리', '기도', '하니', '에센스', '양은', '마스크', '아래', '추가', '정도', '다만', '에센스', '점성', '거꾸로', '주르륵', '기도', '에센스', '조금', '성분', '기존', '마음', '용감', '개인', '적임', '개인', '편이', '조금', '다음', '아침', '적임', '보습', '마스크', '해도', '학생', '할인', '때문', '직원', '추천', '가격', '회로', '한번', '입장', '진짜', '무난', '일반', '마스크', '가성', '장점', '자극', '진정', '이유', '만큼', '가격', '만큼', '정도', '쓰기', '다음', '모델링', '트리', '마스크', '항상', '하명', '것데', '의사', '트리', '마스크', '항상', '하명', '것데', '의사', '트리', '마스크', '항상', '하명', '것데', '의사', '이사', '직원', '광고', '아영', '처음', '밀착', '붙이', '타이머', '고민', '붙이', '에센스', '양은', '노메이크업', '반나절', '보고', '후기', '추가', '후기', '추가', '각질', '부각', '그대로', '다른', '이번', '사서', '각각', '후기', '예정', '이유', '악어', '각질', '마냥', '각질', '제거', '필링', '수분크림', '메이크업', '밀리', '각질', '일어나서', '목적', '지인', '마스크', '다음', '더욱', '일리', '화장', '트러블', '브랜드', '라인', '타입', '수분', '미백', '주름', '진정', '대효', '직원', '도움', '요청', '구분', '시트', '설명', '기대', '아이', '장바구니', '나중', '도움', '작성', '예정', '친구', '추천', '친구', '진짜', '사이비', '도마', '맹신', '맹신', '정도', '관심', '거나', '건성', '조금', '재질', '로거', '바로', '천원', '안나', '시간', '채운', '세번', '도움', '트리', '리뉴얼', '다른', '트리', '가끔', '사서', '이건', '매트', '때문', '뽀드득', '거리', '사서', '여드름', '분기', '주로', '가끔', '여드름', '수분', '수분', '수분', '진정', '수분', '수분', '한번', '시트', '두께', '마르지', '조금', '편이', '뒤쪽', '진정', '편이', '다음', '아침', '달걀', '가능', '민감', '트러블', '요즘', '효과', '가격', '기분', '전환', '보습', '하나', '마나', '미백', '조금', '효과', '의사', '진정', '트러블', '랩핑', '라인', '요것', '사진', '제일', '가끔', '사서', '무난', '무난', '부담', '수분', '맣아', '주변', '요건', '배송비', '주문', '무난', '가성', '마스크', '차칸', '가격', '보습', '정도', '성비', '체고', '매각', '한지', '얼마', '매일', '진정', '진정', '마스크', '효과', '가격', '최고', '무난', '무난', '항상', '진정', '용감', '밀착', '먼저', '두께', '편이', '고요', '시트', '에센스', '밀착', '깜빡', '사진', '학생', '고요', '여드름', '복합', '여름', '걱정', '진정', '진정', '효과', '효과', '도움', '기억', '안남', '여드름', '진정', '무난', '자체', '마스크', '장점', '단점', '트리', '진정', '효과', '처럼', '한번', '효과', '보기', '기분', '쓰싱', '지금', '세번', '쓰늠데', '진짜', '무난', '기분', '세영', '기분', '내기', '당장', '쟁이시깋', '한번', '효과', '별로', '옶습', '다그', '이돈', '올리브영', '삼다수', '사드', '매일', '매일', '요즘', '후분', '추천', '촉촉', '매일', '매일', '요즘', '후분', '추천', '촉촉', '매일', '매일', '요즘', '후분', '추천', '촉촉', '무난', '무난', '수분', '마스크', '에센스', '진정', '효과', '에센스', '흡수', '수분', '마스크', '다음', '화장', '일리', '자주', '처음', '여드름', '자극', '용감', '진정', '별로', '소문', '소문', '한번', '리뷰', '니아', '처음', '자극', '진정', '시트', '두께', '밀착', '에센스', '다시', '생각', '이상', '크게', '현상', '이마', '화농', '여드름', '구석', '하나', '번지', '중단', '함자', '보이', '마스크', '정도', '사람', '추천', '간격', '마음', '워낙', '트러블', '시도', '데카', '사이드', '가성', '최고', '진정', '인생', '다시', '성분', '리뉴얼', '진정', '효과', '주변', '친구', '느낌', '쓰기', '바로', '트러블', '진정', '컨디션', '회복', '요즘', '트러블', '진정', '효과', '오히려', '문제', '마스크', '필착', '마스크', '여드름', '진정', '오히려', '여드름', '종류', '효능', '쫀쫀', '요담', '아침', '화장', '트러블', '트리', '미스', '트러블', '트리', '마스크', '추천', '에센셜', '마스크', '가성', '다른', '종류', '트리', '기본', '용한', '무난', '제일', '이건', '무난', '쓰기', '마가', '제일', '이건', '무난', '제일', '자주', '진짜', '다른', '앰플', '듬푹', '진짜', '다른', '앰플', '듬푹', '항상', '지성', '조금', '뾰루', '남팩', '문제', '문제', '같음챡', '일리', '자극', '별로', '마무리', '크림', '일리', '자극', '별로', '일리', '자극', '별로', '후기', '아영', '무난', '정도', '에센스', '밀착', '진정', '쿨링감', '가성', '에센스', '에센스', '밀착', '수분', '진정', '날씨', '진정', '쓰기', '항상', '다주', '극도', '개선괘', '복합', '진정', '효과', '수분', '가격', '고성능', '아주', '효과', '밀착', '자극', '수분', '두께', '자극', '시트', '수분', '아주', '에센스', '지성', '쓰기', '가격', '최고', '트리', '제일', '먼저', '대표', '상품', '개인', '사서', '결과', '트리', '진정', '효과', '수분', '충전', '온도', '수영', '진정', '여분', '미백', '효과', '가격', '배송', '거나', '할인', '편이', '여행', '토너', '대신', '정도', '진정', '효과', '항상', '무난', '무난', '효과', '일해', '득템', '몇번', '애용', '다른', '무난', '쟁여듭니', '트리', '제일', '워터', '이드', '무난', '무난', '저번', '포장', '사건', '때문', '개선', '퍼스', '컬러', '겨울', '클리어', '영향', '겨울', '클리어', '타입', '우만', '타입', '성심', '민감', '성경미', '색소', '성경미', '탄력', '트리', '녹차', '알로', '병풀', '캐모마일', '카렌듈', '릭애', '씨드', '코코넛오일', '쉐어버터', '코코아', '버터', '시나몬', '오일', '시나', '믹애', '씨드', '씨드', '조익', '씨드', '파리', '포익애', '씨드', '소리', '간혹', '접촉성', '피부염', '재발', '원인', '두드러기', '트러블', '스트레스', '전문의', '휘트니', '스킨', '사이클링', '실천', '각질', '제거', '레티놀', '수분', '공급', '장벽', '강화', '무난', '시트', '일단', '에센스', '진짜', '내용물', '걱정', '진정', '효과', '효과', '다음', '흡수', '느낌', '훅훅', '느낌', '자주', '사지', '우선', '하나', '용액', '살짝', '민감', '성인', '영양', '트러블', '조금', '용액', '리지', '한번', '용액', '공병', '화장', '한번', '조금', '보류', '모양', '마음', '듬뿍', '성분', '무엇', '가격', '금액', '처음', '나중', '기름', '좔좔', '영양', '크림', '감안', '건성', '가성', '비템', '추천', '지성수', '부지', '트리', '일리', '효과', '일리', '무난', '진정', '관리', '행사', '트러블', '하나', '뭔가', '하나', '하나', '막막', '트리', '뭔가', '사지', '가격', '하늘색', '역시', '트리', '그거', '별로', '쿨링', '효과', '에센스', '여름', '제외', '계절', '크림', '필수', '트리', '지루', '피부염', '대서', '구입', '쿨링', '자극', '진정', '진정', '트러블', '완화', '효과', '보습', '워낙', '화장품', '빠꼼', '사실', '인터넷', '일가', '가격', '역시', '하늘색', '워터', '이드', '그것', '리뉴얼', '어찌', '리뉴', '붙이', '보습', '진정', '지성', '라면', '에센스', '트러블', '수도', '조절', '기준', '부동', '마스크', '팩일', '원래', '찰떡', '마스크', '못구', '다시', '마스크', '유목민', '올리브영', '위템', '중이', '나은', '계속', '이번', '리뉴얼', '가격', '부담', '시트', '요즘', '자극', '이건', '가격', '면도', '무난', '밀착', '일단', '원래', '밸런스', '다시', '밸런스', '효과', '안색', '바로', '다음', '시트', '가격', '자주', '편이', '포장', '지도', '보기', '시트', '에센스', '시트', '두께', '에센스', '수분', '느낌', '수분크림', '에센스', '앰플', '금방', '수분크림', '편이', '자지', '시트', '노력', '하루', '한번', '수분', '진정', '마스크', '출시', '트리', '돌이', '트리', '성분', '마스크', '정가', '천원', '에센스', '요요', '에센스', '편이', '한번', '도포', '흡수', '다음', '마스크', '붙이', '에센스', '남아', '화장', '공병', '다음', '아침', '용도', '진짜', '하나로', '진정', '마스크', '수분', '에센스', '크림', '기초', '단계', '마무리', '산책', '다가', '올리브영', '쟁이는', '마스크', '처음', '여름', '하니', '진정', '위주', '다음', '저녁', '역시', '트리', '향항', '적응', '트리', '에센스', '아주', '듬뿍', '시트', '뚝뚝', '에센스', '포장', '지안', '앰플', '얆은편', '느낌', '금고', '마스크', '무거워', '이건', '에센스', '진정', '수분', '거리', '거리', '거리', '다시', '트리', '여드름', '진정', '완화', '여드름', '거만', '데카', '사이드', '트리', '트리', '개인', '생각', '듭니', '자주', '때문', '몹쓸', '화농', '여드름', '여드름', '하루', '여드름', '금방', '다시', '트리', '마스크', '다른', '스킨', '케어', '조합', '쓰시', '효과', '때문', '다른', '마스크', '리뷰', '시크', '재질', '밀착', '정도', '흡수', '에센스', '에센스', '마스크', '상태', '여름', '끈끈함', '계절', '지성', '건성', '시트', '에센스', '여름', '원래', '전혀', '진정', '시트', '편이', '에센스', '편입', '시트', '자체', '아주', '용감', '시트', '나니', '용감', '끈끈', '계속', '느낌', '여름', '느낌', '간정', '세수', '내용물', '유독', '느낌', '트러블', '용감', '생각', '끈끈', '조금', '시트', '진정', '효과', '트리', '일단', '개봉', '바로', '트리', '특유', '트리', '함량', '유의', '미하', '진정', '효과', '위해', '진정', '효과', '공급', '수분', '보충', '목적', '시간', '조금', '마무리', '흡수', '건성', '지성', '추천', '시트', '밀착', '붙이', '금은', '성질', '조금', '하룻밤', '자고', '아마', '다시', '굳이', '생각', '드네', '마스크', '트리', '라인', '원래', '생리', '건성', '일리', '거나', '보습', '마스크', '오히려', '다음', '생리', '발라', '수준', '관리', '마스크', '느낌', '흡수', '수분', '여드름', '쟁여두', '부담', '약간', '잘못', '마스크', '수준', '여드름', '좁쌀', '여드름', '추천', '덕분', '진정', '효과', '트리', '라인', '하나', '패키지', '하나', '느낌', '이건', '진정', '이일', '위해', '마스크', '원래', '기간', '가성', '아이템', '아주', '아주', '일리', '가격', '역시', '건성', '수분', '아주', '훌러', '가격', '다른', '마스크', '비교', '진짜', '가성', '갑템', '세수', '다음', '마스크', '정도', '흡수', '다음', '수분크림', '발라', '자고', '수분', '퍽퍽', '인생', '후회', '추천', '이일', '위해', '마스크', '원래', '기간', '가성', '아이템', '아주', '아주', '일리', '가격', '역시', '건성', '수분', '아주', '훌러', '가격', '다른', '마스크', '비교', '진짜', '가성', '갑템', '세수', '다음', '마스크', '정도', '흡수', '다음', '수분크림', '발라', '자고', '수분', '퍽퍽', '인생', '후회', '추천', '타입', '부지', '분과', '피지', '수분', '부족함', '좁쌀', '트러블', '한번', '화농', '여드름', '생리', '여드름', '후기', '리뉴', '트리', '애용', '리뉴얼', '진정', '효과', '나름', '리뉴얼', '트리', '다음', '트러블', '진정', '개선', '피지', '제거', '효과', '체감', '피지', '감소', '효과', '염증', '진정', '효과', '조금', '는걸', '체감', '리뉴', '트리', '시트', '주기', '트러블', '브랜드', '상품', '이유', '무엇', '요전', '브랜드', '추가', '단계', '만하', '보습', '충족', '크림', '정도', '산책', '다가', '올리브영', '쟁이는', '마스크', '처음', '여름', '하니', '진정', '위주', '다음', '저녁', '역시', '트리', '향항', '적응', '트리', '에센스', '아주', '듬뿍', '시트', '뚝뚝', '에센스', '포장', '지안', '앰플', '얆은편', '느낌', '금고', '마스크', '무거워', '이건', '에센스', '진정', '수분', '거리', '거리', '거리', '진정', '효과', '그닥', '보습', '완벽', '트리', '추출', '물이', '진정', '진정', '효과', '진정', '목적', '화장', '거나', '조금', '컨디션', '조금', '수분', '공급', '보습', '목적', '장점', '시트', '매우', '쫀쫀', '밀착', '시트', '개선', '굴곡', '시트', '밀착', '포도', '매우', '매우', '보습', '아주', '정도', '매우', '수분', '유지', '단점', '진정', '효과', '성분', '트리', '추출', '물이', '의미', '효과', '일핏', '실제', '별로', '진정', '효과', '자주', '하나', '먼저', '트리', '추출', '물이', '진정', '진정', '효과', '진정', '목적', '화장', '거나', '조금', '컨디션', '조금', '수분', '공급', '보습', '목적', '장점', '시트', '매우', '쫀쫀', '밀착', '시트', '개선', '굴곡', '시트', '밀착', '포도', '매우', '매우', '보습', '아주', '정도', '매우', '수분', '유지', '단점', '진정', '효과', '성분', '트리', '추출', '물이', '의미', '효과', '일핏', '실제', '별로', '진정', '효과', '냉장고', '마스크', '챱챱', '기분', '평소', '스킨', '케어', '대충', '최근', '레이저', '토닝', '관리', '혼자', '케어', '제일', '의사', '그동안', '영양', '고자', '마스크', '대량', '매장', '행사', '다가', '가격', '저렴', '행사', '중이', '만요', '가격', '대가', '저렴', '앰플', '가격', '원래', '중이', '할인', '천원', '행사', '사기', '느낌', '에센스', '시트', '에센스', '시트', '앰플', '가격', '대의', '마스크', '느낌', '가끔', '자주', '가성', '라인', '별로', '관리', '리뉴얼', '기억', '리뉴얼', '패키지', '리뉴얼', '성분', '리뉴얼', '여드름', '잔뜩', '다음', '피지', '여드름', '사이', '시트', '자체', '마음', '밀착', '한텐', '다른', '사람', '중반', '건성', '보유', '트리', '라인', '진정', '효과', '트리', '성분', '자체', '편이', '결론', '도달', '자체', '자극', '트리', '성분', '지금', '바로', '아쉬움', '남지', '자체', '로만', '배드', '트리', '평소', '무난', '트리', '성분', '초점', '만큼', '진정', '효과', '정도', '여부', '트리', '성분', '사람', '오히려', '라인', '데카', '사이드', '시트', '진정', '효과', '진정', '노리', '시트', '아마', '진정', '위해', '구입', '기도', '일이', '기억', '안나', '포장', '트리', '가득', '에센스', '편이', '에센스', '주르륵', '에센스', '점성', '시트', '밀착', '마스크', '쿨링', '그게', '유지', '진정', '효과', '크게', '에센스', '점성', '흡수', '조금', '흡수', '쫀쫀해', '살짝', '정도', '마무리', '만족', '조금', '건성', '아마', '트리', '어성초', '아마', '다음', '추가', '구입', '쓰기', '때문', '쟁여두', '편이', '패키지', '밀착', '시트', '아주', '시트', '에센스', '가득', '진정', '자주', '마스크', '테디', '셀러', '가격', '요즘', '가격', '브랜드', '역시', '예전', '애용', '링거', '트리', '스킨', '비치', '시트', '더더', '화장품', '개발', '에센스', '가득', '해도', '영양', '진정', '수분', '라인', '모두', '전체', '라인', '모두', '애용', '시트', '패키지', '디자인', '내용', '강화', '패키지', '계속', '예정', '약간', '약국', '브랜드', '성분', '아유', '처음', '조금', '자극', '진정', '최고', '행사', '가장', '제일', '먼저', '다른', '흡수', '거리', '원래', '트리', '케어', '솔루션', '에센셜', '마스크', '거의', '마스크', '리뉴얼', '소식', '트리', '라인', '가지', '전부', '보습', '트리', '특유', '진정', '효과', '원래', '마스크', '다음', '트러블', '트리', '임팩트', '마스크', '차이', '시트', '재질', '다른', '느낌', '보습', '사실', '트리', '진정', '효과', '보습', '굳이', '필요', '진정', '효과', '유목', '생활', '마스크', '자주', '진정', '효과', '시트', '트러블', '부담', '쓰기', '선물', '마스크', '올리브영', '무난', '가격', '가성', '배송비', '종류', '별로', '테스트', '예전', '썻을땐', '이번', '수분', '가장', '진정', '계속', '예정', '가장', '진정', '계속', '예정', '시트', '보습', '시트', '쩐내', '사서', '마스크', '보습', '색도', '모두', '에센셜', '마스크', '수분', '자주', '일좀', '부탁', '사람', '워낙', '항상', '순위', '상위', '별로', '오히려', '민감', '보고', '효과', '굳이', '진정', '자주', '추천', '할인', '종류', '별로', '어요', '일일', '도전', '피부관리', '케어', '대서', '시작', '하루', '한장', '애용', '가성', '마스크', '원래', '학생', '자주', '그땐', '최근', '다시', '바로', '이제', '시트', '마스크', '가격', '정도', '무조건', '쟁이', '늬들', '사라', '추천', '원래', '브랜드', '보급', '친구', '추천', '효과', '글쎜', '진정', '진정', '효과', '보이', '무난', '보습', '의사', '전혀', '진정', '효과', '홍조', '아기', '남친', '유피', '가끔', '남자친구', '비용', '절약', '실용', '여드름', '생기', '정도', '수딩', '효과', '포장', '교체', '항상', '포장', '교체', '원래', '가격', '조금', '실속', '사실', '마스크', '달동', '리뷰', '매하', '어쩃', '마스크', '배송비', '가격', '매번', '자극', '나이', '고민', '점차', '주름', '미백', '일리', '케어', '마스크', '마스크', '맛집', '이유', '가성', '마스크', '마스크', '가격', '대가', '부담', '마스크', '할인', '가격', '항상', '기간', '잔뜩', '사두', '가지', '특징', '비교', '시트', '뾰루', '잡티', '정도', '민감', '트리', '라인', '가장', '장벽', '요즘', '환절기', '진정', '트리', '성분', '효과', '트리', '종류', '매우', '컨디션', '여러', '모로', '자주', '마스크', '리뷰', '도움', '하단', '도움', '버튼', '요즘', '상태', '탄력', '지금', '세상', '복구', '위해', '콜라겐', '마스크', '이용', '판이', '번창', '일리', '수분', '히알루론산', '관리', '위해', '요즘', '시트', '나이', '런가', '수분', '라인', '시트', '후기', '금액', '가로', '후기', '무난', '시트', '생각', '거리', '하나', '크림', '관리', '위해', '요즘', '시트', '나이', '런가', '수분', '라인', '시트', '후기', '금액', '가로', '후기', '무난', '시트', '생각', '거리', '하나', '크림', '관리', '위해', '요즘', '시트', '나이', '런가', '수분', '라인', '시트', '후기', '금액', '가로', '후기', '무난', '시트', '생각', '거리', '하나', '크림', '효과', '가성', '무난', '자주', '사실', '마스크', '달동', '리뷰', '매하', '어쩃', '마스크', '배송비', '가격', '매번', '자극', '나이', '고민', '점차', '주름', '미백', '일리', '케어', '마스크', '마스크', '맛집', '이유', '가성', '마스크', '마스크', '가격', '대가', '부담', '마스크', '할인', '가격', '항상', '기간', '잔뜩', '사두', '가지', '특징', '비교', '시트', '뾰루', '잡티', '정도', '민감', '트리', '라인', '가장', '장벽', '요즘', '환절기', '진정', '트리', '성분', '효과', '트리', '종류', '매우', '컨디션', '여러', '모로', '자주', '마스크', '리뷰', '도움', '하단', '도움', '버튼', '요즘', '상태', '탄력', '지금', '세상', '복구', '위해', '콜라겐', '마스크', '이용', '판이', '번창', '일리', '수분', '히알루론산', '관리', '위해', '요즘', '시트', '나이', '런가', '수분', '라인', '시트', '후기', '금액', '가로', '후기', '무난', '시트', '생각', '거리', '하나', '크림', '관리', '위해', '요즘', '시트', '나이', '런가', '수분', '라인', '시트', '후기', '금액', '가로', '후기', '무난', '시트', '생각', '거리', '하나', '크림', '관리', '위해', '요즘', '시트', '나이', '런가', '수분', '라인', '시트', '후기', '금액', '가로', '후기', '무난', '시트', '생각', '거리', '하나', '크림', '효과', '가성', '무난', '자주', '사실', '마스크', '달동', '리뷰', '매하', '어쩃', '마스크', '배송비', '가격', '매번', '자극', '나이', '고민', '점차', '주름', '미백', '일리', '케어', '마스크', '마스크', '맛집', '이유', '가성', '마스크', '마스크', '가격', '대가', '부담', '마스크', '할인', '가격', '항상', '기간', '잔뜩', '사두', '가지', '특징', '비교', '시트', '뾰루', '잡티', '정도', '민감', '트리', '라인', '가장', '장벽', '요즘', '환절기', '진정', '트리', '성분', '효과', '트리', '종류', '매우', '컨디션', '여러', '모로', '자주', '마스크', '리뷰', '도움', '하단', '도움', '버튼', '요즘', '상태', '탄력', '지금', '세상', '복구', '위해', '콜라겐', '마스크', '이용', '판이', '번창', '일리', '수분', '히알루론산', '관리', '위해', '요즘', '시트', '나이', '런가', '수분', '라인', '시트', '후기', '금액', '가로', '후기', '무난', '시트', '생각', '거리', '하나', '크림', '관리', '위해', '요즘', '시트', '나이', '런가', '수분', '라인', '시트', '후기', '금액', '가로', '후기', '무난', '시트', '생각', '거리', '하나', '크림', '관리', '위해', '요즘', '시트', '나이', '런가', '수분', '라인', '시트', '후기', '금액', '가로', '후기', '무난', '시트', '생각', '거리', '하나', '크림', '효과', '가성', '무난', '자주', '옛날', '자주', '가성', '진정', '크기', '토너', '붙이', '밀착', '수분', '충전', '가지', '수분', '역시', '마스크', '최고', '무난', '토너', '붙이', '밀착', '수분', '충전', '가지', '수분', '토너', '붙이', '밀착', '수분', '충전', '가지', '수분', '토너', '붙이', '밀착', '수분', '충전', '가지', '수분', '토너', '붙이', '밀착', '수분', '충전', '가지', '수분', '마스크', '최고', '가격', '가격', '기본', '천원', '올리브영', '묶음', '사면', '가능', '가격', '매일', '쓰기', '성비', '마스크', '마스크', '시트', '진짜', '아시', '마스크', '시트', '밀착', '가격', '대비', '마스크', '마스크', '사면', '경우', '마스크', '무조건', '힐로', '픽합', '트리', '무난', '진정', '쓰기', '에센스', '양도', '마르지', '장점', '가성', '크기', '가성', '크기', '역시', '다음', '최고', '케어', '마스크', '자주', '붙이', '피부관리', '는걸', '구입', '가격', '진정', '수분', '케어', '마스크', '자주', '붙이', '피부관리', '는걸', '구입', '가격', '진정', '수분', '케어', '마스크', '자주', '붙이', '피부관리', '는걸', '구입', '가격', '진정', '수분', '케어', '마스크', '자주', '붙이', '피부관리', '는걸', '구입', '가격', '진정', '수분', '케어', '마스크', '자주', '붙이', '피부관리', '는걸', '구입', '가격', '진정', '수분', '케어', '마스크', '자주', '붙이', '피부관리', '는걸', '구입', '가격', '진정', '수분', '마스크', '말뭐', '마스크', '수분', '느낌', '지도', '진짜', '워터', '이드', '데카', '사이드', '트리', '제일', '진정', '가성', '비팩', '진정', '데카', '사이드', '트리', '트리', '가성', '계속', '가요', '트러블', '주로', '진정', '트러블', '은기', '완화', '가격', '편이', '진정', '자주', '트리', '마스크', '항상', '진정', '효과', '수분', '가득', '에센스', '흡수', '일주일', '정도', '항상', '할인', '쿠폰', '적용', '사면', '할인', '사서', '편입', '진정', '계속', '중이', '상태', '트러블', '흔적', '생기', '보이', '잡티', '부쩍', '미백', '도움', '생기', '의사', '진정', '일주일', '한번', '정도', '마스크', '워낙', '수분', '보충', '무난', '하니', '생생', '후기', '마스크', '종류', '별로', '워터', '콜라겐', '비타', '에센셜', '개인', '크게', '타입', '상관', '그때', '그때', '컨디션', '시트', '에센스', '양도', '후기', '도움', '도움', '마스크', '시트', '피부관리', '워낙', '안해', '런가', '점점', '시작', '마스크', '시트', '조차', '관리', '마스크', '시트', '밀착', '사이즈', '마음', '에센스', '얼마나', '뚝뚝', '다리', '마스크', '앰플', '양쪽', '부어', '부족함', '앰플', '워낙', '흡수', '마사지', '기도', '이용', '화장', '메이크업', '정도', '부착', '화장', '부착', '크림', '듬뿍', '자도', '다음', '정도', '타입', '부지', '민감', '봄브', '라이트', '겨울', '비비드', '솔직', '후기', '친구', '기대', '별로', '생각', '트러블', '케어', '트러블', '흔적', '케어', '위해', '거른거', '데카', '사이드', '데카', '사이드', '확신', '걱정', '일단', '시트', '재질', '두께', '시트', '커팅', '추가', '커팅', '별로', '에센스', '양도', '마스크', '에센스', '조금', '붙이', '에센스', '시트', '제거', '흡수', '마무리', '진정', '효과', '마스크', '트러블', '점도', '후기', '역시', '시트', '컷팅', '진정', '효과', '정도', '트리', '그거', '도전', '트리', '보습', '보습', '중건', '성인', '겨울', '여름', '살짝', '지성', '겨울', '추천', '효과', '보습', '초점', '유수', '쫀쫀', '편이', '보습', '만큼', '적임', '살짝', '편이', '선호', '수도', '요즘', '콜라겐', '마스크', '노화', '예방', '우리', '모두', '최애', '대란', '합리', '가격', '생각', '자극', '합리', '가격', '다음', '가격', '합리', '대란', '정도', '가격', '이면', '품질', '대비', '합리', '가격', '트리나', '다른', '종류', '히알루론산', '역시', '보습', '느낌', '노력', '효과', '히알루론산', '앰플', '듬뿍', '매우', '촉촉', '부들', '무난', '비타민', '보습', '살짝', '가끔', '트러블', '자극', '진정', '효과', '유수', '밸런스', '개선', '자주', '애용', '마스크', '팩안', '에센', '수양', '이건', '적당', '마스크', '무난', '자주', '힐팩', '애용', '히알루론산', '콜라겐', '콜라겐', '쫀쫀함', '기분', '컨디션', '일리', '마스크', '트러블', '진정', '국민', '마스크', '트리', '보습', '진정', '도움', '무난', '일손', '자주', '방지', '가성', '트러블', '지성', '라면', '누구', '무난', '트리', '수분', '진정', '도움', '여태', '마스크', '가장', '적임', '영양', '수분', '머금', '무엇', '현상', '조금', '최고', '역시', '건가', '가격', '이상', '가치', '진짜', '제일', '무난', '마스크', '진정', '오늘', '역시', '최고', '세수', '트리', '가장', '제일', '추천', '무난', '휘뚤마뚤', '쓰기', '쟝쨩', '아침', '토너', '정돈', '보습', '요즘', '요즘', '상태', '탄력', '지금', '세상', '복구', '위해', '콜라겐', '마스크', '이용', '판이', '요즘', '상태', '탄력', '지금', '세상', '복구', '위해', '콜라겐', '마스크', '이용', '판이', '트러블', '대폭', '감소', '후회', '가격', '대비', '최고', '품질', '자랑', '하루하루', '항상', '신뢰', '가성', '지갑', '부담', '선택', '후회', '의사', '가격', '합리', '날씨', '수분', '각질', '수분', '보충', '생각', '영양분', '수분', '보충', '한번', '마스크', '구입', '에센스', '화장', '민감', '마스크', '에센스', '발라', '물광', '보습', '영양', '쌀뜨물', '색깔', '앰플', '한번', '추천', '앰플', '요지', '복합', '무난', '수분', '충전', '느낌', '마무리', '완전', '추천', '항상', '트리', '가끔', '매일', '안해', '런가', '여드름', '자국', '효과', '진정', '가성', '비도', '에센스', '양도', '일리', '트리', '에센셜', '마스크', '진정', '아주', '워터', '이드', '마스크', '히알루론산', '리뉴얼', '아앙', '가격', '휘뚜루', '두루', '쓰기', '필자', '타입', '건성', '지성', '복합', '부지', '여드름', '여드름', '흉터', '민감', '홍조', '계기', '사실', '옛날', '자극', '다시', '호기심', '자극', '저번', '자극', '이번', '상태', '자극', '오히려', '진정', '추가', '단계', '가을', '겨울', '크림', '발라', '여름', '추가', '단계', '꿀팁저', '항상', '먼저', '바로', '에센스', '트리', '모말', '자극', '밀착', '트러블', '진정', '일리', '매일', '요가', '성비', '에센스', '양도', '어마', '무시', '에센스', '팔꿈치', '발라', '남아', '최고', '가성', '비타민', '상콤', '콜라겐', '히알루', '비타', '트러스', '종류', '재미', '다음', '다른', '종류', '여름', '콜라겐', '마스크', '주름', '미백', '자극', '이제', '슬슬', '여름', '탄력', '도주', '이번', '구입', '종류', '여러가지', '재미', '콜라겐', '히알루론산', '종류', '재미', '일도', '여러', '구입', '하루', '금방', '보고', '후기', '기록', '타입', '부지', '민감', '봄브', '라이트', '겨울', '비비드', '솔직', '후기', '친구', '기대', '별로', '생각', '트러블', '케어', '트러블', '흔적', '케어', '위해', '거른거', '데카', '사이드', '데카', '사이드', '확신', '걱정', '일단', '시트', '재질', '두께', '시트', '커팅', '추가', '커팅', '별로', '에센스', '양도', '마스크', '에센스', '조금', '붙이', '에센스', '시트', '제거', '흡수', '마무리', '진정', '효과', '마스크', '트러블', '점도', '후기', '역시', '시트', '컷팅', '진정', '효과', '정도', '트리', '그거', '도전', '트리', '할인', '가격', '자주', '다음', '화장', '평소', '자주', '노력', '트리', '성분', '여드름', '추천', '트리', '여드름', '효과', '대요', '수분', '전용', '아주', '트러블', '여름', '수분', '건성', '칭찬', '한번', '여러', '효과', '히알루론산', '겨울', '환절기', '요즘', '수분', '에센스', '얼마나', '시트', '에센스', '뚝뚝', '정도', '다음', '화장', '가격', '매일', '해도', '부담', '마스크', '이유', '우선', '가격', '올리브', '데이', '보통', '가성', '주로', '마스크', '초록색', '여드름', '뾰루', '파란색', '먹이', '노란색', '기미', '주근깨', '톤업', '핑크색', '모공', '축소', '탄력', '개선', '화장', '코기', '적임', '마스크', '오히려', '영양', '흡수', '하니', '사진', '마스크', '콧등', '중간', '한번', '가위', '싹둑', '마스크', '그때', '그때', '용도', '레인보우', '색깔', '별로', '추천', '레인보우', '레드', '보라색', '오늘', '리뷰', '몇개', '일단', '브랜드', '항상', '트리', '진정', '진짜', '효과', '쿠폰', '천원', '가격', '수분', '쟁여둘', '종류', '별로', '냉장고', '내킬', '한번', '자극', '진짜', '장고', '쿨링', '진정', '고요', '여드름', '흔적', '느낌', '패드', '한번', '시트', '수분', '어요', '트리', '종류', '무난', '쓰기', '트러블', '쓰기', '트러블', '개사', '하나', '기획', '행사', '사기', '천원', '이어도', '매일', '가격', '워터', '이드', '리뉴얼', '트리', '리뉴얼', '지금', '디자인', '보습', '보습', '크림', '하나', '트리', '무난', '쓰기', '트리', '성분', '재생', '효과', '대서', '편이', '자극', '친구', '자극', '친구', '데카', '소가', '오히려', '트리', '제일', '쓰기', '자극', '거의', '시트', '에센스', '트리', '거부', '가격', '매일', '자극', '트러블', '이유', '동안', '몇장', '환절기', '수분', '보충', '위해', '구입', '한장', '팩후', '추가', '크림', '발라', '주지', '무잡잡', '도움', '비타', '버전', '상큼', '기분', '시트', '붙이', '마음', '인생', '마스크', '정도', '진정', '마스크', '정도', '두께', '선호', '시트', '취향', '가성', '한번', '다시', '효과', '인덴', '이유', '자극', '인덴', '이유', '자극', '요즘', '히알루론산', '제로', '케어', '진짜', '수분', '충전', '기분', '건성', '기분', '콜라겐', '링클', '케어', '기적', '케이스', '핑크', '핑크', '진짜', '점점', '나이', '보습', '트리', '무난', '건성', '자극', '시트', '지도', '밀착', '재질', '무난', '요즘', '트러블', '때문', '진정', '주문', '자극', '진정', '은기', '액체', '보습', '보습', '진정', '효과', '유수', '밸런스', '가격', '대비', '몇개', '쟁였다', '직할', '요즘', '진짜', '건조', '끝판', '발라', '금방', '트길', '보습', '붙이', '열도', '진짜', '대박', '케어', '방법', '마스크', '줄줄', '에센스', '먼저', '장만', '완전', '다른', '종류', '트리', '역시', '시트', '워낙', '종류', '별로', '가장', '인기', '트리', '시트', '에센스', '냉장고', '보관', '붙이', '에센스', '완전', '자극', '머리', '전이', '사진', '양해', '머리', '하나', '머리', '말리', '수분', '데카', '사이드', '진정', '흔적', '관리', '여드름', '트리', '하나', '한번', '효과', '보이지', '지속', '효과', '하나', '보습', '효과', '시트', '토너', '진짜', '보습', '효과', '개선', '진짜', '효과', '무난', '진정', '무배', '진정', '트리', '데카', '사이드', '제일', '사면', '제일', '효과', '제일', '항상', '양도', '비타', '삿어', '역시', '마스크', '극적', '완전', '쫀쫀', '에센스', '양도', '이건', '매일', '거의', '트러블', '진정', '무난', '잡티', '토닝', '느낌', '양용', '종종', '트러블', '트러블', '자극', '콜라겐', '수분', '보습', '비타', '마스크', '미세먼지', '다시', '마스크', '때문', '마스크', '마스크', '대박', '항상', '마스크', '앰플', '보기', '만해', '미백', '보습', '그동안', '마스크', '일도', '겸사겸사', '마스크', '앰플', '느낌', '밀착', '시트', '두께', '밀착', '앰플', '영양', '가득', '바로', '역시', '대한민국', '시트', '인기', '더니', '마스크', '시트', '최고', '앰플', '장점', '개인', '인기', '로드', '마스크', '시트', '크기', '밀착', '엉망', '마스크', '프로', '콜라겐', '마스크', '기획', '트리', '마스크', '진정', '때문', '마스크', '마스크', '대박', '항상', '마스크', '앰플', '보기', '만해', '미백', '보습', '그동안', '마스크', '일도', '겸사겸사', '마스크', '앰플', '느낌', '밀착', '시트', '두께', '밀착', '앰플', '영양', '가득', '바로', '역시', '대한민국', '시트', '인기', '더니', '마스크', '시트', '최고', '앰플', '장점', '개인', '인기', '로드', '마스크', '시트', '크기', '밀착', '엉망', '마스크', '프로', '기획', '콜라겐', '마스크', '미세먼지', '다시', '마스크', '때문', '마스크', '마스크', '대박', '항상', '마스크', '앰플', '보기', '만해', '미백', '보습', '그동안', '마스크', '일도', '겸사겸사', '마스크', '앰플', '느낌', '밀착', '시트', '두께', '밀착', '앰플', '영양', '가득', '바로', '역시', '대한민국', '시트', '인기', '더니', '마스크', '시트', '최고', '앰플', '장점', '개인', '인기', '로드', '마스크', '시트', '크기', '밀착', '엉망', '마스크', '프로', '콜라겐', '마스크', '기획', '마스크', '트리', '데카', '사이드', '처음', '역시', '두께', '에센스', '덕분', '진정', '도움', '트리', '트리', '재미', '시트', '붙이', '금방', '마르지', '마무리', '거리', '보습', '가끔', '마무리', '오히려', '전이', '다른', '라인', '기회', '요즘', '날씨', '마스크', '불구', '일리', '잘못', '거의', '다른', '가격', '조금', '부담', '일리', '조금', '할인', '가격', '일리', '쓰기', '보습', '가끔', '마무리', '오히려', '전이', '다른', '라인', '기회', '날씨', '마스크', '불구', '일리', '잘못', '어져', '거의', '다른', '가격', '조금', '부담', '일리', '쓰기', '조금', '할인', '가격', '일리', '쓰기', '붙이', '금방', '마르지', '마무리', '거리', '환절기', '요즘', '실천', '불구', '일리', '잘못', '어져', '거의', '다른', '가격', '조금', '부담', '일리', '쓰기', '조금', '할인', '가격', '일리', '쓰기', '붙이', '금방', '마르지', '마무리', '거리', '보습', '가끔', '마무리', '오히려', '전이', '디힐', '다른', '라인', '기회', '보습', '가끔', '마무리', '오히려', '전이', '다른', '라인', '기회', '날씨', '마스크', '불구', '일리', '잘못', '어져', '거의', '다른', '가격', '조금', '부담', '일리', '쓰기', '조금', '할인', '가격', '일리', '쓰기', '붙이', '금방', '마르지', '마무리', '거리', '시트', '붙이', '금방', '마르지', '마무리', '거리', '보습', '가끔', '마무리', '오히려', '전이', '다른', '라인', '기회', '요즘', '날씨', '마스크', '불구', '일리', '잘못', '거의', '다른', '가격', '조금', '부담', '일리', '조금', '할인', '가격', '일리', '쓰기', '후반', '고등학생', '시절', '영어선생님', '나이', '기름', '지금', '마스크', '필수', '아비', '트리나', '그린', '마스크', '추천', '마스크', '마스크', '하나', '에센스', '가득', '먼저', '다음', '마스크', '기분', '트리', '명불허전', '마스크', '진정', '효과', '가성', '비도', '매일', '매일', '일리', '기도', '무난', '자주', '주로', '진정', '냉장고', '쿨링감', '때문', '진정', '시트', '밀착', '붙이', '다른', '거나', '거리', '기도', '항상', '크림', '마무리', '편이', '시트', '수분', '유지', '느낌', '선호', '지성', '건성', '진정', '누구', '고민', '누구', '무난', '추천', '항상', '기획', '상품', '가격', '마침', '품절', '개입', '구입', '항상', '자극', '시트', '재질', '에센스', '농축', '마스크', '대충', '다음', '저녁', '마르고', '농축', '관리', '위해', '요즘', '시트', '나이', '런가', '수분', '라인', '시트', '후기', '금액', '가로', '후기', '무난', '시트', '생각', '거리', '하나', '크림', '관리', '위해', '요즘', '시트', '나이', '런가', '수분', '라인', '시트', '후기', '금액', '가로', '후기', '무난', '시트', '생각', '거리', '하나', '크림', '관리', '위해', '요즘', '시트', '나이', '런가', '수분', '라인', '시트', '후기', '금액', '가로', '후기', '무난', '시트', '생각', '거리', '하나', '크림', '관리', '위해', '요즘', '시트', '나이', '런가', '수분', '라인', '시트', '후기', '금액', '가로', '후기', '무난', '시트', '생각', '거리', '하나', '크림', '요즘', '트러블', '가장', '수분', '뾰루', '트러블', '진짜', '자극', '하나', '오히려', '진정', '느낌', '다음', '화장', '리뷰', '몇개', '구입', '가격', '대비', '트리', '마스크', '할인', '마스크', '트리', '성분', '함유', '진정', '뾰루', '컨디션', '정도', '진정', '효과', '에센스', '양도', '천연', '비건', '대나무', '시트', '밀착', '직후', '편이', '기도', '가라', '추천', '히알루론산', '할인', '마스크', '히알루론산', '자극', '천연', '비건', '시트', '대나무', '시트', '밀착', '에센스', '손등', '히알루론산', '함유', '건조', '도움', '별로', '건조', '보습', '가끔', '자극', '마스크', '기적', '가격', '품질', '자주', '가격', '피무', '빳빳', '히알루론산', '마스크', '동안', '수분', '금고', '히알루론산', '미세', '입자', '때문', '수분', '마스크', '다음', '화장', '요즘', '꽃가루', '미세먼지', '케어', '진정', '트리', '성분', '마스크', '주문', '붙이', '다음', '컨디션', '스킨', '케어', '마스크', '하나', '진짜', '트러블', '최고', '요즘', '햇볕', '느낌', '지인', '추천', '유통기간', '배송', '포장', '파손', '시트', '밀착', '에센스', '줄줄', '시트', '적임', '팩후', '화장', '가성', '마음', '가끔', '생기', '느낌', '비타', '마스크', '하나', '하나', '시트', '밀착', '생각', '거기', '케어', '톤업', '효과', '사실', '히알루론산', '겨울', '계절', '여름', '미백', '진정', '위주', '히알루론산', '보습', '위주', '겨울', '지금', '날씨', '보습', '완성', '비타민', '진짜', '효과', '여러', '기분', '트리', '비타민', '효과', '쫀쫀', '해지', '지금', '계절', '트리', '요즘', '황사', '먼지', '저녁', '정도', '분기', '덩거림', '진짜', '시트', '주로', '시트', '자주', '하나', '용감', '보습', '사진', '보시', '밀착', '밀착', '보고', '구입', '보습', '용감', '일사', '보습', '금액', '가성', '비도', '역시', '진짜', '귀마개', '항상', '무조건', '안대', '한번', '찾기', '귀마개', '종류', '타입', '배송', '매가', '효과', '안대', '촉감', '부들부들', '자극', '안쪽', '모양', '착용', '머리', '뒤쪽', '로라', '조절', '마스크', '역시', '다른', '날씨', '저녁', '자기', '열도', '건조', '한편', '보습', '줄겸', '마스크', '구입', '일단', '에센스', '듬뿍', '흡수', '열도', '마스크', '에센스', '다리', '팔꿈치', '역시', '마스크', '이유', '계속', '계절', '항상', '느낌', '수분', '보충', '일단', '힐팩', '보기', '히알루론산', '워터', '이드', '겨울', '느낌', '발라', '다음', '아침', '세수', '느낌', '화장', '각질', '느낌', '히알루론산', '성분', '수분', '액체', '쓱쓱', '일석', '이조', '다음', '트러블', '밀착', '일주일', '관리', '여러', '내일', '마스크', '자극', '여러', '종류', '트러블', '종종', '이용', '이번', '좁쌀', '여드름', '트리', '선택', '시트', '분기', '수분', '공급', '분기', '진정', '도움', '트리', '트러블', '진정', '효과', '할인', '가격', '대도', '항상', '힐팩', '대량', '한장', '앰플', '가득', '앰플', '다음', '아침', '발라', '주기도', '시트', '밀착', '밀착', '미세먼지', '때문', '트러블', '조금', '다음', '수분', '느낌', '아주', '마음', '힐팩', '트리', '제일', '계속', '예정', '가면', '무조건', '편이', '트리', '내추럴', '쓰기', '시트', '밀착', '추가', '케어', '흡수', '일주일', '정도', '마스크', '보습', '영양', '진정', '여러가지', '번갈아', '그날', '컨디션', '보고', '개선', '도움', '주네', '애용', '이유', '마스크', '시트', '지도', '앰플', '시트', '밀착', '앰플', '전부', '팔다리', '부분', '전부', '온몸', '발라', '적임', '흡수', '마스크', '시트', '추가', '마스크', '계속', '쟁여놓', '트리', '진정', '효과', '냉장고', '세안', '효과', '때문', '요즘', '트러블', '트리', '라인', '다른', '라인', '보고', '앰플', '뭔가', '진정', '느낌', '더더', '만족도', '트리', '마스크', '워낙', '마스크', '하나', '진정', '효과', '진정', '마스크', '부분', '살짝', '진정', '온도', '수분', '다만', '부분', '살짝', '자극', '정도', '부분', '뭔가', '지네', '자극', '조금', '시트', '용감', '조금', '두께', '개인', '마스크', '이정', '생각', '밀착', '고정', '생각', '에센스', '에센스', '양은', '마스크', '마자', '전반', '분포', '양도', '가격', '가성', '마스크', '조금', '마스크', '생각', '리뷰', '통해', '기대', '부분', '생각', '가성', '가끔', '생각', '에센스', '아주', '가성', '시트', '추천', '종류', '별로', '개인', '핑크', '파랑', '추천', '에센스', '아주', '가성', '시트', '추천', '냉장고', '가성', '냉장고', '가성', '시트', '에센스', '매우', '가성', '시트', '가성', '진짜', '가성', '추천', '타입', '컨디션', '아주', '역시', '사람', '추천', '오늘', '매장', '얼른', '바로', '보습', '최고', '고아', '팩트', '화장실', '마스크', '삼백육십오일', '안뎀', '화장실', '마스크', '삼백육십오일', '안뎀', '화장실', '마스크', '삼백육십오일', '안뎀', '화장실', '마스크', '삼백육십오일', '안뎀', '미스', '항상', '버전', '트리', '콜라겐', '한번', '탄력', '트리', '라마', '이드', '가성', '에센셜', '마스크', '트리', '제일', '데카', '사이드', '성분', '남친', '할인', '무조건', '마스크', '날씨', '보습', '미백', '기능', '가격', '효과', '다른', '트리', '힐링', '느낌', '트러블', '금방', '진정', '마스크', '트리', '성분', '진정', '효과', '전반', '느낌', '부담', '쓰기', '일리', '요듬', '날씨', '화장', '건조', '해소', '자주', '무난', '마스크', '히알루론산', '마스크', '마다', '진정', '효과', '샤워', '여러', '종중', '가장', '무난', '가장', '밀착', '에센스', '진정', '아비', '어성초', '응급', '진정', '리뉴얼', '냉큼', '기존', '워터', '이드', '비교', '에센스', '역시', '마스크', '명가', '일리', '트러블', '안나', '효과', '최고', '역시', '마스크', '명가', '일리', '트러블', '안나', '효과', '최고', '역시', '마스크', '명가', '일리', '트러블', '안나', '효과', '최고', '종류', '별로', '다사', '필수품', '다집', '일주일', '여행가', '서도', '쓰기', '햇볕', '냉장고', '진정', '보습', '부담', '쟁여놓', '쓰기', '요즘', '다른', '브랜드', '거의', '보습', '진정', '탄력', '콜라겐', '담날', '느낌', '마스크', '최고', '일도', '자주', '가격', '부담', '일주일', '각질', '정리', '보습', '진정', '한장', '보고', '다섯', '추가', '완료', '마스크', '역시', '가격', '효과', '저렴', '앰플', '무난', '쓰기', '자극', '쓰기', '가격', '전체', '한편', '쓰기', '데카', '소만', '자극', '자주', '거부', '미백', '기능', '대서', '크게', '효과', '자주', '부모님', '닥터', '다음', '최애', '비타민', '진짜', '효과', '여러', '기분', '애용', '마스크', '항상', '쟁여둬', '마음', '진정', '베스트셀러', '이유', '에센스', '부담', '마음', '배송비', '자주', '진정', '매일', '양주', '그림', '보고', '자극', '비타민', '효과', '매일', '부담', '이틀', '한번', '정도', '비타', '대서', '왕창', '가격', '진정', '보습', '크림', '하나', '가성', '보이', '흐물흐물', '느낌', '가격', '에센스', '아영', '트리', '시트', '흐물흐물', '진정', '가격', '택배', '자마자', '대요', '무조건', '트리', '시작', '시작', '역시', '보습', '진정', '팩안', '앰플', '날씨', '수분', '느낌', '기적', '무향', '시트', '가성', '쫀쫀', '탄탄', '일리', '요즘', '탄력', '신경', '콜라겐', '성분', '구입', '요즘', '일리', '느낌', '여름', '거리', '건성', '유수', '밸러스', '조화', '느낌', '시트', '마음', '마스크', '수분', '충전', '보습', '미백', '기대', '수분', '공급', '트리', '마스크', '진짜', '자주', '마음', '마스크', '항상', '여러', '마음', '착색', '부분', '정돈', '가격', '대비', '최애', '에센스', '가득', '진정', '잡티', '제거', '살짝', '느낌', '계절', '요즘', '최애', '마스크', '인지', '부담', '장점', '금액', '성분', '단점', '발견', '마스크', '지금', '난리', '한번', '진행', '제발', '에센스', '붙이', '밀면', '절대', '양감', '기지', '일주일', '세번', '지금', '계절', '분기', '케어', '여름', '더욱', '수분', '비교', '일리', '마스크', '무조건', '부담', '쓰기', '마스크', '자주', '가성', '굿굿', '할인', '자주', '효과', '가성', '이하', '하나', '무난', '아무', '용해', '요즘', '미세먼지', '때문', '트러블', '진정', '기분', '탓일', '수도', '발견', '마스크', '자주', '다른', '종류', '요즌', '환절기', '보습', '히알루론산', '마스크', '역시', '일단', '앰플', '시간', '발라', '정도', '완전', '그때', '동안', '유지', '기간', '기온', '환절기', '워낙', '건성', '김증', '마스크', '쟁여둘', '상태', '가지', '종류', '별로', '만들기', '히알루론산', '에센셜', '마스크', '히알루론산', '빈틈', '수분', '에센스', '어마', '나머진', '다리', '쓰윽', '발라', '시트', '자체', '시트', '개선', '적임', '보습', '김증', '집안', '행사', '하루', '전날', '화장', '날씨', '환절기', '맞이', '신고식', '몇번', '환절기', '터득', '진정', '방법', '수분', '충전', '제일', '요즘', '아침', '저녁', '수분', '관리', '사고', '관리', '마스크', '제일', '세안', '토너', '챱챱', '다음', '마스크', '시원', '진정', '수분', '마스크', '냉장고', '제일', '순간', '온도', '화악', '기적', '가면', '마스크', '즉각', '수분', '보충', '건조', '느낌', '냉장고', '기도', '화장', '각질', '보습', '점점', '거나', '마스크', '부담', '항상', '원래', '날씨', '자주', '각질', '일어나서', '마스크', '마스크', '종류', '사제품', '비교', '가격', '여기', '진짜', '성비', '마스크', '진정', '효과', '다음', '여드름', '진정', '상태', '조금', '진정', '느낌', '에센셜', '마스크', '데카', '사이드', '제일', '트리', '진정', '보습', '도움', '가격', '보습', '일리', '중인', '마스크', '천원', '할인', '일주일', '적임', '마무리', '최근', '마스크', '최고', '히알루론산', '제대로', '윤기', '진정', '굿굿', '샤워', '어깨', '다만', '포장', '에센스', '조금', '자극', '진짜', '워낙', '마스크', '해도', '요즘', '시트', '진짜', '에센스', '완전', '동안', '마르지', '밀착', '보습', '저녁', '붙이', '아침', '컨디션', '화장', '가격', '완전', '앰플', '쿨링감', '여드름', '흉터', '진정', '보습', '고무', '진짜', '진정', '자주', '냄새', '굿굿', '배송', '예전', '종류', '별로', '건성', '히알루론산', '마스크', '제일', '다음', '화장', '가격', '마스크', '케어', '아주', '카라', '최근', '장벽', '히알루론산', '성분', '함유', '자극', '수분', '효과', '속보', '습도', '개선', '다음', '제거', '적임', '제로', '자극', '시트', '지도', '진정', '촉촉', '마스크', '재미', '가격', '마스크', '재미', '가격', '상품', '연속', '하알루론산', '함유', '보습', '케어', '시트', '적임', '부담', '자극', '트리', '기도', '완화', '배송비', '마스크', '트리', '진정', '용도', '최고', '에센스', '듬뿍', '항상', '트리', '데카', '사이드', '트러블', '트러블', '가격', '할인', '진정', '금방', '금방', '편이', '후기', '사진', '앨범', '사진', '겨우', '마스크', '예전', '요즘', '최대', '관심사', '콜라겐', '종종', '사서', '붙이', '즉각', '효과', '제일', '앰플', '시트', '않아앰플', '가득', '금고', '붙이', '내내', '기분', '야외', '운동', '선크림', '요즘', '발라', '좁쌀', '여드름', '보습', '신경', '히알루론산', '다른', '더욱', '레이저', '지금', '약간', '바로', '관리', '시작', '팔다리', '나니', '레이저', '아주', '앰플', '남아', '아주', '마음']\n"
          ]
        }
      ]
    },
    {
      "cell_type": "code",
      "source": [
        "final_pos_df['tokenized'] = final_pos_df['reviews'].apply(lambda x: [word for word in tokenizer.nouns(x) if word not in product_stop_words and len(word) > 1])\n"
      ],
      "metadata": {
        "id": "HT2wNRrof7Fw"
      },
      "execution_count": null,
      "outputs": []
    },
    {
      "cell_type": "code",
      "source": [
        "final_pos_df.head()"
      ],
      "metadata": {
        "colab": {
          "base_uri": "https://localhost:8080/",
          "height": 258
        },
        "id": "IJWxAzh_gLwY",
        "outputId": "09b99363-eed9-4bf6-a137-2867a98e4d30"
      },
      "execution_count": null,
      "outputs": [
        {
          "output_type": "execute_result",
          "data": {
            "text/plain": [
              "                                             reviews  rating  \\\n",
              "0  메디힐 마스크 팩 티트리콜라겐시카등등 종류별대로 사용 해 보다가피부톤이 얼룩덜룩하고...       1   \n",
              "1                 데일리로 그냥 쓰기 좋은 제품데일리로 그냥 쓰기 좋은 제품 n       1   \n",
              "2  머 저렴이로 매일 붙히기  부담없는 정도머 저렴이로 매일 붙히기  부담없는 정도머 ...       1   \n",
              "3  마스크팩했을 때 확실히 얼굴이 환해지기는 하는데 원래 피부가 수분 먹으면 환해지는 ...       1   \n",
              "4  콜라겐 궁금해서 구매해 봄 한 번으로는 효과 없는 게 뻔하니까 몇 개 더 구매했었는...       1   \n",
              "\n",
              "                                           tokenized  \n",
              "0  [마스크, 트리, 콜라겐, 등등, 종류, 별대, 뾰루지, 자리, 색소, 침착, 거뭇...  \n",
              "1                                   [일리, 쓰기, 일리, 쓰기]  \n",
              "2   [저렴, 매일, 부담, 정도, 저렴, 매일, 부담, 정도, 저렴, 매일, 부담, 정도]  \n",
              "3                      [마스크, 지기, 원래, 수분, 잡티, 케어, 도움]  \n",
              "4                              [콜라겐, 효과, 탄력, 도움, 이건]  "
            ],
            "text/html": [
              "\n",
              "  <div id=\"df-0fb5fb59-f17c-4c7e-8421-520763b1e948\" class=\"colab-df-container\">\n",
              "    <div>\n",
              "<style scoped>\n",
              "    .dataframe tbody tr th:only-of-type {\n",
              "        vertical-align: middle;\n",
              "    }\n",
              "\n",
              "    .dataframe tbody tr th {\n",
              "        vertical-align: top;\n",
              "    }\n",
              "\n",
              "    .dataframe thead th {\n",
              "        text-align: right;\n",
              "    }\n",
              "</style>\n",
              "<table border=\"1\" class=\"dataframe\">\n",
              "  <thead>\n",
              "    <tr style=\"text-align: right;\">\n",
              "      <th></th>\n",
              "      <th>reviews</th>\n",
              "      <th>rating</th>\n",
              "      <th>tokenized</th>\n",
              "    </tr>\n",
              "  </thead>\n",
              "  <tbody>\n",
              "    <tr>\n",
              "      <th>0</th>\n",
              "      <td>메디힐 마스크 팩 티트리콜라겐시카등등 종류별대로 사용 해 보다가피부톤이 얼룩덜룩하고...</td>\n",
              "      <td>1</td>\n",
              "      <td>[마스크, 트리, 콜라겐, 등등, 종류, 별대, 뾰루지, 자리, 색소, 침착, 거뭇...</td>\n",
              "    </tr>\n",
              "    <tr>\n",
              "      <th>1</th>\n",
              "      <td>데일리로 그냥 쓰기 좋은 제품데일리로 그냥 쓰기 좋은 제품 n</td>\n",
              "      <td>1</td>\n",
              "      <td>[일리, 쓰기, 일리, 쓰기]</td>\n",
              "    </tr>\n",
              "    <tr>\n",
              "      <th>2</th>\n",
              "      <td>머 저렴이로 매일 붙히기  부담없는 정도머 저렴이로 매일 붙히기  부담없는 정도머 ...</td>\n",
              "      <td>1</td>\n",
              "      <td>[저렴, 매일, 부담, 정도, 저렴, 매일, 부담, 정도, 저렴, 매일, 부담, 정도]</td>\n",
              "    </tr>\n",
              "    <tr>\n",
              "      <th>3</th>\n",
              "      <td>마스크팩했을 때 확실히 얼굴이 환해지기는 하는데 원래 피부가 수분 먹으면 환해지는 ...</td>\n",
              "      <td>1</td>\n",
              "      <td>[마스크, 지기, 원래, 수분, 잡티, 케어, 도움]</td>\n",
              "    </tr>\n",
              "    <tr>\n",
              "      <th>4</th>\n",
              "      <td>콜라겐 궁금해서 구매해 봄 한 번으로는 효과 없는 게 뻔하니까 몇 개 더 구매했었는...</td>\n",
              "      <td>1</td>\n",
              "      <td>[콜라겐, 효과, 탄력, 도움, 이건]</td>\n",
              "    </tr>\n",
              "  </tbody>\n",
              "</table>\n",
              "</div>\n",
              "    <div class=\"colab-df-buttons\">\n",
              "\n",
              "  <div class=\"colab-df-container\">\n",
              "    <button class=\"colab-df-convert\" onclick=\"convertToInteractive('df-0fb5fb59-f17c-4c7e-8421-520763b1e948')\"\n",
              "            title=\"Convert this dataframe to an interactive table.\"\n",
              "            style=\"display:none;\">\n",
              "\n",
              "  <svg xmlns=\"http://www.w3.org/2000/svg\" height=\"24px\" viewBox=\"0 -960 960 960\">\n",
              "    <path d=\"M120-120v-720h720v720H120Zm60-500h600v-160H180v160Zm220 220h160v-160H400v160Zm0 220h160v-160H400v160ZM180-400h160v-160H180v160Zm440 0h160v-160H620v160ZM180-180h160v-160H180v160Zm440 0h160v-160H620v160Z\"/>\n",
              "  </svg>\n",
              "    </button>\n",
              "\n",
              "  <style>\n",
              "    .colab-df-container {\n",
              "      display:flex;\n",
              "      gap: 12px;\n",
              "    }\n",
              "\n",
              "    .colab-df-convert {\n",
              "      background-color: #E8F0FE;\n",
              "      border: none;\n",
              "      border-radius: 50%;\n",
              "      cursor: pointer;\n",
              "      display: none;\n",
              "      fill: #1967D2;\n",
              "      height: 32px;\n",
              "      padding: 0 0 0 0;\n",
              "      width: 32px;\n",
              "    }\n",
              "\n",
              "    .colab-df-convert:hover {\n",
              "      background-color: #E2EBFA;\n",
              "      box-shadow: 0px 1px 2px rgba(60, 64, 67, 0.3), 0px 1px 3px 1px rgba(60, 64, 67, 0.15);\n",
              "      fill: #174EA6;\n",
              "    }\n",
              "\n",
              "    .colab-df-buttons div {\n",
              "      margin-bottom: 4px;\n",
              "    }\n",
              "\n",
              "    [theme=dark] .colab-df-convert {\n",
              "      background-color: #3B4455;\n",
              "      fill: #D2E3FC;\n",
              "    }\n",
              "\n",
              "    [theme=dark] .colab-df-convert:hover {\n",
              "      background-color: #434B5C;\n",
              "      box-shadow: 0px 1px 3px 1px rgba(0, 0, 0, 0.15);\n",
              "      filter: drop-shadow(0px 1px 2px rgba(0, 0, 0, 0.3));\n",
              "      fill: #FFFFFF;\n",
              "    }\n",
              "  </style>\n",
              "\n",
              "    <script>\n",
              "      const buttonEl =\n",
              "        document.querySelector('#df-0fb5fb59-f17c-4c7e-8421-520763b1e948 button.colab-df-convert');\n",
              "      buttonEl.style.display =\n",
              "        google.colab.kernel.accessAllowed ? 'block' : 'none';\n",
              "\n",
              "      async function convertToInteractive(key) {\n",
              "        const element = document.querySelector('#df-0fb5fb59-f17c-4c7e-8421-520763b1e948');\n",
              "        const dataTable =\n",
              "          await google.colab.kernel.invokeFunction('convertToInteractive',\n",
              "                                                    [key], {});\n",
              "        if (!dataTable) return;\n",
              "\n",
              "        const docLinkHtml = 'Like what you see? Visit the ' +\n",
              "          '<a target=\"_blank\" href=https://colab.research.google.com/notebooks/data_table.ipynb>data table notebook</a>'\n",
              "          + ' to learn more about interactive tables.';\n",
              "        element.innerHTML = '';\n",
              "        dataTable['output_type'] = 'display_data';\n",
              "        await google.colab.output.renderOutput(dataTable, element);\n",
              "        const docLink = document.createElement('div');\n",
              "        docLink.innerHTML = docLinkHtml;\n",
              "        element.appendChild(docLink);\n",
              "      }\n",
              "    </script>\n",
              "  </div>\n",
              "\n",
              "\n",
              "<div id=\"df-d669d933-1873-473c-8be8-020aa933b049\">\n",
              "  <button class=\"colab-df-quickchart\" onclick=\"quickchart('df-d669d933-1873-473c-8be8-020aa933b049')\"\n",
              "            title=\"Suggest charts\"\n",
              "            style=\"display:none;\">\n",
              "\n",
              "<svg xmlns=\"http://www.w3.org/2000/svg\" height=\"24px\"viewBox=\"0 0 24 24\"\n",
              "     width=\"24px\">\n",
              "    <g>\n",
              "        <path d=\"M19 3H5c-1.1 0-2 .9-2 2v14c0 1.1.9 2 2 2h14c1.1 0 2-.9 2-2V5c0-1.1-.9-2-2-2zM9 17H7v-7h2v7zm4 0h-2V7h2v10zm4 0h-2v-4h2v4z\"/>\n",
              "    </g>\n",
              "</svg>\n",
              "  </button>\n",
              "\n",
              "<style>\n",
              "  .colab-df-quickchart {\n",
              "      --bg-color: #E8F0FE;\n",
              "      --fill-color: #1967D2;\n",
              "      --hover-bg-color: #E2EBFA;\n",
              "      --hover-fill-color: #174EA6;\n",
              "      --disabled-fill-color: #AAA;\n",
              "      --disabled-bg-color: #DDD;\n",
              "  }\n",
              "\n",
              "  [theme=dark] .colab-df-quickchart {\n",
              "      --bg-color: #3B4455;\n",
              "      --fill-color: #D2E3FC;\n",
              "      --hover-bg-color: #434B5C;\n",
              "      --hover-fill-color: #FFFFFF;\n",
              "      --disabled-bg-color: #3B4455;\n",
              "      --disabled-fill-color: #666;\n",
              "  }\n",
              "\n",
              "  .colab-df-quickchart {\n",
              "    background-color: var(--bg-color);\n",
              "    border: none;\n",
              "    border-radius: 50%;\n",
              "    cursor: pointer;\n",
              "    display: none;\n",
              "    fill: var(--fill-color);\n",
              "    height: 32px;\n",
              "    padding: 0;\n",
              "    width: 32px;\n",
              "  }\n",
              "\n",
              "  .colab-df-quickchart:hover {\n",
              "    background-color: var(--hover-bg-color);\n",
              "    box-shadow: 0 1px 2px rgba(60, 64, 67, 0.3), 0 1px 3px 1px rgba(60, 64, 67, 0.15);\n",
              "    fill: var(--button-hover-fill-color);\n",
              "  }\n",
              "\n",
              "  .colab-df-quickchart-complete:disabled,\n",
              "  .colab-df-quickchart-complete:disabled:hover {\n",
              "    background-color: var(--disabled-bg-color);\n",
              "    fill: var(--disabled-fill-color);\n",
              "    box-shadow: none;\n",
              "  }\n",
              "\n",
              "  .colab-df-spinner {\n",
              "    border: 2px solid var(--fill-color);\n",
              "    border-color: transparent;\n",
              "    border-bottom-color: var(--fill-color);\n",
              "    animation:\n",
              "      spin 1s steps(1) infinite;\n",
              "  }\n",
              "\n",
              "  @keyframes spin {\n",
              "    0% {\n",
              "      border-color: transparent;\n",
              "      border-bottom-color: var(--fill-color);\n",
              "      border-left-color: var(--fill-color);\n",
              "    }\n",
              "    20% {\n",
              "      border-color: transparent;\n",
              "      border-left-color: var(--fill-color);\n",
              "      border-top-color: var(--fill-color);\n",
              "    }\n",
              "    30% {\n",
              "      border-color: transparent;\n",
              "      border-left-color: var(--fill-color);\n",
              "      border-top-color: var(--fill-color);\n",
              "      border-right-color: var(--fill-color);\n",
              "    }\n",
              "    40% {\n",
              "      border-color: transparent;\n",
              "      border-right-color: var(--fill-color);\n",
              "      border-top-color: var(--fill-color);\n",
              "    }\n",
              "    60% {\n",
              "      border-color: transparent;\n",
              "      border-right-color: var(--fill-color);\n",
              "    }\n",
              "    80% {\n",
              "      border-color: transparent;\n",
              "      border-right-color: var(--fill-color);\n",
              "      border-bottom-color: var(--fill-color);\n",
              "    }\n",
              "    90% {\n",
              "      border-color: transparent;\n",
              "      border-bottom-color: var(--fill-color);\n",
              "    }\n",
              "  }\n",
              "</style>\n",
              "\n",
              "  <script>\n",
              "    async function quickchart(key) {\n",
              "      const quickchartButtonEl =\n",
              "        document.querySelector('#' + key + ' button');\n",
              "      quickchartButtonEl.disabled = true;  // To prevent multiple clicks.\n",
              "      quickchartButtonEl.classList.add('colab-df-spinner');\n",
              "      try {\n",
              "        const charts = await google.colab.kernel.invokeFunction(\n",
              "            'suggestCharts', [key], {});\n",
              "      } catch (error) {\n",
              "        console.error('Error during call to suggestCharts:', error);\n",
              "      }\n",
              "      quickchartButtonEl.classList.remove('colab-df-spinner');\n",
              "      quickchartButtonEl.classList.add('colab-df-quickchart-complete');\n",
              "    }\n",
              "    (() => {\n",
              "      let quickchartButtonEl =\n",
              "        document.querySelector('#df-d669d933-1873-473c-8be8-020aa933b049 button');\n",
              "      quickchartButtonEl.style.display =\n",
              "        google.colab.kernel.accessAllowed ? 'block' : 'none';\n",
              "    })();\n",
              "  </script>\n",
              "</div>\n",
              "\n",
              "    </div>\n",
              "  </div>\n"
            ],
            "application/vnd.google.colaboratory.intrinsic+json": {
              "type": "dataframe",
              "variable_name": "final_pos_df",
              "summary": "{\n  \"name\": \"final_pos_df\",\n  \"rows\": 510,\n  \"fields\": [\n    {\n      \"column\": \"reviews\",\n      \"properties\": {\n        \"dtype\": \"string\",\n        \"num_unique_values\": 453,\n        \"samples\": [\n          \"\\uc800 \\uc5f4 \\uac10 \\ub54c\\ubb38 \\uc694\\uc998 \\ud53c\\ubd80 \\ud2b8\\ub7ec\\ube14 \\ub108\\ubb34 \\uc2ec\\ud558\\uace0 \\ud574\\uc11c \\ud2f0 \\ud2b8\\ub9ac \\ub77c\\uc778 \\uc0ac\\uc6a9 \\ud588\\ub294\\ub370 \\ub2e4\\ub978 \\ub77c\\uc778 \\ub2e4 \\uc0ac\\uc6a9 \\ud574 \\ubcf4\\uace0 \\uc2f6\\ub354\\ub77c\\uad6c\\uc694 \\uac19\\uc774 \\ub4e4\\uc5b4\\uac04 \\uc570\\ud50c \\uc81c \\ud53c\\ubd80 \\uc798 \\ub9de\\uc740 \\uac74\\uc9c0 \\ubb54\\uac00 \\uc9c4\\uc815 \\ub418\\uba74\\uc11c \\ud53c\\ubd80 \\ud1a4 \\uad11 \\uc62c\\ub77c\\uc624\\ub294 \\ub290\\ub08c \\uadf8\\ub798\\uc11c \\ub354\\ub354 \\ub9cc\\uc871\\ub3c4 \\uc5c5\",\n          \"\\uac1c\\uc778\\uc801\\ucc28\\uc774\\uc9c0\\ub9cc\\uc800\\ub791\\uc740 \\uc548\\ub9de\\ub0b4\\uc694\\uc21c\\ud558\\uae34\\ud55c\\ub31c\\uc608\\ubbfc\\ud55c\\ud53c\\ubd80\\uc5d0\\ub294 \\uadf8\\ub2e5\\uc785\\ub2c8\\ub2e4 n\",\n          \"\\uc624\\ub298 \\ub9e4\\uc7a5 \\uc5bc\\ub978 \\ubc14\\ub85c \\uad6c\\ub9e4 \\ud574 \\ubc84\\ub838\\uc5b4\\uc694 \\u314e\\u314e\\u314e\"\n        ],\n        \"semantic_type\": \"\",\n        \"description\": \"\"\n      }\n    },\n    {\n      \"column\": \"rating\",\n      \"properties\": {\n        \"dtype\": \"number\",\n        \"std\": 0,\n        \"min\": 1,\n        \"max\": 1,\n        \"num_unique_values\": 1,\n        \"samples\": [\n          1\n        ],\n        \"semantic_type\": \"\",\n        \"description\": \"\"\n      }\n    },\n    {\n      \"column\": \"tokenized\",\n      \"properties\": {\n        \"dtype\": \"object\",\n        \"semantic_type\": \"\",\n        \"description\": \"\"\n      }\n    }\n  ]\n}"
            }
          },
          "metadata": {},
          "execution_count": 244
        }
      ]
    },
    {
      "cell_type": "code",
      "source": [
        "from collections import Counter\n",
        "from wordcloud import WordCloud\n",
        "positive_reviews_word_count = Counter(positive_reviews)\n",
        "word_freq = positive_reviews_word_count.most_common(20)\n",
        "print(word_freq)\n",
        "# wordcloud = WordCloud(font_path='C:/Windows/Fonts/malgun.ttf', background_color='white')\n",
        "\n"
      ],
      "metadata": {
        "colab": {
          "base_uri": "https://localhost:8080/"
        },
        "id": "oMXrJGiwPF0M",
        "outputId": "35625562-4b42-478a-a385-eaa64931afdb"
      },
      "execution_count": null,
      "outputs": [
        {
          "output_type": "stream",
          "name": "stdout",
          "text": [
            "[('마스크', 266), ('진정', 197), ('시트', 163), ('트리', 133), ('효과', 129), ('수분', 110), ('가격', 102), ('에센스', 89), ('무난', 82), ('보습', 76), ('트러블', 65), ('자극', 58), ('요즘', 55), ('밀착', 54), ('자주', 54), ('가성', 52), ('일리', 47), ('다음', 45), ('느낌', 44), ('정도', 42)]\n"
          ]
        }
      ]
    },
    {
      "cell_type": "code",
      "source": [
        "# 긍정 리뷰의 워드 클라우드\n",
        "temp_data = ' '.join(np.concatenate(final_pos_df.tokenized.reset_index(drop=True)))\n",
        "wc = WordCloud(max_words = 40 , width = 1600 , height = 800, font_path = '/usr/share/fonts/truetype/nanum/NanumGothic.ttf').generate(temp_data)\n",
        "plt.figure(figsize=(8,8))\n",
        "plt.imshow(wc, interpolation = 'bilinear')\n",
        "wc.to_file(\"BernoulliNB_긍정 워드클라우드.png\")"
      ],
      "metadata": {
        "colab": {
          "base_uri": "https://localhost:8080/",
          "height": 393
        },
        "id": "r0IeIUUuUFtM",
        "outputId": "0679d436-d6fd-4e77-904a-c05a9d09c335"
      },
      "execution_count": null,
      "outputs": [
        {
          "output_type": "execute_result",
          "data": {
            "text/plain": [
              "<wordcloud.wordcloud.WordCloud at 0x7cb0c3a62020>"
            ]
          },
          "metadata": {},
          "execution_count": 246
        },
        {
          "output_type": "display_data",
          "data": {
            "text/plain": [
              "<Figure size 800x800 with 1 Axes>"
            ],
            "image/png": "[encoded data removed]"
          },
          "metadata": {}
        }
      ]
    },
    {
      "cell_type": "code",
      "source": [
        "!pip install wordcloud"
      ],
      "metadata": {
        "colab": {
          "base_uri": "https://localhost:8080/"
        },
        "id": "owYQi0rQchJT",
        "outputId": "f5ed0371-aedb-4ead-be7f-db35dc68c869"
      },
      "execution_count": null,
      "outputs": [
        {
          "output_type": "stream",
          "name": "stdout",
          "text": [
            "Collecting wordcloud\n",
            "  Downloading wordcloud-1.9.3-cp310-cp310-manylinux_2_17_x86_64.manylinux2014_x86_64.whl (511 kB)\n",
            "\u001b[2K     \u001b[90m━━━━━━━━━━━━━━━━━━━━━━━━━━━━━━━━━━━━━━━━\u001b[0m \u001b[32m511.1/511.1 kB\u001b[0m \u001b[31m3.9 MB/s\u001b[0m eta \u001b[36m0:00:00\u001b[0m\n",
            "\u001b[?25hRequirement already satisfied: numpy>=1.6.1 in /usr/local/lib/python3.10/dist-packages (from wordcloud) (1.25.2)\n",
            "Requirement already satisfied: pillow in /usr/local/lib/python3.10/dist-packages (from wordcloud) (10.3.0)\n",
            "Requirement already satisfied: matplotlib in /usr/local/lib/python3.10/dist-packages (from wordcloud) (3.7.1)\n",
            "Requirement already satisfied: contourpy>=1.0.1 in /usr/local/lib/python3.10/dist-packages (from matplotlib->wordcloud) (1.2.1)\n",
            "Requirement already satisfied: cycler>=0.10 in /usr/local/lib/python3.10/dist-packages (from matplotlib->wordcloud) (0.12.1)\n",
            "Requirement already satisfied: fonttools>=4.22.0 in /usr/local/lib/python3.10/dist-packages (from matplotlib->wordcloud) (4.51.0)\n",
            "Requirement already satisfied: kiwisolver>=1.0.1 in /usr/local/lib/python3.10/dist-packages (from matplotlib->wordcloud) (1.4.5)\n",
            "Requirement already satisfied: packaging>=20.0 in /usr/local/lib/python3.10/dist-packages (from matplotlib->wordcloud) (24.0)\n",
            "Requirement already satisfied: pyparsing>=2.3.1 in /usr/local/lib/python3.10/dist-packages (from matplotlib->wordcloud) (3.1.2)\n",
            "Requirement already satisfied: python-dateutil>=2.7 in /usr/local/lib/python3.10/dist-packages (from matplotlib->wordcloud) (2.9.0.post0)\n",
            "Requirement already satisfied: six>=1.5 in /usr/local/lib/python3.10/dist-packages (from python-dateutil>=2.7->matplotlib->wordcloud) (1.16.0)\n",
            "Installing collected packages: wordcloud\n",
            "Successfully installed wordcloud-1.9.3\n"
          ]
        }
      ]
    },
    {
      "cell_type": "code",
      "source": [
        "!apt-get install fonts-nanum*\n",
        "!apt-get install fontconfig"
      ],
      "metadata": {
        "colab": {
          "base_uri": "https://localhost:8080/"
        },
        "id": "nBTzg1MLh4KG",
        "outputId": "47a02e16-45d3-410a-e598-7d25b9ebc043"
      },
      "execution_count": null,
      "outputs": [
        {
          "output_type": "stream",
          "name": "stdout",
          "text": [
            "Reading package lists... Done\n",
            "Building dependency tree... Done\n",
            "Reading state information... Done\n",
            "Note, selecting 'fonts-nanum-extra' for glob 'fonts-nanum*'\n",
            "Note, selecting 'fonts-nanum-coding' for glob 'fonts-nanum*'\n",
            "Note, selecting 'fonts-nanum-eco' for glob 'fonts-nanum*'\n",
            "Note, selecting 'fonts-nanum' for glob 'fonts-nanum*'\n",
            "fonts-nanum is already the newest version (20200506-1).\n",
            "The following NEW packages will be installed:\n",
            "  fonts-nanum-coding fonts-nanum-eco fonts-nanum-extra\n",
            "0 upgraded, 3 newly installed, 0 to remove and 0 not upgraded.\n",
            "Need to get 35.7 MB of archives.\n",
            "After this operation, 143 MB of additional disk space will be used.\n",
            "Get:1 http://archive.ubuntu.com/ubuntu jammy/universe amd64 fonts-nanum-coding all 2.5-3 [4,988 B]\n",
            "Get:2 http://archive.ubuntu.com/ubuntu jammy/universe amd64 fonts-nanum-eco all 1.000-7 [14.7 MB]\n",
            "Get:3 http://archive.ubuntu.com/ubuntu jammy/universe amd64 fonts-nanum-extra all 20200506-1 [21.0 MB]\n",
            "Fetched 35.7 MB in 1s (38.0 MB/s)\n",
            "Selecting previously unselected package fonts-nanum-coding.\n",
            "(Reading database ... 117947 files and directories currently installed.)\n",
            "Preparing to unpack .../fonts-nanum-coding_2.5-3_all.deb ...\n",
            "Unpacking fonts-nanum-coding (2.5-3) ...\n",
            "Selecting previously unselected package fonts-nanum-eco.\n",
            "Preparing to unpack .../fonts-nanum-eco_1.000-7_all.deb ...\n",
            "Unpacking fonts-nanum-eco (1.000-7) ...\n",
            "Selecting previously unselected package fonts-nanum-extra.\n",
            "Preparing to unpack .../fonts-nanum-extra_20200506-1_all.deb ...\n",
            "Unpacking fonts-nanum-extra (20200506-1) ...\n",
            "Setting up fonts-nanum-extra (20200506-1) ...\n",
            "Setting up fonts-nanum-coding (2.5-3) ...\n",
            "Setting up fonts-nanum-eco (1.000-7) ...\n",
            "Processing triggers for fontconfig (2.13.1-4.2ubuntu5) ...\n",
            "Reading package lists... Done\n",
            "Building dependency tree... Done\n",
            "Reading state information... Done\n",
            "fontconfig is already the newest version (2.13.1-4.2ubuntu5).\n",
            "fontconfig set to manually installed.\n",
            "0 upgraded, 0 newly installed, 0 to remove and 0 not upgraded.\n"
          ]
        }
      ]
    },
    {
      "cell_type": "markdown",
      "source": [],
      "metadata": {
        "id": "WlcryyTjUnSW"
      }
    }
  ]
}