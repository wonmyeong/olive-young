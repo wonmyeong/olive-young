{
  "nbformat": 4,
  "nbformat_minor": 0,
  "metadata": {
    "colab": {
      "provenance": [],
      "mount_file_id": "1lTzjEkh2RAqfoimlXGQ8QPJ6GU7TT3Zj",
      "authorship_tag": "ABX9TyNJnrrG/H9dBuZIxG56purr",
      "include_colab_link": true
    },
    "kernelspec": {
      "name": "python3",
      "display_name": "Python 3"
    },
    "language_info": {
      "name": "python"
    }
  },
  "cells": [
    {
      "cell_type": "markdown",
      "metadata": {
        "id": "view-in-github",
        "colab_type": "text"
      },
      "source": [
        "<a href=\"https://colab.research.google.com/github/wonmyeong/olive-young/blob/master/SVM_oliveyoung.ipynb\" target=\"_parent\"><img src=\"https://colab.research.google.com/assets/colab-badge.svg\" alt=\"Open In Colab\"/></a>"
      ]
    },
    {
      "cell_type": "code",
      "execution_count": null,
      "metadata": {
        "id": "iQh9PnXvJK4v"
      },
      "outputs": [],
      "source": [
        "!pip install -q tweepy==3.10"
      ]
    },
    {
      "cell_type": "code",
      "source": [],
      "metadata": {
        "id": "rk6XG5Uz1wAH"
      },
      "execution_count": null,
      "outputs": []
    },
    {
      "cell_type": "code",
      "source": [
        "try:\n",
        "    import konlpy\n",
        "except:\n",
        "    !pip install -q konlpy\n",
        "    import konlpy\n",
        "\n",
        "import pandas as pd\n",
        "import numpy as np\n",
        "\n",
        "konlpy.__version__"
      ],
      "metadata": {
        "colab": {
          "base_uri": "https://localhost:8080/",
          "height": 72
        },
        "id": "27U2a7DBJqEk",
        "outputId": "865a5be3-5156-400d-bd51-6d3bcabf60c6"
      },
      "execution_count": null,
      "outputs": [
        {
          "output_type": "stream",
          "name": "stdout",
          "text": [
            "\u001b[2K     \u001b[90m━━━━━━━━━━━━━━━━━━━━━━━━━━━━━━━━━━━━━━━━\u001b[0m \u001b[32m19.4/19.4 MB\u001b[0m \u001b[31m37.9 MB/s\u001b[0m eta \u001b[36m0:00:00\u001b[0m\n",
            "\u001b[2K     \u001b[90m━━━━━━━━━━━━━━━━━━━━━━━━━━━━━━━━━━━━━━━━\u001b[0m \u001b[32m488.6/488.6 kB\u001b[0m \u001b[31m43.4 MB/s\u001b[0m eta \u001b[36m0:00:00\u001b[0m\n",
            "\u001b[?25h"
          ]
        },
        {
          "output_type": "execute_result",
          "data": {
            "text/plain": [
              "'0.6.0'"
            ],
            "application/vnd.google.colaboratory.intrinsic+json": {
              "type": "string"
            }
          },
          "metadata": {},
          "execution_count": 2
        }
      ]
    },
    {
      "cell_type": "code",
      "source": [
        "!apt-get install fonts-nanum*\n",
        "!apt-get install fontconfig\n",
        "!pip install wordcloud"
      ],
      "metadata": {
        "id": "sfl1wm-L94qN",
        "colab": {
          "base_uri": "https://localhost:8080/"
        },
        "outputId": "d724b6df-a88d-4d31-8f87-9483b2398c8d"
      },
      "execution_count": null,
      "outputs": [
        {
          "output_type": "stream",
          "name": "stdout",
          "text": [
            "Reading package lists... Done\n",
            "Building dependency tree... Done\n",
            "Reading state information... Done\n",
            "Note, selecting 'fonts-nanum-extra' for glob 'fonts-nanum*'\n",
            "Note, selecting 'fonts-nanum-coding' for glob 'fonts-nanum*'\n",
            "Note, selecting 'fonts-nanum-eco' for glob 'fonts-nanum*'\n",
            "Note, selecting 'fonts-nanum' for glob 'fonts-nanum*'\n",
            "The following NEW packages will be installed:\n",
            "  fonts-nanum fonts-nanum-coding fonts-nanum-eco fonts-nanum-extra\n",
            "0 upgraded, 4 newly installed, 0 to remove and 45 not upgraded.\n",
            "Need to get 46.0 MB of archives.\n",
            "After this operation, 177 MB of additional disk space will be used.\n",
            "Get:1 http://archive.ubuntu.com/ubuntu jammy/universe amd64 fonts-nanum all 20200506-1 [10.3 MB]\n",
            "Get:2 http://archive.ubuntu.com/ubuntu jammy/universe amd64 fonts-nanum-coding all 2.5-3 [4,988 B]\n",
            "Get:3 http://archive.ubuntu.com/ubuntu jammy/universe amd64 fonts-nanum-eco all 1.000-7 [14.7 MB]\n",
            "Get:4 http://archive.ubuntu.com/ubuntu jammy/universe amd64 fonts-nanum-extra all 20200506-1 [21.0 MB]\n",
            "Fetched 46.0 MB in 4s (12.6 MB/s)\n",
            "Selecting previously unselected package fonts-nanum.\n",
            "(Reading database ... 121918 files and directories currently installed.)\n",
            "Preparing to unpack .../fonts-nanum_20200506-1_all.deb ...\n",
            "Unpacking fonts-nanum (20200506-1) ...\n",
            "Selecting previously unselected package fonts-nanum-coding.\n",
            "Preparing to unpack .../fonts-nanum-coding_2.5-3_all.deb ...\n",
            "Unpacking fonts-nanum-coding (2.5-3) ...\n",
            "Selecting previously unselected package fonts-nanum-eco.\n",
            "Preparing to unpack .../fonts-nanum-eco_1.000-7_all.deb ...\n",
            "Unpacking fonts-nanum-eco (1.000-7) ...\n",
            "Selecting previously unselected package fonts-nanum-extra.\n",
            "Preparing to unpack .../fonts-nanum-extra_20200506-1_all.deb ...\n",
            "Unpacking fonts-nanum-extra (20200506-1) ...\n",
            "Setting up fonts-nanum-extra (20200506-1) ...\n",
            "Setting up fonts-nanum (20200506-1) ...\n",
            "Setting up fonts-nanum-coding (2.5-3) ...\n",
            "Setting up fonts-nanum-eco (1.000-7) ...\n",
            "Processing triggers for fontconfig (2.13.1-4.2ubuntu5) ...\n",
            "Reading package lists... Done\n",
            "Building dependency tree... Done\n",
            "Reading state information... Done\n",
            "fontconfig is already the newest version (2.13.1-4.2ubuntu5).\n",
            "fontconfig set to manually installed.\n",
            "0 upgraded, 0 newly installed, 0 to remove and 45 not upgraded.\n",
            "Requirement already satisfied: wordcloud in /usr/local/lib/python3.10/dist-packages (1.9.3)\n",
            "Requirement already satisfied: numpy>=1.6.1 in /usr/local/lib/python3.10/dist-packages (from wordcloud) (1.25.2)\n",
            "Requirement already satisfied: pillow in /usr/local/lib/python3.10/dist-packages (from wordcloud) (9.4.0)\n",
            "Requirement already satisfied: matplotlib in /usr/local/lib/python3.10/dist-packages (from wordcloud) (3.7.1)\n",
            "Requirement already satisfied: contourpy>=1.0.1 in /usr/local/lib/python3.10/dist-packages (from matplotlib->wordcloud) (1.2.1)\n",
            "Requirement already satisfied: cycler>=0.10 in /usr/local/lib/python3.10/dist-packages (from matplotlib->wordcloud) (0.12.1)\n",
            "Requirement already satisfied: fonttools>=4.22.0 in /usr/local/lib/python3.10/dist-packages (from matplotlib->wordcloud) (4.51.0)\n",
            "Requirement already satisfied: kiwisolver>=1.0.1 in /usr/local/lib/python3.10/dist-packages (from matplotlib->wordcloud) (1.4.5)\n",
            "Requirement already satisfied: packaging>=20.0 in /usr/local/lib/python3.10/dist-packages (from matplotlib->wordcloud) (24.0)\n",
            "Requirement already satisfied: pyparsing>=2.3.1 in /usr/local/lib/python3.10/dist-packages (from matplotlib->wordcloud) (3.1.2)\n",
            "Requirement already satisfied: python-dateutil>=2.7 in /usr/local/lib/python3.10/dist-packages (from matplotlib->wordcloud) (2.8.2)\n",
            "Requirement already satisfied: six>=1.5 in /usr/local/lib/python3.10/dist-packages (from python-dateutil>=2.7->matplotlib->wordcloud) (1.16.0)\n"
          ]
        }
      ]
    },
    {
      "cell_type": "code",
      "source": [
        "!sudo apt-get install -y fonts-nanum\n",
        "!sudo fc-cache -fv\n",
        "!rm ~/.cache/matplotlib -rf"
      ],
      "metadata": {
        "colab": {
          "base_uri": "https://localhost:8080/"
        },
        "id": "lygrp5Fo2fEP",
        "outputId": "b982af70-92d6-4aaf-875a-0ae12a245a7f"
      },
      "execution_count": null,
      "outputs": [
        {
          "output_type": "stream",
          "name": "stdout",
          "text": [
            "Reading package lists... Done\n",
            "Building dependency tree... Done\n",
            "Reading state information... Done\n",
            "fonts-nanum is already the newest version (20200506-1).\n",
            "0 upgraded, 0 newly installed, 0 to remove and 45 not upgraded.\n",
            "/usr/share/fonts: caching, new cache contents: 0 fonts, 1 dirs\n",
            "/usr/share/fonts/truetype: caching, new cache contents: 0 fonts, 3 dirs\n",
            "/usr/share/fonts/truetype/humor-sans: caching, new cache contents: 1 fonts, 0 dirs\n",
            "/usr/share/fonts/truetype/liberation: caching, new cache contents: 16 fonts, 0 dirs\n",
            "/usr/share/fonts/truetype/nanum: caching, new cache contents: 39 fonts, 0 dirs\n",
            "/usr/local/share/fonts: caching, new cache contents: 0 fonts, 0 dirs\n",
            "/root/.local/share/fonts: skipping, no such directory\n",
            "/root/.fonts: skipping, no such directory\n",
            "/usr/share/fonts/truetype: skipping, looped directory detected\n",
            "/usr/share/fonts/truetype/humor-sans: skipping, looped directory detected\n",
            "/usr/share/fonts/truetype/liberation: skipping, looped directory detected\n",
            "/usr/share/fonts/truetype/nanum: skipping, looped directory detected\n",
            "/var/cache/fontconfig: cleaning cache directory\n",
            "/root/.cache/fontconfig: not cleaning non-existent cache directory\n",
            "/root/.fontconfig: not cleaning non-existent cache directory\n",
            "fc-cache: succeeded\n"
          ]
        }
      ]
    },
    {
      "cell_type": "code",
      "source": [],
      "metadata": {
        "id": "YOmp78bw2gD3"
      },
      "execution_count": null,
      "outputs": []
    },
    {
      "cell_type": "code",
      "source": [
        "import pandas as pd\n",
        "import numpy as np\n",
        "import matplotlib.pyplot as plt\n",
        "plt.rc('font', family='NanumBarunGothic')\n",
        "plt.rcParams['axes.unicode_minus'] =False"
      ],
      "metadata": {
        "id": "DhOCt7wHJqGr"
      },
      "execution_count": null,
      "outputs": []
    },
    {
      "cell_type": "code",
      "source": [
        "# data_df = pd.read_csv(\"//content//drive//MyDrive//oliveyoung_paper//concat_review_df\")\n",
        "data_df = pd.read_csv(\"//content//drive//MyDrive//oliveyoung_paper//7500_concat_review_df\")\n",
        "data_df.drop(columns=[\"Unnamed: 0\"],inplace=True)\n",
        "from konlpy.tag import Okt\n",
        "okt = Okt()\n",
        "def clean_text(text):\n",
        "      tokens = okt.pos(text)\n",
        "      # 조사, 구두점, 알파벳을 제외\n",
        "      tokens = [(word, pos) for word, pos in tokens if pos not in ['Josa', 'Punctuation', 'Alpha']]\n",
        "      # Extract only the words from the first element of each tuple\n",
        "      words = [word for word, _ in tokens]\n",
        "\n",
        "      # Join the words together to form a sentence\n",
        "      cleaned_text = ' '.join(words)  # 공백 없이 한글 단어들을 연결합니다.\n",
        "\n",
        "      return cleaned_text\n",
        "\n",
        "\n",
        "data_df['review'] = data_df['review'].apply(lambda x: clean_text(x))\n",
        "\n",
        "text_test = data_df['review'].values\n",
        "y_test = data_df['label'].values"
      ],
      "metadata": {
        "id": "EDdpiWqLJqJD"
      },
      "execution_count": null,
      "outputs": []
    },
    {
      "cell_type": "code",
      "source": [
        "data_df.head()"
      ],
      "metadata": {
        "colab": {
          "base_uri": "https://localhost:8080/",
          "height": 206
        },
        "id": "XFFdt81tTCxN",
        "outputId": "e18b9f50-a9f2-45ca-891a-379e4d8a8971"
      },
      "execution_count": null,
      "outputs": [
        {
          "output_type": "execute_result",
          "data": {
            "text/plain": [
              "                review  label\n",
              "0           유통 기한 넉넉하고      1\n",
              "1     구성 많아서 선물 하기 좋네요      1\n",
              "2               구성 알차고      1\n",
              "3          촉촉하고 너무 좋아용      1\n",
              "4  대 용량 넉넉하게 사용 할 수 있고      1"
            ],
            "text/html": [
              "\n",
              "  <div id=\"df-e358db02-02d8-4546-9d67-79bab6a4f878\" class=\"colab-df-container\">\n",
              "    <div>\n",
              "<style scoped>\n",
              "    .dataframe tbody tr th:only-of-type {\n",
              "        vertical-align: middle;\n",
              "    }\n",
              "\n",
              "    .dataframe tbody tr th {\n",
              "        vertical-align: top;\n",
              "    }\n",
              "\n",
              "    .dataframe thead th {\n",
              "        text-align: right;\n",
              "    }\n",
              "</style>\n",
              "<table border=\"1\" class=\"dataframe\">\n",
              "  <thead>\n",
              "    <tr style=\"text-align: right;\">\n",
              "      <th></th>\n",
              "      <th>review</th>\n",
              "      <th>label</th>\n",
              "    </tr>\n",
              "  </thead>\n",
              "  <tbody>\n",
              "    <tr>\n",
              "      <th>0</th>\n",
              "      <td>유통 기한 넉넉하고</td>\n",
              "      <td>1</td>\n",
              "    </tr>\n",
              "    <tr>\n",
              "      <th>1</th>\n",
              "      <td>구성 많아서 선물 하기 좋네요</td>\n",
              "      <td>1</td>\n",
              "    </tr>\n",
              "    <tr>\n",
              "      <th>2</th>\n",
              "      <td>구성 알차고</td>\n",
              "      <td>1</td>\n",
              "    </tr>\n",
              "    <tr>\n",
              "      <th>3</th>\n",
              "      <td>촉촉하고 너무 좋아용</td>\n",
              "      <td>1</td>\n",
              "    </tr>\n",
              "    <tr>\n",
              "      <th>4</th>\n",
              "      <td>대 용량 넉넉하게 사용 할 수 있고</td>\n",
              "      <td>1</td>\n",
              "    </tr>\n",
              "  </tbody>\n",
              "</table>\n",
              "</div>\n",
              "    <div class=\"colab-df-buttons\">\n",
              "\n",
              "  <div class=\"colab-df-container\">\n",
              "    <button class=\"colab-df-convert\" onclick=\"convertToInteractive('df-e358db02-02d8-4546-9d67-79bab6a4f878')\"\n",
              "            title=\"Convert this dataframe to an interactive table.\"\n",
              "            style=\"display:none;\">\n",
              "\n",
              "  <svg xmlns=\"http://www.w3.org/2000/svg\" height=\"24px\" viewBox=\"0 -960 960 960\">\n",
              "    <path d=\"M120-120v-720h720v720H120Zm60-500h600v-160H180v160Zm220 220h160v-160H400v160Zm0 220h160v-160H400v160ZM180-400h160v-160H180v160Zm440 0h160v-160H620v160ZM180-180h160v-160H180v160Zm440 0h160v-160H620v160Z\"/>\n",
              "  </svg>\n",
              "    </button>\n",
              "\n",
              "  <style>\n",
              "    .colab-df-container {\n",
              "      display:flex;\n",
              "      gap: 12px;\n",
              "    }\n",
              "\n",
              "    .colab-df-convert {\n",
              "      background-color: #E8F0FE;\n",
              "      border: none;\n",
              "      border-radius: 50%;\n",
              "      cursor: pointer;\n",
              "      display: none;\n",
              "      fill: #1967D2;\n",
              "      height: 32px;\n",
              "      padding: 0 0 0 0;\n",
              "      width: 32px;\n",
              "    }\n",
              "\n",
              "    .colab-df-convert:hover {\n",
              "      background-color: #E2EBFA;\n",
              "      box-shadow: 0px 1px 2px rgba(60, 64, 67, 0.3), 0px 1px 3px 1px rgba(60, 64, 67, 0.15);\n",
              "      fill: #174EA6;\n",
              "    }\n",
              "\n",
              "    .colab-df-buttons div {\n",
              "      margin-bottom: 4px;\n",
              "    }\n",
              "\n",
              "    [theme=dark] .colab-df-convert {\n",
              "      background-color: #3B4455;\n",
              "      fill: #D2E3FC;\n",
              "    }\n",
              "\n",
              "    [theme=dark] .colab-df-convert:hover {\n",
              "      background-color: #434B5C;\n",
              "      box-shadow: 0px 1px 3px 1px rgba(0, 0, 0, 0.15);\n",
              "      filter: drop-shadow(0px 1px 2px rgba(0, 0, 0, 0.3));\n",
              "      fill: #FFFFFF;\n",
              "    }\n",
              "  </style>\n",
              "\n",
              "    <script>\n",
              "      const buttonEl =\n",
              "        document.querySelector('#df-e358db02-02d8-4546-9d67-79bab6a4f878 button.colab-df-convert');\n",
              "      buttonEl.style.display =\n",
              "        google.colab.kernel.accessAllowed ? 'block' : 'none';\n",
              "\n",
              "      async function convertToInteractive(key) {\n",
              "        const element = document.querySelector('#df-e358db02-02d8-4546-9d67-79bab6a4f878');\n",
              "        const dataTable =\n",
              "          await google.colab.kernel.invokeFunction('convertToInteractive',\n",
              "                                                    [key], {});\n",
              "        if (!dataTable) return;\n",
              "\n",
              "        const docLinkHtml = 'Like what you see? Visit the ' +\n",
              "          '<a target=\"_blank\" href=https://colab.research.google.com/notebooks/data_table.ipynb>data table notebook</a>'\n",
              "          + ' to learn more about interactive tables.';\n",
              "        element.innerHTML = '';\n",
              "        dataTable['output_type'] = 'display_data';\n",
              "        await google.colab.output.renderOutput(dataTable, element);\n",
              "        const docLink = document.createElement('div');\n",
              "        docLink.innerHTML = docLinkHtml;\n",
              "        element.appendChild(docLink);\n",
              "      }\n",
              "    </script>\n",
              "  </div>\n",
              "\n",
              "\n",
              "<div id=\"df-3408d8f1-5b6b-45ee-b5df-825a65c8ccd8\">\n",
              "  <button class=\"colab-df-quickchart\" onclick=\"quickchart('df-3408d8f1-5b6b-45ee-b5df-825a65c8ccd8')\"\n",
              "            title=\"Suggest charts\"\n",
              "            style=\"display:none;\">\n",
              "\n",
              "<svg xmlns=\"http://www.w3.org/2000/svg\" height=\"24px\"viewBox=\"0 0 24 24\"\n",
              "     width=\"24px\">\n",
              "    <g>\n",
              "        <path d=\"M19 3H5c-1.1 0-2 .9-2 2v14c0 1.1.9 2 2 2h14c1.1 0 2-.9 2-2V5c0-1.1-.9-2-2-2zM9 17H7v-7h2v7zm4 0h-2V7h2v10zm4 0h-2v-4h2v4z\"/>\n",
              "    </g>\n",
              "</svg>\n",
              "  </button>\n",
              "\n",
              "<style>\n",
              "  .colab-df-quickchart {\n",
              "      --bg-color: #E8F0FE;\n",
              "      --fill-color: #1967D2;\n",
              "      --hover-bg-color: #E2EBFA;\n",
              "      --hover-fill-color: #174EA6;\n",
              "      --disabled-fill-color: #AAA;\n",
              "      --disabled-bg-color: #DDD;\n",
              "  }\n",
              "\n",
              "  [theme=dark] .colab-df-quickchart {\n",
              "      --bg-color: #3B4455;\n",
              "      --fill-color: #D2E3FC;\n",
              "      --hover-bg-color: #434B5C;\n",
              "      --hover-fill-color: #FFFFFF;\n",
              "      --disabled-bg-color: #3B4455;\n",
              "      --disabled-fill-color: #666;\n",
              "  }\n",
              "\n",
              "  .colab-df-quickchart {\n",
              "    background-color: var(--bg-color);\n",
              "    border: none;\n",
              "    border-radius: 50%;\n",
              "    cursor: pointer;\n",
              "    display: none;\n",
              "    fill: var(--fill-color);\n",
              "    height: 32px;\n",
              "    padding: 0;\n",
              "    width: 32px;\n",
              "  }\n",
              "\n",
              "  .colab-df-quickchart:hover {\n",
              "    background-color: var(--hover-bg-color);\n",
              "    box-shadow: 0 1px 2px rgba(60, 64, 67, 0.3), 0 1px 3px 1px rgba(60, 64, 67, 0.15);\n",
              "    fill: var(--button-hover-fill-color);\n",
              "  }\n",
              "\n",
              "  .colab-df-quickchart-complete:disabled,\n",
              "  .colab-df-quickchart-complete:disabled:hover {\n",
              "    background-color: var(--disabled-bg-color);\n",
              "    fill: var(--disabled-fill-color);\n",
              "    box-shadow: none;\n",
              "  }\n",
              "\n",
              "  .colab-df-spinner {\n",
              "    border: 2px solid var(--fill-color);\n",
              "    border-color: transparent;\n",
              "    border-bottom-color: var(--fill-color);\n",
              "    animation:\n",
              "      spin 1s steps(1) infinite;\n",
              "  }\n",
              "\n",
              "  @keyframes spin {\n",
              "    0% {\n",
              "      border-color: transparent;\n",
              "      border-bottom-color: var(--fill-color);\n",
              "      border-left-color: var(--fill-color);\n",
              "    }\n",
              "    20% {\n",
              "      border-color: transparent;\n",
              "      border-left-color: var(--fill-color);\n",
              "      border-top-color: var(--fill-color);\n",
              "    }\n",
              "    30% {\n",
              "      border-color: transparent;\n",
              "      border-left-color: var(--fill-color);\n",
              "      border-top-color: var(--fill-color);\n",
              "      border-right-color: var(--fill-color);\n",
              "    }\n",
              "    40% {\n",
              "      border-color: transparent;\n",
              "      border-right-color: var(--fill-color);\n",
              "      border-top-color: var(--fill-color);\n",
              "    }\n",
              "    60% {\n",
              "      border-color: transparent;\n",
              "      border-right-color: var(--fill-color);\n",
              "    }\n",
              "    80% {\n",
              "      border-color: transparent;\n",
              "      border-right-color: var(--fill-color);\n",
              "      border-bottom-color: var(--fill-color);\n",
              "    }\n",
              "    90% {\n",
              "      border-color: transparent;\n",
              "      border-bottom-color: var(--fill-color);\n",
              "    }\n",
              "  }\n",
              "</style>\n",
              "\n",
              "  <script>\n",
              "    async function quickchart(key) {\n",
              "      const quickchartButtonEl =\n",
              "        document.querySelector('#' + key + ' button');\n",
              "      quickchartButtonEl.disabled = true;  // To prevent multiple clicks.\n",
              "      quickchartButtonEl.classList.add('colab-df-spinner');\n",
              "      try {\n",
              "        const charts = await google.colab.kernel.invokeFunction(\n",
              "            'suggestCharts', [key], {});\n",
              "      } catch (error) {\n",
              "        console.error('Error during call to suggestCharts:', error);\n",
              "      }\n",
              "      quickchartButtonEl.classList.remove('colab-df-spinner');\n",
              "      quickchartButtonEl.classList.add('colab-df-quickchart-complete');\n",
              "    }\n",
              "    (() => {\n",
              "      let quickchartButtonEl =\n",
              "        document.querySelector('#df-3408d8f1-5b6b-45ee-b5df-825a65c8ccd8 button');\n",
              "      quickchartButtonEl.style.display =\n",
              "        google.colab.kernel.accessAllowed ? 'block' : 'none';\n",
              "    })();\n",
              "  </script>\n",
              "</div>\n",
              "\n",
              "    </div>\n",
              "  </div>\n"
            ],
            "application/vnd.google.colaboratory.intrinsic+json": {
              "type": "dataframe",
              "variable_name": "data_df",
              "summary": "{\n  \"name\": \"data_df\",\n  \"rows\": 15000,\n  \"fields\": [\n    {\n      \"column\": \"review\",\n      \"properties\": {\n        \"dtype\": \"string\",\n        \"num_unique_values\": 11988,\n        \"samples\": [\n          \"\\ubf40\\uc1a1\\ud574\\uc11c \\ub9d8 \\ub4e4\\uc5b4\\uc694\",\n          \"\\ud53c\\ubd80 \\ud761\\uc218 \\uc798 \\uc548 \\ub418\\uace0\",\n          \"\\ub9ac\\ud504 \\ud305 \\ud6a8\\uacfc \\uc5c6\\uc2b5\\ub2c8\\ub2e4\"\n        ],\n        \"semantic_type\": \"\",\n        \"description\": \"\"\n      }\n    },\n    {\n      \"column\": \"label\",\n      \"properties\": {\n        \"dtype\": \"number\",\n        \"std\": 0,\n        \"min\": 0,\n        \"max\": 1,\n        \"num_unique_values\": 2,\n        \"samples\": [\n          0,\n          1\n        ],\n        \"semantic_type\": \"\",\n        \"description\": \"\"\n      }\n    }\n  ]\n}"
            }
          },
          "metadata": {},
          "execution_count": 7
        }
      ]
    },
    {
      "cell_type": "code",
      "source": [
        "from konlpy.tag import Okt\n",
        "\n",
        "class PicklableOkt(Okt):\n",
        "    def __init__(self, *args):\n",
        "        self.args = args\n",
        "        Okt.__init__(self, *args)\n",
        "\n",
        "    def __getstate__(self):\n",
        "        return {'args': self.args}\n",
        "\n",
        "    def __setstate__(self, state):\n",
        "        self.__init__(*state['args'])\n"
      ],
      "metadata": {
        "id": "-ZY54oNfJqLX"
      },
      "execution_count": null,
      "outputs": []
    },
    {
      "cell_type": "markdown",
      "source": [
        "###SVC RBF 커널 활용  모델 학습\n"
      ],
      "metadata": {
        "id": "T0FeduE3OcRw"
      }
    },
    {
      "cell_type": "code",
      "source": [
        "from sklearn.feature_extraction.text import TfidfVectorizer\n",
        "from sklearn.svm import SVC\n",
        "from sklearn.pipeline import make_pipeline\n",
        "from sklearn.model_selection import GridSearchCV\n",
        "\n",
        "# 직렬화 가능한 PickableOkt 사용하여 파이프라인 생성\n",
        "param_grid = {\n",
        "    'tfidfvectorizer__min_df': [1,3,5],\n",
        "    'tfidfvectorizer__ngram_range': [(1, 1), (1, 2), (1, 3)],\n",
        "    'svc__C': [0.1, 1, 10],\n",
        "    'svc__gamma': [0.1, 0.01, 0.001]\n",
        "}\n",
        "\n",
        "pipe = make_pipeline(TfidfVectorizer(tokenizer=PicklableOkt().morphs), SVC(kernel='rbf'))\n",
        "grid = GridSearchCV(pipe, param_grid, n_jobs=-1)\n",
        "grid.fit(text_test, y_test)\n"
      ],
      "metadata": {
        "id": "ltq0kNYXJqNk",
        "colab": {
          "base_uri": "https://localhost:8080/",
          "height": 187
        },
        "outputId": "2871ca42-67a9-48a4-9e9b-df0fcb4424ed"
      },
      "execution_count": null,
      "outputs": [
        {
          "output_type": "stream",
          "name": "stderr",
          "text": [
            "/usr/local/lib/python3.10/dist-packages/sklearn/feature_extraction/text.py:528: UserWarning: The parameter 'token_pattern' will not be used since 'tokenizer' is not None'\n",
            "  warnings.warn(\n"
          ]
        },
        {
          "output_type": "execute_result",
          "data": {
            "text/plain": [
              "GridSearchCV(estimator=Pipeline(steps=[('tfidfvectorizer',\n",
              "                                        TfidfVectorizer(tokenizer=<bound method Okt.morphs of <__main__.PicklableOkt object at 0x7aef60adbd90>>)),\n",
              "                                       ('svc', SVC())]),\n",
              "             n_jobs=-1,\n",
              "             param_grid={'svc__C': [0.1, 1, 10],\n",
              "                         'svc__gamma': [0.1, 0.01, 0.001],\n",
              "                         'tfidfvectorizer__min_df': [1, 3, 5],\n",
              "                         'tfidfvectorizer__ngram_range': [(1, 1), (1, 2),\n",
              "                                                          (1, 3)]})"
            ],
            "text/html": [
              "<style>#sk-container-id-1 {color: black;background-color: white;}#sk-container-id-1 pre{padding: 0;}#sk-container-id-1 div.sk-toggleable {background-color: white;}#sk-container-id-1 label.sk-toggleable__label {cursor: pointer;display: block;width: 100%;margin-bottom: 0;padding: 0.3em;box-sizing: border-box;text-align: center;}#sk-container-id-1 label.sk-toggleable__label-arrow:before {content: \"▸\";float: left;margin-right: 0.25em;color: #696969;}#sk-container-id-1 label.sk-toggleable__label-arrow:hover:before {color: black;}#sk-container-id-1 div.sk-estimator:hover label.sk-toggleable__label-arrow:before {color: black;}#sk-container-id-1 div.sk-toggleable__content {max-height: 0;max-width: 0;overflow: hidden;text-align: left;background-color: #f0f8ff;}#sk-container-id-1 div.sk-toggleable__content pre {margin: 0.2em;color: black;border-radius: 0.25em;background-color: #f0f8ff;}#sk-container-id-1 input.sk-toggleable__control:checked~div.sk-toggleable__content {max-height: 200px;max-width: 100%;overflow: auto;}#sk-container-id-1 input.sk-toggleable__control:checked~label.sk-toggleable__label-arrow:before {content: \"▾\";}#sk-container-id-1 div.sk-estimator input.sk-toggleable__control:checked~label.sk-toggleable__label {background-color: #d4ebff;}#sk-container-id-1 div.sk-label input.sk-toggleable__control:checked~label.sk-toggleable__label {background-color: #d4ebff;}#sk-container-id-1 input.sk-hidden--visually {border: 0;clip: rect(1px 1px 1px 1px);clip: rect(1px, 1px, 1px, 1px);height: 1px;margin: -1px;overflow: hidden;padding: 0;position: absolute;width: 1px;}#sk-container-id-1 div.sk-estimator {font-family: monospace;background-color: #f0f8ff;border: 1px dotted black;border-radius: 0.25em;box-sizing: border-box;margin-bottom: 0.5em;}#sk-container-id-1 div.sk-estimator:hover {background-color: #d4ebff;}#sk-container-id-1 div.sk-parallel-item::after {content: \"\";width: 100%;border-bottom: 1px solid gray;flex-grow: 1;}#sk-container-id-1 div.sk-label:hover label.sk-toggleable__label {background-color: #d4ebff;}#sk-container-id-1 div.sk-serial::before {content: \"\";position: absolute;border-left: 1px solid gray;box-sizing: border-box;top: 0;bottom: 0;left: 50%;z-index: 0;}#sk-container-id-1 div.sk-serial {display: flex;flex-direction: column;align-items: center;background-color: white;padding-right: 0.2em;padding-left: 0.2em;position: relative;}#sk-container-id-1 div.sk-item {position: relative;z-index: 1;}#sk-container-id-1 div.sk-parallel {display: flex;align-items: stretch;justify-content: center;background-color: white;position: relative;}#sk-container-id-1 div.sk-item::before, #sk-container-id-1 div.sk-parallel-item::before {content: \"\";position: absolute;border-left: 1px solid gray;box-sizing: border-box;top: 0;bottom: 0;left: 50%;z-index: -1;}#sk-container-id-1 div.sk-parallel-item {display: flex;flex-direction: column;z-index: 1;position: relative;background-color: white;}#sk-container-id-1 div.sk-parallel-item:first-child::after {align-self: flex-end;width: 50%;}#sk-container-id-1 div.sk-parallel-item:last-child::after {align-self: flex-start;width: 50%;}#sk-container-id-1 div.sk-parallel-item:only-child::after {width: 0;}#sk-container-id-1 div.sk-dashed-wrapped {border: 1px dashed gray;margin: 0 0.4em 0.5em 0.4em;box-sizing: border-box;padding-bottom: 0.4em;background-color: white;}#sk-container-id-1 div.sk-label label {font-family: monospace;font-weight: bold;display: inline-block;line-height: 1.2em;}#sk-container-id-1 div.sk-label-container {text-align: center;}#sk-container-id-1 div.sk-container {/* jupyter's `normalize.less` sets `[hidden] { display: none; }` but bootstrap.min.css set `[hidden] { display: none !important; }` so we also need the `!important` here to be able to override the default hidden behavior on the sphinx rendered scikit-learn.org. See: https://github.com/scikit-learn/scikit-learn/issues/21755 */display: inline-block !important;position: relative;}#sk-container-id-1 div.sk-text-repr-fallback {display: none;}</style><div id=\"sk-container-id-1\" class=\"sk-top-container\"><div class=\"sk-text-repr-fallback\"><pre>GridSearchCV(estimator=Pipeline(steps=[(&#x27;tfidfvectorizer&#x27;,\n",
              "                                        TfidfVectorizer(tokenizer=&lt;bound method Okt.morphs of &lt;__main__.PicklableOkt object at 0x7aef60adbd90&gt;&gt;)),\n",
              "                                       (&#x27;svc&#x27;, SVC())]),\n",
              "             n_jobs=-1,\n",
              "             param_grid={&#x27;svc__C&#x27;: [0.1, 1, 10],\n",
              "                         &#x27;svc__gamma&#x27;: [0.1, 0.01, 0.001],\n",
              "                         &#x27;tfidfvectorizer__min_df&#x27;: [1, 3, 5],\n",
              "                         &#x27;tfidfvectorizer__ngram_range&#x27;: [(1, 1), (1, 2),\n",
              "                                                          (1, 3)]})</pre><b>In a Jupyter environment, please rerun this cell to show the HTML representation or trust the notebook. <br />On GitHub, the HTML representation is unable to render, please try loading this page with nbviewer.org.</b></div><div class=\"sk-container\" hidden><div class=\"sk-item sk-dashed-wrapped\"><div class=\"sk-label-container\"><div class=\"sk-label sk-toggleable\"><input class=\"sk-toggleable__control sk-hidden--visually\" id=\"sk-estimator-id-1\" type=\"checkbox\" ><label for=\"sk-estimator-id-1\" class=\"sk-toggleable__label sk-toggleable__label-arrow\">GridSearchCV</label><div class=\"sk-toggleable__content\"><pre>GridSearchCV(estimator=Pipeline(steps=[(&#x27;tfidfvectorizer&#x27;,\n",
              "                                        TfidfVectorizer(tokenizer=&lt;bound method Okt.morphs of &lt;__main__.PicklableOkt object at 0x7aef60adbd90&gt;&gt;)),\n",
              "                                       (&#x27;svc&#x27;, SVC())]),\n",
              "             n_jobs=-1,\n",
              "             param_grid={&#x27;svc__C&#x27;: [0.1, 1, 10],\n",
              "                         &#x27;svc__gamma&#x27;: [0.1, 0.01, 0.001],\n",
              "                         &#x27;tfidfvectorizer__min_df&#x27;: [1, 3, 5],\n",
              "                         &#x27;tfidfvectorizer__ngram_range&#x27;: [(1, 1), (1, 2),\n",
              "                                                          (1, 3)]})</pre></div></div></div><div class=\"sk-parallel\"><div class=\"sk-parallel-item\"><div class=\"sk-item\"><div class=\"sk-label-container\"><div class=\"sk-label sk-toggleable\"><input class=\"sk-toggleable__control sk-hidden--visually\" id=\"sk-estimator-id-2\" type=\"checkbox\" ><label for=\"sk-estimator-id-2\" class=\"sk-toggleable__label sk-toggleable__label-arrow\">estimator: Pipeline</label><div class=\"sk-toggleable__content\"><pre>Pipeline(steps=[(&#x27;tfidfvectorizer&#x27;,\n",
              "                 TfidfVectorizer(tokenizer=&lt;bound method Okt.morphs of &lt;__main__.PicklableOkt object at 0x7aef60adbd90&gt;&gt;)),\n",
              "                (&#x27;svc&#x27;, SVC())])</pre></div></div></div><div class=\"sk-serial\"><div class=\"sk-item\"><div class=\"sk-serial\"><div class=\"sk-item\"><div class=\"sk-estimator sk-toggleable\"><input class=\"sk-toggleable__control sk-hidden--visually\" id=\"sk-estimator-id-3\" type=\"checkbox\" ><label for=\"sk-estimator-id-3\" class=\"sk-toggleable__label sk-toggleable__label-arrow\">TfidfVectorizer</label><div class=\"sk-toggleable__content\"><pre>TfidfVectorizer(tokenizer=&lt;bound method Okt.morphs of &lt;__main__.PicklableOkt object at 0x7aef60adbd90&gt;&gt;)</pre></div></div></div><div class=\"sk-item\"><div class=\"sk-estimator sk-toggleable\"><input class=\"sk-toggleable__control sk-hidden--visually\" id=\"sk-estimator-id-4\" type=\"checkbox\" ><label for=\"sk-estimator-id-4\" class=\"sk-toggleable__label sk-toggleable__label-arrow\">SVC</label><div class=\"sk-toggleable__content\"><pre>SVC()</pre></div></div></div></div></div></div></div></div></div></div></div></div>"
            ]
          },
          "metadata": {},
          "execution_count": 7
        }
      ]
    },
    {
      "cell_type": "code",
      "source": [
        "print(\"최적의 교차 검증 점수 : {:.2f}\".format(grid.best_score_))\n",
        "print(\"최적의 매개변수 : \\n\",grid.best_params_)"
      ],
      "metadata": {
        "id": "VabofvGAJqPl"
      },
      "execution_count": null,
      "outputs": []
    },
    {
      "cell_type": "markdown",
      "source": [
        "###최적 파라미터로 히트맵과 특성별 기울기 값 시각화"
      ],
      "metadata": {
        "id": "pY4y6Lwf2qo2"
      }
    },
    {
      "cell_type": "code",
      "source": [
        "from sklearn.feature_extraction.text import TfidfVectorizer\n",
        "from sklearn.svm import SVC\n",
        "from sklearn.pipeline import make_pipeline\n",
        "from sklearn.model_selection import GridSearchCV\n",
        "\n",
        "# 직렬화 가능한 PickableOkt 사용하여 파이프라인 생성\n",
        "param_grid = {\n",
        "    'tfidfvectorizer__min_df': [1],\n",
        "    'tfidfvectorizer__ngram_range': [(1, 2)],\n",
        "    'svc__C': [10],\n",
        "    'svc__gamma': [0.1]\n",
        "}\n",
        "\n",
        "pipe = make_pipeline(TfidfVectorizer(tokenizer=PicklableOkt().morphs), SVC(kernel='rbf'))\n",
        "grid = GridSearchCV(pipe, param_grid, n_jobs=-1)\n",
        "grid.fit(text_test, y_test)"
      ],
      "metadata": {
        "colab": {
          "base_uri": "https://localhost:8080/",
          "height": 188
        },
        "id": "vffQhqFLF0q6",
        "outputId": "acf728ac-d265-49bc-a553-459d124f9e5e"
      },
      "execution_count": null,
      "outputs": [
        {
          "output_type": "stream",
          "name": "stderr",
          "text": [
            "/usr/local/lib/python3.10/dist-packages/sklearn/feature_extraction/text.py:528: UserWarning: The parameter 'token_pattern' will not be used since 'tokenizer' is not None'\n",
            "  warnings.warn(\n"
          ]
        },
        {
          "output_type": "execute_result",
          "data": {
            "text/plain": [
              "GridSearchCV(estimator=Pipeline(steps=[('tfidfvectorizer',\n",
              "                                        TfidfVectorizer(tokenizer=<bound method Okt.morphs of <__main__.PicklableOkt object at 0x7825b87cdd80>>)),\n",
              "                                       ('svc', SVC())]),\n",
              "             n_jobs=-1,\n",
              "             param_grid={'svc__C': [10], 'svc__gamma': [0.1],\n",
              "                         'tfidfvectorizer__min_df': [1],\n",
              "                         'tfidfvectorizer__ngram_range': [(1, 2)]})"
            ],
            "text/html": [
              "<style>#sk-container-id-1 {color: black;background-color: white;}#sk-container-id-1 pre{padding: 0;}#sk-container-id-1 div.sk-toggleable {background-color: white;}#sk-container-id-1 label.sk-toggleable__label {cursor: pointer;display: block;width: 100%;margin-bottom: 0;padding: 0.3em;box-sizing: border-box;text-align: center;}#sk-container-id-1 label.sk-toggleable__label-arrow:before {content: \"▸\";float: left;margin-right: 0.25em;color: #696969;}#sk-container-id-1 label.sk-toggleable__label-arrow:hover:before {color: black;}#sk-container-id-1 div.sk-estimator:hover label.sk-toggleable__label-arrow:before {color: black;}#sk-container-id-1 div.sk-toggleable__content {max-height: 0;max-width: 0;overflow: hidden;text-align: left;background-color: #f0f8ff;}#sk-container-id-1 div.sk-toggleable__content pre {margin: 0.2em;color: black;border-radius: 0.25em;background-color: #f0f8ff;}#sk-container-id-1 input.sk-toggleable__control:checked~div.sk-toggleable__content {max-height: 200px;max-width: 100%;overflow: auto;}#sk-container-id-1 input.sk-toggleable__control:checked~label.sk-toggleable__label-arrow:before {content: \"▾\";}#sk-container-id-1 div.sk-estimator input.sk-toggleable__control:checked~label.sk-toggleable__label {background-color: #d4ebff;}#sk-container-id-1 div.sk-label input.sk-toggleable__control:checked~label.sk-toggleable__label {background-color: #d4ebff;}#sk-container-id-1 input.sk-hidden--visually {border: 0;clip: rect(1px 1px 1px 1px);clip: rect(1px, 1px, 1px, 1px);height: 1px;margin: -1px;overflow: hidden;padding: 0;position: absolute;width: 1px;}#sk-container-id-1 div.sk-estimator {font-family: monospace;background-color: #f0f8ff;border: 1px dotted black;border-radius: 0.25em;box-sizing: border-box;margin-bottom: 0.5em;}#sk-container-id-1 div.sk-estimator:hover {background-color: #d4ebff;}#sk-container-id-1 div.sk-parallel-item::after {content: \"\";width: 100%;border-bottom: 1px solid gray;flex-grow: 1;}#sk-container-id-1 div.sk-label:hover label.sk-toggleable__label {background-color: #d4ebff;}#sk-container-id-1 div.sk-serial::before {content: \"\";position: absolute;border-left: 1px solid gray;box-sizing: border-box;top: 0;bottom: 0;left: 50%;z-index: 0;}#sk-container-id-1 div.sk-serial {display: flex;flex-direction: column;align-items: center;background-color: white;padding-right: 0.2em;padding-left: 0.2em;position: relative;}#sk-container-id-1 div.sk-item {position: relative;z-index: 1;}#sk-container-id-1 div.sk-parallel {display: flex;align-items: stretch;justify-content: center;background-color: white;position: relative;}#sk-container-id-1 div.sk-item::before, #sk-container-id-1 div.sk-parallel-item::before {content: \"\";position: absolute;border-left: 1px solid gray;box-sizing: border-box;top: 0;bottom: 0;left: 50%;z-index: -1;}#sk-container-id-1 div.sk-parallel-item {display: flex;flex-direction: column;z-index: 1;position: relative;background-color: white;}#sk-container-id-1 div.sk-parallel-item:first-child::after {align-self: flex-end;width: 50%;}#sk-container-id-1 div.sk-parallel-item:last-child::after {align-self: flex-start;width: 50%;}#sk-container-id-1 div.sk-parallel-item:only-child::after {width: 0;}#sk-container-id-1 div.sk-dashed-wrapped {border: 1px dashed gray;margin: 0 0.4em 0.5em 0.4em;box-sizing: border-box;padding-bottom: 0.4em;background-color: white;}#sk-container-id-1 div.sk-label label {font-family: monospace;font-weight: bold;display: inline-block;line-height: 1.2em;}#sk-container-id-1 div.sk-label-container {text-align: center;}#sk-container-id-1 div.sk-container {/* jupyter's `normalize.less` sets `[hidden] { display: none; }` but bootstrap.min.css set `[hidden] { display: none !important; }` so we also need the `!important` here to be able to override the default hidden behavior on the sphinx rendered scikit-learn.org. See: https://github.com/scikit-learn/scikit-learn/issues/21755 */display: inline-block !important;position: relative;}#sk-container-id-1 div.sk-text-repr-fallback {display: none;}</style><div id=\"sk-container-id-1\" class=\"sk-top-container\"><div class=\"sk-text-repr-fallback\"><pre>GridSearchCV(estimator=Pipeline(steps=[(&#x27;tfidfvectorizer&#x27;,\n",
              "                                        TfidfVectorizer(tokenizer=&lt;bound method Okt.morphs of &lt;__main__.PicklableOkt object at 0x7825b87cdd80&gt;&gt;)),\n",
              "                                       (&#x27;svc&#x27;, SVC())]),\n",
              "             n_jobs=-1,\n",
              "             param_grid={&#x27;svc__C&#x27;: [10], &#x27;svc__gamma&#x27;: [0.1],\n",
              "                         &#x27;tfidfvectorizer__min_df&#x27;: [1],\n",
              "                         &#x27;tfidfvectorizer__ngram_range&#x27;: [(1, 2)]})</pre><b>In a Jupyter environment, please rerun this cell to show the HTML representation or trust the notebook. <br />On GitHub, the HTML representation is unable to render, please try loading this page with nbviewer.org.</b></div><div class=\"sk-container\" hidden><div class=\"sk-item sk-dashed-wrapped\"><div class=\"sk-label-container\"><div class=\"sk-label sk-toggleable\"><input class=\"sk-toggleable__control sk-hidden--visually\" id=\"sk-estimator-id-1\" type=\"checkbox\" ><label for=\"sk-estimator-id-1\" class=\"sk-toggleable__label sk-toggleable__label-arrow\">GridSearchCV</label><div class=\"sk-toggleable__content\"><pre>GridSearchCV(estimator=Pipeline(steps=[(&#x27;tfidfvectorizer&#x27;,\n",
              "                                        TfidfVectorizer(tokenizer=&lt;bound method Okt.morphs of &lt;__main__.PicklableOkt object at 0x7825b87cdd80&gt;&gt;)),\n",
              "                                       (&#x27;svc&#x27;, SVC())]),\n",
              "             n_jobs=-1,\n",
              "             param_grid={&#x27;svc__C&#x27;: [10], &#x27;svc__gamma&#x27;: [0.1],\n",
              "                         &#x27;tfidfvectorizer__min_df&#x27;: [1],\n",
              "                         &#x27;tfidfvectorizer__ngram_range&#x27;: [(1, 2)]})</pre></div></div></div><div class=\"sk-parallel\"><div class=\"sk-parallel-item\"><div class=\"sk-item\"><div class=\"sk-label-container\"><div class=\"sk-label sk-toggleable\"><input class=\"sk-toggleable__control sk-hidden--visually\" id=\"sk-estimator-id-2\" type=\"checkbox\" ><label for=\"sk-estimator-id-2\" class=\"sk-toggleable__label sk-toggleable__label-arrow\">estimator: Pipeline</label><div class=\"sk-toggleable__content\"><pre>Pipeline(steps=[(&#x27;tfidfvectorizer&#x27;,\n",
              "                 TfidfVectorizer(tokenizer=&lt;bound method Okt.morphs of &lt;__main__.PicklableOkt object at 0x7825b87cdd80&gt;&gt;)),\n",
              "                (&#x27;svc&#x27;, SVC())])</pre></div></div></div><div class=\"sk-serial\"><div class=\"sk-item\"><div class=\"sk-serial\"><div class=\"sk-item\"><div class=\"sk-estimator sk-toggleable\"><input class=\"sk-toggleable__control sk-hidden--visually\" id=\"sk-estimator-id-3\" type=\"checkbox\" ><label for=\"sk-estimator-id-3\" class=\"sk-toggleable__label sk-toggleable__label-arrow\">TfidfVectorizer</label><div class=\"sk-toggleable__content\"><pre>TfidfVectorizer(tokenizer=&lt;bound method Okt.morphs of &lt;__main__.PicklableOkt object at 0x7825b87cdd80&gt;&gt;)</pre></div></div></div><div class=\"sk-item\"><div class=\"sk-estimator sk-toggleable\"><input class=\"sk-toggleable__control sk-hidden--visually\" id=\"sk-estimator-id-4\" type=\"checkbox\" ><label for=\"sk-estimator-id-4\" class=\"sk-toggleable__label sk-toggleable__label-arrow\">SVC</label><div class=\"sk-toggleable__content\"><pre>SVC()</pre></div></div></div></div></div></div></div></div></div></div></div></div>"
            ]
          },
          "metadata": {},
          "execution_count": 9
        }
      ]
    },
    {
      "cell_type": "code",
      "source": [
        "print(\"최적의 교차 검증 점수 : {:.2f}\".format(grid.best_score_))\n",
        "print(\"최적의 매개변수 : \\n\",grid.best_params_)"
      ],
      "metadata": {
        "colab": {
          "base_uri": "https://localhost:8080/"
        },
        "id": "GWt71-E1tyEt",
        "outputId": "8583a18b-205d-4090-e20e-2ac0e6e9ef97"
      },
      "execution_count": null,
      "outputs": [
        {
          "output_type": "stream",
          "name": "stdout",
          "text": [
            "최적의 교차 검증 점수 : 0.91\n",
            "최적의 매개변수 : \n",
            " {'svc__C': 10, 'svc__gamma': 0.1, 'tfidfvectorizer__min_df': 1, 'tfidfvectorizer__ngram_range': (1, 2)}\n"
          ]
        }
      ]
    },
    {
      "cell_type": "code",
      "source": [
        "!pip install mglearn"
      ],
      "metadata": {
        "colab": {
          "base_uri": "https://localhost:8080/"
        },
        "id": "nJJUqyhxucz2",
        "outputId": "b1cc8c1f-80d7-43fd-d32c-f22243ac4a58"
      },
      "execution_count": null,
      "outputs": [
        {
          "output_type": "stream",
          "name": "stdout",
          "text": [
            "Collecting mglearn\n",
            "  Downloading mglearn-0.2.0-py2.py3-none-any.whl (581 kB)\n",
            "\u001b[?25l     \u001b[90m━━━━━━━━━━━━━━━━━━━━━━━━━━━━━━━━━━━━━━━━\u001b[0m \u001b[32m0.0/581.4 kB\u001b[0m \u001b[31m?\u001b[0m eta \u001b[36m-:--:--\u001b[0m\r\u001b[2K     \u001b[91m━━━━━━━━━━━━━━━━━━━━━━━━━\u001b[0m\u001b[90m╺\u001b[0m\u001b[90m━━━━━━━━━━━━━━\u001b[0m \u001b[32m368.6/581.4 kB\u001b[0m \u001b[31m10.8 MB/s\u001b[0m eta \u001b[36m0:00:01\u001b[0m\r\u001b[2K     \u001b[90m━━━━━━━━━━━━━━━━━━━━━━━━━━━━━━━━━━━━━━━━\u001b[0m \u001b[32m581.4/581.4 kB\u001b[0m \u001b[31m10.9 MB/s\u001b[0m eta \u001b[36m0:00:00\u001b[0m\n",
            "\u001b[?25hRequirement already satisfied: numpy in /usr/local/lib/python3.10/dist-packages (from mglearn) (1.25.2)\n",
            "Requirement already satisfied: matplotlib in /usr/local/lib/python3.10/dist-packages (from mglearn) (3.7.1)\n",
            "Requirement already satisfied: scikit-learn in /usr/local/lib/python3.10/dist-packages (from mglearn) (1.2.2)\n",
            "Requirement already satisfied: pandas in /usr/local/lib/python3.10/dist-packages (from mglearn) (2.0.3)\n",
            "Requirement already satisfied: pillow in /usr/local/lib/python3.10/dist-packages (from mglearn) (9.4.0)\n",
            "Requirement already satisfied: cycler in /usr/local/lib/python3.10/dist-packages (from mglearn) (0.12.1)\n",
            "Requirement already satisfied: imageio in /usr/local/lib/python3.10/dist-packages (from mglearn) (2.31.6)\n",
            "Requirement already satisfied: joblib in /usr/local/lib/python3.10/dist-packages (from mglearn) (1.4.2)\n",
            "Requirement already satisfied: contourpy>=1.0.1 in /usr/local/lib/python3.10/dist-packages (from matplotlib->mglearn) (1.2.1)\n",
            "Requirement already satisfied: fonttools>=4.22.0 in /usr/local/lib/python3.10/dist-packages (from matplotlib->mglearn) (4.51.0)\n",
            "Requirement already satisfied: kiwisolver>=1.0.1 in /usr/local/lib/python3.10/dist-packages (from matplotlib->mglearn) (1.4.5)\n",
            "Requirement already satisfied: packaging>=20.0 in /usr/local/lib/python3.10/dist-packages (from matplotlib->mglearn) (24.0)\n",
            "Requirement already satisfied: pyparsing>=2.3.1 in /usr/local/lib/python3.10/dist-packages (from matplotlib->mglearn) (3.1.2)\n",
            "Requirement already satisfied: python-dateutil>=2.7 in /usr/local/lib/python3.10/dist-packages (from matplotlib->mglearn) (2.8.2)\n",
            "Requirement already satisfied: pytz>=2020.1 in /usr/local/lib/python3.10/dist-packages (from pandas->mglearn) (2023.4)\n",
            "Requirement already satisfied: tzdata>=2022.1 in /usr/local/lib/python3.10/dist-packages (from pandas->mglearn) (2024.1)\n",
            "Requirement already satisfied: scipy>=1.3.2 in /usr/local/lib/python3.10/dist-packages (from scikit-learn->mglearn) (1.11.4)\n",
            "Requirement already satisfied: threadpoolctl>=2.0.0 in /usr/local/lib/python3.10/dist-packages (from scikit-learn->mglearn) (3.5.0)\n",
            "Requirement already satisfied: six>=1.5 in /usr/local/lib/python3.10/dist-packages (from python-dateutil>=2.7->matplotlib->mglearn) (1.16.0)\n",
            "Installing collected packages: mglearn\n",
            "Successfully installed mglearn-0.2.0\n"
          ]
        }
      ]
    },
    {
      "cell_type": "code",
      "source": [
        "import mglearn\n",
        "\n",
        "scores = grid.cv_results_[\"mean_test_score\"].reshape(-1,3).T"
      ],
      "metadata": {
        "id": "elHrkxBCFypX"
      },
      "execution_count": null,
      "outputs": []
    },
    {
      "cell_type": "code",
      "source": [
        "scores"
      ],
      "metadata": {
        "colab": {
          "base_uri": "https://localhost:8080/"
        },
        "id": "BW6Bpf-emz57",
        "outputId": "7605a9f5-529a-4cb8-d631-fadf3dd0a806"
      },
      "execution_count": null,
      "outputs": [
        {
          "output_type": "execute_result",
          "data": {
            "text/plain": [
              "array([[0.779     , 0.8026    , 0.808     , 0.57946667, 0.5888    ,\n",
              "        0.59293333, 0.57986667, 0.58906667, 0.5932    , 0.87846667,\n",
              "        0.87733333, 0.87      , 0.80113333, 0.813     , 0.8154    ,\n",
              "        0.57986667, 0.58906667, 0.5932    , 0.9032    , 0.89      ,\n",
              "        0.88066667, 0.87993333, 0.87733333, 0.87066667, 0.80313333,\n",
              "        0.8142    , 0.816     ],\n",
              "       [0.68386667, 0.7588    , 0.78353333, 0.55626667, 0.5882    ,\n",
              "        0.6078    , 0.5566    , 0.5894    , 0.60873333, 0.88      ,\n",
              "        0.884     , 0.8742    , 0.71246667, 0.78813333, 0.80386667,\n",
              "        0.5566    , 0.5894    , 0.60873333, 0.91473333, 0.90153333,\n",
              "        0.8878    , 0.88366667, 0.88593333, 0.87493333, 0.716     ,\n",
              "        0.79106667, 0.80566667],\n",
              "       [0.6474    , 0.74446667, 0.77506667, 0.54893333, 0.57773333,\n",
              "        0.59686667, 0.54913333, 0.57853333, 0.5976    , 0.87206667,\n",
              "        0.88333333, 0.87486667, 0.66853333, 0.77366667, 0.79626667,\n",
              "        0.54913333, 0.57853333, 0.5976    , 0.9144    , 0.8992    ,\n",
              "        0.8876    , 0.876     , 0.885     , 0.8758    , 0.67133333,\n",
              "        0.77606667, 0.79786667]])"
            ]
          },
          "metadata": {},
          "execution_count": 12
        }
      ]
    },
    {
      "cell_type": "code",
      "source": [
        "#매개변수 히트맵\n",
        "# import mglearn\n",
        "\n",
        "# scores = grid.cv_results_[\"mean_test_score\"].reshape(-1,3).T\n",
        "# heatmap = mglearn.tools.heatmap(\n",
        "#     scores,xlabel=\"C\",ylabel=\"gamma\", cmap=\"viridis\",fmt=\"%.3f\",\n",
        "#     xticklabels = param_grid[\"svc__C\"],\n",
        "#     yticklabels = param_grid[\"svc__gamma\"]\n",
        "\n",
        "# )\n",
        "\n",
        "# plt.title(\"SVC with TF-IDF\")\n",
        "# plt.show()\n",
        "\n"
      ],
      "metadata": {
        "id": "ZH5stYTpGIeK"
      },
      "execution_count": null,
      "outputs": []
    },
    {
      "cell_type": "code",
      "source": [
        "final_olive_review = pd.read_csv(\"//content//drive//MyDrive//oliveyoung_paper//final_olive_review_data_df\")\n",
        "final_olive_review.drop(columns={\"Unnamed: 0\"},inplace=True)\n",
        "print(\"중복 제거 전 : \", final_olive_review.shape)\n",
        "#리뷰 내용이 중복된 행 제거\n",
        "final_olive_review = final_olive_review.drop_duplicates(subset=['reviews'])\n",
        "print(\"중복 제거 후 : \", final_olive_review.shape)"
      ],
      "metadata": {
        "id": "e6-XTXRKJqRp",
        "colab": {
          "base_uri": "https://localhost:8080/"
        },
        "outputId": "7e06e385-3c10-4338-86b1-51181a2c3615"
      },
      "execution_count": null,
      "outputs": [
        {
          "output_type": "stream",
          "name": "stdout",
          "text": [
            "중복 제거 전 :  (600, 3)\n",
            "중복 제거 후 :  (543, 3)\n"
          ]
        }
      ]
    },
    {
      "cell_type": "code",
      "source": [
        "## 테스트 데이터 결측치 제거\n",
        "missing_values = final_olive_review['reviews'].isna().sum()\n",
        "\n",
        "# If there are missing values, drop the corresponding rows\n",
        "if missing_values > 0:\n",
        "    final_olive_review.dropna(subset=['reviews'], inplace=True)"
      ],
      "metadata": {
        "id": "x6GsG1h8JqT_"
      },
      "execution_count": null,
      "outputs": []
    },
    {
      "cell_type": "code",
      "source": [
        "x_test = final_olive_review['reviews']\n",
        "y_test = final_olive_review['rating']"
      ],
      "metadata": {
        "id": "9k1-whkBJqV_"
      },
      "execution_count": null,
      "outputs": []
    },
    {
      "cell_type": "code",
      "source": [
        "#테스트 세트로 모델 정확도 확인\n",
        "predicted_classes = []\n",
        "\n",
        "for review in final_olive_review['reviews']:\n",
        "\n",
        "    predicted_class = grid.predict([review])\n",
        "\n",
        "\n",
        "    predicted_classes.append(predicted_class[0])\n",
        "\n",
        "\n",
        "final_olive_review['prediction'] = predicted_classes\n"
      ],
      "metadata": {
        "id": "V9d8MkYyJqYa"
      },
      "execution_count": null,
      "outputs": []
    },
    {
      "cell_type": "code",
      "source": [
        "final_olive_review.head()"
      ],
      "metadata": {
        "id": "KvYeffi43J3z",
        "colab": {
          "base_uri": "https://localhost:8080/",
          "height": 206
        },
        "outputId": "ea5758b1-6a14-4012-ab3f-54d089eb253d"
      },
      "execution_count": null,
      "outputs": [
        {
          "output_type": "execute_result",
          "data": {
            "text/plain": [
              "   userId  rating                                            reviews  \\\n",
              "0     와바밤       1  사실 마스크 팩 한 달동 안 사용 것 아니라 한 달 리뷰 하기 얘 매하 긴한데 어쩃...   \n",
              "1     와바밤       1              배송비 가격 맞출 때 유용하게 매번 구매 있습니다 자극 없이 순해여   \n",
              "2   보부상출신       1  나이 먹으니까 피부 고민 점차 주름 미백 쪽 빠지는데데 일리 피부 결 톤 케어 하기...   \n",
              "3    파이지니       1  🌼 1일 1 팩 하기 좋은 가성 비 마스크 팩 🌼 메디 힐 마스크 팩 너무 유명하죠...   \n",
              "4   보부상출신       1  요즘 제 피부 상태 탄력 지금 저 세상 가있는데 복구 위해 콜라겐 마스크 팩 이용 ...   \n",
              "\n",
              "   prediction  \n",
              "0           0  \n",
              "1           1  \n",
              "2           0  \n",
              "3           1  \n",
              "4           1  "
            ],
            "text/html": [
              "\n",
              "  <div id=\"df-249b7e38-42db-4f00-9214-c6f695f1de63\" class=\"colab-df-container\">\n",
              "    <div>\n",
              "<style scoped>\n",
              "    .dataframe tbody tr th:only-of-type {\n",
              "        vertical-align: middle;\n",
              "    }\n",
              "\n",
              "    .dataframe tbody tr th {\n",
              "        vertical-align: top;\n",
              "    }\n",
              "\n",
              "    .dataframe thead th {\n",
              "        text-align: right;\n",
              "    }\n",
              "</style>\n",
              "<table border=\"1\" class=\"dataframe\">\n",
              "  <thead>\n",
              "    <tr style=\"text-align: right;\">\n",
              "      <th></th>\n",
              "      <th>userId</th>\n",
              "      <th>rating</th>\n",
              "      <th>reviews</th>\n",
              "      <th>prediction</th>\n",
              "    </tr>\n",
              "  </thead>\n",
              "  <tbody>\n",
              "    <tr>\n",
              "      <th>0</th>\n",
              "      <td>와바밤</td>\n",
              "      <td>1</td>\n",
              "      <td>사실 마스크 팩 한 달동 안 사용 것 아니라 한 달 리뷰 하기 얘 매하 긴한데 어쩃...</td>\n",
              "      <td>0</td>\n",
              "    </tr>\n",
              "    <tr>\n",
              "      <th>1</th>\n",
              "      <td>와바밤</td>\n",
              "      <td>1</td>\n",
              "      <td>배송비 가격 맞출 때 유용하게 매번 구매 있습니다 자극 없이 순해여</td>\n",
              "      <td>1</td>\n",
              "    </tr>\n",
              "    <tr>\n",
              "      <th>2</th>\n",
              "      <td>보부상출신</td>\n",
              "      <td>1</td>\n",
              "      <td>나이 먹으니까 피부 고민 점차 주름 미백 쪽 빠지는데데 일리 피부 결 톤 케어 하기...</td>\n",
              "      <td>0</td>\n",
              "    </tr>\n",
              "    <tr>\n",
              "      <th>3</th>\n",
              "      <td>파이지니</td>\n",
              "      <td>1</td>\n",
              "      <td>🌼 1일 1 팩 하기 좋은 가성 비 마스크 팩 🌼 메디 힐 마스크 팩 너무 유명하죠...</td>\n",
              "      <td>1</td>\n",
              "    </tr>\n",
              "    <tr>\n",
              "      <th>4</th>\n",
              "      <td>보부상출신</td>\n",
              "      <td>1</td>\n",
              "      <td>요즘 제 피부 상태 탄력 지금 저 세상 가있는데 복구 위해 콜라겐 마스크 팩 이용 ...</td>\n",
              "      <td>1</td>\n",
              "    </tr>\n",
              "  </tbody>\n",
              "</table>\n",
              "</div>\n",
              "    <div class=\"colab-df-buttons\">\n",
              "\n",
              "  <div class=\"colab-df-container\">\n",
              "    <button class=\"colab-df-convert\" onclick=\"convertToInteractive('df-249b7e38-42db-4f00-9214-c6f695f1de63')\"\n",
              "            title=\"Convert this dataframe to an interactive table.\"\n",
              "            style=\"display:none;\">\n",
              "\n",
              "  <svg xmlns=\"http://www.w3.org/2000/svg\" height=\"24px\" viewBox=\"0 -960 960 960\">\n",
              "    <path d=\"M120-120v-720h720v720H120Zm60-500h600v-160H180v160Zm220 220h160v-160H400v160Zm0 220h160v-160H400v160ZM180-400h160v-160H180v160Zm440 0h160v-160H620v160ZM180-180h160v-160H180v160Zm440 0h160v-160H620v160Z\"/>\n",
              "  </svg>\n",
              "    </button>\n",
              "\n",
              "  <style>\n",
              "    .colab-df-container {\n",
              "      display:flex;\n",
              "      gap: 12px;\n",
              "    }\n",
              "\n",
              "    .colab-df-convert {\n",
              "      background-color: #E8F0FE;\n",
              "      border: none;\n",
              "      border-radius: 50%;\n",
              "      cursor: pointer;\n",
              "      display: none;\n",
              "      fill: #1967D2;\n",
              "      height: 32px;\n",
              "      padding: 0 0 0 0;\n",
              "      width: 32px;\n",
              "    }\n",
              "\n",
              "    .colab-df-convert:hover {\n",
              "      background-color: #E2EBFA;\n",
              "      box-shadow: 0px 1px 2px rgba(60, 64, 67, 0.3), 0px 1px 3px 1px rgba(60, 64, 67, 0.15);\n",
              "      fill: #174EA6;\n",
              "    }\n",
              "\n",
              "    .colab-df-buttons div {\n",
              "      margin-bottom: 4px;\n",
              "    }\n",
              "\n",
              "    [theme=dark] .colab-df-convert {\n",
              "      background-color: #3B4455;\n",
              "      fill: #D2E3FC;\n",
              "    }\n",
              "\n",
              "    [theme=dark] .colab-df-convert:hover {\n",
              "      background-color: #434B5C;\n",
              "      box-shadow: 0px 1px 3px 1px rgba(0, 0, 0, 0.15);\n",
              "      filter: drop-shadow(0px 1px 2px rgba(0, 0, 0, 0.3));\n",
              "      fill: #FFFFFF;\n",
              "    }\n",
              "  </style>\n",
              "\n",
              "    <script>\n",
              "      const buttonEl =\n",
              "        document.querySelector('#df-249b7e38-42db-4f00-9214-c6f695f1de63 button.colab-df-convert');\n",
              "      buttonEl.style.display =\n",
              "        google.colab.kernel.accessAllowed ? 'block' : 'none';\n",
              "\n",
              "      async function convertToInteractive(key) {\n",
              "        const element = document.querySelector('#df-249b7e38-42db-4f00-9214-c6f695f1de63');\n",
              "        const dataTable =\n",
              "          await google.colab.kernel.invokeFunction('convertToInteractive',\n",
              "                                                    [key], {});\n",
              "        if (!dataTable) return;\n",
              "\n",
              "        const docLinkHtml = 'Like what you see? Visit the ' +\n",
              "          '<a target=\"_blank\" href=https://colab.research.google.com/notebooks/data_table.ipynb>data table notebook</a>'\n",
              "          + ' to learn more about interactive tables.';\n",
              "        element.innerHTML = '';\n",
              "        dataTable['output_type'] = 'display_data';\n",
              "        await google.colab.output.renderOutput(dataTable, element);\n",
              "        const docLink = document.createElement('div');\n",
              "        docLink.innerHTML = docLinkHtml;\n",
              "        element.appendChild(docLink);\n",
              "      }\n",
              "    </script>\n",
              "  </div>\n",
              "\n",
              "\n",
              "<div id=\"df-95ea3b0e-b567-43cc-b737-7dc4bff06b80\">\n",
              "  <button class=\"colab-df-quickchart\" onclick=\"quickchart('df-95ea3b0e-b567-43cc-b737-7dc4bff06b80')\"\n",
              "            title=\"Suggest charts\"\n",
              "            style=\"display:none;\">\n",
              "\n",
              "<svg xmlns=\"http://www.w3.org/2000/svg\" height=\"24px\"viewBox=\"0 0 24 24\"\n",
              "     width=\"24px\">\n",
              "    <g>\n",
              "        <path d=\"M19 3H5c-1.1 0-2 .9-2 2v14c0 1.1.9 2 2 2h14c1.1 0 2-.9 2-2V5c0-1.1-.9-2-2-2zM9 17H7v-7h2v7zm4 0h-2V7h2v10zm4 0h-2v-4h2v4z\"/>\n",
              "    </g>\n",
              "</svg>\n",
              "  </button>\n",
              "\n",
              "<style>\n",
              "  .colab-df-quickchart {\n",
              "      --bg-color: #E8F0FE;\n",
              "      --fill-color: #1967D2;\n",
              "      --hover-bg-color: #E2EBFA;\n",
              "      --hover-fill-color: #174EA6;\n",
              "      --disabled-fill-color: #AAA;\n",
              "      --disabled-bg-color: #DDD;\n",
              "  }\n",
              "\n",
              "  [theme=dark] .colab-df-quickchart {\n",
              "      --bg-color: #3B4455;\n",
              "      --fill-color: #D2E3FC;\n",
              "      --hover-bg-color: #434B5C;\n",
              "      --hover-fill-color: #FFFFFF;\n",
              "      --disabled-bg-color: #3B4455;\n",
              "      --disabled-fill-color: #666;\n",
              "  }\n",
              "\n",
              "  .colab-df-quickchart {\n",
              "    background-color: var(--bg-color);\n",
              "    border: none;\n",
              "    border-radius: 50%;\n",
              "    cursor: pointer;\n",
              "    display: none;\n",
              "    fill: var(--fill-color);\n",
              "    height: 32px;\n",
              "    padding: 0;\n",
              "    width: 32px;\n",
              "  }\n",
              "\n",
              "  .colab-df-quickchart:hover {\n",
              "    background-color: var(--hover-bg-color);\n",
              "    box-shadow: 0 1px 2px rgba(60, 64, 67, 0.3), 0 1px 3px 1px rgba(60, 64, 67, 0.15);\n",
              "    fill: var(--button-hover-fill-color);\n",
              "  }\n",
              "\n",
              "  .colab-df-quickchart-complete:disabled,\n",
              "  .colab-df-quickchart-complete:disabled:hover {\n",
              "    background-color: var(--disabled-bg-color);\n",
              "    fill: var(--disabled-fill-color);\n",
              "    box-shadow: none;\n",
              "  }\n",
              "\n",
              "  .colab-df-spinner {\n",
              "    border: 2px solid var(--fill-color);\n",
              "    border-color: transparent;\n",
              "    border-bottom-color: var(--fill-color);\n",
              "    animation:\n",
              "      spin 1s steps(1) infinite;\n",
              "  }\n",
              "\n",
              "  @keyframes spin {\n",
              "    0% {\n",
              "      border-color: transparent;\n",
              "      border-bottom-color: var(--fill-color);\n",
              "      border-left-color: var(--fill-color);\n",
              "    }\n",
              "    20% {\n",
              "      border-color: transparent;\n",
              "      border-left-color: var(--fill-color);\n",
              "      border-top-color: var(--fill-color);\n",
              "    }\n",
              "    30% {\n",
              "      border-color: transparent;\n",
              "      border-left-color: var(--fill-color);\n",
              "      border-top-color: var(--fill-color);\n",
              "      border-right-color: var(--fill-color);\n",
              "    }\n",
              "    40% {\n",
              "      border-color: transparent;\n",
              "      border-right-color: var(--fill-color);\n",
              "      border-top-color: var(--fill-color);\n",
              "    }\n",
              "    60% {\n",
              "      border-color: transparent;\n",
              "      border-right-color: var(--fill-color);\n",
              "    }\n",
              "    80% {\n",
              "      border-color: transparent;\n",
              "      border-right-color: var(--fill-color);\n",
              "      border-bottom-color: var(--fill-color);\n",
              "    }\n",
              "    90% {\n",
              "      border-color: transparent;\n",
              "      border-bottom-color: var(--fill-color);\n",
              "    }\n",
              "  }\n",
              "</style>\n",
              "\n",
              "  <script>\n",
              "    async function quickchart(key) {\n",
              "      const quickchartButtonEl =\n",
              "        document.querySelector('#' + key + ' button');\n",
              "      quickchartButtonEl.disabled = true;  // To prevent multiple clicks.\n",
              "      quickchartButtonEl.classList.add('colab-df-spinner');\n",
              "      try {\n",
              "        const charts = await google.colab.kernel.invokeFunction(\n",
              "            'suggestCharts', [key], {});\n",
              "      } catch (error) {\n",
              "        console.error('Error during call to suggestCharts:', error);\n",
              "      }\n",
              "      quickchartButtonEl.classList.remove('colab-df-spinner');\n",
              "      quickchartButtonEl.classList.add('colab-df-quickchart-complete');\n",
              "    }\n",
              "    (() => {\n",
              "      let quickchartButtonEl =\n",
              "        document.querySelector('#df-95ea3b0e-b567-43cc-b737-7dc4bff06b80 button');\n",
              "      quickchartButtonEl.style.display =\n",
              "        google.colab.kernel.accessAllowed ? 'block' : 'none';\n",
              "    })();\n",
              "  </script>\n",
              "</div>\n",
              "\n",
              "    </div>\n",
              "  </div>\n"
            ],
            "application/vnd.google.colaboratory.intrinsic+json": {
              "type": "dataframe",
              "variable_name": "final_olive_review",
              "summary": "{\n  \"name\": \"final_olive_review\",\n  \"rows\": 542,\n  \"fields\": [\n    {\n      \"column\": \"userId\",\n      \"properties\": {\n        \"dtype\": \"string\",\n        \"num_unique_values\": 401,\n        \"samples\": [\n          \" \\ud478\\ubc14\\uc624\\ub6a0\\ube75\\ub6a0\\ube75 \",\n          \" \\u3149\\u3147\\u3147 \",\n          \" \\ubcf4\\ub9ac\\ucbb8\"\n        ],\n        \"semantic_type\": \"\",\n        \"description\": \"\"\n      }\n    },\n    {\n      \"column\": \"rating\",\n      \"properties\": {\n        \"dtype\": \"number\",\n        \"std\": 0,\n        \"min\": 0,\n        \"max\": 1,\n        \"num_unique_values\": 2,\n        \"samples\": [\n          0,\n          1\n        ],\n        \"semantic_type\": \"\",\n        \"description\": \"\"\n      }\n    },\n    {\n      \"column\": \"reviews\",\n      \"properties\": {\n        \"dtype\": \"string\",\n        \"num_unique_values\": 542,\n        \"samples\": [\n          \"\\uc6d0\\ub798 \\uc774\\ub7ac\\ub294\\uc9c0\\ub294 \\ubaa8\\ub974\\uaca0\\ub294\\ub370 \\ub9ac\\ub274\\uc5bc \\ub418\\uace0 \\uc57d\\uac04 \\ub048 \\uc801 \\uac70\\ub9ac \\uc7ac\\ud615 \\uc5d0\\uc13c\\uc2a4 \\ubc14\\ub00c\\uc5c8\\ub098\\uc694 \\uc870\\uae08 \\ub9ce\\uc774 \\ubd88\\ud3b8\\ud558\\ub354\\ub77c\\uace0 \\uc5ec \\uc0ac\\uc6a9 \\ud6c4 \\uc0c1\\ucf8c\\ud558\\uc9c0\\ub3c4 \\uc54a\\uace0 \\ub108\\ubb34 \\ucac0\\ub4dd \\ud574\\uc11c \\ucc1d\\ucc1d\\ud574\\uc11c \\uc53b\\uc5b4 \\ub0c8\\uc5b4\\uc694 \\ud53c\\ubd80 \\ud0c0\\uc785 \\uc9c0\\uc131 \\ubd84 \\ub4e4 \\uc0ac\\uc6a9 \\ud558\\uc2dc\\uae30\\uc5d0 \\uc880 \\ubd88\\ud3b8\\ud558\\uc2e4\\uc218\\ub3c4 \\uc788\\uc744\\uac83 \\uac19\\uc544\\uc694 \\uc7ac\\uad6c\\ub9e4 \\uc758\\uc0ac \\uc815\\ud600 \\uc5c6\\uace0 \\ub108\\ubb34 \\ub108\\ubb34 \\ubd88\\ud3b8\\ud574\\uc694 \\uad1c\\ud788 10 \\ub9e4\\uc785 \\uc9dc \\ub9ac \\uc0ac\\uc11c \\ud6c4\\ud68c\\ub418\\ub124\\uc694 \\ub9e4\\uc77c \\ud558\\uae30 \\ub108\\ubb34 \\ucc1d\\ucc1d\\ud558\\uace0 \\ubd88\\ud3b8\\ud574\\uc11c \\ub6f0\\uc5c4\\ub6f0\\uc5c4 2~3\\uc77c \\uc8fc\\uae30 \\uc0ac\\uc6a9 \\ud588\\ub294\\ub370\\ub3c4 \\uc601 \\ubcc4\\ub85c \\ub124 \\uc815\\uc774 \\uc548 \\uac00\\ub294 \\uba54\\ub514 \\ud790 \\ub9ac\\ub274\\uc5bc \\ud6c4 \\ud2f0 \\ud2b8\\ub9ac \\ub9c8\\uc2a4 \\ud086 \\u314d \\ud33b \\ubcc4 \\ub871 \\uc591 \\uc5b4 \\u3141\\u314a \\ub9d0 \\ub3c4\\uc548 \\ub3fc \\uc988 \\u3161 \\uac15 \\ub290\\ub9c8 \\uc794 \\uc0dd\\uae40 \\ub178\\uadf8 \\uc2f6\\ub098 \\uc9c4\\uc9dc \\ub108 \\u315c \\ubb34 \\ud56d\\uc720 \\ub178 \\ubab0\\uac00 \\ud22c \\uc778 \\uc9dc \\uc774\\ub0b4 \\uc624 \\uc1a1\\uc54c\\uc560 \\ud578 \\uc8fd\\uc558\\ub2c8 \\ud558 \\ud560 \\u3147 \\uc720 \\uac00\\ub7ec \\ub204\\uac85\\ud2f0 \\ub178\\uace0 \\ud2f8\\uc73c \\ub098\\uc774 \\ub77c\\uc778 \\uc6cc\\ud2f0 \\uc774 \\uc774 \\u3163 \\ub274\\ub8e8 \\u3161\\u3134 \\uc774\\ub2c8 \\uc774 \\u3163 \\ub9ac \\ub108\\ub9ac \\uc774\\ub2c8 \\uba54 \\uc81c \\ubc2d \\uc544 \\uc990 \\ub0b4\\uac00\\ub294 \\ub098 \\u3161 \\ub8e8\\ucc60 \\ub974\\uc218\\ub2c8\\ub7f0\",\n          \"\\ud788\\uc54c\\ub8e8\\ub860\\uc0b0 \\uaca8\\uc6b8 \\ud658\\uc808\\uae30 \\uc0ac\\uc6a9 \\ud574\\uc8fc\\uba74 \\uc88b\\ub354\\ub77c\\uad6c\\uc694 \\uc694\\uc998 \\uac74\\uc870\\ud560 \\ub54c \\ubd99\\uc5ec\\uc8fc\\uba74 \\ud53c\\ubd80 \\uc18d \\uc218\\ubd84 \\ucc44\\uc6cc\\uc9c0\\ub294\\uac70 \\uac19\\uc544\\uc694 \\uc5d0\\uc13c\\uc2a4 \\uc5bc\\ub9c8\\ub098 \\ub9ce\\uc774 \\ub4e4\\uc5b4 \\uc788\\ub294\\uc9c0 \\uc2dc\\ud2b8 \\ucd09\\ucd09\\ud55c \\uac78 \\ub118\\uc5b4 \\uc5d0\\uc13c\\uc2a4 \\ub69d\\ub69d \\ub5a8\\uc5b4\\uc838\\uc694 \\uc790\\uae30\\uc804\\uc5d0 10\\ubd84 \\uc815\\ub3c4 \\ubd99\\uc5ec \\ub450\\uace0 \\uc790\\uba74 \\ub2e4\\uc74c \\ub0a0 \\ud53c\\ubd80 \\ucd09\\ucd09\\ud558\\uace0 \\ub9e4\\ub048\\ud574\\uc838\\uc11c \\ud654\\uc7a5 \\uc798 \\uba39\\uc5b4\\uc694 \\uac00\\uaca9 \\uc88b\\uc544\\uc11c \\ub9e4 \\uc77c \\ub9e4\\uc77c \\uc0ac\\uc6a9 \\ud574\\ub3c4 \\ubd80\\ub2f4 \\uc5c6\\uc5b4\\uc694\"\n        ],\n        \"semantic_type\": \"\",\n        \"description\": \"\"\n      }\n    },\n    {\n      \"column\": \"prediction\",\n      \"properties\": {\n        \"dtype\": \"number\",\n        \"std\": 0,\n        \"min\": 0,\n        \"max\": 1,\n        \"num_unique_values\": 2,\n        \"samples\": [\n          1,\n          0\n        ],\n        \"semantic_type\": \"\",\n        \"description\": \"\"\n      }\n    }\n  ]\n}"
            }
          },
          "metadata": {},
          "execution_count": 19
        }
      ]
    },
    {
      "cell_type": "code",
      "source": [
        "from sklearn.metrics import accuracy_score\n",
        "accuracy = accuracy_score(y_test,final_olive_review['prediction'])"
      ],
      "metadata": {
        "id": "14oPFHLzUQWe"
      },
      "execution_count": null,
      "outputs": []
    },
    {
      "cell_type": "code",
      "source": [
        "print(\"테스트 세트 모델 분류 정확도 : {:.2f}\".format(accuracy))"
      ],
      "metadata": {
        "id": "h5Ud41_qUS-U",
        "colab": {
          "base_uri": "https://localhost:8080/"
        },
        "outputId": "a7cf17d3-a824-476b-ca65-b865b66d1dde"
      },
      "execution_count": null,
      "outputs": [
        {
          "output_type": "stream",
          "name": "stdout",
          "text": [
            "테스트 세트 모델 분류 정확도 : 0.77\n"
          ]
        }
      ]
    },
    {
      "cell_type": "code",
      "source": [
        "diff_pred_df=final_olive_review[final_olive_review.rating != final_olive_review.prediction]"
      ],
      "metadata": {
        "id": "GEuArxr_dqpi"
      },
      "execution_count": null,
      "outputs": []
    },
    {
      "cell_type": "code",
      "source": [
        "diff_pred_df.to_excel(\"예측실패.xlsx\")"
      ],
      "metadata": {
        "id": "LSrYmXtflNip"
      },
      "execution_count": null,
      "outputs": []
    },
    {
      "cell_type": "markdown",
      "source": [
        "###평점 3점 소비자 의견 데이터 긍/부정 분류"
      ],
      "metadata": {
        "id": "WO8LGuda3RDR"
      }
    },
    {
      "cell_type": "code",
      "source": [
        "import pandas as pd\n",
        "import numpy as np\n",
        "olive_med_df = pd.read_csv(\"//content//drive//MyDrive//oliveyoung_paper//olive_young_med_df\")"
      ],
      "metadata": {
        "id": "HQLr-X_P3PUU"
      },
      "execution_count": null,
      "outputs": []
    },
    {
      "cell_type": "code",
      "source": [
        "olive_med_df.to_excel(\"olive_med_excel.xlsx\", index=False)"
      ],
      "metadata": {
        "id": "fKdHhaI1-GnX"
      },
      "execution_count": null,
      "outputs": []
    },
    {
      "cell_type": "code",
      "source": [
        "import re\n",
        "\n",
        "# 'reviews' 데이터 훈련 데이터로 모델 학습할 때와 동일하게 데이터 전처리\n",
        "olive_med_df['reviews'] = olive_med_df['reviews'].apply(clean_text)"
      ],
      "metadata": {
        "id": "J1T1Z5Cf3PWs"
      },
      "execution_count": null,
      "outputs": []
    },
    {
      "cell_type": "code",
      "source": [
        "olive_med_df.head()"
      ],
      "metadata": {
        "colab": {
          "base_uri": "https://localhost:8080/",
          "height": 206
        },
        "id": "hPqmR_mbjiBQ",
        "outputId": "0971f78c-5803-4bfb-fba7-2f0026b40c3e"
      },
      "execution_count": null,
      "outputs": [
        {
          "output_type": "execute_result",
          "data": {
            "text/plain": [
              "   Unnamed: 0    userId  rating  \\\n",
              "0           0   플로우플로우        3   \n",
              "1           1      엉성해        3   \n",
              "2           2      엉성해        3   \n",
              "3           3    예원071        3   \n",
              "4           4    예원071        3   \n",
              "\n",
              "                                             reviews  \n",
              "0  메디 힐 마스크 팩 티 트리 콜라겐 시 카 등등 종류 별대 사용 해 보다가 피부 톤...  \n",
              "1                  데 일리 그냥 쓰기 좋은 제품 데 일리 그냥 쓰기 좋은 제품  \n",
              "2  머 저렴 이 매일 붙히기 부담 없는 정도 머 저렴 이 매일 붙히기 부담 없는 정도 ...  \n",
              "3  마스크 팩 했을 때 확실히 얼굴 환해 지기 하는데 원래 피부 수분 먹으면 환해지는 ...  \n",
              "4  트러블 들어간다는 건 잘 모르겠는데 붉은 기는 잘 없애주는 듯 근데 내 피부 기준 ...  "
            ],
            "text/html": [
              "\n",
              "  <div id=\"df-407b7ae9-4792-4507-a9e8-0fb536028bc7\" class=\"colab-df-container\">\n",
              "    <div>\n",
              "<style scoped>\n",
              "    .dataframe tbody tr th:only-of-type {\n",
              "        vertical-align: middle;\n",
              "    }\n",
              "\n",
              "    .dataframe tbody tr th {\n",
              "        vertical-align: top;\n",
              "    }\n",
              "\n",
              "    .dataframe thead th {\n",
              "        text-align: right;\n",
              "    }\n",
              "</style>\n",
              "<table border=\"1\" class=\"dataframe\">\n",
              "  <thead>\n",
              "    <tr style=\"text-align: right;\">\n",
              "      <th></th>\n",
              "      <th>Unnamed: 0</th>\n",
              "      <th>userId</th>\n",
              "      <th>rating</th>\n",
              "      <th>reviews</th>\n",
              "    </tr>\n",
              "  </thead>\n",
              "  <tbody>\n",
              "    <tr>\n",
              "      <th>0</th>\n",
              "      <td>0</td>\n",
              "      <td>플로우플로우</td>\n",
              "      <td>3</td>\n",
              "      <td>메디 힐 마스크 팩 티 트리 콜라겐 시 카 등등 종류 별대 사용 해 보다가 피부 톤...</td>\n",
              "    </tr>\n",
              "    <tr>\n",
              "      <th>1</th>\n",
              "      <td>1</td>\n",
              "      <td>엉성해</td>\n",
              "      <td>3</td>\n",
              "      <td>데 일리 그냥 쓰기 좋은 제품 데 일리 그냥 쓰기 좋은 제품</td>\n",
              "    </tr>\n",
              "    <tr>\n",
              "      <th>2</th>\n",
              "      <td>2</td>\n",
              "      <td>엉성해</td>\n",
              "      <td>3</td>\n",
              "      <td>머 저렴 이 매일 붙히기 부담 없는 정도 머 저렴 이 매일 붙히기 부담 없는 정도 ...</td>\n",
              "    </tr>\n",
              "    <tr>\n",
              "      <th>3</th>\n",
              "      <td>3</td>\n",
              "      <td>예원071</td>\n",
              "      <td>3</td>\n",
              "      <td>마스크 팩 했을 때 확실히 얼굴 환해 지기 하는데 원래 피부 수분 먹으면 환해지는 ...</td>\n",
              "    </tr>\n",
              "    <tr>\n",
              "      <th>4</th>\n",
              "      <td>4</td>\n",
              "      <td>예원071</td>\n",
              "      <td>3</td>\n",
              "      <td>트러블 들어간다는 건 잘 모르겠는데 붉은 기는 잘 없애주는 듯 근데 내 피부 기준 ...</td>\n",
              "    </tr>\n",
              "  </tbody>\n",
              "</table>\n",
              "</div>\n",
              "    <div class=\"colab-df-buttons\">\n",
              "\n",
              "  <div class=\"colab-df-container\">\n",
              "    <button class=\"colab-df-convert\" onclick=\"convertToInteractive('df-407b7ae9-4792-4507-a9e8-0fb536028bc7')\"\n",
              "            title=\"Convert this dataframe to an interactive table.\"\n",
              "            style=\"display:none;\">\n",
              "\n",
              "  <svg xmlns=\"http://www.w3.org/2000/svg\" height=\"24px\" viewBox=\"0 -960 960 960\">\n",
              "    <path d=\"M120-120v-720h720v720H120Zm60-500h600v-160H180v160Zm220 220h160v-160H400v160Zm0 220h160v-160H400v160ZM180-400h160v-160H180v160Zm440 0h160v-160H620v160ZM180-180h160v-160H180v160Zm440 0h160v-160H620v160Z\"/>\n",
              "  </svg>\n",
              "    </button>\n",
              "\n",
              "  <style>\n",
              "    .colab-df-container {\n",
              "      display:flex;\n",
              "      gap: 12px;\n",
              "    }\n",
              "\n",
              "    .colab-df-convert {\n",
              "      background-color: #E8F0FE;\n",
              "      border: none;\n",
              "      border-radius: 50%;\n",
              "      cursor: pointer;\n",
              "      display: none;\n",
              "      fill: #1967D2;\n",
              "      height: 32px;\n",
              "      padding: 0 0 0 0;\n",
              "      width: 32px;\n",
              "    }\n",
              "\n",
              "    .colab-df-convert:hover {\n",
              "      background-color: #E2EBFA;\n",
              "      box-shadow: 0px 1px 2px rgba(60, 64, 67, 0.3), 0px 1px 3px 1px rgba(60, 64, 67, 0.15);\n",
              "      fill: #174EA6;\n",
              "    }\n",
              "\n",
              "    .colab-df-buttons div {\n",
              "      margin-bottom: 4px;\n",
              "    }\n",
              "\n",
              "    [theme=dark] .colab-df-convert {\n",
              "      background-color: #3B4455;\n",
              "      fill: #D2E3FC;\n",
              "    }\n",
              "\n",
              "    [theme=dark] .colab-df-convert:hover {\n",
              "      background-color: #434B5C;\n",
              "      box-shadow: 0px 1px 3px 1px rgba(0, 0, 0, 0.15);\n",
              "      filter: drop-shadow(0px 1px 2px rgba(0, 0, 0, 0.3));\n",
              "      fill: #FFFFFF;\n",
              "    }\n",
              "  </style>\n",
              "\n",
              "    <script>\n",
              "      const buttonEl =\n",
              "        document.querySelector('#df-407b7ae9-4792-4507-a9e8-0fb536028bc7 button.colab-df-convert');\n",
              "      buttonEl.style.display =\n",
              "        google.colab.kernel.accessAllowed ? 'block' : 'none';\n",
              "\n",
              "      async function convertToInteractive(key) {\n",
              "        const element = document.querySelector('#df-407b7ae9-4792-4507-a9e8-0fb536028bc7');\n",
              "        const dataTable =\n",
              "          await google.colab.kernel.invokeFunction('convertToInteractive',\n",
              "                                                    [key], {});\n",
              "        if (!dataTable) return;\n",
              "\n",
              "        const docLinkHtml = 'Like what you see? Visit the ' +\n",
              "          '<a target=\"_blank\" href=https://colab.research.google.com/notebooks/data_table.ipynb>data table notebook</a>'\n",
              "          + ' to learn more about interactive tables.';\n",
              "        element.innerHTML = '';\n",
              "        dataTable['output_type'] = 'display_data';\n",
              "        await google.colab.output.renderOutput(dataTable, element);\n",
              "        const docLink = document.createElement('div');\n",
              "        docLink.innerHTML = docLinkHtml;\n",
              "        element.appendChild(docLink);\n",
              "      }\n",
              "    </script>\n",
              "  </div>\n",
              "\n",
              "\n",
              "<div id=\"df-1bf3c355-b54d-4633-a1f6-1042a3970d2f\">\n",
              "  <button class=\"colab-df-quickchart\" onclick=\"quickchart('df-1bf3c355-b54d-4633-a1f6-1042a3970d2f')\"\n",
              "            title=\"Suggest charts\"\n",
              "            style=\"display:none;\">\n",
              "\n",
              "<svg xmlns=\"http://www.w3.org/2000/svg\" height=\"24px\"viewBox=\"0 0 24 24\"\n",
              "     width=\"24px\">\n",
              "    <g>\n",
              "        <path d=\"M19 3H5c-1.1 0-2 .9-2 2v14c0 1.1.9 2 2 2h14c1.1 0 2-.9 2-2V5c0-1.1-.9-2-2-2zM9 17H7v-7h2v7zm4 0h-2V7h2v10zm4 0h-2v-4h2v4z\"/>\n",
              "    </g>\n",
              "</svg>\n",
              "  </button>\n",
              "\n",
              "<style>\n",
              "  .colab-df-quickchart {\n",
              "      --bg-color: #E8F0FE;\n",
              "      --fill-color: #1967D2;\n",
              "      --hover-bg-color: #E2EBFA;\n",
              "      --hover-fill-color: #174EA6;\n",
              "      --disabled-fill-color: #AAA;\n",
              "      --disabled-bg-color: #DDD;\n",
              "  }\n",
              "\n",
              "  [theme=dark] .colab-df-quickchart {\n",
              "      --bg-color: #3B4455;\n",
              "      --fill-color: #D2E3FC;\n",
              "      --hover-bg-color: #434B5C;\n",
              "      --hover-fill-color: #FFFFFF;\n",
              "      --disabled-bg-color: #3B4455;\n",
              "      --disabled-fill-color: #666;\n",
              "  }\n",
              "\n",
              "  .colab-df-quickchart {\n",
              "    background-color: var(--bg-color);\n",
              "    border: none;\n",
              "    border-radius: 50%;\n",
              "    cursor: pointer;\n",
              "    display: none;\n",
              "    fill: var(--fill-color);\n",
              "    height: 32px;\n",
              "    padding: 0;\n",
              "    width: 32px;\n",
              "  }\n",
              "\n",
              "  .colab-df-quickchart:hover {\n",
              "    background-color: var(--hover-bg-color);\n",
              "    box-shadow: 0 1px 2px rgba(60, 64, 67, 0.3), 0 1px 3px 1px rgba(60, 64, 67, 0.15);\n",
              "    fill: var(--button-hover-fill-color);\n",
              "  }\n",
              "\n",
              "  .colab-df-quickchart-complete:disabled,\n",
              "  .colab-df-quickchart-complete:disabled:hover {\n",
              "    background-color: var(--disabled-bg-color);\n",
              "    fill: var(--disabled-fill-color);\n",
              "    box-shadow: none;\n",
              "  }\n",
              "\n",
              "  .colab-df-spinner {\n",
              "    border: 2px solid var(--fill-color);\n",
              "    border-color: transparent;\n",
              "    border-bottom-color: var(--fill-color);\n",
              "    animation:\n",
              "      spin 1s steps(1) infinite;\n",
              "  }\n",
              "\n",
              "  @keyframes spin {\n",
              "    0% {\n",
              "      border-color: transparent;\n",
              "      border-bottom-color: var(--fill-color);\n",
              "      border-left-color: var(--fill-color);\n",
              "    }\n",
              "    20% {\n",
              "      border-color: transparent;\n",
              "      border-left-color: var(--fill-color);\n",
              "      border-top-color: var(--fill-color);\n",
              "    }\n",
              "    30% {\n",
              "      border-color: transparent;\n",
              "      border-left-color: var(--fill-color);\n",
              "      border-top-color: var(--fill-color);\n",
              "      border-right-color: var(--fill-color);\n",
              "    }\n",
              "    40% {\n",
              "      border-color: transparent;\n",
              "      border-right-color: var(--fill-color);\n",
              "      border-top-color: var(--fill-color);\n",
              "    }\n",
              "    60% {\n",
              "      border-color: transparent;\n",
              "      border-right-color: var(--fill-color);\n",
              "    }\n",
              "    80% {\n",
              "      border-color: transparent;\n",
              "      border-right-color: var(--fill-color);\n",
              "      border-bottom-color: var(--fill-color);\n",
              "    }\n",
              "    90% {\n",
              "      border-color: transparent;\n",
              "      border-bottom-color: var(--fill-color);\n",
              "    }\n",
              "  }\n",
              "</style>\n",
              "\n",
              "  <script>\n",
              "    async function quickchart(key) {\n",
              "      const quickchartButtonEl =\n",
              "        document.querySelector('#' + key + ' button');\n",
              "      quickchartButtonEl.disabled = true;  // To prevent multiple clicks.\n",
              "      quickchartButtonEl.classList.add('colab-df-spinner');\n",
              "      try {\n",
              "        const charts = await google.colab.kernel.invokeFunction(\n",
              "            'suggestCharts', [key], {});\n",
              "      } catch (error) {\n",
              "        console.error('Error during call to suggestCharts:', error);\n",
              "      }\n",
              "      quickchartButtonEl.classList.remove('colab-df-spinner');\n",
              "      quickchartButtonEl.classList.add('colab-df-quickchart-complete');\n",
              "    }\n",
              "    (() => {\n",
              "      let quickchartButtonEl =\n",
              "        document.querySelector('#df-1bf3c355-b54d-4633-a1f6-1042a3970d2f button');\n",
              "      quickchartButtonEl.style.display =\n",
              "        google.colab.kernel.accessAllowed ? 'block' : 'none';\n",
              "    })();\n",
              "  </script>\n",
              "</div>\n",
              "\n",
              "    </div>\n",
              "  </div>\n"
            ],
            "application/vnd.google.colaboratory.intrinsic+json": {
              "type": "dataframe",
              "variable_name": "olive_med_df",
              "summary": "{\n  \"name\": \"olive_med_df\",\n  \"rows\": 300,\n  \"fields\": [\n    {\n      \"column\": \"Unnamed: 0\",\n      \"properties\": {\n        \"dtype\": \"number\",\n        \"std\": 86,\n        \"min\": 0,\n        \"max\": 299,\n        \"num_unique_values\": 300,\n        \"samples\": [\n          203,\n          266,\n          152\n        ],\n        \"semantic_type\": \"\",\n        \"description\": \"\"\n      }\n    },\n    {\n      \"column\": \"userId\",\n      \"properties\": {\n        \"dtype\": \"string\",\n        \"num_unique_values\": 226,\n        \"samples\": [\n          \" sohi \",\n          \" \\ub2c8\\ucf5c\\ud0a4\\ud06c\\ub4dc\\ub9cc \",\n          \" k202403170**** \"\n        ],\n        \"semantic_type\": \"\",\n        \"description\": \"\"\n      }\n    },\n    {\n      \"column\": \"rating\",\n      \"properties\": {\n        \"dtype\": \"number\",\n        \"std\": 0,\n        \"min\": 3,\n        \"max\": 3,\n        \"num_unique_values\": 1,\n        \"samples\": [\n          3\n        ],\n        \"semantic_type\": \"\",\n        \"description\": \"\"\n      }\n    },\n    {\n      \"column\": \"reviews\",\n      \"properties\": {\n        \"dtype\": \"string\",\n        \"num_unique_values\": 286,\n        \"samples\": [\n          \"\\uc9c4\\uc815 \\ubc0f \\uc7ac\\uc0dd \\ud5c8\\ube0c \\uc88b\\uc544\\ud558\\ub294 \\ud130 \\uc0ac \\ubd24\\uc2b5\\ub2c8\\ub2e4 \\uafb8\\uc900\\ud788 \\uad00\\ub9ac \\ud558\\uba74 \\ud6a8\\uacfc \\ubcfc \\uc218 \\uc788\\uaca0\\uc9c0\\uc694\"\n        ],\n        \"semantic_type\": \"\",\n        \"description\": \"\"\n      }\n    }\n  ]\n}"
            }
          },
          "metadata": {},
          "execution_count": 24
        }
      ]
    },
    {
      "cell_type": "code",
      "source": [
        "\n",
        "# Create an empty list to store predicted classes\n",
        "predicted_classes = []\n",
        "\n",
        "# Iterate over each review in the DataFrame column\n",
        "for review in olive_med_df['reviews']:\n",
        "    # Make prediction using the best estimator found by GridSearchCV\n",
        "    predicted_class = grid.predict([review])\n",
        "\n",
        "    # Append the predicted class to the list\n",
        "    predicted_classes.append(predicted_class[0])  # Access the predicted class (it's a numpy array) and append\n",
        "\n",
        "# Add the predicted classes as a new column named 'prediction' to the DataFrame\n",
        "olive_med_df['prediction'] = predicted_classes"
      ],
      "metadata": {
        "id": "T92s44GN3PZU"
      },
      "execution_count": null,
      "outputs": []
    },
    {
      "cell_type": "code",
      "source": [
        "olive_med_df.drop(columns=[\"userId\",\"rating\",\"Unnamed: 0\"],inplace=True)\n",
        "olive_med_df.rename(columns={\"prediction\":\"rating\"},inplace=True)"
      ],
      "metadata": {
        "id": "h5-GA2X03PcZ"
      },
      "execution_count": null,
      "outputs": []
    },
    {
      "cell_type": "code",
      "source": [
        "olive_med_df.to_csv(\"med_df\")"
      ],
      "metadata": {
        "id": "XabiFVQW3PfI"
      },
      "execution_count": null,
      "outputs": []
    },
    {
      "cell_type": "markdown",
      "source": [
        "###라벨링한 데이터를 원래 올리브영 데이터와 합치기"
      ],
      "metadata": {
        "id": "DhYDg6rx3lmT"
      }
    },
    {
      "cell_type": "code",
      "source": [
        "#별점 5,4점 긍정 데이터\n",
        "olive_pos_df = final_olive_review[final_olive_review[\"rating\"] == 1]\n",
        "#별점 1,2점 부정 데이터\n",
        "olive_neg_df = final_olive_review[final_olive_review[\"rating\"] == 0]"
      ],
      "metadata": {
        "id": "dthTQVGi5fIR"
      },
      "execution_count": null,
      "outputs": []
    },
    {
      "cell_type": "code",
      "source": [
        "#med rating review => positive review\n",
        "olive_med_labeled_pos_df = olive_med_df[olive_med_df['rating'] == 1]\n",
        "#med rating review => negative review\n",
        "olive_med_labeled_neg_df = olive_med_df[olive_med_df['rating'] == 0]"
      ],
      "metadata": {
        "id": "FTZ5HjKL3lgN"
      },
      "execution_count": null,
      "outputs": []
    },
    {
      "cell_type": "code",
      "source": [
        "#막대 그래프로 시각화\n",
        "\n",
        "print(\"300개의 중간 평점 중 긍정이라고 분류한 데이터 수 : \" ,olive_med_labeled_pos_df.shape[0])\n",
        "print(\"300개의 중간 평점 중 부정이라고 분류한 데이터 수 : \" ,olive_med_labeled_neg_df.shape[0])\n"
      ],
      "metadata": {
        "id": "DFzSINvz50cY",
        "colab": {
          "base_uri": "https://localhost:8080/"
        },
        "outputId": "92fc57dd-59ee-4a49-ce76-5fc5a5a6614a"
      },
      "execution_count": null,
      "outputs": [
        {
          "output_type": "stream",
          "name": "stdout",
          "text": [
            "300개의 중간 평점 중 긍정이라고 분류한 데이터 수 :  158\n",
            "300개의 중간 평점 중 부정이라고 분류한 데이터 수 :  142\n"
          ]
        }
      ]
    },
    {
      "cell_type": "code",
      "source": [
        "# Assuming review_pos_df and review_neg_df are two dataframes\n",
        "# 모델에 학습시킬 데이터 비율 1:1\n",
        "lengths = [olive_med_labeled_pos_df.shape[0], olive_med_labeled_neg_df.shape[0]]\n",
        "labels = ['Positive', 'Negative']\n",
        "colors = ['#90EE90', '#FFA07A']\n",
        "\n",
        "fig, ax = plt.subplots()\n",
        "ax.bar(labels, lengths, color=colors, width=0.5)\n",
        "ax.set_ylabel(\"리뷰 수\")\n",
        "ax.set_title(\"최적 모델을 활용한 소비자 의견 감정 분류\")\n",
        "\n",
        "plt.subplots_adjust(wspace=1)\n",
        "\n",
        "plt.show()"
      ],
      "metadata": {
        "colab": {
          "base_uri": "https://localhost:8080/",
          "height": 451
        },
        "id": "kBrulTURzdQs",
        "outputId": "d5621c8b-c8df-4105-f485-a623e027a10c"
      },
      "execution_count": null,
      "outputs": [
        {
          "output_type": "display_data",
          "data": {
            "text/plain": [
              "<Figure size 640x480 with 1 Axes>"
            ],
            "image/png": "[encoded data removed]"
          },
          "metadata": {}
        }
      ]
    },
    {
      "cell_type": "code",
      "source": [
        "#olive_med_labeled_pos_df 와 olive_pos_df 합치기\n",
        "final_pos_df = pd.concat([olive_med_labeled_pos_df,olive_pos_df],ignore_index=True)\n",
        "#olive_med_labeled_neg_df와 olive_neg_df 합치기\n",
        "final_neg_df = pd.concat([olive_med_labeled_neg_df,olive_neg_df],ignore_index=True)"
      ],
      "metadata": {
        "id": "0XO1bRVf3ldr"
      },
      "execution_count": null,
      "outputs": []
    },
    {
      "cell_type": "code",
      "source": [
        "##형태소 분석\n",
        "import numpy as np\n",
        "import pandas as pd\n"
      ],
      "metadata": {
        "id": "Z1ZWBPi18NWs"
      },
      "execution_count": null,
      "outputs": []
    },
    {
      "cell_type": "code",
      "source": [
        "tokenizer = Okt()\n",
        "#긍정 소비자 의견 토큰화 이후 명사만 추출\n",
        "final_pos_df['tokenized'] = final_pos_df['reviews'].apply(tokenizer.nouns)\n",
        "positive_reviews = np.hstack(final_pos_df['tokenized'].values)\n",
        "#부정 소비자 의견 토큰화 이후 명사만 추출\n",
        "final_neg_df['tokenized'] = final_neg_df['reviews'].apply(tokenizer.nouns)\n",
        "negative_reviews = np.hstack(final_neg_df['tokenized'].values)"
      ],
      "metadata": {
        "id": "JyB6Y10I3laB"
      },
      "execution_count": null,
      "outputs": []
    },
    {
      "cell_type": "code",
      "source": [
        "# final_pos_df['tokenized'] = final_pos_df['reviews'].apply(lambda x: [word for word in tokenizer.nouns(x) if word not in product_stop_words and len(word) > 1])\n",
        "# final_neg_df['tokenized'] = final_neg_df['reviews'].apply(lambda x: [word for word in tokenizer.nouns(x) if word not in product_stop_words and len(word) > 1])"
      ],
      "metadata": {
        "id": "3GMuWl9Apfcc"
      },
      "execution_count": null,
      "outputs": []
    },
    {
      "cell_type": "code",
      "source": [
        "#긍정 소비자 의견불용어 제거\n",
        "product_stop_words = [\"피부\",\"얼굴\",\"구매\",\"제품\",\"정말\",\"그냥\",\"사용\",\"다른\",\"진짜\",\"정도\",\"마스크\"]\n",
        "positive_reviews = [word for word in positive_reviews if len(word) > 1 and word not in product_stop_words]\n",
        "\n",
        "#부정 소비자 의견불용어 제거\n",
        "product_stop_words = [\"피부\",\"얼굴\",\"구매\",\"제품\",\"정말\",\"그냥\",\"사용\",\"다른\",\"진짜\",\"정도\",\"마스크\"]\n",
        "negative_reviews = [word for word in negative_reviews if len(word) > 1 and word not in product_stop_words]\n"
      ],
      "metadata": {
        "id": "f54EFfRo3lVO"
      },
      "execution_count": null,
      "outputs": []
    },
    {
      "cell_type": "code",
      "source": [
        "\n",
        "def modify_counter(word_count):\n",
        "  word_count[\"데일리\"] = word_count.pop('일리')\n",
        "  word_count[\"티트리\"] = word_count.pop('트리')\n",
        "  return word_count\n",
        "\n",
        "\n",
        "from collections import Counter\n",
        "from wordcloud import WordCloud\n",
        "positive_reviews_word_count = Counter(positive_reviews)\n",
        "modify_counter(positive_reviews_word_count)\n",
        "\n",
        "pos_word_freq = positive_reviews_word_count.most_common(20)\n",
        "print(pos_word_freq)\n"
      ],
      "metadata": {
        "colab": {
          "base_uri": "https://localhost:8080/"
        },
        "id": "9gp6hiBZqzor",
        "outputId": "f249f096-8925-4eba-bf1e-a74527b806e1"
      },
      "execution_count": null,
      "outputs": [
        {
          "output_type": "stream",
          "name": "stdout",
          "text": [
            "[('진정', 146), ('시트', 101), ('가격', 86), ('효과', 83), ('티트리', 80), ('수분', 72), ('보습', 64), ('에센스', 64), ('무난', 62), ('자극', 46), ('밀착', 45), ('트러블', 43), ('가성', 43), ('자주', 41), ('요즘', 39), ('쓰기', 33), ('항상', 33), ('느낌', 32), ('앰플', 31), ('한번', 28)]\n"
          ]
        }
      ]
    },
    {
      "cell_type": "code",
      "source": [
        "# 워드 클라우드 생성\n",
        "wordcloud = WordCloud(width = 1600 , height = 800,font_path = 'NanumGothic.ttf').generate_from_frequencies(dict(pos_word_freq))\n",
        "\n",
        "# 워드 클라우드 시각화\n",
        "plt.figure(figsize=(10, 5))\n",
        "plt.imshow(wordcloud, interpolation='bilinear')\n",
        "plt.axis('off')\n",
        "wordcloud.to_file(\"SVM_긍정 워드클라우드_f.png\")\n",
        "plt.show()"
      ],
      "metadata": {
        "colab": {
          "base_uri": "https://localhost:8080/",
          "height": 422
        },
        "id": "H1pcz47ht35D",
        "outputId": "21d16cf8-3431-435d-f42c-c7c57c412f21"
      },
      "execution_count": null,
      "outputs": [
        {
          "output_type": "display_data",
          "data": {
            "text/plain": [
              "<Figure size 1000x500 with 1 Axes>"
            ],
            "image/png": "[encoded data removed]"
          },
          "metadata": {}
        }
      ]
    },
    {
      "cell_type": "code",
      "source": [
        "from collections import Counter\n",
        "from wordcloud import WordCloud\n",
        "negative_reviews_word_count = Counter(negative_reviews)\n",
        "modify_counter(negative_reviews_word_count)\n",
        "\n",
        "neg_word_freq = negative_reviews_word_count.most_common(20)\n",
        "print(neg_word_freq)\n"
      ],
      "metadata": {
        "colab": {
          "base_uri": "https://localhost:8080/"
        },
        "id": "xH9_4TeXur9v",
        "outputId": "e783a2f1-fb76-409c-c535-1670b8cda0d6"
      },
      "execution_count": null,
      "outputs": [
        {
          "output_type": "stream",
          "name": "stdout",
          "text": [
            "[('진정', 160), ('티트리', 150), ('효과', 128), ('에센스', 88), ('리뉴얼', 88), ('느낌', 85), ('자극', 75), ('시트', 73), ('트러블', 68), ('여드름', 54), ('수분', 49), ('흡수', 48), ('다음', 46), ('별로', 42), ('조금', 41), ('보습', 41), ('추천', 38), ('성분', 36), ('거리', 34), ('약간', 32)]\n"
          ]
        }
      ]
    },
    {
      "cell_type": "code",
      "source": [
        "# 워드 클라우드 생성\n",
        "wordcloud = WordCloud(width = 1600 , height = 800, font_path = '/usr/share/fonts/truetype/nanum/NanumGothic.ttf').generate_from_frequencies(dict(neg_word_freq))\n",
        "\n",
        "# 워드 클라우드 시각화\n",
        "plt.figure(figsize=(10, 5))\n",
        "plt.imshow(wordcloud, interpolation='bilinear')\n",
        "plt.axis('off')\n",
        "wordcloud.to_file(\"SVM_부정 워드클라우드_f.png\")\n",
        "plt.show()"
      ],
      "metadata": {
        "id": "ouRMKVSY9Vaq",
        "colab": {
          "base_uri": "https://localhost:8080/",
          "height": 422
        },
        "outputId": "86dc9901-7cf1-4393-d2dc-03a1f123018f"
      },
      "execution_count": null,
      "outputs": [
        {
          "output_type": "display_data",
          "data": {
            "text/plain": [
              "<Figure size 1000x500 with 1 Axes>"
            ],
            "image/png": "[encoded data removed]"
          },
          "metadata": {}
        }
      ]
    },
    {
      "cell_type": "markdown",
      "source": [
        "###LDA 활용한 토픽 모델링"
      ],
      "metadata": {
        "id": "Lyd-LSVmcPCK"
      }
    },
    {
      "cell_type": "code",
      "source": [
        "!pip install pyLDAvis\n"
      ],
      "metadata": {
        "colab": {
          "base_uri": "https://localhost:8080/"
        },
        "id": "cZ06t3XYbtxn",
        "outputId": "0fd885e9-fddb-400f-9ca2-f219317a8c48"
      },
      "execution_count": null,
      "outputs": [
        {
          "output_type": "stream",
          "name": "stdout",
          "text": [
            "Collecting pyLDAvis\n",
            "  Downloading pyLDAvis-3.4.1-py3-none-any.whl (2.6 MB)\n",
            "\u001b[2K     \u001b[90m━━━━━━━━━━━━━━━━━━━━━━━━━━━━━━━━━━━━━━━━\u001b[0m \u001b[32m2.6/2.6 MB\u001b[0m \u001b[31m12.4 MB/s\u001b[0m eta \u001b[36m0:00:00\u001b[0m\n",
            "\u001b[?25hRequirement already satisfied: numpy>=1.24.2 in /usr/local/lib/python3.10/dist-packages (from pyLDAvis) (1.25.2)\n",
            "Requirement already satisfied: scipy in /usr/local/lib/python3.10/dist-packages (from pyLDAvis) (1.11.4)\n",
            "Requirement already satisfied: pandas>=2.0.0 in /usr/local/lib/python3.10/dist-packages (from pyLDAvis) (2.0.3)\n",
            "Requirement already satisfied: joblib>=1.2.0 in /usr/local/lib/python3.10/dist-packages (from pyLDAvis) (1.4.2)\n",
            "Requirement already satisfied: jinja2 in /usr/local/lib/python3.10/dist-packages (from pyLDAvis) (3.1.4)\n",
            "Requirement already satisfied: numexpr in /usr/local/lib/python3.10/dist-packages (from pyLDAvis) (2.10.0)\n",
            "Collecting funcy (from pyLDAvis)\n",
            "  Downloading funcy-2.0-py2.py3-none-any.whl (30 kB)\n",
            "Requirement already satisfied: scikit-learn>=1.0.0 in /usr/local/lib/python3.10/dist-packages (from pyLDAvis) (1.2.2)\n",
            "Requirement already satisfied: gensim in /usr/local/lib/python3.10/dist-packages (from pyLDAvis) (4.3.2)\n",
            "Requirement already satisfied: setuptools in /usr/local/lib/python3.10/dist-packages (from pyLDAvis) (67.7.2)\n",
            "Requirement already satisfied: python-dateutil>=2.8.2 in /usr/local/lib/python3.10/dist-packages (from pandas>=2.0.0->pyLDAvis) (2.8.2)\n",
            "Requirement already satisfied: pytz>=2020.1 in /usr/local/lib/python3.10/dist-packages (from pandas>=2.0.0->pyLDAvis) (2023.4)\n",
            "Requirement already satisfied: tzdata>=2022.1 in /usr/local/lib/python3.10/dist-packages (from pandas>=2.0.0->pyLDAvis) (2024.1)\n",
            "Requirement already satisfied: threadpoolctl>=2.0.0 in /usr/local/lib/python3.10/dist-packages (from scikit-learn>=1.0.0->pyLDAvis) (3.5.0)\n",
            "Requirement already satisfied: smart-open>=1.8.1 in /usr/local/lib/python3.10/dist-packages (from gensim->pyLDAvis) (6.4.0)\n",
            "Requirement already satisfied: MarkupSafe>=2.0 in /usr/local/lib/python3.10/dist-packages (from jinja2->pyLDAvis) (2.1.5)\n",
            "Requirement already satisfied: six>=1.5 in /usr/local/lib/python3.10/dist-packages (from python-dateutil>=2.8.2->pandas>=2.0.0->pyLDAvis) (1.16.0)\n",
            "Installing collected packages: funcy, pyLDAvis\n",
            "Successfully installed funcy-2.0 pyLDAvis-3.4.1\n"
          ]
        }
      ]
    },
    {
      "cell_type": "code",
      "source": [],
      "metadata": {
        "id": "kuc1WKFAbt0E",
        "colab": {
          "base_uri": "https://localhost:8080/"
        },
        "outputId": "14e6bb17-324e-4d67-891e-9e0fe3bd18e5"
      },
      "execution_count": null,
      "outputs": [
        {
          "output_type": "stream",
          "name": "stderr",
          "text": [
            "/usr/local/lib/python3.10/dist-packages/ipykernel/ipkernel.py:283: DeprecationWarning: `should_run_async` will not call `transform_cell` automatically in the future. Please pass the result to `transformed_cell` argument and any exception that happen during thetransform in `preprocessing_exc_tuple` in IPython 7.17 and above.\n",
            "  and should_run_async(code)\n"
          ]
        }
      ]
    },
    {
      "cell_type": "code",
      "source": [
        "import gensim\n",
        "from gensim import corpora\n",
        "from collections import Counter\n",
        "from wordcloud import WordCloud\n",
        "import matplotlib.pyplot as plt\n",
        "final_pos_df['tokenized'] = final_pos_df['reviews'].apply(lambda x: [word for word in tokenizer.nouns(x) if word not in product_stop_words and len(word) > 1])\n",
        "final_neg_df['tokenized'] = final_neg_df['reviews'].apply(lambda x: [word for word in tokenizer.nouns(x) if word not in product_stop_words and len(word) > 1])\n",
        "pos_lda_list = [token for token in final_pos_df['tokenized']]\n",
        "neg_lda_list = [token for token in final_neg_df['tokenized']]\n",
        "\n",
        "print(pos_lda_list,\"\\n\",neg_lda_list)"
      ],
      "metadata": {
        "colab": {
          "base_uri": "https://localhost:8080/"
        },
        "id": "lIUHW0KLuiPe",
        "outputId": "e0cdff63-cdb6-49d7-c23e-afc6c265b8fb"
      },
      "execution_count": null,
      "outputs": [
        {
          "output_type": "stream",
          "name": "stdout",
          "text": [
            "[['일리', '쓰기', '일리', '쓰기'], ['저렴', '매일', '부담', '저렴', '매일', '부담', '저렴', '매일', '부담'], ['지기', '원래', '수분', '잡티', '케어', '도움'], ['콜라겐', '효과', '탄력', '도움', '이건'], ['대박', '흡수', '보습'], ['진정', '재생', '허브', '관리', '효과'], ['진정', '한번', '한번', '효과', '진정', '한번', '한번', '효과', '관리', '관리'], ['에센스', '무난', '밀착', '몇개'], ['유튜브', '지성', '하나', '소개', '자극', '여행', '연속', '진정', '다음', '화장'], [], ['진정', '병풀', '추출', '물이', '함유', '여름', '야외', '활동', '진정', '도움'], ['인지도', '용감', '트러블', '자극', '무엇', '진정'], ['쟁여', '일리', '가격', '자주', '거의'], ['금액', '기용', '의사'], ['종류', '선택', '무난', '쓰기'], ['항상', '무난'], ['결혼식', '아버지', '사드', '매일'], ['수분', '보충', '종류'], ['매번', '올리브영', '무난', '가족'], ['항상', '이번', '히알루', '론산', '나름', '시트'], ['자주', '이용', '트러블', '촉촉', '자주'], ['워낙', '기간', '가격', '여러', '무난', '무난', '추가', '스킨', '케어', '보습', '에센스', '뚝뚝', '지경', '차로', '한번', '흡수'], ['무난', '쓰기', '보습', '무난', '쓰기'], ['매번', '힐팩', '가성', '데카', '사이드', '트리', '이번'], ['종류', '무난', '이건', '불호'], ['자주', '기적'], ['여드름', '진정', '효과', '오히려', '데카', '사이드', '진정'], ['효과', '수분', '충전'], ['수분', '진정', '날씨', '진정', '쓰기'], ['사실', '했어욤', '가격'], ['자국', '입가', '이후', '사고'], ['자국', '입가', '이후', '사고'], ['가격', '무난', '자주', '시트', '때문'], ['가격', '자주', '하나', '세안'], [], ['진정', '효과', '는걸', '답답', '사람', '하나', '진정'], ['일리', '생각', '효과', '무난'], ['때문', '진정', '보습', '위해'], ['때문', '진정', '복습', '위해'], ['때문', '진정', '보습', '위해'], ['자주', '항상', '쟁여놓'], ['무난', '무난', '온도', '리기'], ['트러블'], ['데카', '크게', '진정', '못느꼇구요가끙', '도해'], ['가격', '성분', '기대'], ['원래'], ['올브영', '기본', '자극', '여행', '평소'], ['가격'], ['금방', '진정', '냉장고', '효과'], ['건성', '트러블', '요즘', '브랜드', '진정', '가격', '효과', '지성', '약간', '하나', '자극', '최고', '진정', '속도', '고무', '추천'], ['사계절', '예민', '수분', '시트', '종종', '편입', '수분', '수분', '진정', '효과', '은기', '금세', '다만', '요즘', '완전', '한여름', '자체', '일주일', '해도', '부담', '타입', '누구', '진정', '수분', '가성', '한여름', '얼른', '진정', '완전', '추천', '흡수', '금방', '흡수'], ['타입', '기름', '마왕', '여드름', '모공', '론데', '요즘', '붙이', '그레', '물기', '낭낭', '트리', '대부분', '상임', '저번', '사실', '사고', '오늘', '드림', '오후', '결제', '하니', '어쩄', '시트', '개인', '하루', '한번', '무리', '한번', '생각', '맛집', '붙이', '부작용', '성품', '가성', '담번', '일해'], ['학생', '할인', '때문', '직원', '추천', '가격'], ['회로', '한번', '입장'], ['무난'], ['일반', '가성', '장점'], ['트리', '항상', '하명', '것데', '의사'], ['트리', '항상', '하명', '것데', '의사'], ['트리', '항상', '하명', '것데', '의사'], ['이사', '직원', '광고', '아영'], ['요즘', '효과', '가격'], ['기분', '전환'], ['보습', '하나', '마나'], ['진정'], ['트러블'], ['랩핑', '라인'], ['요것', '사진', '제일'], ['가끔', '사서', '무난', '무난', '부담'], ['수분', '여러'], ['주변', '요건'], ['배송비', '주문', '무난', '가성'], ['차칸', '가격', '보습', '성비', '체고', '매각'], ['한지', '얼마', '매일', '진정'], ['진정', '효과', '가격', '최고'], ['무난', '무난'], ['항상', '진정', '용감', '밀착'], ['먼저', '두께', '편이', '고요', '시트', '에센스', '밀착', '깜빡', '사진', '학생', '고요', '여드름', '복합', '여름', '걱정', '진정', '진정', '효과', '효과', '도움'], ['기억', '안남', '여드름', '진정'], ['예전', '무난', '생각', '자극', '무난', '무난'], ['처럼', '한번', '효과', '보기', '기분', '쓰싱'], ['지금', '세번', '쓰늠데', '무난', '기분', '세영'], ['기분', '내기', '당장', '쟁이시깋'], ['매일', '매일', '요즘', '후분', '추천', '촉촉'], ['매일', '매일', '요즘', '후분', '추천', '촉촉'], ['매일', '매일', '요즘', '후분', '추천', '촉촉'], ['무난', '무난', '수분', '에센스'], ['다음', '화장'], ['일리', '자주'], ['처음', '여드름', '자극', '용감'], ['소문', '소문', '한번', '리뷰', '니아'], ['처음', '자극', '진정', '시트', '두께', '밀착', '에센스', '다시', '생각', '이상', '크게', '현상', '이마', '화농', '여드름', '구석', '하나', '번지', '중단', '함자', '보이', '사람', '추천', '간격', '마음', '워낙', '트러블', '시도'], ['데카', '사이드', '가성', '최고', '진정', '인생', '다시', '성분', '리뉴얼', '진정', '효과', '주변', '친구', '느낌'], ['쓰기', '바로', '트러블', '진정', '컨디션', '회복', '요즘', '트러블', '진정', '효과', '오히려', '문제'], ['필착', '여드름', '진정', '오히려', '여드름'], ['쫀쫀', '요담', '아침', '화장'], ['에센셜'], ['가성', '종류'], ['트리', '기본', '용한', '무난'], ['제일', '이건', '무난', '쓰기'], ['마가', '제일', '이건', '무난'], ['제일', '자주'], ['항상'], ['후기', '아영', '무난'], ['에센스', '밀착'], ['진정', '쿨링감', '가성', '에센스'], ['에센스', '밀착'], ['수분', '진정', '날씨', '진정', '쓰기'], ['항상', '다주', '극도', '개선'], ['복합', '진정', '효과', '수분'], ['가격', '고성능', '아주', '효과', '밀착'], ['자극', '수분', '두께'], ['자극', '시트', '수분', '아주'], ['에센스', '지성', '쓰기'], ['가격', '최고'], ['원래', '요즘', '가격'], ['수영', '진정', '여분', '미백', '효과'], ['가격', '배송', '거나', '할인', '편이', '여행', '토너', '대신', '진정', '효과'], [], ['항상'], ['무난', '무난', '효과'], ['일해', '득템'], ['몇번', '애용', '무난', '쟁여듭', '트리', '제일', '워터', '이드', '무난', '무난', '저번', '포장', '사건', '때문', '개선'], ['퍼스', '컬러', '겨울', '클리어', '영향', '겨울', '클리어', '타입', '우만', '타입', '지성', '민감', '색소', '탄력', '트리', '녹차', '병풀', '캐모마일', '카렌', '릭애', '씨드', '코코넛오일', '쉐어버터', '코코아', '버터', '시나몬', '오일', '시나', '믹애', '씨드', '씨드', '조익', '씨드', '파리', '포익애', '씨드', '소리', '간혹', '접촉성', '피부염', '재발', '원인', '두드러기', '트러블', '스트레스', '전문의', '휘트니', '스킨', '사이클링', '실천', '각질', '제거', '레티놀', '수분', '공급', '장벽', '강화', '무난'], ['우선', '하나', '용액', '살짝', '민감', '성인', '영양', '트러블', '조금', '용액', '리지', '한번', '용액', '공병', '화장', '한번', '조금', '보류'], ['가격', '성비', '갑임', '담날', '이건', '아비', '브팩', '제일', '초록', '아비', '브팩임', '지금', '할인', '아주', '일단', '담날', '백퍼', '화장', '인생', '달라', '화장', '쵹촉함', '담날', '아주', '전신', '답임', '갑임', '거의', '마냥', '사실', '무조건', '한번', '차이', '보습', '진정', '화장', '갑인', '이상', '거만', '꿀잠', '여러'], ['원래', '찰떡', '못구', '다시', '유목민', '올리브영', '위템', '중이', '나은', '계속', '이번', '리뉴얼', '가격', '부담', '시트', '요즘', '자극', '이건', '가격', '면도', '무난', '밀착', '일단', '원래', '밸런스', '다시', '밸런스', '효과', '안색', '바로', '다음'], ['덕분', '아니먄', '관리', '때문', '모르뎄', '모델링', '진정', '에센스', '관리', '관리', '했기땨문', '진정'], ['시트', '가격', '자주', '편이', '포장', '지도', '보기', '시트', '에센스', '시트', '두께', '에센스', '수분', '느낌', '수분크림', '에센스', '앰플', '금방', '수분크림', '편이', '자지', '시트', '노력', '하루', '한번', '수분'], ['트리', '여드름', '진정', '완화', '여드름', '거만', '데카', '사이드', '트리', '트리', '개인', '생각', '자주', '때문', '몹쓸', '화농', '여드름', '여드름', '하루', '여드름', '금방', '다시', '트리', '스킨', '케어', '조합', '쓰시', '효과', '때문', '리뷰', '시크', '재질', '밀착', '흡수', '에센스', '에센스', '상태'], ['시트', '진정', '효과', '트리', '일단', '개봉', '바로', '트리', '특유', '트리', '함량', '유의', '미하', '진정', '효과', '위해', '진정', '효과', '공급', '수분', '보충', '목적', '시간', '조금', '마무리', '흡수', '건성', '지성', '추천', '시트', '밀착', '붙이', '금은', '성질', '조금', '하룻밤', '자고', '아마', '다시', '굳이', '생각'], ['이일', '위해', '원래', '기간', '가성', '아이템', '아주', '아주', '일리', '가격', '역시', '건성', '수분', '아주', '훌러', '가격', '비교', '가성', '갑템', '세수', '다음', '흡수', '다음', '수분크림', '발라', '자고', '수분', '퍽퍽', '인생', '후회', '추천'], ['이일', '위해', '원래', '기간', '가성', '아이템', '아주', '아주', '일리', '가격', '역시', '건성', '수분', '아주', '훌러', '가격', '비교', '가성', '갑템', '세수', '다음', '흡수', '다음', '수분크림', '발라', '자고', '수분', '퍽퍽', '인생', '후회', '추천'], ['진정', '효과', '그닥', '보습', '완벽', '트리', '추출', '물이', '진정', '진정', '효과', '진정', '목적', '화장', '거나', '조금', '컨디션', '조금', '수분', '공급', '보습', '목적', '장점', '시트', '매우', '쫀쫀', '밀착', '시트', '개선', '굴곡', '시트', '밀착', '포도', '매우', '매우', '보습', '아주', '매우', '수분', '유지', '단점', '진정', '효과', '성분', '트리', '추출', '물이', '의미', '효과', '일핏', '실제', '별로', '진정', '효과'], ['자주', '하나', '먼저', '트리', '추출', '물이', '진정', '진정', '효과', '진정', '목적', '화장', '거나', '조금', '컨디션', '조금', '수분', '공급', '보습', '목적', '장점', '시트', '매우', '쫀쫀', '밀착', '시트', '개선', '굴곡', '시트', '밀착', '포도', '매우', '매우', '보습', '아주', '매우', '수분', '유지', '단점', '진정', '효과', '성분', '트리', '추출', '물이', '의미', '효과', '일핏', '실제', '별로', '진정', '효과'], ['평소', '스킨', '케어', '대충', '최근', '레이저', '토닝', '관리', '혼자', '케어', '제일', '의사', '그동안', '영양', '고자', '대량', '매장', '행사', '다가', '가격', '저렴', '행사', '중이', '만요', '가격', '대가', '저렴', '여러', '앰플', '가격', '원래', '중이', '할인', '천원', '행사', '사기', '느낌', '에센스', '시트', '에센스', '시트', '앰플', '가격', '대의', '느낌', '이내', '가끔', '자주', '가성', '라인', '별로', '관리'], ['리뉴얼', '기억', '리뉴얼', '패키지', '리뉴얼', '성분', '리뉴얼', '여드름', '잔뜩', '다음', '피지', '여드름', '사이', '시트', '자체', '마음', '밀착', '한텐', '여러', '사람'], ['쓰기', '때문', '쟁여', '편이', '패키지', '밀착', '시트', '아주', '시트', '에센스', '가득', '진정', '자주', '테디', '셀러', '가격', '요즘', '가격', '라서', '브랜드', '역시', '예전', '애용', '링거', '트리', '스킨', '비치', '시트', '더더', '화장품', '개발', '에센스', '가득', '해도', '영양', '진정', '수분', '라인', '모두', '전체', '라인', '모두', '애용', '시트', '패키지', '디자인', '내용', '강화', '패키지', '계속', '예정', '약간', '약국', '브랜드', '성분', '아유', '처음', '조금', '자극', '진정', '최고', '행사', '가장', '제일', '먼저', '흡수', '거리'], ['자주', '진정', '효과'], ['시트', '트러블', '부담', '쓰기'], ['선물'], ['올리브영', '무난', '가격', '가성', '배송비', '종류', '별로', '테스트'], ['예전', '썻을땐', '이번', '수분'], ['가장', '진정', '계속', '예정'], ['가장', '진정', '계속', '예정'], ['시트', '보습', '시트', '쩐내', '사서', '보습'], ['색도', '모두'], ['에센셜'], ['수분', '자주', '부탁'], ['토너'], ['진정', '자주', '추천'], ['할인', '종류', '별로', '어요'], ['일일', '도전', '피부관리', '케어', '대서', '시작'], ['하루', '한장', '애용'], ['가성'], ['자극', '가격', '마구', '이용'], ['가격', '무조건', '늬들', '사라'], ['힐티', '트리', '에센셜', '후기', '워낙', '단연', '제일', '대중', '기존', '이번', '한번', '브랜드', '상품', '이유', '종류', '가격', '대도', '일전', '홈쇼핑', '애용', '대량', '해도', '장점', '장점', '대중', '기도', '일도', '시트', '에센스', '다시', '에센스', '제일', '스크럽같', '경우', '주사', '요즘'], ['진정', '효과', '홍조', '아기', '남친', '유피', '가끔', '남자친구', '비용', '절약', '실용', '여드름', '생기', '수딩', '효과', '포장', '교체', '항상', '포장', '교체', '원래', '가격', '조금', '실속'], ['사실', '달동', '리뷰', '매하', '어쩃'], ['배송비', '가격', '매번', '자극'], ['나이', '고민', '점차', '주름', '미백', '일리', '케어', '맛집', '이유'], ['가성', '가격', '대가', '부담', '할인', '가격', '항상', '기간', '잔뜩', '사두', '가지', '특징', '비교', '시트', '뾰루', '잡티', '민감', '트리', '라인', '가장', '장벽', '요즘', '환절기', '진정', '트리', '성분', '효과', '트리', '종류', '매우', '컨디션', '여러', '모로', '자주', '리뷰', '도움', '하단', '도움', '버튼'], ['요즘', '상태', '탄력', '지금', '세상', '복구', '위해', '콜라겐', '이용', '판이', '번창'], ['일리', '수분', '히알루론산'], ['관리', '위해', '요즘', '시트', '나이', '런가', '수분', '라인', '시트', '후기', '금액', '가로', '후기', '무난', '시트', '생각', '거리', '하나', '크림'], ['효과', '가성', '무난', '자주'], ['옛날', '자주', '가성', '진정', '크기'], ['토너', '붙이', '밀착', '수분', '충전', '가지', '수분'], ['역시', '최고', '무난'], ['최고', '가격', '가격', '기본', '천원', '올리브영', '묶음', '사면', '가능', '가격', '매일', '쓰기', '성비', '시트', '아시', '시트', '밀착', '가격', '대비', '사면', '경우', '무조건', '힐로', '픽합', '트리', '무난', '진정', '쓰기', '에센스', '양도', '마르지', '장점'], ['가성', '크기'], ['역시', '다음', '최고'], ['케어', '자주', '붙이', '피부관리', '는걸', '구입', '가격', '진정', '수분'], ['말뭐'], ['수분', '느낌', '지도'], ['워터', '이드', '데카', '사이드', '트리', '제일'], ['진정', '가성', '비팩', '진정', '데카', '사이드', '트리'], ['트리', '가성', '계속', '가요'], ['트러블', '주로', '진정', '트러블', '은기', '완화', '가격', '편이', '진정'], ['자주', '트리', '항상', '진정', '효과'], ['수분', '가득', '에센스', '흡수'], ['일주일'], ['항상', '할인', '쿠폰', '적용', '사면', '할인', '사서', '편입'], ['진정', '계속', '중이', '상태'], ['트러블', '흔적', '생기', '보이'], ['잡티', '부쩍', '미백', '도움', '생기', '의사'], ['진정', '일주일', '한번'], ['워낙', '수분', '보충', '무난', '하니'], ['생생', '후기', '종류', '별로', '워터', '콜라겐', '비타', '에센셜', '개인', '크게', '타입', '상관', '그때', '그때', '컨디션', '시트', '에센스', '양도', '후기', '도움', '도움'], ['시트', '피부관리', '워낙', '안해', '런가', '점점', '시작', '시트', '조차', '관리', '시트', '밀착', '사이즈', '마음', '에센스', '얼마나', '뚝뚝', '다리', '앰플', '양쪽', '부어', '부족함', '앰플', '워낙', '흡수', '마사지', '기도', '이용', '화장', '메이크업', '부착', '화장', '부착', '크림', '듬뿍', '자도', '다음'], ['타입', '부지', '민감', '봄브', '라이트', '겨울', '비비드', '솔직', '후기', '친구', '기대', '별로', '생각', '트러블', '케어', '트러블', '흔적', '케어', '위해', '거른거', '데카', '사이드', '데카', '사이드', '확신', '걱정', '일단', '시트', '재질', '두께', '시트', '커팅', '추가', '커팅', '별로', '에센스', '양도', '에센스', '조금', '붙이', '에센스', '시트', '제거', '흡수', '마무리', '진정', '효과', '트러블', '점도', '후기', '역시', '시트', '컷팅', '진정', '효과', '트리', '그거', '도전', '트리'], ['보습', '보습', '중건', '성인', '겨울', '여름', '살짝', '지성', '겨울', '추천', '효과', '보습', '초점', '유수', '쫀쫀', '편이', '보습', '만큼', '적임', '살짝', '편이', '선호', '수도'], ['요즘', '콜라겐', '노화', '예방', '우리', '모두'], ['최애', '대란', '합리', '가격'], ['생각', '자극', '합리', '가격'], ['다음', '가격', '합리'], ['대란', '가격', '이면', '품질', '대비', '합리', '가격'], ['트리나', '종류', '히알루론산', '역시', '보습', '느낌', '노력', '효과', '히알루론산', '앰플', '듬뿍', '매우', '촉촉', '부들'], ['무난', '비타민', '보습', '살짝'], ['가끔', '트러블', '자극', '진정', '효과', '유수', '밸런스', '개선', '자주', '애용'], ['팩안', '에센', '수양', '이건', '적당'], ['무난', '자주'], ['힐팩', '애용', '히알루론산', '콜라겐', '콜라겐', '쫀쫀함', '기분', '컨디션'], ['일리'], ['트러블', '진정'], ['국민', '트리', '보습', '진정', '도움'], ['무난', '일손', '자주', '방지'], ['가성', '트러블', '지성', '라면', '누구', '무난', '트리', '수분', '진정', '도움'], ['여태', '가장', '적임', '영양', '수분', '머금', '무엇', '현상', '조금', '최고', '역시', '건가', '가격', '이상', '가치'], ['제일', '무난', '진정', '오늘', '역시', '최고', '세수', '트리', '가장', '제일', '추천'], ['무난', '휘뚤마뚤', '쓰기', '쟝쨩'], ['아침', '토너', '정돈', '보습', '요즘'], ['요즘', '상태', '탄력', '지금', '세상', '복구', '위해', '콜라겐', '이용', '판이'], ['트러블', '대폭', '감소', '후회', '가격', '대비', '최고', '품질', '자랑'], ['하루하루', '항상', '신뢰', '가성', '지갑', '부담', '선택'], ['후회', '의사', '가격', '합리'], ['날씨', '수분', '각질', '수분', '보충', '생각', '영양분', '수분', '보충', '한번', '구입', '에센스', '화장', '민감', '에센스', '발라', '물광'], ['보습', '영양', '쌀뜨물', '색깔', '앰플', '한번', '추천'], ['앰플', '요지', '복합', '무난', '수분', '충전', '느낌', '마무리', '완전', '추천'], ['항상', '트리', '가끔', '매일', '안해', '런가', '여드름', '자국', '효과', '진정'], ['가성', '비도', '에센스', '양도', '일리'], ['트리', '에센셜', '진정', '아주'], ['워터', '이드', '히알루론산', '리뉴얼', '아앙'], ['가격', '휘뚜루', '두루', '쓰기'], ['필자', '타입', '건성', '지성', '복합', '부지', '여드름', '여드름', '흉터', '민감', '홍조', '계기', '사실', '옛날', '자극', '다시', '호기심', '자극', '저번', '자극', '이번', '상태', '자극', '오히려', '진정', '추가', '단계', '가을', '겨울', '크림', '발라', '여름', '추가', '단계', '꿀팁저', '항상', '먼저', '바로', '에센스'], ['트리', '모말', '자극', '밀착', '트러블', '진정', '일리', '매일', '요가', '성비', '에센스', '양도', '어마', '무시', '에센스', '팔꿈치', '발라', '남아', '최고', '가성'], ['비타민', '상콤', '콜라겐', '히알루', '비타', '트러스', '종류', '재미', '다음', '종류', '여름'], ['콜라겐', '주름', '미백', '자극', '이제', '슬슬', '여름', '탄력', '도주', '이번', '구입', '종류', '여러가지', '재미', '콜라겐'], ['히알루론산', '종류', '재미', '일도', '여러', '구입', '하루', '금방', '보고', '후기', '기록'], ['할인', '가격', '자주', '다음', '화장', '평소', '자주', '노력', '트리', '성분', '여드름', '추천', '트리', '여드름', '효과', '대요'], ['수분', '전용', '아주', '트러블', '여름', '수분', '건성', '칭찬', '한번', '여러', '효과'], ['히알루론산', '겨울', '환절기', '요즘', '수분', '에센스', '얼마나', '시트', '에센스', '뚝뚝', '다음', '화장', '가격', '매일', '해도', '부담'], ['이유', '우선', '가격', '올리브', '데이', '보통', '가성', '주로', '초록색', '여드름', '뾰루', '파란색', '먹이', '노란색', '기미', '주근깨', '톤업', '핑크색', '모공', '축소', '탄력', '개선', '화장', '코기', '적임', '오히려', '영양', '흡수', '하니', '사진', '콧등', '중간', '한번', '가위', '싹둑', '그때', '그때', '용도', '레인보우', '색깔', '별로', '추천', '레인보우', '레드', '보라색'], ['오늘', '리뷰', '몇개', '일단', '브랜드', '항상', '트리', '진정', '효과'], ['쿠폰', '천원', '가격', '수분', '쟁여둘', '종류', '별로', '냉장고', '내킬', '한번', '자극'], ['장고', '쿨링', '진정', '고요', '여드름', '흔적', '느낌', '패드', '한번', '시트', '수분', '어요'], ['트리', '종류', '무난', '쓰기'], ['트러블', '쓰기', '트러블'], ['개사', '하나', '기획', '행사', '사기', '천원', '이어도', '매일', '가격'], ['워터', '이드', '리뉴얼', '트리', '리뉴얼', '지금', '디자인'], ['보습', '보습', '크림', '하나'], ['트리', '무난', '쓰기'], ['트리', '성분', '재생', '효과', '대서', '편이'], ['자극', '친구', '자극', '친구', '데카', '소가', '오히려'], ['트리', '제일', '쓰기', '자극', '거의'], ['시트', '에센스'], ['트리', '거부', '가격'], ['매일', '자극', '트러블', '이유'], ['동안', '몇장', '환절기', '수분', '보충', '위해', '구입'], ['한장', '팩후', '추가', '크림', '발라', '주지'], ['무잡잡', '도움', '비타', '버전', '상큼', '기분', '시트', '붙이', '마음'], ['인생', '진정', '두께', '선호', '시트', '취향', '가성', '한번', '다시', '효과'], ['인덴', '이유', '자극'], ['요즘', '히알루론산', '제로', '케어', '수분', '충전', '기분', '건성'], ['기분', '콜라겐', '링클', '케어', '기적', '케이스', '핑크', '핑크'], ['점점', '나이', '보습'], ['트리', '무난'], ['건성', '자극'], ['시트', '지도', '밀착', '재질', '무난'], ['요즘', '트러블', '때문', '진정', '주문', '자극', '진정', '은기', '액체', '보습', '보습', '진정', '효과', '유수', '밸런스', '가격', '대비', '몇개', '쟁였다', '직할'], ['요즘', '건조', '끝판', '발라', '금방', '트길', '보습', '붙이', '열도', '대박', '케어', '방법', '줄줄', '에센스', '먼저', '장만', '완전', '종류'], ['트리', '역시', '시트', '워낙', '종류', '별로', '가장', '인기', '트리', '시트'], ['에센스', '냉장고', '보관', '붙이'], ['에센스', '완전', '자극'], ['머리', '전이', '사진', '양해', '머리', '하나', '머리', '말리', '수분'], ['데카', '사이드', '진정', '흔적', '관리', '여드름', '트리', '하나', '한번', '효과', '보이지', '지속', '효과'], ['하나', '보습', '효과', '시트', '토너', '보습', '효과', '개선', '효과'], ['무난', '진정', '무배'], ['진정', '트리', '데카', '사이드', '제일', '사면', '제일', '효과', '제일', '항상'], ['양도', '비타', '삿어'], ['역시', '극적'], ['완전', '쫀쫀', '에센스', '양도'], ['이건', '매일', '거의'], ['트러블', '진정', '무난'], ['잡티', '토닝', '느낌'], ['양용'], ['종종', '트러블', '트러블'], ['자극', '콜라겐', '수분', '보습'], ['비타', '미세먼지', '다시', '때문', '대박', '항상', '앰플', '보기', '만해', '미백', '보습', '그동안', '일도', '겸사겸사', '앰플', '느낌', '밀착', '시트', '두께', '밀착', '앰플', '영양', '가득', '바로', '역시', '대한민국', '시트', '인기', '더니', '시트', '최고', '앰플', '장점', '개인', '인기', '로드', '시트', '크기', '밀착', '엉망', '프로', '콜라겐', '기획'], ['트리', '진정', '때문', '대박', '항상', '앰플', '보기', '만해', '미백', '보습', '그동안', '일도', '겸사겸사', '앰플', '느낌', '밀착', '시트', '두께', '밀착', '앰플', '영양', '가득', '바로', '역시', '대한민국', '시트', '인기', '더니', '시트', '최고', '앰플', '장점', '개인', '인기', '로드', '시트', '크기', '밀착', '엉망', '프로', '기획'], ['콜라겐', '미세먼지', '다시', '때문', '대박', '항상', '앰플', '보기', '만해', '미백', '보습', '그동안', '일도', '겸사겸사', '앰플', '느낌', '밀착', '시트', '두께', '밀착', '앰플', '영양', '가득', '바로', '역시', '대한민국', '시트', '인기', '더니', '시트', '최고', '앰플', '장점', '개인', '인기', '로드', '시트', '크기', '밀착', '엉망', '프로', '콜라겐', '기획'], ['트리', '데카', '사이드', '처음', '역시', '두께', '에센스', '덕분', '진정', '도움', '트리', '트리', '재미'], ['시트', '붙이', '금방', '마르지', '마무리', '거리', '보습', '가끔', '마무리', '오히려', '전이', '라인', '기회', '요즘', '날씨', '불구', '일리', '잘못', '거의', '가격', '조금', '부담', '일리', '조금', '할인', '가격', '일리', '쓰기'], ['보습', '가끔', '마무리', '오히려', '전이', '라인', '기회', '날씨', '불구', '일리', '잘못', '어져', '거의', '가격', '조금', '부담', '일리', '쓰기', '조금', '할인', '가격', '일리', '쓰기', '붙이', '금방', '마르지', '마무리', '거리'], ['환절기', '요즘', '실천', '불구', '일리', '잘못', '어져', '거의', '가격', '조금', '부담', '일리', '쓰기', '조금', '할인', '가격', '일리', '쓰기', '붙이', '금방', '마르지', '마무리', '거리', '보습', '가끔', '마무리', '오히려', '전이', '디힐', '라인', '기회'], ['후반', '고등학생', '시절', '영어선생님', '나이', '기름', '지금', '필수', '아비', '트리나', '그린', '추천'], ['하나', '에센스', '가득', '먼저', '다음', '기분'], ['트리', '명불허전', '진정', '효과', '가성', '비도', '매일', '매일', '일리', '기도', '무난', '자주', '주로', '진정', '냉장고', '쿨링감', '때문', '진정', '시트', '밀착', '붙이', '거나', '거리', '기도', '항상', '크림', '마무리', '편이', '시트', '수분', '유지', '느낌', '선호', '지성', '건성', '진정', '누구', '고민', '누구', '무난', '추천'], ['항상', '기획', '상품', '가격', '마침', '품절', '개입', '구입', '항상'], ['자극', '시트', '재질', '에센스', '농축', '대충', '다음', '저녁', '마르고', '농축'], ['관리', '위해', '요즘', '시트', '나이', '런가', '수분', '라인', '시트', '후기', '금액', '가로', '후기', '무난', '시트', '생각', '거리', '하나', '크림'], ['요즘', '트러블', '가장', '수분', '뾰루', '트러블', '자극', '하나', '오히려', '진정', '느낌', '다음', '화장', '리뷰', '몇개', '구입', '가격', '대비'], ['트리', '할인', '트리', '성분', '함유', '진정', '뾰루', '컨디션', '진정', '효과', '에센스', '양도', '천연', '비건', '대나무', '시트', '밀착', '직후', '편이', '기도', '가라', '추천'], ['히알루론산', '할인', '히알루론산', '자극', '천연', '비건', '시트', '대나무', '시트', '밀착', '에센스', '손등', '히알루론산', '함유', '건조', '도움', '별로', '건조', '보습', '가끔'], ['자극', '기적', '가격', '품질', '자주', '가격', '피무', '빳빳', '히알루론산', '동안', '수분', '금고', '히알루론산', '미세', '입자', '때문', '수분', '다음', '화장'], ['요즘', '꽃가루', '미세먼지', '케어', '진정', '트리', '성분', '주문', '붙이', '다음', '컨디션', '스킨', '케어', '하나', '트러블', '최고'], ['요즘', '햇볕', '느낌', '지인', '추천', '유통기간', '배송', '포장', '파손', '시트', '밀착', '에센스', '줄줄', '시트', '적임', '팩후', '화장', '가성', '마음'], ['가끔', '생기', '느낌', '비타', '하나', '하나', '시트', '밀착', '생각', '거기', '케어', '톤업', '효과'], ['사실', '히알루론산', '겨울', '계절', '여름', '미백', '진정', '위주', '히알루론산', '보습', '위주', '겨울', '지금', '날씨', '보습', '완성'], ['비타민', '효과', '여러', '기분', '트리', '비타민', '효과'], ['쫀쫀', '해지', '지금', '계절', '트리', '요즘', '황사', '먼지', '저녁', '분기', '덩거림'], ['시트', '주로', '시트', '자주', '하나', '용감', '보습', '사진', '보시', '밀착', '밀착', '보고', '구입', '보습', '용감', '일사', '보습', '금액', '가성', '비도', '역시'], ['귀마개', '항상', '무조건', '안대', '한번', '찾기', '귀마개', '종류', '타입', '배송', '매가', '효과', '안대', '촉감', '부들부들', '자극', '안쪽', '모양', '착용', '머리', '뒤쪽', '로라', '조절'], ['역시', '날씨', '저녁', '자기', '열도', '건조', '한편', '보습', '줄겸', '구입', '일단', '에센스', '듬뿍', '흡수', '열도', '에센스', '다리', '팔꿈치', '역시', '이유', '계속'], ['계절', '항상', '느낌', '수분', '보충', '일단', '힐팩', '보기', '히알루론산', '워터', '이드', '겨울', '느낌', '발라', '다음', '아침', '세수', '느낌', '화장', '각질', '느낌', '히알루론산', '성분', '수분', '액체', '쓱쓱', '일석', '이조', '다음', '트러블', '밀착', '일주일', '관리', '여러', '내일'], ['자극', '여러', '종류', '트러블', '종종', '이용', '이번', '좁쌀', '여드름', '트리', '선택', '시트', '분기', '수분', '공급', '분기', '진정', '도움'], ['트리', '트러블', '진정', '효과', '할인', '가격', '대도', '항상', '힐팩', '대량', '한장', '앰플', '가득', '앰플', '다음', '아침', '발라', '주기도', '시트', '밀착', '밀착', '미세먼지', '때문', '트러블', '조금', '다음', '수분', '느낌', '아주', '마음', '힐팩', '트리', '제일', '계속', '예정'], ['가면', '무조건', '편이', '트리', '내추럴', '쓰기', '시트', '밀착', '추가', '케어', '흡수', '일주일', '보습', '영양', '진정', '여러가지', '번갈아', '그날', '컨디션', '보고', '개선', '도움', '주네'], ['애용', '이유', '시트', '지도', '앰플', '시트', '밀착', '앰플', '전부', '팔다리', '부분', '전부', '온몸', '발라', '적임', '흡수', '시트', '추가', '계속', '쟁여놓', '트리', '진정', '효과', '냉장고', '세안', '효과'], ['때문', '요즘', '트러블', '트리', '라인', '라인', '보고', '앰플', '뭔가', '진정', '느낌', '더더', '만족도'], ['트리', '워낙', '하나', '진정', '효과', '진정', '부분', '살짝', '진정', '온도', '수분', '다만', '부분', '살짝', '자극', '부분', '뭔가', '지네', '자극', '조금', '시트', '용감', '조금', '두께', '개인', '이정', '생각', '밀착', '고정', '생각', '에센스', '에센스', '양은', '마자', '전반', '분포', '양도', '가격', '가성', '조금', '생각', '리뷰', '통해', '기대', '부분', '생각', '가성', '가끔', '생각'], ['에센스', '아주', '가성', '시트', '추천', '종류', '별로', '개인', '핑크', '파랑', '추천'], ['에센스', '아주', '가성', '시트', '추천'], ['냉장고', '가성'], ['시트', '에센스', '매우', '가성', '시트'], ['가성'], ['가성', '추천', '타입', '컨디션'], ['아주', '역시', '사람', '추천'], ['오늘', '매장', '얼른', '바로'], ['보습', '최고', '고아', '팩트'], ['화장실', '삼백육십오일', '안뎀'], ['미스', '항상', '버전'], ['트리', '콜라겐', '한번', '탄력'], ['트리', '라마', '이드', '가성'], ['에센셜', '트리', '제일', '데카', '사이드', '성분'], ['남친', '할인', '무조건'], [], ['날씨', '보습', '미백', '기능'], ['가격', '효과', '트리', '힐링', '느낌', '트러블', '금방', '진정'], [], ['트리', '성분', '진정', '효과', '전반', '느낌', '부담', '쓰기', '일리'], ['요듬', '날씨', '화장', '건조', '해소', '자주'], ['무난'], ['히알루론산'], ['마다', '진정', '효과', '샤워'], ['여러', '종중', '가장', '무난'], ['가장', '밀착', '에센스'], ['진정', '아비', '어성초', '응급', '진정'], ['리뉴얼', '냉큼', '기존', '워터', '이드', '비교', '에센스'], ['역시', '명가', '일리', '트러블', '안나', '효과', '최고'], ['종류', '별로', '다사', '필수품', '다집', '일주일', '여행가', '서도', '쓰기', '햇볕', '냉장고', '진정', '보습'], ['부담', '쟁여놓', '쓰기', '요즘', '브랜드', '거의', '보습', '진정', '탄력', '콜라겐', '담날', '느낌'], ['최고', '일도', '자주', '가격', '부담', '일주일', '각질', '정리', '보습', '진정'], ['한장', '보고', '다섯', '추가', '완료', '역시', '가격', '효과', '저렴', '앰플'], ['무난', '쓰기', '자극', '쓰기', '가격'], ['전체', '한편', '쓰기', '데카', '소만', '자극'], ['자주', '거부'], ['미백', '기능', '대서', '크게', '효과', '자주'], ['부모님', '닥터', '다음', '최애'], ['비타민', '효과', '여러', '기분'], ['애용', '항상', '쟁여둬', '마음', '진정', '베스트셀러', '이유'], [], ['에센스', '부담', '마음', '배송비', '자주'], ['진정', '매일'], ['양주', '그림', '보고', '자극'], ['비타민', '효과'], ['매일', '부담', '이틀', '한번'], ['비타', '대서', '왕창'], ['가격', '진정', '보습', '크림', '하나'], ['가성', '보이'], ['흐물흐물', '느낌', '가격'], ['에센스', '아영', '트리'], ['시트', '흐물흐물'], ['진정', '가격'], ['택배', '자마자', '대요'], ['무조건', '트리', '시작', '시작', '역시', '보습', '진정', '팩안', '앰플'], ['날씨', '수분', '느낌', '기적', '무향', '시트', '가성'], ['쫀쫀', '탄탄', '일리', '요즘', '탄력', '신경', '콜라겐', '성분', '구입'], ['요즘', '일리', '느낌', '여름', '거리', '건성', '유수', '밸러스', '조화', '느낌', '시트', '마음'], ['수분', '충전', '보습', '미백', '기대', '수분', '공급'], ['트리', '자주', '마음'], ['항상', '여러', '마음'], ['착색', '부분', '정돈', '가격', '대비'], ['최애', '에센스', '가득', '진정', '잡티', '제거', '살짝', '느낌'], ['계절', '요즘', '최애', '인지', '부담', '장점', '금액', '성분', '단점', '발견'], ['지금', '난리', '한번', '진행', '제발'], ['에센스', '붙이', '밀면', '절대'], ['양감', '기지', '일주일', '세번'], ['지금', '계절', '분기', '케어', '여름', '더욱', '수분', '비교'], ['일리', '무조건', '부담', '쓰기'], ['자주', '가성', '굿굿'], ['할인', '자주', '효과', '가성'], ['이하', '하나', '무난', '아무', '용해'], ['요즘', '미세먼지', '때문', '트러블', '진정', '기분', '탓일', '수도', '발견'], ['자주', '종류', '요즌', '환절기', '보습', '히알루론산', '역시', '일단', '앰플', '시간', '발라', '완전', '그때', '동안', '유지', '기간'], ['기온', '환절기', '워낙', '건성', '김증', '쟁여둘', '상태', '가지', '종류', '별로', '만들기', '히알루론산', '에센셜', '히알루론산', '빈틈', '수분', '에센스', '어마', '나머진', '다리', '쓰윽', '발라', '시트', '자체', '시트', '개선', '적임', '보습', '김증', '집안', '행사', '하루', '전날', '화장'], ['날씨', '환절기', '맞이', '신고식', '몇번', '환절기', '터득', '진정', '방법', '수분', '충전', '제일', '요즘', '아침', '저녁', '수분', '관리', '사고', '관리', '제일', '세안', '토너', '챱챱', '다음', '시원', '진정', '수분', '냉장고', '제일', '순간', '온도', '화악', '기적'], ['가면', '즉각', '수분', '보충', '건조', '느낌', '냉장고', '기도', '화장', '각질', '보습', '점점', '거나', '부담', '항상'], ['원래', '날씨', '자주', '각질', '일어나서', '종류', '사제품', '비교', '가격', '여기', '성비', '진정', '효과', '다음'], ['여드름', '진정', '상태', '조금', '진정', '느낌'], ['에센셜', '데카', '사이드', '제일', '트리', '진정', '보습', '도움'], ['가격', '보습', '일리'], ['중인', '천원', '할인', '일주일', '적임', '마무리'], ['최근', '최고', '히알루론산', '제대로', '윤기', '진정', '굿굿', '샤워', '어깨', '다만', '포장', '에센스', '조금'], ['자극', '워낙', '해도', '요즘', '시트', '에센스', '완전', '동안', '마르지', '밀착', '보습', '저녁', '붙이', '아침', '컨디션', '화장', '가격', '완전'], ['앰플', '쿨링감', '여드름', '흉터', '진정', '보습', '고무', '진정', '자주', '냄새', '굿굿'], ['배송', '예전', '종류', '별로', '건성', '히알루론산', '제일', '다음', '화장', '가격', '케어', '아주'], ['카라', '최근', '장벽'], ['히알루론산', '성분', '함유', '자극', '수분', '효과', '속보', '습도', '개선', '다음', '제거', '적임', '제로'], ['자극', '시트', '지도', '진정', '촉촉'], [], ['재미', '가격'], ['상품', '연속', '하알루론산', '함유', '보습', '케어', '시트', '적임', '부담'], ['자극', '트리', '기도', '완화'], ['배송비'], ['트리', '진정', '용도', '최고', '에센스', '듬뿍'], ['항상', '트리', '데카', '사이드', '트러블', '트러블', '가격', '할인', '진정'], ['금방', '금방', '편이', '후기', '사진', '앨범', '사진', '겨우', '예전', '요즘', '최대', '관심사', '콜라겐', '종종', '사서', '붙이', '즉각', '효과', '제일'], ['앰플', '시트', '않아앰플', '가득', '금고', '붙이', '내내', '기분', '야외', '운동', '선크림', '요즘', '발라', '좁쌀', '여드름', '보습', '신경', '히알루론산', '더욱'], ['레이저', '지금', '약간', '바로', '관리', '시작', '팔다리', '나니', '레이저', '아주', '앰플', '남아', '아주', '마음']] \n",
            " [['트리', '콜라겐', '등등', '종류', '별대', '뾰루', '자리', '색소', '침착', '거뭇', '부분', '위해', '비타', '비타', '라서', '약간', '자극', '종류', '효과', '미미', '오히려', '다음', '스름', '토너', '정리', '불편', '비타', '가성', '제외'], ['트러블', '기준', '느낌'], ['비타민', '시트', '뭔가', '기대'], ['좁쌀', '뾰루', '트러블', '진정', '오히려', '상치', '자극', '주변', '은기', '시트', '진정'], ['공장', '해명', '인터넷'], ['공장', '비위생적', '면서', '믿음'], ['모낭', '트리', '효과'], ['실망'], ['실망'], [], ['아무', '다음', '조금', '좁쌀', '다음', '트리'], ['생각', '내용물', '에센스', '성분'], ['평균', '크기', '냄새', '밀착', '아래', '에센스', '양도', '세수', '고민'], ['우선', '당일', '후기', '보습', '자극', '다시'], ['개인', '흡수', '느낌', '무난', '무난'], ['사서', '친구', '추천', '굳이'], ['수분', '느낌', '할인', '무난'], ['무난', '자체', '트러블', '리기', '효과', '이외', '뭔가'], ['한번', '온라인', '가격'], [], ['트리', '트리', '피브', '트리', '어용', '에센스'], ['라인', '이제', '할인', '그거', '전혀', '쫀쫀'], ['자극', '다음', '효과'], ['보습', '약간', '신분'], ['자극'], ['살짝', '기초', '해도', '좁쌀', '지성', '진정', '정이', '거울', '홍조', '염증', '여드름', '식겁', '이건', '자고', '다음', '좁쌀', '웃겻음볼쪽', '티존'], ['시트', '밀착', '붙이', '기전', '시트', '흡수', '천오백', '적임', '지금', '여름', '느낌'], ['시트', '밀착', '붙이', '기전', '시트', '흡수', '천오백', '적임', '지금', '여름', '느낌'], ['바로', '흡수', '밀착', '트리', '선지', '아예', '의사'], ['개인', '차이'], ['살짝', '기분', '처음', '다음', '다시', '도전'], ['시트', '무얼', '무난', '할인', '종류', '차이', '라인', '정리', '필요'], ['자극', '크게', '한번', '효과', '크게', '몇개'], ['리뷰', '맨손', '포장', '위생', '이슈', '만석', '닭강정', '수준', '환골탈태', '사고', '민심', '코덕', '네임드', '어쩌자', '업체', '역시', '대기업', '리뷰', '그대로', '효과', '뾰루', '진정', '효과', '쿨링', '효과', '굿굿임', '모델링', '한번', '용법', '귀차니스트', '포기', '트리', '진정', '효과', '냉장고', '보관', '쿨링', '앰플양', '온몸', '발라', '앰플', '농도'], ['트리', '제일', '어워즈', '생각', '별로', '진정', '진정', '자극', '요즘', '트러블', '시트', '자마자', '약간', '거리', '진정', '성능', '상태', '자극', '트러블', '여드름', '가장', '효과', '재료', '트리', '부분', '약간', '기대', '효과', '효과', '생각', '요즘', '겨울', '하나로', '다음', '단계', '삭제', '토너', '제외', '기존', '스킨', '케어', '루틴', '해주시', '이번', '할인', '다음', '굳이'], ['이유', '일주일', '편이', '트리', '예전', '뉴얼', '시트', '단점', '요즘', '전체', '용감', '성분', '상향', '평준화', '변화', '힐티', '트리', '국민', '시트', '용감', '약간', '조건', '비건', '미백', '진정', '쿨링', '시트', '용감', '이유', '생각', '시트', '자체', '에센스', '함유량', '밀착', '살짝', '보습', '추가', '효과', '트리', '진정', '효과', '완화', '트러블', '부분', '거리', '느낌', '전혀', '자극', '진정', '저렴', '추천'], ['패키지', '리뉴얼', '내용물', '인지', '리뉴얼', '가성', '사서', '쓰기', '브랜드', '생각', '무난', '시트', '스킨', '내용물', '효과'], ['가성', '흡수', '천오백', '적임', '지금', '여름', '느낌'], ['흡수', '천오백', '적임', '지금', '여름', '느낌'], ['좁쌀', '화농', '민감', '여드름', '워낙', '이전', '메리트', '기간', '다시', '울긋불긋', '은기', '가렵거', '기초', '다시', '매하'], ['밀착', '흡수', '편이', '자주', '워터', '이드', '트리', '비타민', '종류', '별로', '컨디션'], ['브랜드', '민감', '성도', '여드름', '생각', '효과'], ['한편', '크게', '문제', '무난', '효과'], ['자극', '살짝', '별로'], ['별로', '싸구려', '느낌'], ['가끔', '무난'], ['할인'], ['무난', '가격', '성분'], ['차이', '성비', '워낙', '설명', '한장', '크림', '기적'], ['고딩', '대학생', '요즘', '수분', '트리', '시트', '이제', '가격', '대가', '생각', '기능', '쓰시', '아마', '힐로', '우선', '체험', '추천', '비타', '워터', '이드', '데카', '사이드', '콜라겐', '체험', '추천', '약간', '전체', '효과', '보통', '진정', '시트', '역시', '추천', '입트', '팔로우'], ['리뷰', '타입', '부지', '좁쌀', '모낭', '여드름', '흔적', '장점', '트러블', '진정', '무난', '가성', '트리', '추천', '단점', '단점', '트러블', '무조건', '이유'], ['베스트', '기준', '생각', '만족', '우선', '시트', '느낌', '조금', '보통', '대부분', '적임', '붙이', '바로', '에센스', '세안', '아토피', '면서', '유독', '편이', '진정', '느낌', '크게'], ['패키지', '변경', '원래', '약간', '의아', '친구', '년전', '처음', '추천', '쓰기', '시작', '그때', '보고', '진정', '아이템', '이번', '기분', '리뉴얼', '효과', '재질', '리뉴얼', '전이', '진정', '느낌', '자체', '약간', '부분', '예전', '생각', '원래', '이제', '고민', '리뉴얼', '오오오', '패키지', '무언가', '버전', '가지'], ['트리', '라인', '애용', '최근', '리뉴얼', '리뉴', '경우', '고민', '일단', '리뉴', '전과', '비교', '결과', '리뉴얼', '전이', '이전', '편이', '리뉴', '인위', '숲향', '자극', '약간', '거부', '시트', '크기', '예전', '이전', '부분', '아래', '붙이', '전체', '아래', '애도', '약간', '면적', '느낌', '트리', '이유', '바로', '진정', '효과', '바로', '흡수', '느낌', '느낌', '리뉴얼', '흡수', '느낌', '이마', '볼쪽', '에센스', '계속', '한번', '흡수', '사실', '리뉴얼', '전의', '트리', '에센셜', '찬양', '완전', '정착', '생각', '느낌', '지금', '혼란', '리뉴얼', '혹시', '살수'], ['별로', '효과', '단종', '리뉴얼', '리뷰', '낫다', '하나', '보고', '리뷰'], ['워낙', '브랜드', '이기', '이전', '트리', '라인', '자주', '이번', '리뉴얼', '주로', '트리', '임팩트', '밸런싱', '가장', '마음', '부분', '시트', '재질', '촉감', '밀착', '두께', '완전', '시트', '끼리', '기도', '하니', '에센스', '양은', '아래', '추가', '다만', '에센스', '점성', '거꾸로', '해도', '주르륵', '기도', '에센스', '조금', '성분', '기존', '마음', '용감', '개인', '적임', '개인', '편이', '조금', '다음', '아침', '적임', '보습', '해도'], ['후기', '참고', '대부분', '후기', '트리', '진정', '효과', '에센스', '듬뿍', '지성', '여름', '등등', '후기', '후기', '진정', '효과', '아비', '어성초', '효과', '에센스', '편도', '복합', '느낌', '추가', '모양', '사이즈', '의사', '트리', '특성', '마무리', '앰플', '거리', '마무리', '크게', '상관', '가격', '대비', '효과', '생각'], ['예전', '요즘', '리뉴얼', '진정', '보습', '도움', '는걸', '한번', '듬뿍', '바로', '좁쌀', '타입', '흡수', '편이', '진정', '효과', '장점', '냉장고', '제거', '쿨링감', '편도', '편도', '보통', '크게', '이건', '조금', '이마', '조금', '이마', '에센스', '양도', '내내', '마르지', '여드름', '중인', '애가', '하나', '부분', '무지', '아이', '상처', '거의', '서인', '요즘', '단점', '시트', '특성', '동안', '에센스', '뚝뚝', '크기', '구멍', '입구', '다음', '다래끼', '그것'], ['자극', '진정', '이유'], ['만큼', '가격', '만큼', '쓰기', '다음', '모델링'], ['족발', '대체'], ['흔적', '케어', '효과'], ['처음', '밀착', '붙이', '타이머', '고민', '붙이', '에센스', '양은', '노메이크업', '반나절', '보고', '후기', '추가', '후기', '추가', '각질', '부각', '그대로', '이번', '사서', '각각', '후기', '예정', '이유', '악어', '각질', '마냥', '각질', '제거', '필링', '수분크림', '메이크업', '밀리', '각질', '일어나서', '목적', '지인', '다음', '더욱', '일리', '화장', '트러블', '브랜드', '라인', '타입', '수분', '미백', '주름', '진정', '대효', '직원', '도움', '요청', '구분', '시트', '설명', '기대', '아이', '장바구니', '나중', '도움', '작성', '예정'], ['친구', '추천', '친구', '사이비', '도마', '맹신', '맹신', '관심', '아무', '거나', '건성', '조금', '재질', '로거', '바로', '천원', '안나', '시간', '채운', '세번', '도움'], ['트리', '리뉴얼', '트리', '가끔', '사서', '이건', '매트', '때문', '뽀드득', '거리', '사서', '여드름', '분기', '주로', '가끔', '여드름', '수분', '수분', '수분', '진정', '수분', '수분', '한번', '시트', '두께', '이나', '마르지', '조금', '편이', '뒤쪽', '진정', '편이'], ['수분', '부족', '지성', '이번', '리뉴', '면서', '유투브', '광고', '다해', '부지', '살짝', '실망', '부지', '조금', '보습', '분기', '트러블', '살짝', '부지', '건성', '부지', '가을', '겨울철', '보습', '일주일', '겨울철', '건성', '일주일', '용감', '약간', '토로', '살짝', '흡수', '건성', '흡수', '지성', '완전', '여름철', '환절기', '겨울', '추천'], ['다음', '아침', '달걀', '가능', '민감', '트러블'], ['미백', '조금', '효과', '의사'], ['점점', '비닐'], ['추천', '생각', '추천', '모든', '생각'], ['지금', '가장', '뭔가', '점점', '에센스', '양도', '효과'], ['트리', '성분', '요즘', '한번', '양도', '밀착', '흡수', '끈쩍', '로션', '발라', '고여', '참고', '세수', '다시'], ['무난', '자체', '장점', '단점', '트리', '진정', '효과'], ['한번', '효과', '별로', '옶습', '이돈', '올리브영', '삼다수', '사드'], ['진정', '효과', '에센스', '흡수', '수분'], ['별로', '차이점', '아무', '거나', '해도'], ['진정', '별로'], ['수분', '오히려', '트러블', '수도'], ['수분', '오히려', '트러블', '수도'], ['시트', '에센스', '시트', '흡수', '거리', '녹차', '말차'], ['종류', '효능'], ['나안', '효과'], ['트러블', '트리', '미스', '트러블', '트리', '추천'], ['자극', '거의', '아예'], ['앰플', '듬푹'], ['앰플', '듬푹'], ['지성', '조금', '뾰루', '문제', '문제', '같음챡'], ['논란', '팩트'], ['일리', '자극', '별로', '마무리', '크림'], ['일리', '자극', '별로'], ['일리', '자극', '별로'], ['엄마', '마미', '후기', '퍅한것', '버렷'], ['트리', '진정', '생각', '느낌'], ['묶음', '항상'], ['트리', '제일', '먼저', '대표', '상품', '개인', '여러', '사서', '결과', '트리', '진정', '효과', '수분', '충전', '온도'], ['가격', '오유'], ['한번', '특징', '별로'], ['시트', '일단', '에센스', '내용물', '걱정', '진정', '효과', '효과', '다음', '흡수', '느낌', '훅훅', '느낌', '자주', '사지'], ['모양', '마음', '듬뿍', '성분', '무엇', '가격', '금액', '처음', '나중', '기름', '좔좔', '영양', '크림', '감안', '해도', '건성', '가성', '비템', '추천', '지성', '부지'], ['원래', '다시', '보고', '흡수', '끈끈', '남아', '느낌', '개인', '부지', '수분', '진정', '조금'], ['성능', '가성', '트리', '이제', '효과', '가렵', '트러블', '분기', '촵촵', '흡수'], ['트리', '일리', '효과', '일리', '무난', '진정', '관리', '행사', '트러블', '하나', '뭔가', '하나', '하나', '막막', '트리', '뭔가', '사지'], ['가격', '하늘색', '역시', '트리', '그거', '별로', '쿨링', '효과', '에센스', '여름', '제외', '계절', '크림', '필수', '트리', '지루', '피부염', '대서', '구입', '쿨링', '자극', '진정', '진정', '트러블', '완화', '효과', '보습', '워낙', '화장품', '빠꼼', '사실', '인터넷', '일가', '가격', '역시', '하늘색', '워터', '이드', '그것', '리뉴얼', '어찌'], ['리뉴', '붙이', '보습', '진정', '지성', '라면', '에센스', '트러블', '수도', '조절', '기준', '부동', '팩일'], ['좁쌀', '홍조', '때문', '지금', '유목민', '할껀', '한번', '효과', '효과', '보류'], ['타입', '부지', '피지', '뿜뿜', '건조', '각질', '염증', '좁쌀', '고살', '관리', '화농', '공개', '모공', '조금', '시간', '바로', '좁쌀', '대처', '바로', '염증', '전환', '지존', '홍조', '여드름', '악화', '가속', '호르몬', '내부', '외부', '환경', '반응', '월경주기', '컨디션', '천지', '차이', '내부', '환경', '온도', '차이', '외부', '환경', '변화', '민감', '상처', '회복', '트러블', '해도', '흉짐', '한번', '생기', '기세', '한번', '사서', '용감', '전체', '무난', '트리', '상대', '만족감', '부활', '자극', '음순', '자극', '효과', '전의', '트리', '트러블', '효과'], ['수학여행', '위해', '막상', '붙이', '얼마', '약간', '차이', '신분', '추천', '단점'], ['진정', '출시', '트리', '돌이', '트리', '성분', '정가', '천원', '에센스', '요요', '에센스', '편이', '한번', '도포', '흡수', '다음', '붙이', '에센스', '남아', '화장', '공병', '다음', '아침', '용도', '하나로', '진정', '수분', '에센스', '크림', '기초', '단계', '마무리'], ['워낙', '진정', '한번', '여름', '기름', '폭발', '여드름', '순식간', '한번', '주변', '조금', '거리', '주변', '거려', '별로', '흡수', '거리', '부분', '부분', '처음', '당황', '원래', '진정', '효과', '다음', '상태', '도전', '소량', '추천'], ['산책', '다가', '올리브영', '쟁이', '처음', '여름', '하니', '진정', '위주', '다음', '저녁', '역시', '트리', '향항', '적응', '트리', '에센스', '아주', '듬뿍', '시트', '뚝뚝', '에센스', '포장', '지안', '앰플', '얆은편', '느낌', '금고', '무거워', '이건', '에센스', '진정', '수분', '거리', '거리', '거리', '다시'], ['여름', '끈끈함', '계절', '지성', '건성', '시트', '에센스', '여름', '원래', '전혀', '진정', '시트', '편이', '에센스', '편입', '시트', '자체', '아주', '용감', '시트', '나니', '용감', '끈끈', '계속', '느낌', '여름', '느낌', '간정', '세수', '내용물', '유독', '느낌', '트러블', '용감', '생각', '끈끈', '조금'], ['워낙', '편이', '토너', '정리', '바로', '앰플', '크림', '발라', '만큼', '옛날', '이마', '이마', '연결', '부분', '이마', '붙이', '인중', '부분', '하나', '붙이', '항상', '이마', '부분', '사이즈', '이마', '연결', '부분', '이마', '붙이', '붙이', '이어진', '인중', '부분', '밀착', '간이', '부분', '붙이', '이마', '인중'], ['트리', '라인', '원래', '생리', '건성', '일리', '거나', '보습', '오히려', '다음', '생리', '발라', '수준', '관리', '느낌', '흡수', '수분', '여드름', '쟁여', '부담', '약간', '잘못', '수준', '여드름', '좁쌀', '여드름', '추천', '덕분', '진정', '효과', '트리', '라인', '하나', '패키지', '하나', '느낌', '이건', '진정'], ['타입', '부지', '분과', '피지', '수분', '부족함', '좁쌀', '트러블', '한번', '화농', '여드름', '생리', '여드름', '후기', '리뉴', '트리', '애용', '리뉴얼', '진정', '효과', '나름', '리뉴얼', '트리', '다음', '트러블', '진정', '개선', '피지', '제거', '효과', '체감', '피지', '감소', '효과', '염증', '진정', '효과', '조금', '는걸', '체감', '리뉴', '트리', '시트', '주기', '트러블', '브랜드', '상품', '이유', '무엇', '브랜드', '추가', '단계', '만하', '보습', '충족', '크림'], ['산책', '다가', '올리브영', '쟁이', '처음', '여름', '하니', '진정', '위주', '다음', '저녁', '역시', '트리', '향항', '적응', '트리', '에센스', '아주', '듬뿍', '시트', '뚝뚝', '에센스', '포장', '지안', '앰플', '얆은편', '느낌', '금고', '무거워', '이건', '에센스', '진정', '수분', '거리', '거리', '거리'], ['한번', '트러블', '트리', '트러블', '데카', '사이드', '래서', '기대', '별로', '트러블', '진정', '효과', '느낌', '데카', '사이드', '수분', '충전', '이건', '오히려', '에센스', '레이어', '무거워', '민감', '부지', '에센스', '양은', '봉투', '부분', '인심', '발휘', '점수', '봉투', '입구', '에센스', '기대', '트러블', '진정', '효과', '설명', '진정', '수분', '수분', '충전', '효과', '데카', '사이드', '트리', '매하', '이건', '바사', '트리', '효과', '보지', '수도', '참고'], ['냉장고', '챱챱', '해지', '기분'], ['청록색', '진정', '트러블', '좁쌀', '소어쩌구', '이건', '에센스', '굿굿', '다음', '쩍쩍', '거려'], ['출시', '유튜', '버들', '사이', '추천', '구입', '홍조', '효과', '트러블', '하진', '관리', '진정', '패키지', '조금', '뭔가', '안심', '에센스', '흡수', '시간'], ['중반', '건성', '보유', '트리', '라인', '진정', '효과', '트리', '성분', '자체', '편이', '결론', '도달', '자체', '자극', '트리', '성분', '지금', '바로', '아쉬움', '남지', '자체', '로만', '배드', '트리', '평소', '무난', '트리', '성분', '초점', '만큼', '진정', '효과', '여부', '트리', '성분', '사람', '오히려', '라인', '데카', '사이드', '시트', '진정', '효과', '진정', '노리', '시트', '아마'], ['진정', '위해', '구입', '기도', '기억', '안나', '포장', '트리', '가득', '에센스', '편이', '에센스', '주르륵', '에센스', '점성', '시트', '밀착', '쿨링', '그게', '유지', '진정', '효과', '크게', '에센스', '점성', '흡수', '조금', '흡수', '쫀쫀해', '살짝', '마무리', '만족', '조금', '건성', '아마', '트리', '어성초', '아마', '다음', '추가', '구입', '하진'], ['원래', '트리', '케어', '솔루션', '에센셜', '거의', '리뉴얼', '소식', '트리', '라인', '가지', '전부', '보습', '트리', '특유', '진정', '효과', '원래', '다음', '트러블', '트리', '임팩트', '차이', '시트', '재질', '느낌', '보습', '사실', '트리', '진정', '효과', '보습', '굳이', '필요', '진정', '효과', '유목', '생활'], ['중반', '건성', '보유', '시트', '라인', '아마', '가장', '요새', '시국', '이마', '좁쌀', '뾰루', '진정', '효과', '리뉴얼', '기대', '전체', '살짝', '고민', '느낌', '지금', '흡수', '트리', '라인', '불구', '편이', '흡수', '기능', '자고', '윤광', '원래', '진정', '효과', '다소', '좁쌀', '그다지', '효과', '생각', '기대', '여부', '오히려', '리뉴얼', '전이', '개인', '시트', '자체', '뭔가', '처음', '리기', '살짝', '계절', '때문', '일부러', '진득', '마무리'], ['워터', '마이', '처음', '역시', '자극', '개선', '대한', '효과', '별로', '의사'], ['트리', '복합'], ['에센스', '밀착', '조금'], ['수분', '밀착', '느낌', '다만', '크기', '다소', '편이'], ['가성', '가끔', '이용', '편이'], ['보습', '콜라겐', '처음', '처음'], ['원래'], ['진정', '주변', '추천', '바로', '사서', '생각', '트리', '성분', '효과'], ['사람', '워낙', '항상', '순위', '상위', '별로', '오히려', '민감', '보고'], ['효과', '굳이', '사도'], ['개인', '이후', '수분'], ['한번', '미백', '옵션', '수분', '거리', '약간'], ['최애', '트리', '상태', '이제', '자극', '트러블', '트리', '이제'], ['지성', '쓰기', '에센스', '무거', '모공', '뾰루', '할인', '해도'], ['다음', '진득진득해', '화장', '먹음'], ['원래', '학생', '자주', '그땐', '최근', '다시', '바로', '이제', '시트'], ['가끔', '가요', '효과', '보고'], ['처음', '크기', '민감', '건성', '자극', '보습'], ['추천', '원래', '브랜드', '보급', '친구', '추천', '효과', '글쎜', '진정', '진정', '효과', '보이', '무난', '보습', '의사', '전혀'], ['에센스', '하라', '중간', '체크', '과정', '처리'], ['주위', '사람', '추천', '자극', '원래', '처음', '제거', '에센스', '양도', '미착'], ['건성', '타입', '시너지', '랩핑', '보습', '장벽', '수분', '지속', '앰플', '가득', '냉장고', '타입', '자극', '추가', '단계', '굳이', '항상', '여기', '브랜드', '트리', '콜라겐', '비타민', '미백', '주름', '등등', '가격', '합리', '여서', '항상', '다음', '예정', '이예'], ['에센스', '양도'], ['에센스'], ['시트', '개봉', '환불', '리뷰', '개봉', '내용물', '확인', '개봉'], ['컨디션', '화끈', '거리', '거나', '느낌', '홍조', '컨디션', '컨디션', '장벽', '보습', '크림', '참고', '겟습', '다행', '지금', '다시'], ['컨디션', '화끈', '거리', '거나', '느낌', '홍조', '컨디션', '컨디션', '장벽', '보습', '크림', '참고', '다행', '지금', '다시'], ['자마자', '다음', '살걸'], ['이건', '별로', '자극'], ['이후', '처음', '햇볕', '두번째', '비로소', '예전', '이상'], ['트리', '이건', '다시'], ['흡수', '천오백', '적임', '지금', '여름', '느낌'], ['초반', '효과', '요즘', '그닥'], ['촉촉'], ['파란', '핑크', '콜라', '더별루', '냄새'], ['별로', '느낌', '데카', '사이드', '하하'], ['별로', '자극', '형도', '별로', '데카', '사이드'], ['리뷰', '도움', '한번', '트리', '후기', '최애', '마스', '트리', '단연', '최애', '불과', '얼마', '찬양', '리뷰', '작성', '충격', '사실', '얼마', '공장', '포장', '틱톡', '영상', '짝퉁', '본사', '직접', '문의', '결과', '답변', '수출', '하청', '업체', '확인', '하청', '업체', '관리', '본사', '어디', '사과문', '건가', '최애', '영상', '이상', '이상', '실망', '대처', '또한', '실망', '대체'], ['일단', '불호', '사람', '검은색', '피지', '모공', '그거', '거리', '다시', '하나', '일단', '여름', '일주일', '시트', '편이', '왜냐면', '온몸', '열도', '화장', '콜라보', '크게', '역시', '제피', '부가', '문제', '민감', '당황'], ['사실', '불호', '사람', '검은색', '피지', '모공', '그거', '거리', '다시', '하나', '일단', '여름', '일주일', '시트', '편이', '왜냐면', '온몸', '열도', '화장', '콜라보', '크게', '역시', '제피', '부가', '문제', '민감', '당황'], ['별로', '다라', '생각', '라인', '리뉴얼'], ['전날', '츅촉', '에센스'], ['밀착', '에센스', '양도', '가격', '입가', '자국', '피부염', '쓰기'], ['기초', '케어', '화장품', '리뷰', '함부로', '쓰기', '사기', '이건', '수가', '일단', '보습', '트러블', '케어', '효과', '평범', '비교', '하나', '여기', '이유', '때문', '자극', '바로', '군데군데', '트러블', '개짐', '가족', '보고', '갑자기', '그거', '깜짝', '기초', '절대', '그랬슴다', '복불복'], ['리뉴얼', '매일', '그땐', '자극', '아예', '리뉴얼', '밀착', '에센스', '양도', '바로', '진정', '지도', '홍조', '오히려', '리뉴얼', '전이', '은거'], ['트리', '성분', '자체', '오히려', '유발'], ['머리카락', '원래', '이제'], ['배송', '저런', '상태', '내용물'], ['종류', '별로', '별로', '그닥', '진정', '차라리', '하나', '횟수'], ['리뷰', '리뉴얼', '전이', '생각', '상품', '다시', '모공', '느낌', '오히려', '느낌'], ['약간', '자극', '가성'], ['건성', '복습', '굳이', '이유', '느낌', '굳이', '사지'], ['밀착', '에센스', '양도'], ['수분', '진정'], ['바로', '참고', '민감', '건성', '여드름'], ['트리', '런가', '자극', '지성', '여드름'], ['어성초', '그것', '절대'], ['굴린걸', '상태', '여지', '상품', '상태', '개판', '처음', '내용물', '포장', '케이스', '이상태', '기분', '매장', '패드', '케이스', '재고', '관리', '하나', '상태', '사진', '따름', '상품', '박스', '크게', '손상', '흔적', '택배', '손상'], ['최악', '제일', '무난', '쟁여놓', '갑자기', '리뉴얼', '자극', '처음', '때문', '인지', '왕창', '입가', '초초초', '예민', '상태', '처리'], ['항상', '트러블', '평상시', '마다', '쟁겨', '강추'], ['박스', '밴드', '교환', '파손', '상품', '교환', '신청', '교환', '신청'], ['냉장고', '붙이', '로션', '발라'], ['편이', '힐팩'], ['자극', '효과', '일리'], ['뭔가', '수력', '타인', '그거'], ['뭔가', '인공', '전달'], ['자극', '항상'], ['트러블', '효과', '효과', '가성'], ['보습', '효과', '매일', '쟁여놓', '중이'], ['진정', '별로'], ['퍼스', '컬러', '겨울', '클리어', '영향', '겨울', '클리어', '타입', '우만', '타입', '지성', '민감', '색소', '탄력', '트리', '녹차', '병풀', '캐모마일', '카렌', '릭애', '씨드', '코코넛오일', '쉐어버터', '코코아', '버터', '시나몬', '오일', '시나', '믹애', '씨드', '씨드', '조익', '씨드', '파리', '포익애', '씨드', '소리', '간혹', '접촉성', '피부염', '재발', '원인', '두드러기', '트러블', '스트레스', '전문의', '휘트니', '스킨', '사이클링', '실천', '각질', '제거', '레티놀', '수분', '공급', '장벽', '강화', '무난'], ['작성자', '타입', '바람', '민감', '건성', '성분', '글리세린', '베타', '트레', '할로', '오스', '보습', '보호', '도움', '성분', '함유', '보습', '효과', '전혀', '살짝', '자연', '자체', '거부', '한편', '크게', '호불호', '갈리', '기존', '트리', '리뉴얼', '패키징', '성분', '자체', '변화', '결론', '리뉴얼', '전이', '기분', '리뉴얼', '수분', '진정', '효과', '리뉴얼', '건가', '느낌', '효과', '휘뚤마뚤', '전체', '평가', '시트', '편이', '밀착', '에센스', '주르륵', '타입', '에센스', '팩답', '에센스', '시트', '금방', '때문'], ['압출', '즉각', '진정', '효과', '었구', '부분', '이유', '무난', '수분', '수분', '빵빵', '중간', '복합', '약간', '수분크림', '발라'], ['에엥', '리뉴얼', '성분', '리뉴얼', '시트', '에센스', '리뉴얼', '쟁였', '기존', '타입', '에센스', '그대로', '수분', '공급', '이번', '물풀', '용감', '시트', '재질', '조금', '자극', '부들', '거리', '거나', '분명', '트리', '진정', '포커스', '시트', '자극', '조금', '에센스', '콧물', '진정', '화농', '여드름', '아주', '일시', '진정', '효과', '그거슨', '아마', '쟈가워져', '뾰루', '여드름', '인중', '조금', '가격', '메리트', '에센스', '의사', '안녕'], ['파워', '지성', '타입', '이마', '기름', '턱쪽', '기름', '분비', '평소', '기름기', '수분크림', '수분', '지라', '기름기', '선호', '진정', '별로', '여름', '지금', '별로', '지성'], ['민감', '거나', '고려', '민감', '지성', '가끔', '트러블', '진정', '트리', '시트', '오히려', '트러블', '리해', '피지', '조절', '트리', '오일이', '자극', '라인', '데카', '사이드'], ['잘만', '이번', '생리', '문제', '지나', '가렵', '바로', '제거', '세수', '별탈', '이건', '학기', '학교', '조금', '시기', '불편', '했슴다'], ['트리', '유튜브', '추천', '워낙', '추천', '약간', '실망', '일단', '시트', '자체', '시트', '가장', '느낌', '편이', '크기', '조금', '일단', '그닥', '약간', '사진', '흡수', '지난', '거리', '약간', '느낌', '크림', '기초', '절대', '느낌', '수분', '그게', '건성', '타입', '의향'], ['타입', '부지', '좁쌀', '여드름', '화농', '여드름', '여드름', '자국', '장점', '붙이', '땠을때', '은기', '진정', '에센스', '시트', '밀착', '단점', '부분', '시트', '조금', '지금', '할인', '이란', '가격', '결코', '가격', '적함', '매우', '매우', '매우', '여드름', '오히려', '자극', '느낌', '약간', '느낌', '추천', '타입', '스타일', '타입', '건성', '건조', '스타일', '마무리', '상관', '느낌', '타입', '스타일', '타입', '화농', '여드름', '좁쌀', '여드름', '여드름', '나신', '지성', '부지', '스타일', '마무리', '느낌', '느낌', '의사'], ['진정', '효과', '진정', '효과', '거의', '트리', '진정', '목적', '유튜버', '여기', '트리', '함량', '효과', '의미', '보고서', '진정', '효과', '목적', '보습', '수분', '공급', '목적', '에센스', '덕분', '살짝', '거리', '느낌', '다음', '아침', '유지', '보습', '최고', '시트', '에센스', '양도', '시트', '밀착', '편이', '용감', '하나', '효과', '하나', '불만족'], ['사람', '차이', '추천', '개인', '느낌', '조금', '특정', '성분'], ['타입', '부지', '좁쌀', '여드름', '화농', '여드름', '여드름', '자국', '장점', '붙이', '땠을때', '은기', '진정', '에센스', '시트', '밀착', '단점', '부분', '시트', '조금', '지금', '할인', '이란', '가격', '결코', '가격', '적함', '매우', '매우', '매우', '여드름', '오히려', '자극', '느낌', '약간', '느낌', '추천', '타입', '스타일', '타입', '건성', '건조', '스타일', '마무리', '상관', '느낌', '타입', '스타일', '타입', '화농', '여드름', '좁쌀', '여드름', '여드름', '나신', '지성', '부지', '스타일', '마무리', '느낌', '느낌', '의사'], ['우선', '건성', '민감', '여드름', '트리', '성분', '경우', '걱정', '역시', '바로', '민감', '이신', '참고', '에센스', '부족', '트리', '적극', '추천'], ['트러블', '설날', '한참', '음식', '피부관리', '여드름', '장난', '당장', '진정', '상태', '바로', '트러블', '진정', '기대', '일단', '바스크', '밀착', '에센스', '양도', '가장', '진정', '효과', '팅팅', '느낌', '얼마', '이건', '신호', '바로', '중단', '리뷰', '효과', '진정'], ['요즘', '로서', '리뉴얼', '전이', '진정', '당황', '진정', '가성', '왜리뉴얼', '건가', '마음', '수가', '텍스처', '때문', '추가', '보습', '크림', '하나', '건조', '지고', '리뉴얼', '가요', '옛날', '유통', '기한', '가지', '냉장고', '그거', '리뉴얼', '가요', '만약', '담당자', '후기', '부디', '리뉴얼', '버전', '다시', '제발', '질라'], ['요즘', '로서', '리뉴얼', '전이', '진정', '당황', '진정', '가성', '리뉴얼', '건가', '마음', '수가', '텍스처', '때문', '추가', '보습', '크림', '하나', '건조', '지고', '리뉴얼', '오늘', '트러블', '리뉴', '전체', '다운', '그레이드', '만약', '담당자', '고객', '소리', '제발', '리뉴얼', '버전', '다시', '갑자기', '질라', '트러블', '진정'], ['진정', '실망'], ['차이', '호호', '호호'], ['기전', '애용', '일수', '뾰루', '워낙', '예민', '민감', '여드름', '바로', '즉각', '반응', '바로', '혹시', '낭비', '의사'], ['에센스', '내용물', '트러블', '붙이', '세수', '에센스', '흡수', '트러블', '서요', '지금', '학교', '수업', '마치'], ['진정', '거리', '진정', '울긋불긋', '체적', '난국', '민감', '사지', '마셈', '마데'], ['진정', '지금', '자극', '수분크림', '발라', '상태', '수분', '그닥', '에센스', '수분', '진정', '예민', '신분', '참고', '에센스', '밀착', '실망', '사람', '타입', '기도', '케바케', '올리브영', '할인', '기간', '여러가지', '추천', '얼른', '부분', '혹시', '예민', '신분', '성분', '확인'], ['예전', '오늘', '어보', '머리카락'], ['별로', '환절기', '수분', '전혀', '천원', '생각'], ['진정', '느낌'], ['클렌징', '바로', '바늘', '참고', '트리', '사람', '자극', '트리', '그닥', '이건', '자극', '세안', '진정', '법도', '보통', '세안', '직후', '바로', '일수', '나티', '트리', '자극'], ['지성', '쓰기', '무거워', '영양', '응축', '에센스', '지성', '요즘', '트러블', '진정', '평소', '수분', '부지', '보습'], ['유튜', '버들', '홍보', '랭킹', '상품', '무슨', '치약', '냄새', '면서', '처음', '트러블', '시트', '천원', '시트', '에센스', '양은', '진정', '삿는데', '마음', '진정', '구석', '박아', '장가', '직접', '요전', '후회'], ['기존', '리뉴얼', '기전', '힐티', '트리', '인생', '하루', '이번', '약간', '시트', '지도', '변화', '트리', '살짝', '첫날', '전번', '이제', '안나', '건가', '에센스', '양도', '전이', '지성인'], ['최악', '민감', '성분', '완전', '쓰레기', '민감', '지루', '피부염', '사지', '후기', '최근', '후기'], ['마메', '유튜버', '가장', '먼저', '얼마나', '사람', '난리', '여드름', '진정', '위해', '트리', '결과', '한마디', '가성', '잡채', '이나', '행사', '기간', '사면', '하나', '팩용', '아주', '친구', '트리', '제외', '여러', '종류', '기분', '컨디션', '지갑', '부담', '가성', '오늘', '제외', '도움', '효과', '전혀', '진정', '전혀', '효과', '보지', '팩용', '한번', '진정', '목적', '예정'], ['별로', '때문', '지도', '악순환', '입가', '지금', '이번', '왕창', '원인', '박스', '환불', '짜증', '나유'], ['리뉴얼', '예전', '기억', '실망', '일단', '가려웠', '부분', '부분', '여드름', '성분', '확인', '생각', '리뉴얼', '예전', '아무', '이상', '오히려', '진정', '효과', '아무', '걱정', '자극', '민감', '계속', '유지', '적하', '예전', '또한', '리뉴얼', '용감'], ['기름기', '느낌'], ['트리', '진정', '향료', '때문', '부분', '오히려', '기름기'], ['좁쌀', '진료'], ['거만', '생리', '일주일', '내내', '붙이', '진정'], ['트리', '하나', '낱개', '구입', '묶음', '사면', '여러', '항상', '무슨', '중국산', '흡수', '낱개'], ['민감', '의사'], ['효과', '일리', '가끔'], ['브랜드', '이번', '종류', '자극', '담날', '트러블', '갑자기', '자극'], ['별로', '반성'], ['리뷰', '여드름', '사서', '다행'], ['시트', '거리', '다음', '난리'], ['워낙', '한텐'], ['타입', '조금', '부지', '후기', '요즘', '상태', '엉망', '후기', '가성', '보고', '생각', '평소', '넘버', '나인', '아비', '붙이', '다음', '이마', '좁쌀', '여드름', '왕창', '이후', '좁쌀', '여드름', '좁쌀', '가득', '극구', '반대'], ['지기', '시작', '당황', '바로', '찬물', '여러', '계속', '행사', '미만', '개인', '참고', '사진', '진정', '사진'], ['조금', '상품', '여러', '자꾸', '조금', '왜인', '당장', '화장'], ['홍조', '민감', '세수', '로션', '발라', '진정', '효과', '해도', '에센스', '흡수'], ['평소', '지팩', '한번', '트리', '예전', '아예', '데카', '사이드', '후기', '결론', '며칠', '동안', '고생', '딱지', '에센스', '느낌', '제거', '에센스', '바름', '새벽', '가렵', '후끈', '거려', '잠결', '아침', '찜질', '크림', '발라', '진정', '증상', '조금', '가려움', '진정', '후기', '보고', '왕창', '타입', '복합', '여드름', '가끔', '거의', '이유', '최고', '수도', '증말', '최악', '부위', '테스트'], ['하루', '접촉성', '피부염', '시트', '자고', '가렵', '거리', '처방', '회사', '고민', '요원', '접촉성', '피부염', '처음'], ['후기', '이하', '크기', '앰플양', '적당', '앰플양', '시트', '두께', '아주', '냄새', '자극', '거의', '효과', '모공', '진정', '미백', '주름', '아예', '수축', '전혀', '보이지', '주름', '일시', '모공', '아보', '주름', '전보', '효과', '전혀', '의사'], ['한텐', '진정', '일어나고', '자꾸', '는걸', '브랜드', '쓰시', '유명', '유튜버', '배송', '비용', '몇개', '개학', '한텐', '분껜', '가격', '리뷰', '민감', '도움', '스킨', '케어', '분껜', '별로', '도움', '생각', '런가'], ['항상', '트리', '리뉴얼', '런가', '트리', '트리', '마그', '별로', '적임', '흡수', '리뉴얼', '적임', '냄새', '리뉴', '면서', '약간', '고무', '냄새', '다시', '트리'], ['출하', '서도', '약간', '의외', '부분', '트리', '뭔가', '보습', '편견', '생각', '약간', '은근', '보습', '보습', '약간', '적임', '건가', '내용물', '적임', '진정', '내용물', '무게', '다시', '시트', '느낌', '그게', '트러블', '진정', '효과'], ['리뉴얼', '사람', '리뉴얼', '인생', '트리', '함량', '자극', '민감', '리뉴얼', '기대', '걱정', '진정', '하나', '전체', '뾰루', '개인', '차이', '진정', '효과', '리뉴얼', '리뉴얼', '은근', '약속', '전날', '붙이', '효과', '완전', '인생', '고생'], ['요새', '환경', '업무', '시국', '더욱', '각질', '느낌', '수분', '행사', '용감', '화장품', '흡수', '느낌', '흡수', '느낌', '여기저기', '불평', '수분', '폭발', '일리', '무난', '일상', '직장인', '가성', '비도', '크게', '직장'], ['원래', '리뉴얼', '약간', '거리', '재형', '에센스', '조금', '쫀득', '타입', '지성', '의사', '정혀', '매입', '사서', '매일', '뛰엄뛰엄', '주기', '별로', '정이', '리뉴얼', '트리', '마스', '도안', '느마', '노그', '항유', '이내', '송알애', '누겅티', '노고', '틸으', '나이', '라인', '워티', '뉴루', '너리', '루챠', '르수니런'], ['가장', '별로', '마스트'], ['상한'], ['원래', '자극', '할인'], ['배송', '양도', '쓰기'], ['매번', '거만', '일리', '오늘', '물질', '순간'], ['이번'], ['어이', '오늘', '드림', '위로', '우편함', '누가', '어쩌시려', '거기'], ['하나', '앰플', '환불', '절차'], ['시트', '리뉴얼', '리뉴얼', '전이', '리뉴얼', '된거', '다음', '좁쌀'], ['고요', '파란색', '가격', '할인', '박스', '올리브영', '이건', '쓰레기'], ['오늘', '배송', '주문', '경비', '아저씨'], ['트리', '팩를', '개도', '리뉴얼', '이후', '처음', '느낌', '수분', '진정', '이번', '리뉴얼', '이후', '거리', '조금', '거렸어', '부담', '나진', '거리', '기도', '어성초', '그동안', '트리', '기분', '생각', '가격', '생각', '하나', '가성'], ['효과', '보습', '용이'], ['데카', '사이드', '성분', '여드름', '흉터', '여드름', '처음', '오히려', '데카', '사이드', '성분', '추천'], ['흉터', '다해', '자극', '이건', '같아욤'], ['배송비', '기용', '자주', '여기', '브랜드', '공장', '작업', '비위생적', '다시', '이용'], ['논란', '영상', '보고', '마음', '어찌'], ['트리', '대서', '다음', '루지'], ['원래', '시트', '수분', '진정', '아무', '오히려', '다음', '여드름'], ['분기', '지성', '수분', '지성'], ['다음', '뾰루'], ['아빠', '아빠', '절대', '두드러기'], ['여드름', '부지', '기름'], ['일해', '여드름', '부지'], ['할인', '사면', '수분', '충전'], ['유명', '별로', '진정', '오히려', '여드름'], ['자극', '민감', '뮬러', '진정', '효과'], ['성분', '난리', '는고', '리뉴얼좀'], ['데카', '사이드', '워터', '마이', '별로', '개인', '트리', '편이', '피하'], ['여드름', '조금', '적임', '효과'], ['가성', '트러블', '진정', '효과', '트러블', '바로', '진정', '스팟'], ['아무', '거나', '발라', '이건', '젛다', '정착'], ['동생', '트리'], ['사람', '자극', '역시', '감안'], ['지성', '나니', '하나', '그대로'], ['조금', '자극'], ['최근', '사본', '제일', '별로', '우선', '시트', '그다지', '밀착', '두께', '무엇', '살짝', '자극', '세트', '후회'], ['리뉴', '부모님', '리뉴', '이유', '부모님', '쓰시', '두드러기', '대요'], ['진정', '부담', '멈췃습니당'], ['후끈', '거리'], ['민감', '모든', '부위'], ['지성', '효과', '효과'], ['때문', '모공', '여름', '충격', '시작', '부지', '틈틈이', '트러블', '곳곳', '컨디션', '종류', '별로', '거의', '트리', '데카', '사이드', '에센셜', '트리', '해도', '흡수', '충격', '트러블', '임팩트', '트리', '자체', '사실', '라인', '가격', '백원', '효과', '아예', '트러블', '진정', '이제', '트리', '임팩트', '라인', '으루', '진탕', '다음', '그땐', '진정'], ['런가', '바로', '다음', '원래', '부분', '바로', '중지', '의사'], ['할인', '구입', '보통', '가격', '대비', '무난'], ['구입', '무난'], ['할인', '효과', '안함'], ['계속', '밀착', '고민', '신분', '당장', '매각'], ['트러블', '주문', '취소', '배송', '준비'], ['트리', '마스', '수도', '끈덕', '거리', '처음', '흡수', '끈덕끈덕'], ['밀착', '아주', '시트', '에센스', '양은', '아주', '건성', '느낌', '금시'], ['리뉴얼', '워낙', '리뉴얼', '주변', '한번', '느낌', '진정', '효과', '용감', '무난', '무난'], ['트리', '자주', '일시', '진정', '할인', '자주', '부담', '핮기'], ['시트', '보통', '유독'], ['여행', '매일', '쓰기', '무리', '자극'], ['첨에삿을때', '컨디션', '건가', '며칠', '해도', '구석', '박아'], ['인생', '진정', '아주'], ['복합', '바로', '항상', '트리', '비타민', '자극', '가렵더', '전체', '발라', '목도', '평상시', '루틴', '오늘', '추가', '때문'], ['대박', '자연', '착용', '전혀', '매우', '느낌', '더욱', '기분', '또한', '착용', '동안', '시간', '추천'], ['저렴', '일단', '조금', '하진', '나름', '냄새', '냄새', '조금', '다음'], ['건성', '민감', '장점', '가성', '밀착', '에센스', '음순', '단점', '트리', '효과', '전혀', '냉장고', '이상', '불구', '온도', '느낌', '진정', '트리', '효과'], ['지성', '추천', '트리', '성분', '트리', '크림', '앰플', '아주', '용감', '별로', '자고'], ['붙이', '흡수', '트러블', '약간', '항상', '일도', '자주', '종종', '차라리'], ['각질', '제거', '진정', '위해', '인중', '부분', '거리', '부분', '에센스', '적하', '기름', '토너'], ['일단', '절대', '화장품', '반응', '민감', '이번', '이트리', '화장', '사면', '트리', '이트리', '전혀', '자극', '반면', '트리', '완전', '상극', '일단', '시트', '편이', '비닐', '자마자', '에센스', '보습', '느낌', '붙이', '동안', '수분', '보충', '다음', '진정', '커녕', '좁쌀', '이유', '사서', '한장', '테스트', '대량'], ['자극', '기능', '발갛', '자극', '진정', '수분', '듬뿍', '담날', '퉁퉁', '부어', '자극', '경운', '컨디션', '참고'], ['마자', '그때', '땠어', '후회', '여름', '쓰기', '리뉴얼', '무난', '리뉴얼', '에센스', '온몸', '발라', '남아', '샤워', '이득', '에센스', '겨울', '쓰기', '염증', '여드름', '완전', '크게', '전체', '홍조', '화해', '보고', '성분', '보고', '아마', '건성', '리치', '리뉴', '남아', '한장', '다행'], ['리뉴얼', '이전', '용감', '효과', '트리', '기초', '라인', '토너', '앰플', '크림', '토너', '패드', '애용', '편이', '기초', '라인', '트리', '라인', '중이', '리뉴얼', '혹시', '걱정', '그동안', '워낙', '후기', '묶음', '산걸', '바로', '후회', '이전', '흡수', '리뉴얼', '조금', '거리', '느낌', '일단', '시간', '약간', '화끈', '거림', '폭발', '다음', '아침', '좁쌀', '리뉴얼', '상품', '전혀', '달라', '매우', '부지', '지성', '보습', '모공', '추천'], ['리뉴얼', '된거', '리뉴얼', '트리', '솔루션', '최애', '일단', '자극', '트러블', '진정', '트러블', '화농', '좁쌀', '진정', '리뉴얼', '버전'], ['원래', '트리', '이번', '갑자기', '화악', '갑자기', '완전', '엄마', '보더', '처음'], ['리뉴얼', '걱정', '진정', '효과', '컨디션', '극악', '나름', '패키지', '리뉴얼', '예전', '오초', '붙이', '옛날', '어어'], ['리뉴얼', '포장', '요리', '뉴얼', '쟁여놓', '시트', '몇번', '다음', '흡수', '한참', '흡수', '다음', '리뉴', '일단', '의사', '트리', '디엔에이', '최애', '엉엉', '리뉴얼', '무조건', '트리', '추천', '리뉴', '약간', '자극', '보습', '진정', '조금', '제발', '리뉴얼'], ['디렉터', '파이', '추천', '애정', '성분', '아토피', '민감', '건성', '지고', '난리', '화해', '어플', '리뉴얼', '평이', '혹시', '민감', '건성', '건성', '아토피', '여드름'], ['옛날', '고딩', '트리', '타입', '다음', '원래', '항상', '기초', '추가', '때문', '토리', '토리', '복구', '힐로', '다시', '트리', '라인', '고딩', '리뉴얼', '무슨', '성분', '추가', '사람', '살몀', '본적', '그게', '바로', '아마', '개복치', '검정색', '시트', '그것', '인연'], ['원래', '안해', '한번', '느낌'], ['원래', '할인', '안해', '생각', '자극', '조금'], ['항상'], ['진정', '개인', '효과'], ['리뉴', '자주', '데리', '얼후', '뜯어냈슴둥'], ['리뷰', '흡수', '오히려', '모공', '다시', '헹궜습'], ['리뉴', '쟁여놓', '리뉴', '하나', '사서'], ['효과', '굳이', '필요', '가격'], ['진정'], ['평소', '트리', '성분', '편이', '무슨', '이유'], ['트리', '종류'], ['차이', '요즘', '바람'], ['접촉성', '피부염', '인생'], ['자극', '트러블', '효과'], ['무난'], ['마스', '무무', '프푸푸', '쥬쥬'], ['할인', '행사', '무난', '지망', '굳이'], ['튜버', '추천', '효과'], ['에센스', '양도', '사진', '차라리', '워터', '이드'], ['가끔', '쓰기'], ['아주', '가성', '심리'], ['가끔', '하나', '진정', '수분', '해사'], ['진정'], ['난리', '라인', '트러블', '장난', '뒤집힌', '복구', '절대로', '자극'], ['자극', '진정', '무난'], ['뭔가', '느낌', '흡수', '느낌', '이면'], ['진정', '효과', '효과', '이진', '가격', '재질', '아쉬움'], ['에센스', '느낌'], ['완전', '세수', '다시'], ['리뉴얼', '완전', '리뉴얼'], ['리뉴얼', '인생', '리뉴얼', '이후', '적임', '심해'], ['라인', '콜라겐', '수분', '거리', '이건'], ['복합', '트러블'], ['복합', '거리'], ['예민', '한편', '볼쪽', '신분', '이면', '피해'], ['사람', '효과'], ['트리', '성분', '가성', '추천', '에센스', '양도'], ['진정', '느낌', '지성', '흡수', '오히려', '건성', '이신', '추천'], ['리뉴얼', '왜케', '저번', '하나', '이제'], ['남아'], ['진정', '트리', '성분', '은기', '한번', '티르', '성분'], ['처음', '전체', '심지어', '트러블', '트리', '성분', '진정', '케바케'], ['원래', '뻘개져', '고생'], ['어요'], ['진정', '효과', '살짝', '의사'], ['럈음', '다시', '사진'], ['어제', '볼쪽', '인연', '일수', '가격'], ['자극'], ['트리', '트리', '생각'], ['행사', '자극'], ['지성', '여드름', '그닥', '자고', '피지'], ['별로', '효과', '무거워', '자꾸'], ['최고', '매각'], ['힐건', '데일', '리용'], ['두드러기', '가성'], ['한번', '다음', '달라', '진정'], ['베리', '굿굿', '양도', '진정', '평생'], ['리뉴얼', '리뉴얼', '리뉴얼', '트러블', '이번', '리뉴얼', '효과'], ['박스', '배송', '가요', '박스', '완전', '난리', '사람', '기분', '시리', '박스', '차라리', '배송'], ['머리카락', '지금', '날씨', '런가'], ['리뉴얼', '자극', '이번', '리뉴얼', '라인', '다시', '이건', '화끈', '거리', '자극', '보습', '트리'], ['트리', '화끈', '거려', '도저히', '진정', '다시', '화농', '몇개', '당황'], ['다소', '자마자', '다음', '울긋불긋', '광고', '달라'], ['트리', '자극', '꽤믆', '안할걱'], ['부지', '여드름', '남성', '생각', '트리'], ['트리', '요건', '무무', '마나'], ['오히려', '느낌', '의사'], ['라인', '붙이', '흡수', '느낌', '느낌', '붙이', '금방'], ['가격', '실천', '자극', '보습'], ['진정', '처음', '약간', '나중'], ['왜인', '이마', '좁쌀', '병풀', '트리'], ['시험', '기간', '관리', '하나', '붙이', '관리'], ['분홍색', '매번', '점점', '에센스', '고민'], ['물풀', '느낌', '머리카락', '그것'], ['기초', '쫀쫀', '해진', '느낌', '트러블'], ['트리'], ['자극', '약품', '냄새', '별로'], ['일리', '쓰기', '사면'], ['시트', '에센스', '양은', '효과'], ['한동', '뭐거', '다시'], ['트러블', '며칠', '트리', '는걸'], ['안써봐꼬', '기대'], ['트리', '에센셜'], ['트리', '트리'], ['트러블', '진정', '효과'], ['효과', '진정', '가성', '비템'], ['흡수', '적임', '느낌'], ['아무', '거나', '사람', '주말', '다음', '바로', '울긋불긋', '부어', '수요일', '지금', '진정', '대안'], ['여름', '머리카락', '알쥐', '베개', '겨울', '가뭄', '여드름'], ['트리', '성분', '다음', '신분', '성분', '확인'], ['지극', '건성'], ['흡수', '별로'], ['에센스', '시트', '밀착', '트러블', '면서', '흡수', '느낌'], ['부담', '영양', '리기'], ['트리', '진정', '오히려'], ['퀄리티', '구입', '효과', '보습'], ['보통', '용량', '고합'], ['어어', '분기도', '건성', '추천'], ['자극', '밀착', '아주'], ['특유', '싸구려', '화장품', '냄새'], ['약간', '자극', '살짝', '느낌'], [], ['에센스', '느낌', '일시', '보습', '이상은'], ['항상', '크기', '아무', '거나', '항상'], ['달라', '경비실', '당황', '택배', '기사', '황닷', '짜증'], ['이상', '박스', '낱개', '원래'], ['진정', '효과', '보습', '효과']]\n"
          ]
        }
      ]
    },
    {
      "cell_type": "code",
      "source": [
        "# \"트리\"를 \"티트리\"로 바꾸는 함수\n",
        "def replace_tree(data_list):\n",
        "    return [[word.replace('일리', '데일리').replace('트리', '티트리') for word in sublist] for sublist in data_list]\n",
        "\n",
        "# 각 하위 리스트에 대해 \"트리\"를 \"티트리\"로 바꾸기\n",
        "pos_lda_list = replace_tree(pos_lda_list)\n",
        "neg_lda_list = replace_tree(neg_lda_list)\n",
        "\n",
        "# 결과 출력\n",
        "print(pos_lda_list)"
      ],
      "metadata": {
        "colab": {
          "base_uri": "https://localhost:8080/"
        },
        "id": "7jZSi3Qjwxt6",
        "outputId": "f6d01688-7c4c-44d8-b7c4-79113318f69b"
      },
      "execution_count": null,
      "outputs": [
        {
          "output_type": "stream",
          "name": "stdout",
          "text": [
            "[['데일리', '쓰기', '데일리', '쓰기'], ['저렴', '매일', '부담', '저렴', '매일', '부담', '저렴', '매일', '부담'], ['지기', '원래', '수분', '잡티', '케어', '도움'], ['콜라겐', '효과', '탄력', '도움', '이건'], ['대박', '흡수', '보습'], ['진정', '재생', '허브', '관리', '효과'], ['진정', '한번', '한번', '효과', '진정', '한번', '한번', '효과', '관리', '관리'], ['에센스', '무난', '밀착', '몇개'], ['유튜브', '지성', '하나', '소개', '자극', '여행', '연속', '진정', '다음', '화장'], [], ['진정', '병풀', '추출', '물이', '함유', '여름', '야외', '활동', '진정', '도움'], ['인지도', '용감', '트러블', '자극', '무엇', '진정'], ['쟁여', '데일리', '가격', '자주', '거의'], ['금액', '기용', '의사'], ['종류', '선택', '무난', '쓰기'], ['항상', '무난'], ['결혼식', '아버지', '사드', '매일'], ['수분', '보충', '종류'], ['매번', '올리브영', '무난', '가족'], ['항상', '이번', '히알루', '론산', '나름', '시트'], ['자주', '이용', '트러블', '촉촉', '자주'], ['워낙', '기간', '가격', '여러', '무난', '무난', '추가', '스킨', '케어', '보습', '에센스', '뚝뚝', '지경', '차로', '한번', '흡수'], ['무난', '쓰기', '보습', '무난', '쓰기'], ['매번', '힐팩', '가성', '데카', '사이드', '티트리', '이번'], ['종류', '무난', '이건', '불호'], ['자주', '기적'], ['여드름', '진정', '효과', '오히려', '데카', '사이드', '진정'], ['효과', '수분', '충전'], ['수분', '진정', '날씨', '진정', '쓰기'], ['사실', '했어욤', '가격'], ['자국', '입가', '이후', '사고'], ['자국', '입가', '이후', '사고'], ['가격', '무난', '자주', '시트', '때문'], ['가격', '자주', '하나', '세안'], [], ['진정', '효과', '는걸', '답답', '사람', '하나', '진정'], ['데일리', '생각', '효과', '무난'], ['때문', '진정', '보습', '위해'], ['때문', '진정', '복습', '위해'], ['때문', '진정', '보습', '위해'], ['자주', '항상', '쟁여놓'], ['무난', '무난', '온도', '리기'], ['트러블'], ['데카', '크게', '진정', '못느꼇구요가끙', '도해'], ['가격', '성분', '기대'], ['원래'], ['올브영', '기본', '자극', '여행', '평소'], ['가격'], ['금방', '진정', '냉장고', '효과'], ['건성', '트러블', '요즘', '브랜드', '진정', '가격', '효과', '지성', '약간', '하나', '자극', '최고', '진정', '속도', '고무', '추천'], ['사계절', '예민', '수분', '시트', '종종', '편입', '수분', '수분', '진정', '효과', '은기', '금세', '다만', '요즘', '완전', '한여름', '자체', '일주일', '해도', '부담', '타입', '누구', '진정', '수분', '가성', '한여름', '얼른', '진정', '완전', '추천', '흡수', '금방', '흡수'], ['타입', '기름', '마왕', '여드름', '모공', '론데', '요즘', '붙이', '그레', '물기', '낭낭', '티트리', '대부분', '상임', '저번', '사실', '사고', '오늘', '드림', '오후', '결제', '하니', '어쩄', '시트', '개인', '하루', '한번', '무리', '한번', '생각', '맛집', '붙이', '부작용', '성품', '가성', '담번', '일해'], ['학생', '할인', '때문', '직원', '추천', '가격'], ['회로', '한번', '입장'], ['무난'], ['일반', '가성', '장점'], ['티트리', '항상', '하명', '것데', '의사'], ['티트리', '항상', '하명', '것데', '의사'], ['티트리', '항상', '하명', '것데', '의사'], ['이사', '직원', '광고', '아영'], ['요즘', '효과', '가격'], ['기분', '전환'], ['보습', '하나', '마나'], ['진정'], ['트러블'], ['랩핑', '라인'], ['요것', '사진', '제일'], ['가끔', '사서', '무난', '무난', '부담'], ['수분', '여러'], ['주변', '요건'], ['배송비', '주문', '무난', '가성'], ['차칸', '가격', '보습', '성비', '체고', '매각'], ['한지', '얼마', '매일', '진정'], ['진정', '효과', '가격', '최고'], ['무난', '무난'], ['항상', '진정', '용감', '밀착'], ['먼저', '두께', '편이', '고요', '시트', '에센스', '밀착', '깜빡', '사진', '학생', '고요', '여드름', '복합', '여름', '걱정', '진정', '진정', '효과', '효과', '도움'], ['기억', '안남', '여드름', '진정'], ['예전', '무난', '생각', '자극', '무난', '무난'], ['처럼', '한번', '효과', '보기', '기분', '쓰싱'], ['지금', '세번', '쓰늠데', '무난', '기분', '세영'], ['기분', '내기', '당장', '쟁이시깋'], ['매일', '매일', '요즘', '후분', '추천', '촉촉'], ['매일', '매일', '요즘', '후분', '추천', '촉촉'], ['매일', '매일', '요즘', '후분', '추천', '촉촉'], ['무난', '무난', '수분', '에센스'], ['다음', '화장'], ['데일리', '자주'], ['처음', '여드름', '자극', '용감'], ['소문', '소문', '한번', '리뷰', '니아'], ['처음', '자극', '진정', '시트', '두께', '밀착', '에센스', '다시', '생각', '이상', '크게', '현상', '이마', '화농', '여드름', '구석', '하나', '번지', '중단', '함자', '보이', '사람', '추천', '간격', '마음', '워낙', '트러블', '시도'], ['데카', '사이드', '가성', '최고', '진정', '인생', '다시', '성분', '리뉴얼', '진정', '효과', '주변', '친구', '느낌'], ['쓰기', '바로', '트러블', '진정', '컨디션', '회복', '요즘', '트러블', '진정', '효과', '오히려', '문제'], ['필착', '여드름', '진정', '오히려', '여드름'], ['쫀쫀', '요담', '아침', '화장'], ['에센셜'], ['가성', '종류'], ['티트리', '기본', '용한', '무난'], ['제일', '이건', '무난', '쓰기'], ['마가', '제일', '이건', '무난'], ['제일', '자주'], ['항상'], ['후기', '아영', '무난'], ['에센스', '밀착'], ['진정', '쿨링감', '가성', '에센스'], ['에센스', '밀착'], ['수분', '진정', '날씨', '진정', '쓰기'], ['항상', '다주', '극도', '개선'], ['복합', '진정', '효과', '수분'], ['가격', '고성능', '아주', '효과', '밀착'], ['자극', '수분', '두께'], ['자극', '시트', '수분', '아주'], ['에센스', '지성', '쓰기'], ['가격', '최고'], ['원래', '요즘', '가격'], ['수영', '진정', '여분', '미백', '효과'], ['가격', '배송', '거나', '할인', '편이', '여행', '토너', '대신', '진정', '효과'], [], ['항상'], ['무난', '무난', '효과'], ['일해', '득템'], ['몇번', '애용', '무난', '쟁여듭', '티트리', '제일', '워터', '이드', '무난', '무난', '저번', '포장', '사건', '때문', '개선'], ['퍼스', '컬러', '겨울', '클리어', '영향', '겨울', '클리어', '타입', '우만', '타입', '지성', '민감', '색소', '탄력', '티트리', '녹차', '병풀', '캐모마일', '카렌', '릭애', '씨드', '코코넛오일', '쉐어버터', '코코아', '버터', '시나몬', '오일', '시나', '믹애', '씨드', '씨드', '조익', '씨드', '파리', '포익애', '씨드', '소리', '간혹', '접촉성', '피부염', '재발', '원인', '두드러기', '트러블', '스트레스', '전문의', '휘트니', '스킨', '사이클링', '실천', '각질', '제거', '레티놀', '수분', '공급', '장벽', '강화', '무난'], ['우선', '하나', '용액', '살짝', '민감', '성인', '영양', '트러블', '조금', '용액', '리지', '한번', '용액', '공병', '화장', '한번', '조금', '보류'], ['가격', '성비', '갑임', '담날', '이건', '아비', '브팩', '제일', '초록', '아비', '브팩임', '지금', '할인', '아주', '일단', '담날', '백퍼', '화장', '인생', '달라', '화장', '쵹촉함', '담날', '아주', '전신', '답임', '갑임', '거의', '마냥', '사실', '무조건', '한번', '차이', '보습', '진정', '화장', '갑인', '이상', '거만', '꿀잠', '여러'], ['원래', '찰떡', '못구', '다시', '유목민', '올리브영', '위템', '중이', '나은', '계속', '이번', '리뉴얼', '가격', '부담', '시트', '요즘', '자극', '이건', '가격', '면도', '무난', '밀착', '일단', '원래', '밸런스', '다시', '밸런스', '효과', '안색', '바로', '다음'], ['덕분', '아니먄', '관리', '때문', '모르뎄', '모델링', '진정', '에센스', '관리', '관리', '했기땨문', '진정'], ['시트', '가격', '자주', '편이', '포장', '지도', '보기', '시트', '에센스', '시트', '두께', '에센스', '수분', '느낌', '수분크림', '에센스', '앰플', '금방', '수분크림', '편이', '자지', '시트', '노력', '하루', '한번', '수분'], ['티트리', '여드름', '진정', '완화', '여드름', '거만', '데카', '사이드', '티트리', '티트리', '개인', '생각', '자주', '때문', '몹쓸', '화농', '여드름', '여드름', '하루', '여드름', '금방', '다시', '티트리', '스킨', '케어', '조합', '쓰시', '효과', '때문', '리뷰', '시크', '재질', '밀착', '흡수', '에센스', '에센스', '상태'], ['시트', '진정', '효과', '티트리', '일단', '개봉', '바로', '티트리', '특유', '티트리', '함량', '유의', '미하', '진정', '효과', '위해', '진정', '효과', '공급', '수분', '보충', '목적', '시간', '조금', '마무리', '흡수', '건성', '지성', '추천', '시트', '밀착', '붙이', '금은', '성질', '조금', '하룻밤', '자고', '아마', '다시', '굳이', '생각'], ['이일', '위해', '원래', '기간', '가성', '아이템', '아주', '아주', '데일리', '가격', '역시', '건성', '수분', '아주', '훌러', '가격', '비교', '가성', '갑템', '세수', '다음', '흡수', '다음', '수분크림', '발라', '자고', '수분', '퍽퍽', '인생', '후회', '추천'], ['이일', '위해', '원래', '기간', '가성', '아이템', '아주', '아주', '데일리', '가격', '역시', '건성', '수분', '아주', '훌러', '가격', '비교', '가성', '갑템', '세수', '다음', '흡수', '다음', '수분크림', '발라', '자고', '수분', '퍽퍽', '인생', '후회', '추천'], ['진정', '효과', '그닥', '보습', '완벽', '티트리', '추출', '물이', '진정', '진정', '효과', '진정', '목적', '화장', '거나', '조금', '컨디션', '조금', '수분', '공급', '보습', '목적', '장점', '시트', '매우', '쫀쫀', '밀착', '시트', '개선', '굴곡', '시트', '밀착', '포도', '매우', '매우', '보습', '아주', '매우', '수분', '유지', '단점', '진정', '효과', '성분', '티트리', '추출', '물이', '의미', '효과', '일핏', '실제', '별로', '진정', '효과'], ['자주', '하나', '먼저', '티트리', '추출', '물이', '진정', '진정', '효과', '진정', '목적', '화장', '거나', '조금', '컨디션', '조금', '수분', '공급', '보습', '목적', '장점', '시트', '매우', '쫀쫀', '밀착', '시트', '개선', '굴곡', '시트', '밀착', '포도', '매우', '매우', '보습', '아주', '매우', '수분', '유지', '단점', '진정', '효과', '성분', '티트리', '추출', '물이', '의미', '효과', '일핏', '실제', '별로', '진정', '효과'], ['평소', '스킨', '케어', '대충', '최근', '레이저', '토닝', '관리', '혼자', '케어', '제일', '의사', '그동안', '영양', '고자', '대량', '매장', '행사', '다가', '가격', '저렴', '행사', '중이', '만요', '가격', '대가', '저렴', '여러', '앰플', '가격', '원래', '중이', '할인', '천원', '행사', '사기', '느낌', '에센스', '시트', '에센스', '시트', '앰플', '가격', '대의', '느낌', '이내', '가끔', '자주', '가성', '라인', '별로', '관리'], ['리뉴얼', '기억', '리뉴얼', '패키지', '리뉴얼', '성분', '리뉴얼', '여드름', '잔뜩', '다음', '피지', '여드름', '사이', '시트', '자체', '마음', '밀착', '한텐', '여러', '사람'], ['쓰기', '때문', '쟁여', '편이', '패키지', '밀착', '시트', '아주', '시트', '에센스', '가득', '진정', '자주', '테디', '셀러', '가격', '요즘', '가격', '라서', '브랜드', '역시', '예전', '애용', '링거', '티트리', '스킨', '비치', '시트', '더더', '화장품', '개발', '에센스', '가득', '해도', '영양', '진정', '수분', '라인', '모두', '전체', '라인', '모두', '애용', '시트', '패키지', '디자인', '내용', '강화', '패키지', '계속', '예정', '약간', '약국', '브랜드', '성분', '아유', '처음', '조금', '자극', '진정', '최고', '행사', '가장', '제일', '먼저', '흡수', '거리'], ['자주', '진정', '효과'], ['시트', '트러블', '부담', '쓰기'], ['선물'], ['올리브영', '무난', '가격', '가성', '배송비', '종류', '별로', '테스트'], ['예전', '썻을땐', '이번', '수분'], ['가장', '진정', '계속', '예정'], ['가장', '진정', '계속', '예정'], ['시트', '보습', '시트', '쩐내', '사서', '보습'], ['색도', '모두'], ['에센셜'], ['수분', '자주', '부탁'], ['토너'], ['진정', '자주', '추천'], ['할인', '종류', '별로', '어요'], ['일일', '도전', '피부관리', '케어', '대서', '시작'], ['하루', '한장', '애용'], ['가성'], ['자극', '가격', '마구', '이용'], ['가격', '무조건', '늬들', '사라'], ['힐티', '티트리', '에센셜', '후기', '워낙', '단연', '제일', '대중', '기존', '이번', '한번', '브랜드', '상품', '이유', '종류', '가격', '대도', '일전', '홈쇼핑', '애용', '대량', '해도', '장점', '장점', '대중', '기도', '일도', '시트', '에센스', '다시', '에센스', '제일', '스크럽같', '경우', '주사', '요즘'], ['진정', '효과', '홍조', '아기', '남친', '유피', '가끔', '남자친구', '비용', '절약', '실용', '여드름', '생기', '수딩', '효과', '포장', '교체', '항상', '포장', '교체', '원래', '가격', '조금', '실속'], ['사실', '달동', '리뷰', '매하', '어쩃'], ['배송비', '가격', '매번', '자극'], ['나이', '고민', '점차', '주름', '미백', '데일리', '케어', '맛집', '이유'], ['가성', '가격', '대가', '부담', '할인', '가격', '항상', '기간', '잔뜩', '사두', '가지', '특징', '비교', '시트', '뾰루', '잡티', '민감', '티트리', '라인', '가장', '장벽', '요즘', '환절기', '진정', '티트리', '성분', '효과', '티트리', '종류', '매우', '컨디션', '여러', '모로', '자주', '리뷰', '도움', '하단', '도움', '버튼'], ['요즘', '상태', '탄력', '지금', '세상', '복구', '위해', '콜라겐', '이용', '판이', '번창'], ['데일리', '수분', '히알루론산'], ['관리', '위해', '요즘', '시트', '나이', '런가', '수분', '라인', '시트', '후기', '금액', '가로', '후기', '무난', '시트', '생각', '거리', '하나', '크림'], ['효과', '가성', '무난', '자주'], ['옛날', '자주', '가성', '진정', '크기'], ['토너', '붙이', '밀착', '수분', '충전', '가지', '수분'], ['역시', '최고', '무난'], ['최고', '가격', '가격', '기본', '천원', '올리브영', '묶음', '사면', '가능', '가격', '매일', '쓰기', '성비', '시트', '아시', '시트', '밀착', '가격', '대비', '사면', '경우', '무조건', '힐로', '픽합', '티트리', '무난', '진정', '쓰기', '에센스', '양도', '마르지', '장점'], ['가성', '크기'], ['역시', '다음', '최고'], ['케어', '자주', '붙이', '피부관리', '는걸', '구입', '가격', '진정', '수분'], ['말뭐'], ['수분', '느낌', '지도'], ['워터', '이드', '데카', '사이드', '티트리', '제일'], ['진정', '가성', '비팩', '진정', '데카', '사이드', '티트리'], ['티트리', '가성', '계속', '가요'], ['트러블', '주로', '진정', '트러블', '은기', '완화', '가격', '편이', '진정'], ['자주', '티트리', '항상', '진정', '효과'], ['수분', '가득', '에센스', '흡수'], ['일주일'], ['항상', '할인', '쿠폰', '적용', '사면', '할인', '사서', '편입'], ['진정', '계속', '중이', '상태'], ['트러블', '흔적', '생기', '보이'], ['잡티', '부쩍', '미백', '도움', '생기', '의사'], ['진정', '일주일', '한번'], ['워낙', '수분', '보충', '무난', '하니'], ['생생', '후기', '종류', '별로', '워터', '콜라겐', '비타', '에센셜', '개인', '크게', '타입', '상관', '그때', '그때', '컨디션', '시트', '에센스', '양도', '후기', '도움', '도움'], ['시트', '피부관리', '워낙', '안해', '런가', '점점', '시작', '시트', '조차', '관리', '시트', '밀착', '사이즈', '마음', '에센스', '얼마나', '뚝뚝', '다리', '앰플', '양쪽', '부어', '부족함', '앰플', '워낙', '흡수', '마사지', '기도', '이용', '화장', '메이크업', '부착', '화장', '부착', '크림', '듬뿍', '자도', '다음'], ['타입', '부지', '민감', '봄브', '라이트', '겨울', '비비드', '솔직', '후기', '친구', '기대', '별로', '생각', '트러블', '케어', '트러블', '흔적', '케어', '위해', '거른거', '데카', '사이드', '데카', '사이드', '확신', '걱정', '일단', '시트', '재질', '두께', '시트', '커팅', '추가', '커팅', '별로', '에센스', '양도', '에센스', '조금', '붙이', '에센스', '시트', '제거', '흡수', '마무리', '진정', '효과', '트러블', '점도', '후기', '역시', '시트', '컷팅', '진정', '효과', '티트리', '그거', '도전', '티트리'], ['보습', '보습', '중건', '성인', '겨울', '여름', '살짝', '지성', '겨울', '추천', '효과', '보습', '초점', '유수', '쫀쫀', '편이', '보습', '만큼', '적임', '살짝', '편이', '선호', '수도'], ['요즘', '콜라겐', '노화', '예방', '우리', '모두'], ['최애', '대란', '합리', '가격'], ['생각', '자극', '합리', '가격'], ['다음', '가격', '합리'], ['대란', '가격', '이면', '품질', '대비', '합리', '가격'], ['티트리나', '종류', '히알루론산', '역시', '보습', '느낌', '노력', '효과', '히알루론산', '앰플', '듬뿍', '매우', '촉촉', '부들'], ['무난', '비타민', '보습', '살짝'], ['가끔', '트러블', '자극', '진정', '효과', '유수', '밸런스', '개선', '자주', '애용'], ['팩안', '에센', '수양', '이건', '적당'], ['무난', '자주'], ['힐팩', '애용', '히알루론산', '콜라겐', '콜라겐', '쫀쫀함', '기분', '컨디션'], ['데일리'], ['트러블', '진정'], ['국민', '티트리', '보습', '진정', '도움'], ['무난', '일손', '자주', '방지'], ['가성', '트러블', '지성', '라면', '누구', '무난', '티트리', '수분', '진정', '도움'], ['여태', '가장', '적임', '영양', '수분', '머금', '무엇', '현상', '조금', '최고', '역시', '건가', '가격', '이상', '가치'], ['제일', '무난', '진정', '오늘', '역시', '최고', '세수', '티트리', '가장', '제일', '추천'], ['무난', '휘뚤마뚤', '쓰기', '쟝쨩'], ['아침', '토너', '정돈', '보습', '요즘'], ['요즘', '상태', '탄력', '지금', '세상', '복구', '위해', '콜라겐', '이용', '판이'], ['트러블', '대폭', '감소', '후회', '가격', '대비', '최고', '품질', '자랑'], ['하루하루', '항상', '신뢰', '가성', '지갑', '부담', '선택'], ['후회', '의사', '가격', '합리'], ['날씨', '수분', '각질', '수분', '보충', '생각', '영양분', '수분', '보충', '한번', '구입', '에센스', '화장', '민감', '에센스', '발라', '물광'], ['보습', '영양', '쌀뜨물', '색깔', '앰플', '한번', '추천'], ['앰플', '요지', '복합', '무난', '수분', '충전', '느낌', '마무리', '완전', '추천'], ['항상', '티트리', '가끔', '매일', '안해', '런가', '여드름', '자국', '효과', '진정'], ['가성', '비도', '에센스', '양도', '데일리'], ['티트리', '에센셜', '진정', '아주'], ['워터', '이드', '히알루론산', '리뉴얼', '아앙'], ['가격', '휘뚜루', '두루', '쓰기'], ['필자', '타입', '건성', '지성', '복합', '부지', '여드름', '여드름', '흉터', '민감', '홍조', '계기', '사실', '옛날', '자극', '다시', '호기심', '자극', '저번', '자극', '이번', '상태', '자극', '오히려', '진정', '추가', '단계', '가을', '겨울', '크림', '발라', '여름', '추가', '단계', '꿀팁저', '항상', '먼저', '바로', '에센스'], ['티트리', '모말', '자극', '밀착', '트러블', '진정', '데일리', '매일', '요가', '성비', '에센스', '양도', '어마', '무시', '에센스', '팔꿈치', '발라', '남아', '최고', '가성'], ['비타민', '상콤', '콜라겐', '히알루', '비타', '트러스', '종류', '재미', '다음', '종류', '여름'], ['콜라겐', '주름', '미백', '자극', '이제', '슬슬', '여름', '탄력', '도주', '이번', '구입', '종류', '여러가지', '재미', '콜라겐'], ['히알루론산', '종류', '재미', '일도', '여러', '구입', '하루', '금방', '보고', '후기', '기록'], ['할인', '가격', '자주', '다음', '화장', '평소', '자주', '노력', '티트리', '성분', '여드름', '추천', '티트리', '여드름', '효과', '대요'], ['수분', '전용', '아주', '트러블', '여름', '수분', '건성', '칭찬', '한번', '여러', '효과'], ['히알루론산', '겨울', '환절기', '요즘', '수분', '에센스', '얼마나', '시트', '에센스', '뚝뚝', '다음', '화장', '가격', '매일', '해도', '부담'], ['이유', '우선', '가격', '올리브', '데이', '보통', '가성', '주로', '초록색', '여드름', '뾰루', '파란색', '먹이', '노란색', '기미', '주근깨', '톤업', '핑크색', '모공', '축소', '탄력', '개선', '화장', '코기', '적임', '오히려', '영양', '흡수', '하니', '사진', '콧등', '중간', '한번', '가위', '싹둑', '그때', '그때', '용도', '레인보우', '색깔', '별로', '추천', '레인보우', '레드', '보라색'], ['오늘', '리뷰', '몇개', '일단', '브랜드', '항상', '티트리', '진정', '효과'], ['쿠폰', '천원', '가격', '수분', '쟁여둘', '종류', '별로', '냉장고', '내킬', '한번', '자극'], ['장고', '쿨링', '진정', '고요', '여드름', '흔적', '느낌', '패드', '한번', '시트', '수분', '어요'], ['티트리', '종류', '무난', '쓰기'], ['트러블', '쓰기', '트러블'], ['개사', '하나', '기획', '행사', '사기', '천원', '이어도', '매일', '가격'], ['워터', '이드', '리뉴얼', '티트리', '리뉴얼', '지금', '디자인'], ['보습', '보습', '크림', '하나'], ['티트리', '무난', '쓰기'], ['티트리', '성분', '재생', '효과', '대서', '편이'], ['자극', '친구', '자극', '친구', '데카', '소가', '오히려'], ['티트리', '제일', '쓰기', '자극', '거의'], ['시트', '에센스'], ['티트리', '거부', '가격'], ['매일', '자극', '트러블', '이유'], ['동안', '몇장', '환절기', '수분', '보충', '위해', '구입'], ['한장', '팩후', '추가', '크림', '발라', '주지'], ['무잡잡', '도움', '비타', '버전', '상큼', '기분', '시트', '붙이', '마음'], ['인생', '진정', '두께', '선호', '시트', '취향', '가성', '한번', '다시', '효과'], ['인덴', '이유', '자극'], ['요즘', '히알루론산', '제로', '케어', '수분', '충전', '기분', '건성'], ['기분', '콜라겐', '링클', '케어', '기적', '케이스', '핑크', '핑크'], ['점점', '나이', '보습'], ['티트리', '무난'], ['건성', '자극'], ['시트', '지도', '밀착', '재질', '무난'], ['요즘', '트러블', '때문', '진정', '주문', '자극', '진정', '은기', '액체', '보습', '보습', '진정', '효과', '유수', '밸런스', '가격', '대비', '몇개', '쟁였다', '직할'], ['요즘', '건조', '끝판', '발라', '금방', '트길', '보습', '붙이', '열도', '대박', '케어', '방법', '줄줄', '에센스', '먼저', '장만', '완전', '종류'], ['티트리', '역시', '시트', '워낙', '종류', '별로', '가장', '인기', '티트리', '시트'], ['에센스', '냉장고', '보관', '붙이'], ['에센스', '완전', '자극'], ['머리', '전이', '사진', '양해', '머리', '하나', '머리', '말리', '수분'], ['데카', '사이드', '진정', '흔적', '관리', '여드름', '티트리', '하나', '한번', '효과', '보이지', '지속', '효과'], ['하나', '보습', '효과', '시트', '토너', '보습', '효과', '개선', '효과'], ['무난', '진정', '무배'], ['진정', '티트리', '데카', '사이드', '제일', '사면', '제일', '효과', '제일', '항상'], ['양도', '비타', '삿어'], ['역시', '극적'], ['완전', '쫀쫀', '에센스', '양도'], ['이건', '매일', '거의'], ['트러블', '진정', '무난'], ['잡티', '토닝', '느낌'], ['양용'], ['종종', '트러블', '트러블'], ['자극', '콜라겐', '수분', '보습'], ['비타', '미세먼지', '다시', '때문', '대박', '항상', '앰플', '보기', '만해', '미백', '보습', '그동안', '일도', '겸사겸사', '앰플', '느낌', '밀착', '시트', '두께', '밀착', '앰플', '영양', '가득', '바로', '역시', '대한민국', '시트', '인기', '더니', '시트', '최고', '앰플', '장점', '개인', '인기', '로드', '시트', '크기', '밀착', '엉망', '프로', '콜라겐', '기획'], ['티트리', '진정', '때문', '대박', '항상', '앰플', '보기', '만해', '미백', '보습', '그동안', '일도', '겸사겸사', '앰플', '느낌', '밀착', '시트', '두께', '밀착', '앰플', '영양', '가득', '바로', '역시', '대한민국', '시트', '인기', '더니', '시트', '최고', '앰플', '장점', '개인', '인기', '로드', '시트', '크기', '밀착', '엉망', '프로', '기획'], ['콜라겐', '미세먼지', '다시', '때문', '대박', '항상', '앰플', '보기', '만해', '미백', '보습', '그동안', '일도', '겸사겸사', '앰플', '느낌', '밀착', '시트', '두께', '밀착', '앰플', '영양', '가득', '바로', '역시', '대한민국', '시트', '인기', '더니', '시트', '최고', '앰플', '장점', '개인', '인기', '로드', '시트', '크기', '밀착', '엉망', '프로', '콜라겐', '기획'], ['티트리', '데카', '사이드', '처음', '역시', '두께', '에센스', '덕분', '진정', '도움', '티트리', '티트리', '재미'], ['시트', '붙이', '금방', '마르지', '마무리', '거리', '보습', '가끔', '마무리', '오히려', '전이', '라인', '기회', '요즘', '날씨', '불구', '데일리', '잘못', '거의', '가격', '조금', '부담', '데일리', '조금', '할인', '가격', '데일리', '쓰기'], ['보습', '가끔', '마무리', '오히려', '전이', '라인', '기회', '날씨', '불구', '데일리', '잘못', '어져', '거의', '가격', '조금', '부담', '데일리', '쓰기', '조금', '할인', '가격', '데일리', '쓰기', '붙이', '금방', '마르지', '마무리', '거리'], ['환절기', '요즘', '실천', '불구', '데일리', '잘못', '어져', '거의', '가격', '조금', '부담', '데일리', '쓰기', '조금', '할인', '가격', '데일리', '쓰기', '붙이', '금방', '마르지', '마무리', '거리', '보습', '가끔', '마무리', '오히려', '전이', '디힐', '라인', '기회'], ['후반', '고등학생', '시절', '영어선생님', '나이', '기름', '지금', '필수', '아비', '티트리나', '그린', '추천'], ['하나', '에센스', '가득', '먼저', '다음', '기분'], ['티트리', '명불허전', '진정', '효과', '가성', '비도', '매일', '매일', '데일리', '기도', '무난', '자주', '주로', '진정', '냉장고', '쿨링감', '때문', '진정', '시트', '밀착', '붙이', '거나', '거리', '기도', '항상', '크림', '마무리', '편이', '시트', '수분', '유지', '느낌', '선호', '지성', '건성', '진정', '누구', '고민', '누구', '무난', '추천'], ['항상', '기획', '상품', '가격', '마침', '품절', '개입', '구입', '항상'], ['자극', '시트', '재질', '에센스', '농축', '대충', '다음', '저녁', '마르고', '농축'], ['관리', '위해', '요즘', '시트', '나이', '런가', '수분', '라인', '시트', '후기', '금액', '가로', '후기', '무난', '시트', '생각', '거리', '하나', '크림'], ['요즘', '트러블', '가장', '수분', '뾰루', '트러블', '자극', '하나', '오히려', '진정', '느낌', '다음', '화장', '리뷰', '몇개', '구입', '가격', '대비'], ['티트리', '할인', '티트리', '성분', '함유', '진정', '뾰루', '컨디션', '진정', '효과', '에센스', '양도', '천연', '비건', '대나무', '시트', '밀착', '직후', '편이', '기도', '가라', '추천'], ['히알루론산', '할인', '히알루론산', '자극', '천연', '비건', '시트', '대나무', '시트', '밀착', '에센스', '손등', '히알루론산', '함유', '건조', '도움', '별로', '건조', '보습', '가끔'], ['자극', '기적', '가격', '품질', '자주', '가격', '피무', '빳빳', '히알루론산', '동안', '수분', '금고', '히알루론산', '미세', '입자', '때문', '수분', '다음', '화장'], ['요즘', '꽃가루', '미세먼지', '케어', '진정', '티트리', '성분', '주문', '붙이', '다음', '컨디션', '스킨', '케어', '하나', '트러블', '최고'], ['요즘', '햇볕', '느낌', '지인', '추천', '유통기간', '배송', '포장', '파손', '시트', '밀착', '에센스', '줄줄', '시트', '적임', '팩후', '화장', '가성', '마음'], ['가끔', '생기', '느낌', '비타', '하나', '하나', '시트', '밀착', '생각', '거기', '케어', '톤업', '효과'], ['사실', '히알루론산', '겨울', '계절', '여름', '미백', '진정', '위주', '히알루론산', '보습', '위주', '겨울', '지금', '날씨', '보습', '완성'], ['비타민', '효과', '여러', '기분', '티트리', '비타민', '효과'], ['쫀쫀', '해지', '지금', '계절', '티트리', '요즘', '황사', '먼지', '저녁', '분기', '덩거림'], ['시트', '주로', '시트', '자주', '하나', '용감', '보습', '사진', '보시', '밀착', '밀착', '보고', '구입', '보습', '용감', '일사', '보습', '금액', '가성', '비도', '역시'], ['귀마개', '항상', '무조건', '안대', '한번', '찾기', '귀마개', '종류', '타입', '배송', '매가', '효과', '안대', '촉감', '부들부들', '자극', '안쪽', '모양', '착용', '머리', '뒤쪽', '로라', '조절'], ['역시', '날씨', '저녁', '자기', '열도', '건조', '한편', '보습', '줄겸', '구입', '일단', '에센스', '듬뿍', '흡수', '열도', '에센스', '다리', '팔꿈치', '역시', '이유', '계속'], ['계절', '항상', '느낌', '수분', '보충', '일단', '힐팩', '보기', '히알루론산', '워터', '이드', '겨울', '느낌', '발라', '다음', '아침', '세수', '느낌', '화장', '각질', '느낌', '히알루론산', '성분', '수분', '액체', '쓱쓱', '일석', '이조', '다음', '트러블', '밀착', '일주일', '관리', '여러', '내일'], ['자극', '여러', '종류', '트러블', '종종', '이용', '이번', '좁쌀', '여드름', '티트리', '선택', '시트', '분기', '수분', '공급', '분기', '진정', '도움'], ['티트리', '트러블', '진정', '효과', '할인', '가격', '대도', '항상', '힐팩', '대량', '한장', '앰플', '가득', '앰플', '다음', '아침', '발라', '주기도', '시트', '밀착', '밀착', '미세먼지', '때문', '트러블', '조금', '다음', '수분', '느낌', '아주', '마음', '힐팩', '티트리', '제일', '계속', '예정'], ['가면', '무조건', '편이', '티트리', '내추럴', '쓰기', '시트', '밀착', '추가', '케어', '흡수', '일주일', '보습', '영양', '진정', '여러가지', '번갈아', '그날', '컨디션', '보고', '개선', '도움', '주네'], ['애용', '이유', '시트', '지도', '앰플', '시트', '밀착', '앰플', '전부', '팔다리', '부분', '전부', '온몸', '발라', '적임', '흡수', '시트', '추가', '계속', '쟁여놓', '티트리', '진정', '효과', '냉장고', '세안', '효과'], ['때문', '요즘', '트러블', '티트리', '라인', '라인', '보고', '앰플', '뭔가', '진정', '느낌', '더더', '만족도'], ['티트리', '워낙', '하나', '진정', '효과', '진정', '부분', '살짝', '진정', '온도', '수분', '다만', '부분', '살짝', '자극', '부분', '뭔가', '지네', '자극', '조금', '시트', '용감', '조금', '두께', '개인', '이정', '생각', '밀착', '고정', '생각', '에센스', '에센스', '양은', '마자', '전반', '분포', '양도', '가격', '가성', '조금', '생각', '리뷰', '통해', '기대', '부분', '생각', '가성', '가끔', '생각'], ['에센스', '아주', '가성', '시트', '추천', '종류', '별로', '개인', '핑크', '파랑', '추천'], ['에센스', '아주', '가성', '시트', '추천'], ['냉장고', '가성'], ['시트', '에센스', '매우', '가성', '시트'], ['가성'], ['가성', '추천', '타입', '컨디션'], ['아주', '역시', '사람', '추천'], ['오늘', '매장', '얼른', '바로'], ['보습', '최고', '고아', '팩트'], ['화장실', '삼백육십오일', '안뎀'], ['미스', '항상', '버전'], ['티트리', '콜라겐', '한번', '탄력'], ['티트리', '라마', '이드', '가성'], ['에센셜', '티트리', '제일', '데카', '사이드', '성분'], ['남친', '할인', '무조건'], [], ['날씨', '보습', '미백', '기능'], ['가격', '효과', '티트리', '힐링', '느낌', '트러블', '금방', '진정'], [], ['티트리', '성분', '진정', '효과', '전반', '느낌', '부담', '쓰기', '데일리'], ['요듬', '날씨', '화장', '건조', '해소', '자주'], ['무난'], ['히알루론산'], ['마다', '진정', '효과', '샤워'], ['여러', '종중', '가장', '무난'], ['가장', '밀착', '에센스'], ['진정', '아비', '어성초', '응급', '진정'], ['리뉴얼', '냉큼', '기존', '워터', '이드', '비교', '에센스'], ['역시', '명가', '데일리', '트러블', '안나', '효과', '최고'], ['종류', '별로', '다사', '필수품', '다집', '일주일', '여행가', '서도', '쓰기', '햇볕', '냉장고', '진정', '보습'], ['부담', '쟁여놓', '쓰기', '요즘', '브랜드', '거의', '보습', '진정', '탄력', '콜라겐', '담날', '느낌'], ['최고', '일도', '자주', '가격', '부담', '일주일', '각질', '정리', '보습', '진정'], ['한장', '보고', '다섯', '추가', '완료', '역시', '가격', '효과', '저렴', '앰플'], ['무난', '쓰기', '자극', '쓰기', '가격'], ['전체', '한편', '쓰기', '데카', '소만', '자극'], ['자주', '거부'], ['미백', '기능', '대서', '크게', '효과', '자주'], ['부모님', '닥터', '다음', '최애'], ['비타민', '효과', '여러', '기분'], ['애용', '항상', '쟁여둬', '마음', '진정', '베스트셀러', '이유'], [], ['에센스', '부담', '마음', '배송비', '자주'], ['진정', '매일'], ['양주', '그림', '보고', '자극'], ['비타민', '효과'], ['매일', '부담', '이틀', '한번'], ['비타', '대서', '왕창'], ['가격', '진정', '보습', '크림', '하나'], ['가성', '보이'], ['흐물흐물', '느낌', '가격'], ['에센스', '아영', '티트리'], ['시트', '흐물흐물'], ['진정', '가격'], ['택배', '자마자', '대요'], ['무조건', '티트리', '시작', '시작', '역시', '보습', '진정', '팩안', '앰플'], ['날씨', '수분', '느낌', '기적', '무향', '시트', '가성'], ['쫀쫀', '탄탄', '데일리', '요즘', '탄력', '신경', '콜라겐', '성분', '구입'], ['요즘', '데일리', '느낌', '여름', '거리', '건성', '유수', '밸러스', '조화', '느낌', '시트', '마음'], ['수분', '충전', '보습', '미백', '기대', '수분', '공급'], ['티트리', '자주', '마음'], ['항상', '여러', '마음'], ['착색', '부분', '정돈', '가격', '대비'], ['최애', '에센스', '가득', '진정', '잡티', '제거', '살짝', '느낌'], ['계절', '요즘', '최애', '인지', '부담', '장점', '금액', '성분', '단점', '발견'], ['지금', '난리', '한번', '진행', '제발'], ['에센스', '붙이', '밀면', '절대'], ['양감', '기지', '일주일', '세번'], ['지금', '계절', '분기', '케어', '여름', '더욱', '수분', '비교'], ['데일리', '무조건', '부담', '쓰기'], ['자주', '가성', '굿굿'], ['할인', '자주', '효과', '가성'], ['이하', '하나', '무난', '아무', '용해'], ['요즘', '미세먼지', '때문', '트러블', '진정', '기분', '탓일', '수도', '발견'], ['자주', '종류', '요즌', '환절기', '보습', '히알루론산', '역시', '일단', '앰플', '시간', '발라', '완전', '그때', '동안', '유지', '기간'], ['기온', '환절기', '워낙', '건성', '김증', '쟁여둘', '상태', '가지', '종류', '별로', '만들기', '히알루론산', '에센셜', '히알루론산', '빈틈', '수분', '에센스', '어마', '나머진', '다리', '쓰윽', '발라', '시트', '자체', '시트', '개선', '적임', '보습', '김증', '집안', '행사', '하루', '전날', '화장'], ['날씨', '환절기', '맞이', '신고식', '몇번', '환절기', '터득', '진정', '방법', '수분', '충전', '제일', '요즘', '아침', '저녁', '수분', '관리', '사고', '관리', '제일', '세안', '토너', '챱챱', '다음', '시원', '진정', '수분', '냉장고', '제일', '순간', '온도', '화악', '기적'], ['가면', '즉각', '수분', '보충', '건조', '느낌', '냉장고', '기도', '화장', '각질', '보습', '점점', '거나', '부담', '항상'], ['원래', '날씨', '자주', '각질', '일어나서', '종류', '사제품', '비교', '가격', '여기', '성비', '진정', '효과', '다음'], ['여드름', '진정', '상태', '조금', '진정', '느낌'], ['에센셜', '데카', '사이드', '제일', '티트리', '진정', '보습', '도움'], ['가격', '보습', '데일리'], ['중인', '천원', '할인', '일주일', '적임', '마무리'], ['최근', '최고', '히알루론산', '제대로', '윤기', '진정', '굿굿', '샤워', '어깨', '다만', '포장', '에센스', '조금'], ['자극', '워낙', '해도', '요즘', '시트', '에센스', '완전', '동안', '마르지', '밀착', '보습', '저녁', '붙이', '아침', '컨디션', '화장', '가격', '완전'], ['앰플', '쿨링감', '여드름', '흉터', '진정', '보습', '고무', '진정', '자주', '냄새', '굿굿'], ['배송', '예전', '종류', '별로', '건성', '히알루론산', '제일', '다음', '화장', '가격', '케어', '아주'], ['카라', '최근', '장벽'], ['히알루론산', '성분', '함유', '자극', '수분', '효과', '속보', '습도', '개선', '다음', '제거', '적임', '제로'], ['자극', '시트', '지도', '진정', '촉촉'], [], ['재미', '가격'], ['상품', '연속', '하알루론산', '함유', '보습', '케어', '시트', '적임', '부담'], ['자극', '티트리', '기도', '완화'], ['배송비'], ['티트리', '진정', '용도', '최고', '에센스', '듬뿍'], ['항상', '티트리', '데카', '사이드', '트러블', '트러블', '가격', '할인', '진정'], ['금방', '금방', '편이', '후기', '사진', '앨범', '사진', '겨우', '예전', '요즘', '최대', '관심사', '콜라겐', '종종', '사서', '붙이', '즉각', '효과', '제일'], ['앰플', '시트', '않아앰플', '가득', '금고', '붙이', '내내', '기분', '야외', '운동', '선크림', '요즘', '발라', '좁쌀', '여드름', '보습', '신경', '히알루론산', '더욱'], ['레이저', '지금', '약간', '바로', '관리', '시작', '팔다리', '나니', '레이저', '아주', '앰플', '남아', '아주', '마음']]\n"
          ]
        }
      ]
    },
    {
      "cell_type": "code",
      "source": [
        "\n",
        "def lda_modeling(review_prep):\n",
        "    # 사전 구축\n",
        "    dictionary = corpora.Dictionary(review_prep)\n",
        "\n",
        "    # 말뭉치 생성\n",
        "    corpus = [dictionary.doc2bow(review) for review in review_prep]\n",
        "\n",
        "    # LDA 모델 학습\n",
        "    NUM_TOPICS = 3 # 토픽의 수\n",
        "    PASSES = 10 # 알고리즘이 전체 데이터 세트를 반복하는 횟수\n",
        "    model = gensim.models.ldamodel.LdaModel(corpus,\n",
        "                                            num_topics=NUM_TOPICS,\n",
        "                                            id2word=dictionary,\n",
        "                                            passes=PASSES)\n",
        "    return model, corpus, dictionary\n",
        "\n",
        "\n",
        "\n",
        "# LDA 모델링\n",
        "pos_model, pos_corpus, pos_dictionary = lda_modeling(pos_lda_list)\n",
        "neg_model, neg_corpus, neg_dictionary = lda_modeling(neg_lda_list)\n",
        "\n",
        "# 학습된 토픽 출력\n",
        "print(\"pos-topic-modeling\",pos_model.print_topics())\n",
        "print(\"neg-topic-modeling\",neg_model.print_topics())"
      ],
      "metadata": {
        "colab": {
          "base_uri": "https://localhost:8080/"
        },
        "id": "5UJh1xlcvhcD",
        "outputId": "4a961d34-9871-4413-d52d-2a1d2f1c651e"
      },
      "execution_count": null,
      "outputs": [
        {
          "output_type": "stream",
          "name": "stderr",
          "text": [
            "/usr/local/lib/python3.10/dist-packages/ipykernel/ipkernel.py:283: DeprecationWarning: `should_run_async` will not call `transform_cell` automatically in the future. Please pass the result to `transformed_cell` argument and any exception that happen during thetransform in `preprocessing_exc_tuple` in IPython 7.17 and above.\n",
            "  and should_run_async(code)\n"
          ]
        },
        {
          "output_type": "stream",
          "name": "stdout",
          "text": [
            "pos-topic-modeling [(0, '0.025*\"보습\" + 0.025*\"시트\" + 0.023*\"자극\" + 0.018*\"데일리\" + 0.017*\"쓰기\" + 0.017*\"요즘\" + 0.016*\"가격\" + 0.015*\"매일\" + 0.013*\"트러블\" + 0.012*\"진정\"'), (1, '0.032*\"진정\" + 0.026*\"무난\" + 0.023*\"시트\" + 0.022*\"티트리\" + 0.020*\"효과\" + 0.019*\"보습\" + 0.018*\"밀착\" + 0.017*\"수분\" + 0.015*\"앰플\" + 0.012*\"제일\"'), (2, '0.046*\"진정\" + 0.032*\"가격\" + 0.023*\"가성\" + 0.023*\"티트리\" + 0.023*\"효과\" + 0.022*\"수분\" + 0.019*\"에센스\" + 0.018*\"시트\" + 0.018*\"자주\" + 0.015*\"트러블\"')]\n",
            "neg-topic-modeling [(0, '0.041*\"진정\" + 0.033*\"효과\" + 0.028*\"티트리\" + 0.021*\"에센스\" + 0.017*\"트러블\" + 0.015*\"여드름\" + 0.013*\"느낌\" + 0.013*\"리뉴얼\" + 0.013*\"자극\" + 0.011*\"시트\"'), (1, '0.015*\"진정\" + 0.013*\"다음\" + 0.013*\"거리\" + 0.012*\"시트\" + 0.012*\"다시\" + 0.011*\"효과\" + 0.011*\"에센스\" + 0.009*\"추천\" + 0.008*\"사람\" + 0.008*\"자극\"'), (2, '0.033*\"티트리\" + 0.024*\"리뉴얼\" + 0.021*\"느낌\" + 0.016*\"진정\" + 0.016*\"자극\" + 0.014*\"시트\" + 0.014*\"흡수\" + 0.013*\"효과\" + 0.012*\"별로\" + 0.011*\"생각\"')]\n"
          ]
        }
      ]
    },
    {
      "cell_type": "code",
      "source": [
        "import pyLDAvis.gensim_models\n",
        "\n",
        "\n",
        "def lda_visualize(model, corpus, dictionary, RATING):\n",
        "    pyLDAvis.enable_notebook()\n",
        "    result_visualized = pyLDAvis.gensim_models.prepare(model, corpus, dictionary)\n",
        "    pyLDAvis.display(result_visualized)\n",
        "    # 시각화 결과 저장\n",
        "    RESULT_FILE = 'lda_result_' + RATING  +'.html'\n",
        "    pyLDAvis.save_html(result_visualized, RESULT_FILE)"
      ],
      "metadata": {
        "id": "yFG7b84Qbt__",
        "colab": {
          "base_uri": "https://localhost:8080/"
        },
        "outputId": "9bc1e2ab-5555-4218-9e52-f93b148e44eb"
      },
      "execution_count": null,
      "outputs": [
        {
          "output_type": "stream",
          "name": "stderr",
          "text": [
            "/usr/local/lib/python3.10/dist-packages/ipykernel/ipkernel.py:283: DeprecationWarning: `should_run_async` will not call `transform_cell` automatically in the future. Please pass the result to `transformed_cell` argument and any exception that happen during thetransform in `preprocessing_exc_tuple` in IPython 7.17 and above.\n",
            "  and should_run_async(code)\n"
          ]
        }
      ]
    },
    {
      "cell_type": "code",
      "source": [
        "RATING = 'pos'\n",
        "lda_visualize(pos_model, pos_corpus, pos_dictionary,RATING)"
      ],
      "metadata": {
        "colab": {
          "base_uri": "https://localhost:8080/"
        },
        "id": "4NGwa8z1xYC1",
        "outputId": "f330d950-f5be-4116-c99e-9c9b22b6f9ef"
      },
      "execution_count": null,
      "outputs": [
        {
          "output_type": "stream",
          "name": "stderr",
          "text": [
            "/usr/local/lib/python3.10/dist-packages/ipykernel/ipkernel.py:283: DeprecationWarning: `should_run_async` will not call `transform_cell` automatically in the future. Please pass the result to `transformed_cell` argument and any exception that happen during thetransform in `preprocessing_exc_tuple` in IPython 7.17 and above.\n",
            "  and should_run_async(code)\n"
          ]
        }
      ]
    },
    {
      "cell_type": "code",
      "source": [
        "RATING = 'neg'\n",
        "lda_visualize(neg_model, neg_corpus, neg_dictionary,RATING)"
      ],
      "metadata": {
        "colab": {
          "base_uri": "https://localhost:8080/"
        },
        "id": "kfSHk_7VyWZl",
        "outputId": "77301b24-d44d-4367-a0ed-a563ece73ca2"
      },
      "execution_count": null,
      "outputs": [
        {
          "output_type": "stream",
          "name": "stderr",
          "text": [
            "/usr/local/lib/python3.10/dist-packages/ipykernel/ipkernel.py:283: DeprecationWarning: `should_run_async` will not call `transform_cell` automatically in the future. Please pass the result to `transformed_cell` argument and any exception that happen during thetransform in `preprocessing_exc_tuple` in IPython 7.17 and above.\n",
            "  and should_run_async(code)\n"
          ]
        }
      ]
    },
    {
      "cell_type": "code",
      "source": [],
      "metadata": {
        "id": "cjq9BUXOvzaq",
        "colab": {
          "base_uri": "https://localhost:8080/",
          "height": 211
        },
        "outputId": "989ea5fb-1b59-4314-d30d-a79da939ae2c"
      },
      "execution_count": null,
      "outputs": [
        {
          "output_type": "stream",
          "name": "stdout",
          "text": [
            "\n",
            "열 A와 B에 대한 중복 제거된 데이터 프레임:\n"
          ]
        },
        {
          "output_type": "execute_result",
          "data": {
            "text/plain": [
              "   A  B   C\n",
              "0  1  a  10\n",
              "1  2  b  20\n",
              "3  3  c  30\n",
              "4  4  d  40"
            ],
            "text/html": [
              "\n",
              "  <div id=\"df-d94de5d0-5677-4cb1-afc9-20fe441d0387\" class=\"colab-df-container\">\n",
              "    <div>\n",
              "<style scoped>\n",
              "    .dataframe tbody tr th:only-of-type {\n",
              "        vertical-align: middle;\n",
              "    }\n",
              "\n",
              "    .dataframe tbody tr th {\n",
              "        vertical-align: top;\n",
              "    }\n",
              "\n",
              "    .dataframe thead th {\n",
              "        text-align: right;\n",
              "    }\n",
              "</style>\n",
              "<table border=\"1\" class=\"dataframe\">\n",
              "  <thead>\n",
              "    <tr style=\"text-align: right;\">\n",
              "      <th></th>\n",
              "      <th>A</th>\n",
              "      <th>B</th>\n",
              "      <th>C</th>\n",
              "    </tr>\n",
              "  </thead>\n",
              "  <tbody>\n",
              "    <tr>\n",
              "      <th>0</th>\n",
              "      <td>1</td>\n",
              "      <td>a</td>\n",
              "      <td>10</td>\n",
              "    </tr>\n",
              "    <tr>\n",
              "      <th>1</th>\n",
              "      <td>2</td>\n",
              "      <td>b</td>\n",
              "      <td>20</td>\n",
              "    </tr>\n",
              "    <tr>\n",
              "      <th>3</th>\n",
              "      <td>3</td>\n",
              "      <td>c</td>\n",
              "      <td>30</td>\n",
              "    </tr>\n",
              "    <tr>\n",
              "      <th>4</th>\n",
              "      <td>4</td>\n",
              "      <td>d</td>\n",
              "      <td>40</td>\n",
              "    </tr>\n",
              "  </tbody>\n",
              "</table>\n",
              "</div>\n",
              "    <div class=\"colab-df-buttons\">\n",
              "\n",
              "  <div class=\"colab-df-container\">\n",
              "    <button class=\"colab-df-convert\" onclick=\"convertToInteractive('df-d94de5d0-5677-4cb1-afc9-20fe441d0387')\"\n",
              "            title=\"Convert this dataframe to an interactive table.\"\n",
              "            style=\"display:none;\">\n",
              "\n",
              "  <svg xmlns=\"http://www.w3.org/2000/svg\" height=\"24px\" viewBox=\"0 -960 960 960\">\n",
              "    <path d=\"M120-120v-720h720v720H120Zm60-500h600v-160H180v160Zm220 220h160v-160H400v160Zm0 220h160v-160H400v160ZM180-400h160v-160H180v160Zm440 0h160v-160H620v160ZM180-180h160v-160H180v160Zm440 0h160v-160H620v160Z\"/>\n",
              "  </svg>\n",
              "    </button>\n",
              "\n",
              "  <style>\n",
              "    .colab-df-container {\n",
              "      display:flex;\n",
              "      gap: 12px;\n",
              "    }\n",
              "\n",
              "    .colab-df-convert {\n",
              "      background-color: #E8F0FE;\n",
              "      border: none;\n",
              "      border-radius: 50%;\n",
              "      cursor: pointer;\n",
              "      display: none;\n",
              "      fill: #1967D2;\n",
              "      height: 32px;\n",
              "      padding: 0 0 0 0;\n",
              "      width: 32px;\n",
              "    }\n",
              "\n",
              "    .colab-df-convert:hover {\n",
              "      background-color: #E2EBFA;\n",
              "      box-shadow: 0px 1px 2px rgba(60, 64, 67, 0.3), 0px 1px 3px 1px rgba(60, 64, 67, 0.15);\n",
              "      fill: #174EA6;\n",
              "    }\n",
              "\n",
              "    .colab-df-buttons div {\n",
              "      margin-bottom: 4px;\n",
              "    }\n",
              "\n",
              "    [theme=dark] .colab-df-convert {\n",
              "      background-color: #3B4455;\n",
              "      fill: #D2E3FC;\n",
              "    }\n",
              "\n",
              "    [theme=dark] .colab-df-convert:hover {\n",
              "      background-color: #434B5C;\n",
              "      box-shadow: 0px 1px 3px 1px rgba(0, 0, 0, 0.15);\n",
              "      filter: drop-shadow(0px 1px 2px rgba(0, 0, 0, 0.3));\n",
              "      fill: #FFFFFF;\n",
              "    }\n",
              "  </style>\n",
              "\n",
              "    <script>\n",
              "      const buttonEl =\n",
              "        document.querySelector('#df-d94de5d0-5677-4cb1-afc9-20fe441d0387 button.colab-df-convert');\n",
              "      buttonEl.style.display =\n",
              "        google.colab.kernel.accessAllowed ? 'block' : 'none';\n",
              "\n",
              "      async function convertToInteractive(key) {\n",
              "        const element = document.querySelector('#df-d94de5d0-5677-4cb1-afc9-20fe441d0387');\n",
              "        const dataTable =\n",
              "          await google.colab.kernel.invokeFunction('convertToInteractive',\n",
              "                                                    [key], {});\n",
              "        if (!dataTable) return;\n",
              "\n",
              "        const docLinkHtml = 'Like what you see? Visit the ' +\n",
              "          '<a target=\"_blank\" href=https://colab.research.google.com/notebooks/data_table.ipynb>data table notebook</a>'\n",
              "          + ' to learn more about interactive tables.';\n",
              "        element.innerHTML = '';\n",
              "        dataTable['output_type'] = 'display_data';\n",
              "        await google.colab.output.renderOutput(dataTable, element);\n",
              "        const docLink = document.createElement('div');\n",
              "        docLink.innerHTML = docLinkHtml;\n",
              "        element.appendChild(docLink);\n",
              "      }\n",
              "    </script>\n",
              "  </div>\n",
              "\n",
              "\n",
              "<div id=\"df-8efd4494-2789-45c2-b29f-33c175e9731d\">\n",
              "  <button class=\"colab-df-quickchart\" onclick=\"quickchart('df-8efd4494-2789-45c2-b29f-33c175e9731d')\"\n",
              "            title=\"Suggest charts\"\n",
              "            style=\"display:none;\">\n",
              "\n",
              "<svg xmlns=\"http://www.w3.org/2000/svg\" height=\"24px\"viewBox=\"0 0 24 24\"\n",
              "     width=\"24px\">\n",
              "    <g>\n",
              "        <path d=\"M19 3H5c-1.1 0-2 .9-2 2v14c0 1.1.9 2 2 2h14c1.1 0 2-.9 2-2V5c0-1.1-.9-2-2-2zM9 17H7v-7h2v7zm4 0h-2V7h2v10zm4 0h-2v-4h2v4z\"/>\n",
              "    </g>\n",
              "</svg>\n",
              "  </button>\n",
              "\n",
              "<style>\n",
              "  .colab-df-quickchart {\n",
              "      --bg-color: #E8F0FE;\n",
              "      --fill-color: #1967D2;\n",
              "      --hover-bg-color: #E2EBFA;\n",
              "      --hover-fill-color: #174EA6;\n",
              "      --disabled-fill-color: #AAA;\n",
              "      --disabled-bg-color: #DDD;\n",
              "  }\n",
              "\n",
              "  [theme=dark] .colab-df-quickchart {\n",
              "      --bg-color: #3B4455;\n",
              "      --fill-color: #D2E3FC;\n",
              "      --hover-bg-color: #434B5C;\n",
              "      --hover-fill-color: #FFFFFF;\n",
              "      --disabled-bg-color: #3B4455;\n",
              "      --disabled-fill-color: #666;\n",
              "  }\n",
              "\n",
              "  .colab-df-quickchart {\n",
              "    background-color: var(--bg-color);\n",
              "    border: none;\n",
              "    border-radius: 50%;\n",
              "    cursor: pointer;\n",
              "    display: none;\n",
              "    fill: var(--fill-color);\n",
              "    height: 32px;\n",
              "    padding: 0;\n",
              "    width: 32px;\n",
              "  }\n",
              "\n",
              "  .colab-df-quickchart:hover {\n",
              "    background-color: var(--hover-bg-color);\n",
              "    box-shadow: 0 1px 2px rgba(60, 64, 67, 0.3), 0 1px 3px 1px rgba(60, 64, 67, 0.15);\n",
              "    fill: var(--button-hover-fill-color);\n",
              "  }\n",
              "\n",
              "  .colab-df-quickchart-complete:disabled,\n",
              "  .colab-df-quickchart-complete:disabled:hover {\n",
              "    background-color: var(--disabled-bg-color);\n",
              "    fill: var(--disabled-fill-color);\n",
              "    box-shadow: none;\n",
              "  }\n",
              "\n",
              "  .colab-df-spinner {\n",
              "    border: 2px solid var(--fill-color);\n",
              "    border-color: transparent;\n",
              "    border-bottom-color: var(--fill-color);\n",
              "    animation:\n",
              "      spin 1s steps(1) infinite;\n",
              "  }\n",
              "\n",
              "  @keyframes spin {\n",
              "    0% {\n",
              "      border-color: transparent;\n",
              "      border-bottom-color: var(--fill-color);\n",
              "      border-left-color: var(--fill-color);\n",
              "    }\n",
              "    20% {\n",
              "      border-color: transparent;\n",
              "      border-left-color: var(--fill-color);\n",
              "      border-top-color: var(--fill-color);\n",
              "    }\n",
              "    30% {\n",
              "      border-color: transparent;\n",
              "      border-left-color: var(--fill-color);\n",
              "      border-top-color: var(--fill-color);\n",
              "      border-right-color: var(--fill-color);\n",
              "    }\n",
              "    40% {\n",
              "      border-color: transparent;\n",
              "      border-right-color: var(--fill-color);\n",
              "      border-top-color: var(--fill-color);\n",
              "    }\n",
              "    60% {\n",
              "      border-color: transparent;\n",
              "      border-right-color: var(--fill-color);\n",
              "    }\n",
              "    80% {\n",
              "      border-color: transparent;\n",
              "      border-right-color: var(--fill-color);\n",
              "      border-bottom-color: var(--fill-color);\n",
              "    }\n",
              "    90% {\n",
              "      border-color: transparent;\n",
              "      border-bottom-color: var(--fill-color);\n",
              "    }\n",
              "  }\n",
              "</style>\n",
              "\n",
              "  <script>\n",
              "    async function quickchart(key) {\n",
              "      const quickchartButtonEl =\n",
              "        document.querySelector('#' + key + ' button');\n",
              "      quickchartButtonEl.disabled = true;  // To prevent multiple clicks.\n",
              "      quickchartButtonEl.classList.add('colab-df-spinner');\n",
              "      try {\n",
              "        const charts = await google.colab.kernel.invokeFunction(\n",
              "            'suggestCharts', [key], {});\n",
              "      } catch (error) {\n",
              "        console.error('Error during call to suggestCharts:', error);\n",
              "      }\n",
              "      quickchartButtonEl.classList.remove('colab-df-spinner');\n",
              "      quickchartButtonEl.classList.add('colab-df-quickchart-complete');\n",
              "    }\n",
              "    (() => {\n",
              "      let quickchartButtonEl =\n",
              "        document.querySelector('#df-8efd4494-2789-45c2-b29f-33c175e9731d button');\n",
              "      quickchartButtonEl.style.display =\n",
              "        google.colab.kernel.accessAllowed ? 'block' : 'none';\n",
              "    })();\n",
              "  </script>\n",
              "</div>\n",
              "\n",
              "  <div id=\"id_42a47f96-487b-4328-80c6-54ac110d686a\">\n",
              "    <style>\n",
              "      .colab-df-generate {\n",
              "        background-color: #E8F0FE;\n",
              "        border: none;\n",
              "        border-radius: 50%;\n",
              "        cursor: pointer;\n",
              "        display: none;\n",
              "        fill: #1967D2;\n",
              "        height: 32px;\n",
              "        padding: 0 0 0 0;\n",
              "        width: 32px;\n",
              "      }\n",
              "\n",
              "      .colab-df-generate:hover {\n",
              "        background-color: #E2EBFA;\n",
              "        box-shadow: 0px 1px 2px rgba(60, 64, 67, 0.3), 0px 1px 3px 1px rgba(60, 64, 67, 0.15);\n",
              "        fill: #174EA6;\n",
              "      }\n",
              "\n",
              "      [theme=dark] .colab-df-generate {\n",
              "        background-color: #3B4455;\n",
              "        fill: #D2E3FC;\n",
              "      }\n",
              "\n",
              "      [theme=dark] .colab-df-generate:hover {\n",
              "        background-color: #434B5C;\n",
              "        box-shadow: 0px 1px 3px 1px rgba(0, 0, 0, 0.15);\n",
              "        filter: drop-shadow(0px 1px 2px rgba(0, 0, 0, 0.3));\n",
              "        fill: #FFFFFF;\n",
              "      }\n",
              "    </style>\n",
              "    <button class=\"colab-df-generate\" onclick=\"generateWithVariable('df_unique_subset')\"\n",
              "            title=\"Generate code using this dataframe.\"\n",
              "            style=\"display:none;\">\n",
              "\n",
              "  <svg xmlns=\"http://www.w3.org/2000/svg\" height=\"24px\"viewBox=\"0 0 24 24\"\n",
              "       width=\"24px\">\n",
              "    <path d=\"M7,19H8.4L18.45,9,17,7.55,7,17.6ZM5,21V16.75L18.45,3.32a2,2,0,0,1,2.83,0l1.4,1.43a1.91,1.91,0,0,1,.58,1.4,1.91,1.91,0,0,1-.58,1.4L9.25,21ZM18.45,9,17,7.55Zm-12,3A5.31,5.31,0,0,0,4.9,8.1,5.31,5.31,0,0,0,1,6.5,5.31,5.31,0,0,0,4.9,4.9,5.31,5.31,0,0,0,6.5,1,5.31,5.31,0,0,0,8.1,4.9,5.31,5.31,0,0,0,12,6.5,5.46,5.46,0,0,0,6.5,12Z\"/>\n",
              "  </svg>\n",
              "    </button>\n",
              "    <script>\n",
              "      (() => {\n",
              "      const buttonEl =\n",
              "        document.querySelector('#id_42a47f96-487b-4328-80c6-54ac110d686a button.colab-df-generate');\n",
              "      buttonEl.style.display =\n",
              "        google.colab.kernel.accessAllowed ? 'block' : 'none';\n",
              "\n",
              "      buttonEl.onclick = () => {\n",
              "        google.colab.notebook.generateWithVariable('df_unique_subset');\n",
              "      }\n",
              "      })();\n",
              "    </script>\n",
              "  </div>\n",
              "\n",
              "    </div>\n",
              "  </div>\n"
            ],
            "application/vnd.google.colaboratory.intrinsic+json": {
              "type": "dataframe",
              "variable_name": "df_unique_subset",
              "summary": "{\n  \"name\": \"df_unique_subset\",\n  \"rows\": 4,\n  \"fields\": [\n    {\n      \"column\": \"A\",\n      \"properties\": {\n        \"dtype\": \"number\",\n        \"std\": 1,\n        \"min\": 1,\n        \"max\": 4,\n        \"num_unique_values\": 4,\n        \"samples\": [\n          2,\n          4,\n          1\n        ],\n        \"semantic_type\": \"\",\n        \"description\": \"\"\n      }\n    },\n    {\n      \"column\": \"B\",\n      \"properties\": {\n        \"dtype\": \"string\",\n        \"num_unique_values\": 4,\n        \"samples\": [\n          \"b\",\n          \"d\",\n          \"a\"\n        ],\n        \"semantic_type\": \"\",\n        \"description\": \"\"\n      }\n    },\n    {\n      \"column\": \"C\",\n      \"properties\": {\n        \"dtype\": \"number\",\n        \"std\": 12,\n        \"min\": 10,\n        \"max\": 40,\n        \"num_unique_values\": 4,\n        \"samples\": [\n          20,\n          40,\n          10\n        ],\n        \"semantic_type\": \"\",\n        \"description\": \"\"\n      }\n    }\n  ]\n}"
            }
          },
          "metadata": {},
          "execution_count": 20
        }
      ]
    },
    {
      "cell_type": "code",
      "source": [],
      "metadata": {
        "id": "-2d3cEKkw1WN"
      },
      "execution_count": null,
      "outputs": []
    }
  ]
}