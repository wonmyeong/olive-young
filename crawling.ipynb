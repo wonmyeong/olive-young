{
 "cells": [
  {
   "cell_type": "code",
   "execution_count": 4,
   "id": "0b629f67-dc39-403a-9003-3f7a5f94efae",
   "metadata": {},
   "outputs": [
    {
     "name": "stdout",
     "output_type": "stream",
     "text": [
      "Collecting selenium\n",
      "  Downloading selenium-4.20.0-py3-none-any.whl.metadata (6.9 kB)\n",
      "Requirement already satisfied: urllib3<3,>=1.26 in c:\\users\\wmk51\\anaconda3\\lib\\site-packages (from urllib3[socks]<3,>=1.26->selenium) (2.0.7)\n",
      "Collecting trio~=0.17 (from selenium)\n",
      "  Downloading trio-0.25.0-py3-none-any.whl.metadata (8.7 kB)\n",
      "Collecting trio-websocket~=0.9 (from selenium)\n",
      "  Using cached trio_websocket-0.11.1-py3-none-any.whl.metadata (4.7 kB)\n",
      "Requirement already satisfied: certifi>=2021.10.8 in c:\\users\\wmk51\\anaconda3\\lib\\site-packages (from selenium) (2024.2.2)\n",
      "Requirement already satisfied: typing_extensions>=4.9.0 in c:\\users\\wmk51\\anaconda3\\lib\\site-packages (from selenium) (4.9.0)\n",
      "Collecting attrs>=23.2.0 (from trio~=0.17->selenium)\n",
      "  Using cached attrs-23.2.0-py3-none-any.whl.metadata (9.5 kB)\n",
      "Requirement already satisfied: sortedcontainers in c:\\users\\wmk51\\anaconda3\\lib\\site-packages (from trio~=0.17->selenium) (2.4.0)\n",
      "Requirement already satisfied: idna in c:\\users\\wmk51\\anaconda3\\lib\\site-packages (from trio~=0.17->selenium) (3.4)\n",
      "Collecting outcome (from trio~=0.17->selenium)\n",
      "  Using cached outcome-1.3.0.post0-py2.py3-none-any.whl.metadata (2.6 kB)\n",
      "Requirement already satisfied: sniffio>=1.3.0 in c:\\users\\wmk51\\anaconda3\\lib\\site-packages (from trio~=0.17->selenium) (1.3.0)\n",
      "Requirement already satisfied: cffi>=1.14 in c:\\users\\wmk51\\anaconda3\\lib\\site-packages (from trio~=0.17->selenium) (1.16.0)\n",
      "Collecting wsproto>=0.14 (from trio-websocket~=0.9->selenium)\n",
      "  Using cached wsproto-1.2.0-py3-none-any.whl.metadata (5.6 kB)\n",
      "Requirement already satisfied: pysocks!=1.5.7,<2.0,>=1.5.6 in c:\\users\\wmk51\\anaconda3\\lib\\site-packages (from urllib3[socks]<3,>=1.26->selenium) (1.7.1)\n",
      "Requirement already satisfied: pycparser in c:\\users\\wmk51\\anaconda3\\lib\\site-packages (from cffi>=1.14->trio~=0.17->selenium) (2.21)\n",
      "Collecting h11<1,>=0.9.0 (from wsproto>=0.14->trio-websocket~=0.9->selenium)\n",
      "  Using cached h11-0.14.0-py3-none-any.whl.metadata (8.2 kB)\n",
      "Downloading selenium-4.20.0-py3-none-any.whl (9.5 MB)\n",
      "   ---------------------------------------- 0.0/9.5 MB ? eta -:--:--\n",
      "   ---------------------------------------- 0.0/9.5 MB 1.4 MB/s eta 0:00:07\n",
      "   - -------------------------------------- 0.3/9.5 MB 5.3 MB/s eta 0:00:02\n",
      "   ----- ---------------------------------- 1.3/9.5 MB 11.7 MB/s eta 0:00:01\n",
      "   ------ --------------------------------- 1.6/9.5 MB 10.3 MB/s eta 0:00:01\n",
      "   --------- ------------------------------ 2.4/9.5 MB 12.5 MB/s eta 0:00:01\n",
      "   ------------- -------------------------- 3.3/9.5 MB 14.0 MB/s eta 0:00:01\n",
      "   ----------------- ---------------------- 4.2/9.5 MB 15.7 MB/s eta 0:00:01\n",
      "   -------------------- ------------------- 4.9/9.5 MB 15.8 MB/s eta 0:00:01\n",
      "   ------------------------ --------------- 5.8/9.5 MB 17.0 MB/s eta 0:00:01\n",
      "   ---------------------------- ----------- 6.7/9.5 MB 17.3 MB/s eta 0:00:01\n",
      "   ------------------------------- -------- 7.6/9.5 MB 17.4 MB/s eta 0:00:01\n",
      "   ----------------------------------- ---- 8.4/9.5 MB 17.4 MB/s eta 0:00:01\n",
      "   -------------------------------------- - 9.2/9.5 MB 17.9 MB/s eta 0:00:01\n",
      "   ---------------------------------------- 9.5/9.5 MB 17.4 MB/s eta 0:00:00\n",
      "Downloading trio-0.25.0-py3-none-any.whl (467 kB)\n",
      "   ---------------------------------------- 0.0/467.2 kB ? eta -:--:--\n",
      "   --------------------------------------- 467.2/467.2 kB 14.7 MB/s eta 0:00:00\n",
      "Using cached trio_websocket-0.11.1-py3-none-any.whl (17 kB)\n",
      "Using cached attrs-23.2.0-py3-none-any.whl (60 kB)\n",
      "Using cached wsproto-1.2.0-py3-none-any.whl (24 kB)\n",
      "Using cached outcome-1.3.0.post0-py2.py3-none-any.whl (10 kB)\n",
      "Using cached h11-0.14.0-py3-none-any.whl (58 kB)\n",
      "Installing collected packages: h11, attrs, wsproto, outcome, trio, trio-websocket, selenium\n",
      "  Attempting uninstall: attrs\n",
      "    Found existing installation: attrs 23.1.0\n",
      "    Uninstalling attrs-23.1.0:\n",
      "      Successfully uninstalled attrs-23.1.0\n",
      "Successfully installed attrs-23.2.0 h11-0.14.0 outcome-1.3.0.post0 selenium-4.20.0 trio-0.25.0 trio-websocket-0.11.1 wsproto-1.2.0\n"
     ]
    }
   ],
   "source": [
    "!pip install selenium\n"
   ]
  },
  {
   "cell_type": "code",
   "execution_count": 1,
   "id": "d770edcb-12c9-485e-877e-0f24e13f1a62",
   "metadata": {},
   "outputs": [],
   "source": [
    "from selenium import webdriver\n",
    "from bs4 import BeautifulSoup\n",
    "from selenium.webdriver.common.keys import Keys\n",
    "from selenium.webdriver.support.wait import WebDriverWait\n",
    "from selenium.webdriver.support import expected_conditions as EC\n",
    "from selenium.webdriver.common.by import By\n",
    "from selenium.webdriver.support.ui import WebDriverWait\n",
    "from selenium.webdriver.chrome.options import Options\n",
    "from selenium.webdriver.common.action_chains import ActionChains\n",
    "from selenium.webdriver.chrome.service import Service\n",
    "import re\n",
    "\n",
    "import time\n",
    "import pandas as pd"
   ]
  },
  {
   "cell_type": "code",
   "execution_count": 2,
   "id": "7dc1319d-8759-47db-8668-510e49785c65",
   "metadata": {},
   "outputs": [],
   "source": [
    "chrome_path = \"C:\\\\Users\\\\wmk51\\\\oliveyoung-project\\\\chromedriver-win64\\\\chromedriver.exe\"\n",
    "options = webdriver.ChromeOptions()\n",
    "user_agent = \"Mozilla/5.0 (Windows NT 10.0; Win64; x64) AppleWebKit/537.36 (KHTML, like Gecko) Chrome/107.0.0.0 Safari/537.36\"\n",
    "options.add_argument(\"no-sandbox\")\n",
    "options.add_argument(\"disable-gpu\")\n",
    "options.add_argument(\"--lang=ko_KR\")\n",
    "options.add_argument('user-agent=' + user_agent)\n",
    "driver = webdriver.Chrome(options=options)\n",
    "url = \"https://www.oliveyoung.co.kr/store/goods/getGoodsDetail.do?goodsNo=A000000160736&dispCatNo=90000010001&curation=goods_detail_a002&rccode=pc_detail_01_c&egcode=a002_a102&egrankcode=3&trackingCd=Curation1&t_page=%EC%83%81%ED%92%88%EC%83%81%EC%84%B8&t_click=%EC%A7%80%EA%B8%88%EB%B9%84%EC%8A%B7%EC%83%81%ED%92%88_%EC%83%81%ED%92%88%EC%B6%94%EC%B2%9C_%EC%83%81%ED%92%88%EC%83%81%EC%84%B8&t_number=2\"\n",
    "driver.get(url)\n",
    "driver.set_window_size(1920,1080)\n",
    "driver.maximize_window()\n"
   ]
  },
  {
   "cell_type": "code",
   "execution_count": 3,
   "id": "2c43d914-df00-4476-b9e4-538594dd4c94",
   "metadata": {},
   "outputs": [],
   "source": [
    "##최신 순으로 댓글 정렬    \n",
    "html_url = driver.page_source\n",
    "soup_url = BeautifulSoup(html_url,\"html.parser\")\n",
    "time.sleep(2)\n",
    "WebDriverWait(driver, 10).until(\n",
    "        EC.element_to_be_clickable((By.CLASS_NAME, 'goods_reputation'))\n",
    "    ).click()\n",
    "WebDriverWait(driver, 10).until(\n",
    "        EC.element_to_be_clickable((By.ID, 'filterBtn'))\n",
    "    ).click()\n"
   ]
  },
  {
   "cell_type": "code",
   "execution_count": 4,
   "id": "89548cc1-3613-4aa8-86e1-42cc3428ced9",
   "metadata": {},
   "outputs": [],
   "source": [
    "\n",
    "WebDriverWait(driver, 10).until(\n",
    "        EC.element_to_be_clickable((By.XPATH, '//*[@id=\"searchPoint\"]/li[2]/label'))\n",
    "    ).click()\n",
    "WebDriverWait(driver, 10).until(\n",
    "        EC.element_to_be_clickable((By.XPATH, '//*[@id=\"searchPoint\"]/li[3]/label'))\n",
    "    ).click()\n",
    "WebDriverWait(driver, 10).until(\n",
    "        EC.element_to_be_clickable((By.ID, 'btnFilterConfirm'))\n",
    "    ).click()\n"
   ]
  },
  {
   "cell_type": "code",
   "execution_count": 5,
   "id": "359ca190-2f07-4685-ae40-6c963f66a91a",
   "metadata": {},
   "outputs": [],
   "source": [
    "\n",
    "df_review_pos= pd.DataFrame(columns=['userId','rating','reviews'])"
   ]
  },
  {
   "cell_type": "code",
   "execution_count": 6,
   "id": "a16db546-d0f7-4f37-9194-ca34dd47ceb9",
   "metadata": {},
   "outputs": [
    {
     "name": "stdout",
     "output_type": "stream",
     "text": [
      "현재 크롤링 페이지는  1\n",
      "현재 크롤링 페이지는  2\n",
      "현재 크롤링 페이지는  3\n",
      "현재 크롤링 페이지는  4\n",
      "현재 크롤링 페이지는  5\n",
      "현재 크롤링 페이지는  6\n",
      "현재 크롤링 페이지는  7\n",
      "현재 크롤링 페이지는  8\n",
      "현재 크롤링 페이지는  9\n",
      "현재 크롤링 페이지는  10\n",
      "현재 크롤링 페이지는  11\n",
      "현재 크롤링 페이지는  12\n",
      "현재 크롤링 페이지는  13\n",
      "현재 크롤링 페이지는  14\n",
      "현재 크롤링 페이지는  15\n",
      "현재 크롤링 페이지는  16\n",
      "현재 크롤링 페이지는  17\n",
      "현재 크롤링 페이지는  18\n",
      "현재 크롤링 페이지는  19\n",
      "현재 크롤링 페이지는  20\n",
      "현재 크롤링 페이지는  21\n",
      "현재 크롤링 페이지는  22\n",
      "현재 크롤링 페이지는  23\n",
      "현재 크롤링 페이지는  24\n",
      "현재 크롤링 페이지는  25\n",
      "현재 크롤링 페이지는  26\n",
      "현재 크롤링 페이지는  27\n",
      "현재 크롤링 페이지는  28\n",
      "현재 크롤링 페이지는  29\n",
      "현재 크롤링 페이지는  30\n"
     ]
    }
   ],
   "source": [
    "\n",
    "for current_page in range(1,31):\n",
    "    print(\"현재 크롤링 페이지는 \" ,current_page)\n",
    "    html = driver.page_source\n",
    "    soup = BeautifulSoup(html,\"html.parser\")\n",
    "    time.sleep(2)\n",
    "    products_info = soup.find(\"ul\",attrs={\"class\" : \"inner_list\"})\n",
    "    \n",
    "    for product_info in products_info:\n",
    "        \n",
    "        userId = (product_info.find(\"p\",attrs={\"class\":\"info_user\"}).get_text().split(\"  \")[0])\n",
    "        rating = (int(product_info.find(\"span\",attrs={\"class\":\"point\"}).get_text().split(\" \")[1][0]))\n",
    "        reviews = (product_info.find(\"div\",attrs={\"class\":\"txt_inner\"}).get_text(),\"\\n\")\n",
    "        df_review_pos.loc[len(df_review_pos)] = [userId, rating, reviews]\n",
    "    try:\n",
    "        if current_page % 10 != 0: # 현재 페이지가 10의 배수가 아닐 때\n",
    "            if current_page // 10 < 1: # 페이지 수가 한 자리수 일 때  \n",
    "                # 리뷰 10개 긁으면 next 버튼 클릭\n",
    "                page_button = driver.find_element(By.CSS_SELECTOR, f'#gdasContentsArea > div > div.pageing > a:nth-child({current_page%10+1})')\n",
    "                page_button.click() \n",
    "                time.sleep(2)\n",
    "            else: # 페이지 수가 두자리 수 이상일 때 \n",
    "                # 리뷰 10개 긁으면 next 버튼 클릭\n",
    "                page_button = driver.find_element(By.CSS_SELECTOR, f'#gdasContentsArea > div > div.pageing > a:nth-child({current_page%10+2})')\n",
    "                page_button.click() \n",
    "                time.sleep(2)\n",
    "        else:\n",
    "            next_button = driver.find_element(By.CSS_SELECTOR, '#gdasContentsArea > div > div.pageing > a.next')\n",
    "            next_button.click() # 현재 페이지가 10의 배수일 때 페이지 넘김 버튼 클릭\n",
    "            time.sleep(2)\n",
    "    except:\n",
    "            pass\n",
    "    \n",
    "        \n",
    "\n",
    "    \n",
    "    \n",
    "\n",
    "# 3     \n",
    "#  //*[@id=\"gdasContentsArea\"]/div/div[8]/a[2]      \n",
    "# 9페이\n",
    "#  //*[@id=\"gdasContentsArea\"]/div/div[8]/a[8]       "
   ]
  },
  {
   "cell_type": "code",
   "execution_count": 7,
   "id": "e6227134-9e4f-48f1-8fb7-5fd34bdcde23",
   "metadata": {},
   "outputs": [
    {
     "data": {
      "text/html": [
       "<div>\n",
       "<style scoped>\n",
       "    .dataframe tbody tr th:only-of-type {\n",
       "        vertical-align: middle;\n",
       "    }\n",
       "\n",
       "    .dataframe tbody tr th {\n",
       "        vertical-align: top;\n",
       "    }\n",
       "\n",
       "    .dataframe thead th {\n",
       "        text-align: right;\n",
       "    }\n",
       "</style>\n",
       "<table border=\"1\" class=\"dataframe\">\n",
       "  <thead>\n",
       "    <tr style=\"text-align: right;\">\n",
       "      <th></th>\n",
       "      <th>userId</th>\n",
       "      <th>rating</th>\n",
       "      <th>reviews</th>\n",
       "    </tr>\n",
       "  </thead>\n",
       "  <tbody>\n",
       "    <tr>\n",
       "      <th>0</th>\n",
       "      <td>와바밤</td>\n",
       "      <td>5</td>\n",
       "      <td>(사실 마스크팩을 한달동안 사용한것이 아니라 한달리뷰라고 하기 얘매하긴한데 어쩃든 ...</td>\n",
       "    </tr>\n",
       "    <tr>\n",
       "      <th>1</th>\n",
       "      <td>와바밤</td>\n",
       "      <td>5</td>\n",
       "      <td>(배송비 가격 맞출때 유용하게 매번 구매하고 있습니다. 자극 없이 순해여, \\n)</td>\n",
       "    </tr>\n",
       "    <tr>\n",
       "      <th>2</th>\n",
       "      <td>보부상출신</td>\n",
       "      <td>5</td>\n",
       "      <td>(나이 먹으니까 피부 고민이 점차 주름, 미백 쪽으로 빠지는데데일리로 피부결,톤 케...</td>\n",
       "    </tr>\n",
       "    <tr>\n",
       "      <th>3</th>\n",
       "      <td>파이지니</td>\n",
       "      <td>5</td>\n",
       "      <td>(🌼1일1팩하기 좋은 가성비 마스크 팩🌼메디힐 마스크팩 너무 유명하죠:) 아무래도 ...</td>\n",
       "    </tr>\n",
       "    <tr>\n",
       "      <th>4</th>\n",
       "      <td>보부상출신</td>\n",
       "      <td>5</td>\n",
       "      <td>(요즘 제 피부상태 탄력이 지금 저세상 가있는데복구를 위해 콜라겐 마스크팩 이용해봅...</td>\n",
       "    </tr>\n",
       "  </tbody>\n",
       "</table>\n",
       "</div>"
      ],
      "text/plain": [
       "   userId  rating                                            reviews\n",
       "0     와바밤       5  (사실 마스크팩을 한달동안 사용한것이 아니라 한달리뷰라고 하기 얘매하긴한데 어쩃든 ...\n",
       "1     와바밤       5      (배송비 가격 맞출때 유용하게 매번 구매하고 있습니다. 자극 없이 순해여, \\n)\n",
       "2   보부상출신       5  (나이 먹으니까 피부 고민이 점차 주름, 미백 쪽으로 빠지는데데일리로 피부결,톤 케...\n",
       "3    파이지니       5  (🌼1일1팩하기 좋은 가성비 마스크 팩🌼메디힐 마스크팩 너무 유명하죠:) 아무래도 ...\n",
       "4   보부상출신       5  (요즘 제 피부상태 탄력이 지금 저세상 가있는데복구를 위해 콜라겐 마스크팩 이용해봅..."
      ]
     },
     "execution_count": 7,
     "metadata": {},
     "output_type": "execute_result"
    }
   ],
   "source": [
    "df_review_pos.head()"
   ]
  },
  {
   "cell_type": "code",
   "execution_count": 8,
   "id": "cb2b6349-e289-4cba-bf93-cf40926bcc6f",
   "metadata": {},
   "outputs": [],
   "source": [
    "df_review_pos.to_csv(\"olive_young_pos_df\")"
   ]
  },
  {
   "cell_type": "code",
   "execution_count": 232,
   "id": "808cfb68-e4d1-4c16-b679-b5eddc2cfa57",
   "metadata": {},
   "outputs": [],
   "source": [
    "df_review_pos.to_csv(\"ex_df\")"
   ]
  },
  {
   "cell_type": "code",
   "execution_count": 231,
   "id": "af24d000-754a-41fc-a063-0ba03d2de36d",
   "metadata": {},
   "outputs": [
    {
     "data": {
      "text/plain": [
       "(60, 3)"
      ]
     },
     "execution_count": 231,
     "metadata": {},
     "output_type": "execute_result"
    }
   ],
   "source": [
    "df_review_pos.shape"
   ]
  },
  {
   "cell_type": "code",
   "execution_count": 243,
   "id": "02564d2b-b3f6-49ea-b56e-0a655abd4462",
   "metadata": {},
   "outputs": [
    {
     "name": "stdout",
     "output_type": "stream",
     "text": [
      "1\n"
     ]
    }
   ],
   "source": [
    "print(11%10)"
   ]
  },
  {
   "cell_type": "code",
   "execution_count": 6,
   "id": "880a9e10-27c7-4f37-bdb9-02b1f5318dc5",
   "metadata": {},
   "outputs": [
    {
     "name": "stdout",
     "output_type": "stream",
     "text": [
      "1\n"
     ]
    }
   ],
   "source": [
    "print(10//10)"
   ]
  },
  {
   "cell_type": "code",
   "execution_count": null,
   "id": "52cdf49f-686b-485b-9ee8-42f502e41762",
   "metadata": {},
   "outputs": [],
   "source": []
  }
 ],
 "metadata": {
  "kernelspec": {
   "display_name": "Python 3 (ipykernel)",
   "language": "python",
   "name": "python3"
  },
  "language_info": {
   "codemirror_mode": {
    "name": "ipython",
    "version": 3
   },
   "file_extension": ".py",
   "mimetype": "text/x-python",
   "name": "python",
   "nbconvert_exporter": "python",
   "pygments_lexer": "ipython3",
   "version": "3.11.7"
  }
 },
 "nbformat": 4,
 "nbformat_minor": 5
}
